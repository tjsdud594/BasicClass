{
 "cells": [
  {
   "cell_type": "markdown",
   "metadata": {},
   "source": [
    "### 피벗 Table\n",
    "- 피벗이란? 회전하는 물체의 균형을 잡아주는 중심점(원의 중심정과 흡사)\n",
    "- 피벗 테이블이란? 기존 데이터의 칼럼을 재구성해서 데이터에 대한 통계를 한눈에 파악 할 수 있게 정리한 표\n",
    "- 피벗 기능 활용시 장점 : 데이터를 원하는 형태로 손쉽게 집계 할 수 있음\n",
    "- API 소개\n",
    "```\n",
    "pd.pivot_table(df,  # 피벗할 데이터프레임\n",
    "              index = '행 위치에 들어갈 열',\n",
    "              columns = '열 위치에 들어갈 열',\n",
    "              values = '데이터로 사용할 열',\n",
    "              aggfunc = 데이터 집계함수)\n",
    "```"
   ]
  },
  {
   "cell_type": "code",
   "execution_count": 2,
   "metadata": {},
   "outputs": [
    {
     "data": {
      "text/plain": [
       "{'소속': ['jyp', 'psy', 'jyp', 'jyp', 'jyp', 'jyp', 'psy', 'psy', 'psy'],\n",
       " '가수': ['비', '제시', '박진형', '원더걸스', '제니', '샤샤', '현아', '싸이', '하니'],\n",
       " '성별': ['남자', '여자', '남자', '여자', '여자', '여자', '여자', '남자', '여자'],\n",
       " '연령': [15, 20, 20, 30, 30, 40, 50, 60, 70]}"
      ]
     },
     "execution_count": 2,
     "metadata": {},
     "output_type": "execute_result"
    }
   ],
   "source": [
    "data = {\"소속\": [\"jyp\", \"psy\", \"jyp\", \"jyp\", \"jyp\", \"jyp\", \"psy\", \"psy\", \"psy\"],\n",
    "        \"가수\": [\"비\", \"제시\", \"박진형\", \"원더걸스\", \"제니\", \"샤샤\", \"현아\", \"싸이\", \"하니\"],\n",
    "        \"성별\": ['남자', '여자', '남자', '여자', '여자', '여자', '여자', '남자', '여자'],\n",
    "        \"연령\": [15, 20, 20, 30, 30, 40, 50, 60, 70]}\n",
    "data"
   ]
  },
  {
   "cell_type": "code",
   "execution_count": 3,
   "metadata": {},
   "outputs": [],
   "source": [
    "import pandas as pd\n",
    "import numpy as np"
   ]
  },
  {
   "cell_type": "code",
   "execution_count": 4,
   "metadata": {},
   "outputs": [
    {
     "data": {
      "text/plain": [
       "dict"
      ]
     },
     "execution_count": 4,
     "metadata": {},
     "output_type": "execute_result"
    }
   ],
   "source": [
    "type(data)"
   ]
  },
  {
   "cell_type": "code",
   "execution_count": 5,
   "metadata": {},
   "outputs": [
    {
     "name": "stdout",
     "output_type": "stream",
     "text": [
      "['jyp', 'psy', 'jyp', 'jyp', 'jyp', 'jyp', 'psy', 'psy', 'psy']\n"
     ]
    }
   ],
   "source": [
    "print(data['소속'])"
   ]
  },
  {
   "cell_type": "code",
   "execution_count": 6,
   "metadata": {},
   "outputs": [
    {
     "name": "stdout",
     "output_type": "stream",
     "text": [
      "jyp\n"
     ]
    }
   ],
   "source": [
    "print(data['소속'][0])"
   ]
  },
  {
   "cell_type": "code",
   "execution_count": 12,
   "metadata": {},
   "outputs": [
    {
     "data": {
      "text/html": [
       "<div>\n",
       "<style scoped>\n",
       "    .dataframe tbody tr th:only-of-type {\n",
       "        vertical-align: middle;\n",
       "    }\n",
       "\n",
       "    .dataframe tbody tr th {\n",
       "        vertical-align: top;\n",
       "    }\n",
       "\n",
       "    .dataframe thead th {\n",
       "        text-align: right;\n",
       "    }\n",
       "</style>\n",
       "<table border=\"1\" class=\"dataframe\">\n",
       "  <thead>\n",
       "    <tr style=\"text-align: right;\">\n",
       "      <th></th>\n",
       "      <th>소속</th>\n",
       "      <th>가수</th>\n",
       "      <th>성별</th>\n",
       "      <th>연령</th>\n",
       "    </tr>\n",
       "  </thead>\n",
       "  <tbody>\n",
       "    <tr>\n",
       "      <th>0</th>\n",
       "      <td>jyp</td>\n",
       "      <td>비</td>\n",
       "      <td>남자</td>\n",
       "      <td>15</td>\n",
       "    </tr>\n",
       "    <tr>\n",
       "      <th>1</th>\n",
       "      <td>psy</td>\n",
       "      <td>제시</td>\n",
       "      <td>여자</td>\n",
       "      <td>20</td>\n",
       "    </tr>\n",
       "    <tr>\n",
       "      <th>2</th>\n",
       "      <td>jyp</td>\n",
       "      <td>박진형</td>\n",
       "      <td>남자</td>\n",
       "      <td>20</td>\n",
       "    </tr>\n",
       "    <tr>\n",
       "      <th>3</th>\n",
       "      <td>jyp</td>\n",
       "      <td>원더걸스</td>\n",
       "      <td>여자</td>\n",
       "      <td>30</td>\n",
       "    </tr>\n",
       "    <tr>\n",
       "      <th>4</th>\n",
       "      <td>jyp</td>\n",
       "      <td>제니</td>\n",
       "      <td>여자</td>\n",
       "      <td>30</td>\n",
       "    </tr>\n",
       "    <tr>\n",
       "      <th>5</th>\n",
       "      <td>jyp</td>\n",
       "      <td>샤샤</td>\n",
       "      <td>여자</td>\n",
       "      <td>40</td>\n",
       "    </tr>\n",
       "    <tr>\n",
       "      <th>6</th>\n",
       "      <td>psy</td>\n",
       "      <td>현아</td>\n",
       "      <td>여자</td>\n",
       "      <td>50</td>\n",
       "    </tr>\n",
       "    <tr>\n",
       "      <th>7</th>\n",
       "      <td>psy</td>\n",
       "      <td>싸이</td>\n",
       "      <td>남자</td>\n",
       "      <td>60</td>\n",
       "    </tr>\n",
       "    <tr>\n",
       "      <th>8</th>\n",
       "      <td>psy</td>\n",
       "      <td>하니</td>\n",
       "      <td>여자</td>\n",
       "      <td>70</td>\n",
       "    </tr>\n",
       "  </tbody>\n",
       "</table>\n",
       "</div>"
      ],
      "text/plain": [
       "    소속    가수  성별  연령\n",
       "0  jyp     비  남자  15\n",
       "1  psy    제시  여자  20\n",
       "2  jyp   박진형  남자  20\n",
       "3  jyp  원더걸스  여자  30\n",
       "4  jyp    제니  여자  30\n",
       "5  jyp    샤샤  여자  40\n",
       "6  psy    현아  여자  50\n",
       "7  psy    싸이  남자  60\n",
       "8  psy    하니  여자  70"
      ]
     },
     "execution_count": 12,
     "metadata": {},
     "output_type": "execute_result"
    }
   ],
   "source": [
    "# dict로 DataFrame 생성\n",
    "\n",
    "df = pd.DataFrame(data)\n",
    "df"
   ]
  },
  {
   "cell_type": "code",
   "execution_count": 13,
   "metadata": {},
   "outputs": [
    {
     "data": {
      "text/plain": [
       "0    15\n",
       "1    20\n",
       "2    20\n",
       "3    30\n",
       "4    30\n",
       "5    40\n",
       "6    50\n",
       "7    60\n",
       "8    70\n",
       "Name: 연령, dtype: int64"
      ]
     },
     "execution_count": 13,
     "metadata": {},
     "output_type": "execute_result"
    }
   ],
   "source": [
    "df.연령"
   ]
  },
  {
   "cell_type": "code",
   "execution_count": 11,
   "metadata": {},
   "outputs": [
    {
     "data": {
      "text/plain": [
       "37.22222222222222"
      ]
     },
     "execution_count": 11,
     "metadata": {},
     "output_type": "execute_result"
    }
   ],
   "source": [
    "# 연령 평균\n",
    "\n",
    "df['연령'].mean()"
   ]
  },
  {
   "cell_type": "code",
   "execution_count": 14,
   "metadata": {},
   "outputs": [
    {
     "data": {
      "text/plain": [
       "335"
      ]
     },
     "execution_count": 14,
     "metadata": {},
     "output_type": "execute_result"
    }
   ],
   "source": [
    "df['연령'].sum()"
   ]
  },
  {
   "cell_type": "code",
   "execution_count": 15,
   "metadata": {},
   "outputs": [
    {
     "data": {
      "text/html": [
       "<div>\n",
       "<style scoped>\n",
       "    .dataframe tbody tr th:only-of-type {\n",
       "        vertical-align: middle;\n",
       "    }\n",
       "\n",
       "    .dataframe tbody tr th {\n",
       "        vertical-align: top;\n",
       "    }\n",
       "\n",
       "    .dataframe thead th {\n",
       "        text-align: right;\n",
       "    }\n",
       "</style>\n",
       "<table border=\"1\" class=\"dataframe\">\n",
       "  <thead>\n",
       "    <tr style=\"text-align: right;\">\n",
       "      <th></th>\n",
       "      <th>소속</th>\n",
       "      <th>가수</th>\n",
       "      <th>성별</th>\n",
       "      <th>연령</th>\n",
       "      <th>연령합</th>\n",
       "    </tr>\n",
       "  </thead>\n",
       "  <tbody>\n",
       "    <tr>\n",
       "      <th>0</th>\n",
       "      <td>jyp</td>\n",
       "      <td>비</td>\n",
       "      <td>남자</td>\n",
       "      <td>15</td>\n",
       "      <td>335</td>\n",
       "    </tr>\n",
       "    <tr>\n",
       "      <th>1</th>\n",
       "      <td>psy</td>\n",
       "      <td>제시</td>\n",
       "      <td>여자</td>\n",
       "      <td>20</td>\n",
       "      <td>335</td>\n",
       "    </tr>\n",
       "    <tr>\n",
       "      <th>2</th>\n",
       "      <td>jyp</td>\n",
       "      <td>박진형</td>\n",
       "      <td>남자</td>\n",
       "      <td>20</td>\n",
       "      <td>335</td>\n",
       "    </tr>\n",
       "    <tr>\n",
       "      <th>3</th>\n",
       "      <td>jyp</td>\n",
       "      <td>원더걸스</td>\n",
       "      <td>여자</td>\n",
       "      <td>30</td>\n",
       "      <td>335</td>\n",
       "    </tr>\n",
       "    <tr>\n",
       "      <th>4</th>\n",
       "      <td>jyp</td>\n",
       "      <td>제니</td>\n",
       "      <td>여자</td>\n",
       "      <td>30</td>\n",
       "      <td>335</td>\n",
       "    </tr>\n",
       "    <tr>\n",
       "      <th>5</th>\n",
       "      <td>jyp</td>\n",
       "      <td>샤샤</td>\n",
       "      <td>여자</td>\n",
       "      <td>40</td>\n",
       "      <td>335</td>\n",
       "    </tr>\n",
       "    <tr>\n",
       "      <th>6</th>\n",
       "      <td>psy</td>\n",
       "      <td>현아</td>\n",
       "      <td>여자</td>\n",
       "      <td>50</td>\n",
       "      <td>335</td>\n",
       "    </tr>\n",
       "    <tr>\n",
       "      <th>7</th>\n",
       "      <td>psy</td>\n",
       "      <td>싸이</td>\n",
       "      <td>남자</td>\n",
       "      <td>60</td>\n",
       "      <td>335</td>\n",
       "    </tr>\n",
       "    <tr>\n",
       "      <th>8</th>\n",
       "      <td>psy</td>\n",
       "      <td>하니</td>\n",
       "      <td>여자</td>\n",
       "      <td>70</td>\n",
       "      <td>335</td>\n",
       "    </tr>\n",
       "  </tbody>\n",
       "</table>\n",
       "</div>"
      ],
      "text/plain": [
       "    소속    가수  성별  연령  연령합\n",
       "0  jyp     비  남자  15  335\n",
       "1  psy    제시  여자  20  335\n",
       "2  jyp   박진형  남자  20  335\n",
       "3  jyp  원더걸스  여자  30  335\n",
       "4  jyp    제니  여자  30  335\n",
       "5  jyp    샤샤  여자  40  335\n",
       "6  psy    현아  여자  50  335\n",
       "7  psy    싸이  남자  60  335\n",
       "8  psy    하니  여자  70  335"
      ]
     },
     "execution_count": 15,
     "metadata": {},
     "output_type": "execute_result"
    }
   ],
   "source": [
    "# 가수들 연령합 이라는 시리즈 추가\n",
    "df['연령합'] = df['연령'].sum()\n",
    "df"
   ]
  },
  {
   "cell_type": "code",
   "execution_count": 20,
   "metadata": {},
   "outputs": [
    {
     "data": {
      "text/html": [
       "<div>\n",
       "<style scoped>\n",
       "    .dataframe tbody tr th:only-of-type {\n",
       "        vertical-align: middle;\n",
       "    }\n",
       "\n",
       "    .dataframe tbody tr th {\n",
       "        vertical-align: top;\n",
       "    }\n",
       "\n",
       "    .dataframe thead th {\n",
       "        text-align: right;\n",
       "    }\n",
       "</style>\n",
       "<table border=\"1\" class=\"dataframe\">\n",
       "  <thead>\n",
       "    <tr style=\"text-align: right;\">\n",
       "      <th></th>\n",
       "      <th>소속</th>\n",
       "      <th>가수</th>\n",
       "      <th>성별</th>\n",
       "      <th>연령</th>\n",
       "      <th>연령합</th>\n",
       "      <th>연령평균</th>\n",
       "    </tr>\n",
       "  </thead>\n",
       "  <tbody>\n",
       "    <tr>\n",
       "      <th>0</th>\n",
       "      <td>jyp</td>\n",
       "      <td>비</td>\n",
       "      <td>남자</td>\n",
       "      <td>15</td>\n",
       "      <td>335</td>\n",
       "      <td>37</td>\n",
       "    </tr>\n",
       "    <tr>\n",
       "      <th>1</th>\n",
       "      <td>psy</td>\n",
       "      <td>제시</td>\n",
       "      <td>여자</td>\n",
       "      <td>20</td>\n",
       "      <td>335</td>\n",
       "      <td>37</td>\n",
       "    </tr>\n",
       "    <tr>\n",
       "      <th>2</th>\n",
       "      <td>jyp</td>\n",
       "      <td>박진형</td>\n",
       "      <td>남자</td>\n",
       "      <td>20</td>\n",
       "      <td>335</td>\n",
       "      <td>37</td>\n",
       "    </tr>\n",
       "    <tr>\n",
       "      <th>3</th>\n",
       "      <td>jyp</td>\n",
       "      <td>원더걸스</td>\n",
       "      <td>여자</td>\n",
       "      <td>30</td>\n",
       "      <td>335</td>\n",
       "      <td>37</td>\n",
       "    </tr>\n",
       "    <tr>\n",
       "      <th>4</th>\n",
       "      <td>jyp</td>\n",
       "      <td>제니</td>\n",
       "      <td>여자</td>\n",
       "      <td>30</td>\n",
       "      <td>335</td>\n",
       "      <td>37</td>\n",
       "    </tr>\n",
       "    <tr>\n",
       "      <th>5</th>\n",
       "      <td>jyp</td>\n",
       "      <td>샤샤</td>\n",
       "      <td>여자</td>\n",
       "      <td>40</td>\n",
       "      <td>335</td>\n",
       "      <td>37</td>\n",
       "    </tr>\n",
       "    <tr>\n",
       "      <th>6</th>\n",
       "      <td>psy</td>\n",
       "      <td>현아</td>\n",
       "      <td>여자</td>\n",
       "      <td>50</td>\n",
       "      <td>335</td>\n",
       "      <td>37</td>\n",
       "    </tr>\n",
       "    <tr>\n",
       "      <th>7</th>\n",
       "      <td>psy</td>\n",
       "      <td>싸이</td>\n",
       "      <td>남자</td>\n",
       "      <td>60</td>\n",
       "      <td>335</td>\n",
       "      <td>37</td>\n",
       "    </tr>\n",
       "    <tr>\n",
       "      <th>8</th>\n",
       "      <td>psy</td>\n",
       "      <td>하니</td>\n",
       "      <td>여자</td>\n",
       "      <td>70</td>\n",
       "      <td>335</td>\n",
       "      <td>37</td>\n",
       "    </tr>\n",
       "  </tbody>\n",
       "</table>\n",
       "</div>"
      ],
      "text/plain": [
       "    소속    가수  성별  연령  연령합  연령평균\n",
       "0  jyp     비  남자  15  335    37\n",
       "1  psy    제시  여자  20  335    37\n",
       "2  jyp   박진형  남자  20  335    37\n",
       "3  jyp  원더걸스  여자  30  335    37\n",
       "4  jyp    제니  여자  30  335    37\n",
       "5  jyp    샤샤  여자  40  335    37\n",
       "6  psy    현아  여자  50  335    37\n",
       "7  psy    싸이  남자  60  335    37\n",
       "8  psy    하니  여자  70  335    37"
      ]
     },
     "execution_count": 20,
     "metadata": {},
     "output_type": "execute_result"
    }
   ],
   "source": [
    "# df['연령'].mean() : 숫자연산의 default 타입은 - float64\n",
    "# 정수타입으로 변환해서 저장시에는 int()로 형변환 - int64\n",
    "\n",
    "df['연령평균'] = int(df['연령'].mean())\n",
    "df"
   ]
  },
  {
   "cell_type": "code",
   "execution_count": 25,
   "metadata": {},
   "outputs": [
    {
     "data": {
      "text/plain": [
       "dtype('int64')"
      ]
     },
     "execution_count": 25,
     "metadata": {},
     "output_type": "execute_result"
    }
   ],
   "source": [
    "df['연령평균'].dtype"
   ]
  },
  {
   "cell_type": "code",
   "execution_count": 26,
   "metadata": {},
   "outputs": [
    {
     "name": "stdout",
     "output_type": "stream",
     "text": [
      "<class 'pandas.core.frame.DataFrame'>\n",
      "RangeIndex: 9 entries, 0 to 8\n",
      "Data columns (total 6 columns):\n",
      " #   Column  Non-Null Count  Dtype \n",
      "---  ------  --------------  ----- \n",
      " 0   소속      9 non-null      object\n",
      " 1   가수      9 non-null      object\n",
      " 2   성별      9 non-null      object\n",
      " 3   연령      9 non-null      int64 \n",
      " 4   연령합     9 non-null      int64 \n",
      " 5   연령평균    9 non-null      int64 \n",
      "dtypes: int64(3), object(3)\n",
      "memory usage: 560.0+ bytes\n"
     ]
    }
   ],
   "source": [
    "df.info()"
   ]
  },
  {
   "cell_type": "markdown",
   "metadata": {},
   "source": [
    "```\n",
    "pd.pivot_table(df,  # 피벗할 데이터프레임\n",
    "              index = '행 위치에 들어갈 열',\n",
    "              columns = '열 위치에 들어갈 열',\n",
    "              values = '데이터로 사용할 열',\n",
    "              aggfunc = 데이터 집계함수)\n",
    "```"
   ]
  },
  {
   "cell_type": "code",
   "execution_count": 34,
   "metadata": {},
   "outputs": [
    {
     "name": "stdout",
     "output_type": "stream",
     "text": [
      "<class 'pandas.core.frame.DataFrame'>\n",
      "Index: 2 entries, jyp to psy\n",
      "Data columns (total 2 columns):\n",
      " #   Column  Non-Null Count  Dtype  \n",
      "---  ------  --------------  -----  \n",
      " 0   남자      2 non-null      float64\n",
      " 1   여자      2 non-null      float64\n",
      "dtypes: float64(2)\n",
      "memory usage: 48.0+ bytes\n"
     ]
    }
   ],
   "source": [
    "#  각 소속사별 성별을 기준으로 연령값의 평균으로 새로운 table 집계해서 생성\n",
    "# 원본 table을 새롭게 재구성\n",
    "# 각 소속사별(index=['소속']), 성별(columns=['성별'])을 기준으로 연령값의 평균(aggfunc=np.mean)으로 새로운 table 집계해서 생성\n",
    "\n",
    "table = df.pivot_table(values='연령', index=['소속'], columns=['성별'], aggfunc=np.mean)\n",
    "table.info()"
   ]
  },
  {
   "cell_type": "code",
   "execution_count": 35,
   "metadata": {},
   "outputs": [
    {
     "data": {
      "text/html": [
       "<div>\n",
       "<style scoped>\n",
       "    .dataframe tbody tr th:only-of-type {\n",
       "        vertical-align: middle;\n",
       "    }\n",
       "\n",
       "    .dataframe tbody tr th {\n",
       "        vertical-align: top;\n",
       "    }\n",
       "\n",
       "    .dataframe thead th {\n",
       "        text-align: right;\n",
       "    }\n",
       "</style>\n",
       "<table border=\"1\" class=\"dataframe\">\n",
       "  <thead>\n",
       "    <tr style=\"text-align: right;\">\n",
       "      <th>성별</th>\n",
       "      <th>남자</th>\n",
       "      <th>여자</th>\n",
       "    </tr>\n",
       "    <tr>\n",
       "      <th>소속</th>\n",
       "      <th></th>\n",
       "      <th></th>\n",
       "    </tr>\n",
       "  </thead>\n",
       "  <tbody>\n",
       "    <tr>\n",
       "      <th>jyp</th>\n",
       "      <td>17.5</td>\n",
       "      <td>33.333333</td>\n",
       "    </tr>\n",
       "    <tr>\n",
       "      <th>psy</th>\n",
       "      <td>60.0</td>\n",
       "      <td>46.666667</td>\n",
       "    </tr>\n",
       "  </tbody>\n",
       "</table>\n",
       "</div>"
      ],
      "text/plain": [
       "성별     남자         여자\n",
       "소속                  \n",
       "jyp  17.5  33.333333\n",
       "psy  60.0  46.666667"
      ]
     },
     "execution_count": 35,
     "metadata": {},
     "output_type": "execute_result"
    }
   ],
   "source": [
    "table"
   ]
  },
  {
   "cell_type": "code",
   "execution_count": 37,
   "metadata": {},
   "outputs": [
    {
     "name": "stdout",
     "output_type": "stream",
     "text": [
      "<class 'pandas.core.frame.DataFrame'>\n",
      "Index: 2 entries, jyp to psy\n",
      "Data columns (total 2 columns):\n",
      " #   Column  Non-Null Count  Dtype\n",
      "---  ------  --------------  -----\n",
      " 0   남자      2 non-null      int64\n",
      " 1   여자      2 non-null      int64\n",
      "dtypes: int64(2)\n",
      "memory usage: 48.0+ bytes\n"
     ]
    }
   ],
   "source": [
    "#  각 소속사별 성별을 기준으로 연령값의 평균으로 새로운 table 집계해서 생성\n",
    "# 원본 table을 새롭게 재구성\n",
    "# 각 소속사별(index=['소속']), 성별(columns=['성별'])을 기준으로 연령값의 평균(aggfunc=np.mean)으로 새로운 table 집계해서 생성\n",
    "\n",
    "table = df.pivot_table(values='연령', index=['소속'], columns=['성별'], aggfunc=np.sum)\n",
    "table.info()"
   ]
  },
  {
   "cell_type": "code",
   "execution_count": 38,
   "metadata": {},
   "outputs": [
    {
     "data": {
      "text/html": [
       "<div>\n",
       "<style scoped>\n",
       "    .dataframe tbody tr th:only-of-type {\n",
       "        vertical-align: middle;\n",
       "    }\n",
       "\n",
       "    .dataframe tbody tr th {\n",
       "        vertical-align: top;\n",
       "    }\n",
       "\n",
       "    .dataframe thead th {\n",
       "        text-align: right;\n",
       "    }\n",
       "</style>\n",
       "<table border=\"1\" class=\"dataframe\">\n",
       "  <thead>\n",
       "    <tr style=\"text-align: right;\">\n",
       "      <th>성별</th>\n",
       "      <th>남자</th>\n",
       "      <th>여자</th>\n",
       "    </tr>\n",
       "    <tr>\n",
       "      <th>소속</th>\n",
       "      <th></th>\n",
       "      <th></th>\n",
       "    </tr>\n",
       "  </thead>\n",
       "  <tbody>\n",
       "    <tr>\n",
       "      <th>jyp</th>\n",
       "      <td>35</td>\n",
       "      <td>100</td>\n",
       "    </tr>\n",
       "    <tr>\n",
       "      <th>psy</th>\n",
       "      <td>60</td>\n",
       "      <td>140</td>\n",
       "    </tr>\n",
       "  </tbody>\n",
       "</table>\n",
       "</div>"
      ],
      "text/plain": [
       "성별   남자   여자\n",
       "소속          \n",
       "jyp  35  100\n",
       "psy  60  140"
      ]
     },
     "execution_count": 38,
     "metadata": {},
     "output_type": "execute_result"
    }
   ],
   "source": [
    "table"
   ]
  },
  {
   "cell_type": "code",
   "execution_count": 40,
   "metadata": {},
   "outputs": [
    {
     "data": {
      "text/html": [
       "<div>\n",
       "<style scoped>\n",
       "    .dataframe tbody tr th:only-of-type {\n",
       "        vertical-align: middle;\n",
       "    }\n",
       "\n",
       "    .dataframe tbody tr th {\n",
       "        vertical-align: top;\n",
       "    }\n",
       "\n",
       "    .dataframe thead th {\n",
       "        text-align: right;\n",
       "    }\n",
       "</style>\n",
       "<table border=\"1\" class=\"dataframe\">\n",
       "  <thead>\n",
       "    <tr style=\"text-align: right;\">\n",
       "      <th></th>\n",
       "      <th>소속</th>\n",
       "      <th>가수</th>\n",
       "      <th>성별</th>\n",
       "      <th>연령</th>\n",
       "      <th>연령합</th>\n",
       "      <th>연령평균</th>\n",
       "    </tr>\n",
       "  </thead>\n",
       "  <tbody>\n",
       "    <tr>\n",
       "      <th>0</th>\n",
       "      <td>jyp</td>\n",
       "      <td>비</td>\n",
       "      <td>남자</td>\n",
       "      <td>15</td>\n",
       "      <td>335</td>\n",
       "      <td>37</td>\n",
       "    </tr>\n",
       "    <tr>\n",
       "      <th>1</th>\n",
       "      <td>psy</td>\n",
       "      <td>제시</td>\n",
       "      <td>여자</td>\n",
       "      <td>20</td>\n",
       "      <td>335</td>\n",
       "      <td>37</td>\n",
       "    </tr>\n",
       "    <tr>\n",
       "      <th>2</th>\n",
       "      <td>jyp</td>\n",
       "      <td>박진형</td>\n",
       "      <td>남자</td>\n",
       "      <td>20</td>\n",
       "      <td>335</td>\n",
       "      <td>37</td>\n",
       "    </tr>\n",
       "    <tr>\n",
       "      <th>3</th>\n",
       "      <td>jyp</td>\n",
       "      <td>원더걸스</td>\n",
       "      <td>여자</td>\n",
       "      <td>30</td>\n",
       "      <td>335</td>\n",
       "      <td>37</td>\n",
       "    </tr>\n",
       "    <tr>\n",
       "      <th>4</th>\n",
       "      <td>jyp</td>\n",
       "      <td>제니</td>\n",
       "      <td>여자</td>\n",
       "      <td>30</td>\n",
       "      <td>335</td>\n",
       "      <td>37</td>\n",
       "    </tr>\n",
       "    <tr>\n",
       "      <th>5</th>\n",
       "      <td>jyp</td>\n",
       "      <td>샤샤</td>\n",
       "      <td>여자</td>\n",
       "      <td>40</td>\n",
       "      <td>335</td>\n",
       "      <td>37</td>\n",
       "    </tr>\n",
       "    <tr>\n",
       "      <th>6</th>\n",
       "      <td>psy</td>\n",
       "      <td>현아</td>\n",
       "      <td>여자</td>\n",
       "      <td>50</td>\n",
       "      <td>335</td>\n",
       "      <td>37</td>\n",
       "    </tr>\n",
       "    <tr>\n",
       "      <th>7</th>\n",
       "      <td>psy</td>\n",
       "      <td>싸이</td>\n",
       "      <td>남자</td>\n",
       "      <td>60</td>\n",
       "      <td>335</td>\n",
       "      <td>37</td>\n",
       "    </tr>\n",
       "    <tr>\n",
       "      <th>8</th>\n",
       "      <td>psy</td>\n",
       "      <td>하니</td>\n",
       "      <td>여자</td>\n",
       "      <td>70</td>\n",
       "      <td>335</td>\n",
       "      <td>37</td>\n",
       "    </tr>\n",
       "  </tbody>\n",
       "</table>\n",
       "</div>"
      ],
      "text/plain": [
       "    소속    가수  성별  연령  연령합  연령평균\n",
       "0  jyp     비  남자  15  335    37\n",
       "1  psy    제시  여자  20  335    37\n",
       "2  jyp   박진형  남자  20  335    37\n",
       "3  jyp  원더걸스  여자  30  335    37\n",
       "4  jyp    제니  여자  30  335    37\n",
       "5  jyp    샤샤  여자  40  335    37\n",
       "6  psy    현아  여자  50  335    37\n",
       "7  psy    싸이  남자  60  335    37\n",
       "8  psy    하니  여자  70  335    37"
      ]
     },
     "execution_count": 40,
     "metadata": {},
     "output_type": "execute_result"
    }
   ],
   "source": [
    "df"
   ]
  },
  {
   "cell_type": "code",
   "execution_count": 41,
   "metadata": {},
   "outputs": [
    {
     "data": {
      "text/plain": [
       "Index(['jyp', 'psy'], dtype='object', name='소속')"
      ]
     },
     "execution_count": 41,
     "metadata": {},
     "output_type": "execute_result"
    }
   ],
   "source": [
    "table.index"
   ]
  },
  {
   "cell_type": "code",
   "execution_count": 42,
   "metadata": {},
   "outputs": [
    {
     "data": {
      "text/plain": [
       "Index(['남자', '여자'], dtype='object', name='성별')"
      ]
     },
     "execution_count": 42,
     "metadata": {},
     "output_type": "execute_result"
    }
   ],
   "source": [
    "table.columns"
   ]
  },
  {
   "cell_type": "code",
   "execution_count": null,
   "metadata": {},
   "outputs": [],
   "source": []
  },
  {
   "cell_type": "code",
   "execution_count": null,
   "metadata": {},
   "outputs": [],
   "source": []
  },
  {
   "cell_type": "code",
   "execution_count": 47,
   "metadata": {},
   "outputs": [
    {
     "data": {
      "text/html": [
       "<div>\n",
       "<style scoped>\n",
       "    .dataframe tbody tr th:only-of-type {\n",
       "        vertical-align: middle;\n",
       "    }\n",
       "\n",
       "    .dataframe tbody tr th {\n",
       "        vertical-align: top;\n",
       "    }\n",
       "\n",
       "    .dataframe thead tr th {\n",
       "        text-align: left;\n",
       "    }\n",
       "\n",
       "    .dataframe thead tr:last-of-type th {\n",
       "        text-align: right;\n",
       "    }\n",
       "</style>\n",
       "<table border=\"1\" class=\"dataframe\">\n",
       "  <thead>\n",
       "    <tr>\n",
       "      <th></th>\n",
       "      <th colspan=\"2\" halign=\"left\">sum</th>\n",
       "      <th colspan=\"2\" halign=\"left\">mean</th>\n",
       "    </tr>\n",
       "    <tr>\n",
       "      <th>성별</th>\n",
       "      <th>남자</th>\n",
       "      <th>여자</th>\n",
       "      <th>남자</th>\n",
       "      <th>여자</th>\n",
       "    </tr>\n",
       "    <tr>\n",
       "      <th>소속</th>\n",
       "      <th></th>\n",
       "      <th></th>\n",
       "      <th></th>\n",
       "      <th></th>\n",
       "    </tr>\n",
       "  </thead>\n",
       "  <tbody>\n",
       "    <tr>\n",
       "      <th>jyp</th>\n",
       "      <td>35</td>\n",
       "      <td>100</td>\n",
       "      <td>17.5</td>\n",
       "      <td>33.333333</td>\n",
       "    </tr>\n",
       "    <tr>\n",
       "      <th>psy</th>\n",
       "      <td>60</td>\n",
       "      <td>140</td>\n",
       "      <td>60.0</td>\n",
       "      <td>46.666667</td>\n",
       "    </tr>\n",
       "  </tbody>\n",
       "</table>\n",
       "</div>"
      ],
      "text/plain": [
       "    sum       mean           \n",
       "성별   남자   여자    남자         여자\n",
       "소속                           \n",
       "jyp  35  100  17.5  33.333333\n",
       "psy  60  140  60.0  46.666667"
      ]
     },
     "execution_count": 47,
     "metadata": {},
     "output_type": "execute_result"
    }
   ],
   "source": [
    "# 연령값을 기준으로 평균과 합을 동시에 재구성\n",
    "\n",
    "table = df.pivot_table(values='연령', index=['소속'], columns=['성별'], aggfunc=[np.sum, np.mean])\n",
    "table"
   ]
  },
  {
   "cell_type": "code",
   "execution_count": 46,
   "metadata": {},
   "outputs": [
    {
     "data": {
      "text/html": [
       "<div>\n",
       "<style scoped>\n",
       "    .dataframe tbody tr th:only-of-type {\n",
       "        vertical-align: middle;\n",
       "    }\n",
       "\n",
       "    .dataframe tbody tr th {\n",
       "        vertical-align: top;\n",
       "    }\n",
       "\n",
       "    .dataframe thead tr th {\n",
       "        text-align: left;\n",
       "    }\n",
       "\n",
       "    .dataframe thead tr:last-of-type th {\n",
       "        text-align: right;\n",
       "    }\n",
       "</style>\n",
       "<table border=\"1\" class=\"dataframe\">\n",
       "  <thead>\n",
       "    <tr>\n",
       "      <th></th>\n",
       "      <th colspan=\"2\" halign=\"left\">sum</th>\n",
       "      <th colspan=\"2\" halign=\"left\">mean</th>\n",
       "    </tr>\n",
       "    <tr>\n",
       "      <th>성별</th>\n",
       "      <th>남자</th>\n",
       "      <th>여자</th>\n",
       "      <th>남자</th>\n",
       "      <th>여자</th>\n",
       "    </tr>\n",
       "    <tr>\n",
       "      <th>소속</th>\n",
       "      <th></th>\n",
       "      <th></th>\n",
       "      <th></th>\n",
       "      <th></th>\n",
       "    </tr>\n",
       "  </thead>\n",
       "  <tbody>\n",
       "    <tr>\n",
       "      <th>jyp</th>\n",
       "      <td>35</td>\n",
       "      <td>100</td>\n",
       "      <td>17.5</td>\n",
       "      <td>33.333333</td>\n",
       "    </tr>\n",
       "    <tr>\n",
       "      <th>psy</th>\n",
       "      <td>60</td>\n",
       "      <td>140</td>\n",
       "      <td>60.0</td>\n",
       "      <td>46.666667</td>\n",
       "    </tr>\n",
       "  </tbody>\n",
       "</table>\n",
       "</div>"
      ],
      "text/plain": [
       "    sum       mean           \n",
       "성별   남자   여자    남자         여자\n",
       "소속                           \n",
       "jyp  35  100  17.5  33.333333\n",
       "psy  60  140  60.0  46.666667"
      ]
     },
     "execution_count": 46,
     "metadata": {},
     "output_type": "execute_result"
    }
   ],
   "source": [
    "table = df.pivot_table(values='연령', index=['소속'], columns=['성별'], aggfunc=['sum', 'mean'])\n",
    "table"
   ]
  },
  {
   "cell_type": "code",
   "execution_count": 50,
   "metadata": {},
   "outputs": [
    {
     "data": {
      "text/html": [
       "<div>\n",
       "<style scoped>\n",
       "    .dataframe tbody tr th:only-of-type {\n",
       "        vertical-align: middle;\n",
       "    }\n",
       "\n",
       "    .dataframe tbody tr th {\n",
       "        vertical-align: top;\n",
       "    }\n",
       "\n",
       "    .dataframe thead tr th {\n",
       "        text-align: left;\n",
       "    }\n",
       "\n",
       "    .dataframe thead tr:last-of-type th {\n",
       "        text-align: right;\n",
       "    }\n",
       "</style>\n",
       "<table border=\"1\" class=\"dataframe\">\n",
       "  <thead>\n",
       "    <tr>\n",
       "      <th></th>\n",
       "      <th colspan=\"2\" halign=\"left\">sum</th>\n",
       "      <th colspan=\"2\" halign=\"left\">mean</th>\n",
       "    </tr>\n",
       "    <tr>\n",
       "      <th>성별</th>\n",
       "      <th>남자</th>\n",
       "      <th>여자</th>\n",
       "      <th>남자</th>\n",
       "      <th>여자</th>\n",
       "    </tr>\n",
       "    <tr>\n",
       "      <th>소속</th>\n",
       "      <th></th>\n",
       "      <th></th>\n",
       "      <th></th>\n",
       "      <th></th>\n",
       "    </tr>\n",
       "  </thead>\n",
       "  <tbody>\n",
       "    <tr>\n",
       "      <th>jyp</th>\n",
       "      <td>35</td>\n",
       "      <td>100</td>\n",
       "      <td>17</td>\n",
       "      <td>33</td>\n",
       "    </tr>\n",
       "    <tr>\n",
       "      <th>psy</th>\n",
       "      <td>60</td>\n",
       "      <td>140</td>\n",
       "      <td>60</td>\n",
       "      <td>46</td>\n",
       "    </tr>\n",
       "  </tbody>\n",
       "</table>\n",
       "</div>"
      ],
      "text/plain": [
       "    sum      mean    \n",
       "성별   남자   여자   남자  여자\n",
       "소속                   \n",
       "jyp  35  100   17  33\n",
       "psy  60  140   60  46"
      ]
     },
     "execution_count": 50,
     "metadata": {},
     "output_type": "execute_result"
    }
   ],
   "source": [
    "# 숫자를 정수로 변환\n",
    "# 메모리 정량을 위한 32 bit로 처리\n",
    "\n",
    "table = table.astype('int32')\n",
    "table"
   ]
  },
  {
   "cell_type": "code",
   "execution_count": 51,
   "metadata": {},
   "outputs": [
    {
     "data": {
      "text/html": [
       "<div>\n",
       "<style scoped>\n",
       "    .dataframe tbody tr th:only-of-type {\n",
       "        vertical-align: middle;\n",
       "    }\n",
       "\n",
       "    .dataframe tbody tr th {\n",
       "        vertical-align: top;\n",
       "    }\n",
       "\n",
       "    .dataframe thead th {\n",
       "        text-align: right;\n",
       "    }\n",
       "</style>\n",
       "<table border=\"1\" class=\"dataframe\">\n",
       "  <thead>\n",
       "    <tr style=\"text-align: right;\">\n",
       "      <th></th>\n",
       "      <th>소속</th>\n",
       "      <th>가수</th>\n",
       "      <th>성별</th>\n",
       "      <th>연령</th>\n",
       "      <th>연령합</th>\n",
       "      <th>연령평균</th>\n",
       "    </tr>\n",
       "  </thead>\n",
       "  <tbody>\n",
       "    <tr>\n",
       "      <th>0</th>\n",
       "      <td>jyp</td>\n",
       "      <td>비</td>\n",
       "      <td>남자</td>\n",
       "      <td>15</td>\n",
       "      <td>335</td>\n",
       "      <td>37</td>\n",
       "    </tr>\n",
       "    <tr>\n",
       "      <th>1</th>\n",
       "      <td>psy</td>\n",
       "      <td>제시</td>\n",
       "      <td>여자</td>\n",
       "      <td>20</td>\n",
       "      <td>335</td>\n",
       "      <td>37</td>\n",
       "    </tr>\n",
       "    <tr>\n",
       "      <th>2</th>\n",
       "      <td>jyp</td>\n",
       "      <td>박진형</td>\n",
       "      <td>남자</td>\n",
       "      <td>20</td>\n",
       "      <td>335</td>\n",
       "      <td>37</td>\n",
       "    </tr>\n",
       "    <tr>\n",
       "      <th>3</th>\n",
       "      <td>jyp</td>\n",
       "      <td>원더걸스</td>\n",
       "      <td>여자</td>\n",
       "      <td>30</td>\n",
       "      <td>335</td>\n",
       "      <td>37</td>\n",
       "    </tr>\n",
       "    <tr>\n",
       "      <th>4</th>\n",
       "      <td>jyp</td>\n",
       "      <td>제니</td>\n",
       "      <td>여자</td>\n",
       "      <td>30</td>\n",
       "      <td>335</td>\n",
       "      <td>37</td>\n",
       "    </tr>\n",
       "    <tr>\n",
       "      <th>5</th>\n",
       "      <td>jyp</td>\n",
       "      <td>샤샤</td>\n",
       "      <td>여자</td>\n",
       "      <td>40</td>\n",
       "      <td>335</td>\n",
       "      <td>37</td>\n",
       "    </tr>\n",
       "    <tr>\n",
       "      <th>6</th>\n",
       "      <td>psy</td>\n",
       "      <td>현아</td>\n",
       "      <td>여자</td>\n",
       "      <td>50</td>\n",
       "      <td>335</td>\n",
       "      <td>37</td>\n",
       "    </tr>\n",
       "    <tr>\n",
       "      <th>7</th>\n",
       "      <td>psy</td>\n",
       "      <td>싸이</td>\n",
       "      <td>남자</td>\n",
       "      <td>60</td>\n",
       "      <td>335</td>\n",
       "      <td>37</td>\n",
       "    </tr>\n",
       "    <tr>\n",
       "      <th>8</th>\n",
       "      <td>psy</td>\n",
       "      <td>하니</td>\n",
       "      <td>여자</td>\n",
       "      <td>70</td>\n",
       "      <td>335</td>\n",
       "      <td>37</td>\n",
       "    </tr>\n",
       "  </tbody>\n",
       "</table>\n",
       "</div>"
      ],
      "text/plain": [
       "    소속    가수  성별  연령  연령합  연령평균\n",
       "0  jyp     비  남자  15  335    37\n",
       "1  psy    제시  여자  20  335    37\n",
       "2  jyp   박진형  남자  20  335    37\n",
       "3  jyp  원더걸스  여자  30  335    37\n",
       "4  jyp    제니  여자  30  335    37\n",
       "5  jyp    샤샤  여자  40  335    37\n",
       "6  psy    현아  여자  50  335    37\n",
       "7  psy    싸이  남자  60  335    37\n",
       "8  psy    하니  여자  70  335    37"
      ]
     },
     "execution_count": 51,
     "metadata": {},
     "output_type": "execute_result"
    }
   ],
   "source": [
    "df"
   ]
  },
  {
   "cell_type": "code",
   "execution_count": 52,
   "metadata": {},
   "outputs": [
    {
     "data": {
      "text/html": [
       "<div>\n",
       "<style scoped>\n",
       "    .dataframe tbody tr th:only-of-type {\n",
       "        vertical-align: middle;\n",
       "    }\n",
       "\n",
       "    .dataframe tbody tr th {\n",
       "        vertical-align: top;\n",
       "    }\n",
       "\n",
       "    .dataframe thead th {\n",
       "        text-align: right;\n",
       "    }\n",
       "</style>\n",
       "<table border=\"1\" class=\"dataframe\">\n",
       "  <thead>\n",
       "    <tr style=\"text-align: right;\">\n",
       "      <th>가수</th>\n",
       "      <th>박진형</th>\n",
       "      <th>비</th>\n",
       "      <th>샤샤</th>\n",
       "      <th>싸이</th>\n",
       "      <th>원더걸스</th>\n",
       "      <th>제니</th>\n",
       "      <th>제시</th>\n",
       "      <th>하니</th>\n",
       "      <th>현아</th>\n",
       "    </tr>\n",
       "    <tr>\n",
       "      <th>소속</th>\n",
       "      <th></th>\n",
       "      <th></th>\n",
       "      <th></th>\n",
       "      <th></th>\n",
       "      <th></th>\n",
       "      <th></th>\n",
       "      <th></th>\n",
       "      <th></th>\n",
       "      <th></th>\n",
       "    </tr>\n",
       "  </thead>\n",
       "  <tbody>\n",
       "    <tr>\n",
       "      <th>jyp</th>\n",
       "      <td>20.0</td>\n",
       "      <td>15.0</td>\n",
       "      <td>40.0</td>\n",
       "      <td>NaN</td>\n",
       "      <td>30.0</td>\n",
       "      <td>30.0</td>\n",
       "      <td>NaN</td>\n",
       "      <td>NaN</td>\n",
       "      <td>NaN</td>\n",
       "    </tr>\n",
       "    <tr>\n",
       "      <th>psy</th>\n",
       "      <td>NaN</td>\n",
       "      <td>NaN</td>\n",
       "      <td>NaN</td>\n",
       "      <td>60.0</td>\n",
       "      <td>NaN</td>\n",
       "      <td>NaN</td>\n",
       "      <td>20.0</td>\n",
       "      <td>70.0</td>\n",
       "      <td>50.0</td>\n",
       "    </tr>\n",
       "  </tbody>\n",
       "</table>\n",
       "</div>"
      ],
      "text/plain": [
       "가수    박진형     비    샤샤    싸이  원더걸스    제니    제시    하니    현아\n",
       "소속                                                       \n",
       "jyp  20.0  15.0  40.0   NaN  30.0  30.0   NaN   NaN   NaN\n",
       "psy   NaN   NaN   NaN  60.0   NaN   NaN  20.0  70.0  50.0"
      ]
     },
     "execution_count": 52,
     "metadata": {},
     "output_type": "execute_result"
    }
   ],
   "source": [
    "# 가수들이 어떤 소속사에 소속되어 있는지에 대한 재구성\n",
    "\n",
    "table = df.pivot_table(values='연령', index=['소속'], columns=['가수'])\n",
    "table"
   ]
  },
  {
   "cell_type": "code",
   "execution_count": 54,
   "metadata": {},
   "outputs": [
    {
     "data": {
      "text/html": [
       "<div>\n",
       "<style scoped>\n",
       "    .dataframe tbody tr th:only-of-type {\n",
       "        vertical-align: middle;\n",
       "    }\n",
       "\n",
       "    .dataframe tbody tr th {\n",
       "        vertical-align: top;\n",
       "    }\n",
       "\n",
       "    .dataframe thead th {\n",
       "        text-align: right;\n",
       "    }\n",
       "</style>\n",
       "<table border=\"1\" class=\"dataframe\">\n",
       "  <thead>\n",
       "    <tr style=\"text-align: right;\">\n",
       "      <th>가수</th>\n",
       "      <th>박진형</th>\n",
       "      <th>비</th>\n",
       "      <th>샤샤</th>\n",
       "      <th>싸이</th>\n",
       "      <th>원더걸스</th>\n",
       "      <th>제니</th>\n",
       "      <th>제시</th>\n",
       "      <th>하니</th>\n",
       "      <th>현아</th>\n",
       "    </tr>\n",
       "    <tr>\n",
       "      <th>소속</th>\n",
       "      <th></th>\n",
       "      <th></th>\n",
       "      <th></th>\n",
       "      <th></th>\n",
       "      <th></th>\n",
       "      <th></th>\n",
       "      <th></th>\n",
       "      <th></th>\n",
       "      <th></th>\n",
       "    </tr>\n",
       "  </thead>\n",
       "  <tbody>\n",
       "    <tr>\n",
       "      <th>jyp</th>\n",
       "      <td>20</td>\n",
       "      <td>15</td>\n",
       "      <td>40</td>\n",
       "      <td></td>\n",
       "      <td>30</td>\n",
       "      <td>30</td>\n",
       "      <td></td>\n",
       "      <td></td>\n",
       "      <td></td>\n",
       "    </tr>\n",
       "    <tr>\n",
       "      <th>psy</th>\n",
       "      <td></td>\n",
       "      <td></td>\n",
       "      <td></td>\n",
       "      <td>60</td>\n",
       "      <td></td>\n",
       "      <td></td>\n",
       "      <td>20</td>\n",
       "      <td>70</td>\n",
       "      <td>50</td>\n",
       "    </tr>\n",
       "  </tbody>\n",
       "</table>\n",
       "</div>"
      ],
      "text/plain": [
       "가수  박진형   비  샤샤  싸이 원더걸스  제니  제시  하니  현아\n",
       "소속                                      \n",
       "jyp  20  15  40       30  30            \n",
       "psy              60           20  70  50"
      ]
     },
     "execution_count": 54,
     "metadata": {},
     "output_type": "execute_result"
    }
   ],
   "source": [
    "table.fillna('',inplace=True)\n",
    "table"
   ]
  },
  {
   "cell_type": "code",
   "execution_count": 55,
   "metadata": {},
   "outputs": [
    {
     "data": {
      "text/html": [
       "<div>\n",
       "<style scoped>\n",
       "    .dataframe tbody tr th:only-of-type {\n",
       "        vertical-align: middle;\n",
       "    }\n",
       "\n",
       "    .dataframe tbody tr th {\n",
       "        vertical-align: top;\n",
       "    }\n",
       "\n",
       "    .dataframe thead th {\n",
       "        text-align: right;\n",
       "    }\n",
       "</style>\n",
       "<table border=\"1\" class=\"dataframe\">\n",
       "  <thead>\n",
       "    <tr style=\"text-align: right;\">\n",
       "      <th>가수</th>\n",
       "      <th>소속</th>\n",
       "      <th>박진형</th>\n",
       "      <th>비</th>\n",
       "      <th>샤샤</th>\n",
       "      <th>싸이</th>\n",
       "      <th>원더걸스</th>\n",
       "      <th>제니</th>\n",
       "      <th>제시</th>\n",
       "      <th>하니</th>\n",
       "      <th>현아</th>\n",
       "    </tr>\n",
       "  </thead>\n",
       "  <tbody>\n",
       "    <tr>\n",
       "      <th>0</th>\n",
       "      <td>jyp</td>\n",
       "      <td>20</td>\n",
       "      <td>15</td>\n",
       "      <td>40</td>\n",
       "      <td></td>\n",
       "      <td>30</td>\n",
       "      <td>30</td>\n",
       "      <td></td>\n",
       "      <td></td>\n",
       "      <td></td>\n",
       "    </tr>\n",
       "    <tr>\n",
       "      <th>1</th>\n",
       "      <td>psy</td>\n",
       "      <td></td>\n",
       "      <td></td>\n",
       "      <td></td>\n",
       "      <td>60</td>\n",
       "      <td></td>\n",
       "      <td></td>\n",
       "      <td>20</td>\n",
       "      <td>70</td>\n",
       "      <td>50</td>\n",
       "    </tr>\n",
       "  </tbody>\n",
       "</table>\n",
       "</div>"
      ],
      "text/plain": [
       "가수   소속 박진형   비  샤샤  싸이 원더걸스  제니  제시  하니  현아\n",
       "0   jyp  20  15  40       30  30            \n",
       "1   psy              60           20  70  50"
      ]
     },
     "execution_count": 55,
     "metadata": {},
     "output_type": "execute_result"
    }
   ],
   "source": [
    "table.reset_index()"
   ]
  },
  {
   "cell_type": "code",
   "execution_count": null,
   "metadata": {},
   "outputs": [],
   "source": []
  }
 ],
 "metadata": {
  "kernelspec": {
   "display_name": "Python 3",
   "language": "python",
   "name": "python3"
  },
  "language_info": {
   "codemirror_mode": {
    "name": "ipython",
    "version": 3
   },
   "file_extension": ".py",
   "mimetype": "text/x-python",
   "name": "python",
   "nbconvert_exporter": "python",
   "pygments_lexer": "ipython3",
   "version": "3.8.5"
  },
  "toc": {
   "base_numbering": 1,
   "nav_menu": {},
   "number_sections": true,
   "sideBar": true,
   "skip_h1_title": false,
   "title_cell": "Table of Contents",
   "title_sidebar": "Contents",
   "toc_cell": false,
   "toc_position": {},
   "toc_section_display": true,
   "toc_window_display": false
  }
 },
 "nbformat": 4,
 "nbformat_minor": 4
}
