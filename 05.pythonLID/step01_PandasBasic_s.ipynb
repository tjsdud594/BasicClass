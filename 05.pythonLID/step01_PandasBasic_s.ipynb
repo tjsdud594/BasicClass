{
 "cells": [
  {
   "cell_type": "markdown",
   "metadata": {},
   "source": [
    "# Pandas 학습 "
   ]
  },
  {
   "cell_type": "markdown",
   "metadata": {},
   "source": [
    "1. 데이터 분석을 위한 모듈 : 절대적(중학생 과제 작품으로도 사용)\n",
    "2. excel과 가장 큰 차이점 : Pandas는 대용량 데이터 처리가 가능\n",
    "3. 데이터 분석 및 데이터 가공에 절대적으로 사용되는 library\n",
    "4. 주요 학습 내용\n",
    "> 1. DataFrame - excel의 다수의 컬럼들을 보유한 table과 동일하다 간주\n",
    "> 2. series - DataFrame을 구성하는 column 간주"
   ]
  },
  {
   "cell_type": "markdown",
   "metadata": {},
   "source": [
    "**참고**\n",
    "\n",
    "주피터 노트북 익스텐션을 활용하여 생산성 높이기\n",
    ">pip install jupyter_contrib_nbextensions && jupyter contrib nbextension install\n",
    "\n",
    "사용하는 기술\n",
    "\n",
    ">pep8 코딩 컨벤션 체크 및 포멧 정리 기능 <br>\n",
    ">목차\n"
   ]
  },
  {
   "cell_type": "code",
   "execution_count": 1,
   "metadata": {},
   "outputs": [],
   "source": [
    "# !pip install jupyter_contrib_nbextensions && jupyter contrib nbextension install"
   ]
  },
  {
   "cell_type": "markdown",
   "metadata": {},
   "source": [
    "## 기초 익히기\n",
    "> 이미 존재하는 파일의 내용으로 DataFrame 생성하기 <br>\n",
    "> 중복 데이터 제거 <br>\n",
    "> 결측시 처리"
   ]
  },
  {
   "cell_type": "markdown",
   "metadata": {},
   "source": [
    "## DataFrame  & Series 구조 \n",
    "> https://pandas.pydata.org/docs/getting_started/index.html <br>\n",
    "    \n"
   ]
  },
  {
   "cell_type": "code",
   "execution_count": 23,
   "metadata": {},
   "outputs": [],
   "source": [
    "# 전처리를 위한 library import\n",
    "# as 키워드는 library 별칭 부여 : pd 관습적으로 사용\n",
    "\n",
    "import pandas as pd\n",
    "import numpy as np"
   ]
  },
  {
   "cell_type": "code",
   "execution_count": 9,
   "metadata": {},
   "outputs": [
    {
     "name": "stdout",
     "output_type": "stream",
     "text": [
      "Name: pandas\n",
      "Version: 1.1.3\n",
      "Summary: Powerful data structures for data analysis, time series, and statistics\n",
      "Home-page: https://pandas.pydata.org\n",
      "Author: None\n",
      "Author-email: None\n",
      "License: BSD\n",
      "Location: c:\\users\\tjsdu\\anaconda3\\lib\\site-packages\n",
      "Requires: pytz, numpy, python-dateutil\n",
      "Required-by: statsmodels, seaborn\n"
     ]
    }
   ],
   "source": [
    "!pip show pandas\n",
    "# Requires : pandas가 필요로하는 아이들"
   ]
  },
  {
   "cell_type": "code",
   "execution_count": 11,
   "metadata": {},
   "outputs": [
    {
     "data": {
      "text/html": [
       "<div>\n",
       "<style scoped>\n",
       "    .dataframe tbody tr th:only-of-type {\n",
       "        vertical-align: middle;\n",
       "    }\n",
       "\n",
       "    .dataframe tbody tr th {\n",
       "        vertical-align: top;\n",
       "    }\n",
       "\n",
       "    .dataframe thead th {\n",
       "        text-align: right;\n",
       "    }\n",
       "</style>\n",
       "<table border=\"1\" class=\"dataframe\">\n",
       "  <thead>\n",
       "    <tr style=\"text-align: right;\">\n",
       "      <th></th>\n",
       "      <th>Name</th>\n",
       "      <th>Age</th>\n",
       "      <th>Sex</th>\n",
       "    </tr>\n",
       "  </thead>\n",
       "  <tbody>\n",
       "    <tr>\n",
       "      <th>0</th>\n",
       "      <td>Braund, Mr. Owen Harris</td>\n",
       "      <td>22</td>\n",
       "      <td>male</td>\n",
       "    </tr>\n",
       "    <tr>\n",
       "      <th>1</th>\n",
       "      <td>Allen, Mr. William Henry</td>\n",
       "      <td>35</td>\n",
       "      <td>male</td>\n",
       "    </tr>\n",
       "    <tr>\n",
       "      <th>2</th>\n",
       "      <td>Bonnell, Miss. Elizabeth</td>\n",
       "      <td>58</td>\n",
       "      <td>female</td>\n",
       "    </tr>\n",
       "  </tbody>\n",
       "</table>\n",
       "</div>"
      ],
      "text/plain": [
       "                       Name  Age     Sex\n",
       "0   Braund, Mr. Owen Harris   22    male\n",
       "1  Allen, Mr. William Henry   35    male\n",
       "2  Bonnell, Miss. Elizabeth   58  female"
      ]
     },
     "execution_count": 11,
     "metadata": {},
     "output_type": "execute_result"
    }
   ],
   "source": [
    "df = pd.DataFrame(\n",
    "    {\n",
    "        \"Name\": [\n",
    "            \"Braund, Mr. Owen Harris\",\n",
    "            \"Allen, Mr. William Henry\",\n",
    "            \"Bonnell, Miss. Elizabeth\",\n",
    "        ],\n",
    "        \"Age\": [22, 35, 58],\n",
    "        \"Sex\": [\"male\", \"male\", \"female\"],\n",
    "    }\n",
    ")\n",
    "\n",
    "df\n",
    "\n",
    "# tabular data : 테이블형테의 데이터"
   ]
  },
  {
   "cell_type": "markdown",
   "metadata": {},
   "source": [
    "기초 익히기"
   ]
  },
  {
   "cell_type": "code",
   "execution_count": 17,
   "metadata": {},
   "outputs": [
    {
     "data": {
      "text/plain": [
       "0    1\n",
       "1    2\n",
       "2    3\n",
       "dtype: int64"
      ]
     },
     "execution_count": 17,
     "metadata": {},
     "output_type": "execute_result"
    }
   ],
   "source": [
    "# 시리즈 - 정수값으로 생성시 자동으로 int64 (64비트 저장 가능한 함수)\n",
    "# 시리즈 생성 문법\n",
    "\n",
    "s = pd.Series([1, 2, 3])   # 시리즈 객체\n",
    "s"
   ]
  },
  {
   "cell_type": "code",
   "execution_count": 18,
   "metadata": {},
   "outputs": [
    {
     "name": "stdout",
     "output_type": "stream",
     "text": [
      "0    1\n",
      "1    2\n",
      "2    3\n",
      "dtype: int64\n"
     ]
    }
   ],
   "source": [
    "print(s)"
   ]
  },
  {
   "cell_type": "code",
   "execution_count": 19,
   "metadata": {},
   "outputs": [
    {
     "data": {
      "text/plain": [
       "pandas.core.series.Series"
      ]
     },
     "execution_count": 19,
     "metadata": {},
     "output_type": "execute_result"
    }
   ],
   "source": [
    "type(s)"
   ]
  },
  {
   "cell_type": "code",
   "execution_count": 20,
   "metadata": {},
   "outputs": [
    {
     "data": {
      "text/plain": [
       "array([1, 2, 3], dtype=int64)"
      ]
     },
     "execution_count": 20,
     "metadata": {},
     "output_type": "execute_result"
    }
   ],
   "source": [
    "# 시리즈 객체가 보유한 데이터\n",
    "s.values"
   ]
  },
  {
   "cell_type": "code",
   "execution_count": 22,
   "metadata": {},
   "outputs": [
    {
     "data": {
      "text/plain": [
       "RangeIndex(start=0, stop=3, step=1)"
      ]
     },
     "execution_count": 22,
     "metadata": {},
     "output_type": "execute_result"
    }
   ],
   "source": [
    "# 실제로 stop의 값은 -1 해서 보는 것이 편하다\n",
    "s.index"
   ]
  },
  {
   "cell_type": "code",
   "execution_count": 29,
   "metadata": {},
   "outputs": [
    {
     "data": {
      "text/plain": [
       "0    1.0\n",
       "1    NaN\n",
       "2    3.0\n",
       "3    4.0\n",
       "4    NaN\n",
       "5    6.0\n",
       "dtype: float64"
      ]
     },
     "execution_count": 29,
     "metadata": {},
     "output_type": "execute_result"
    }
   ],
   "source": [
    "# 결측치 - 데이터값이 없음을 의미, NaN(Not a Number)\n",
    "# Not a Number : js에서 숫자가 아님을 의미하는 표현법\n",
    "# python에선 결측치 의미\n",
    "\n",
    "# 명시적으로 시리즈에 결츨치 적용\n",
    "# numpy api 결측치 표현\n",
    "# 데이터를 관리하기 위해서는 간혹 결측치도 임의로 생성해야 할 경우도 있음\n",
    "\n",
    "s = pd.Series([1, np.nan, 3, 4, np.nan, 6])\n",
    "s\n"
   ]
  },
  {
   "cell_type": "code",
   "execution_count": 30,
   "metadata": {},
   "outputs": [
    {
     "data": {
      "text/plain": [
       "4"
      ]
     },
     "execution_count": 30,
     "metadata": {},
     "output_type": "execute_result"
    }
   ],
   "source": [
    "# 시리즈가 보유하고 있는 결측치를 제외한 유효한 데이터 개수 counting\n",
    "s.count()"
   ]
  },
  {
   "cell_type": "code",
   "execution_count": 34,
   "metadata": {},
   "outputs": [
    {
     "data": {
      "text/plain": [
       "0     1.0\n",
       "1    99.0\n",
       "2     3.0\n",
       "3     4.0\n",
       "4    99.0\n",
       "5     6.0\n",
       "dtype: float64"
      ]
     },
     "execution_count": 34,
     "metadata": {},
     "output_type": "execute_result"
    }
   ],
   "source": [
    "# 가령 데이터로 연산 작업들을 수행\n",
    "# 최상의 output을 위해서 결측치 처리(삭제? 대체?(평균? 중앙값? 최빈값?..))\n",
    "\n",
    "s.fillna(0)   # 결측치를 0으로 치환한 새로운 시리즈 생성\n",
    "\n",
    "s = s.fillna(99)  # 0으로 치환한 시리즈를 재대입\n",
    "s"
   ]
  },
  {
   "cell_type": "code",
   "execution_count": 37,
   "metadata": {},
   "outputs": [
    {
     "name": "stdout",
     "output_type": "stream",
     "text": [
      "0    1.0\n",
      "1    NaN\n",
      "2    3.0\n",
      "3    4.0\n",
      "4    NaN\n",
      "5    6.0\n",
      "dtype: float64\n",
      "0    1.0\n",
      "1    0.0\n",
      "2    3.0\n",
      "3    4.0\n",
      "4    0.0\n",
      "5    6.0\n",
      "dtype: float64\n"
     ]
    }
   ],
   "source": [
    "s = pd.Series([1, np.nan, 3, 4, np.nan, 6])\n",
    "print(s)\n",
    "\n",
    "s = s.fillna(0)\n",
    "print(s)"
   ]
  },
  {
   "cell_type": "code",
   "execution_count": 38,
   "metadata": {},
   "outputs": [
    {
     "name": "stdout",
     "output_type": "stream",
     "text": [
      "0    1.0\n",
      "1    NaN\n",
      "2    3.0\n",
      "3    4.0\n",
      "4    NaN\n",
      "5    6.0\n",
      "dtype: float64\n",
      "0    1.0\n",
      "2    3.0\n",
      "3    4.0\n",
      "5    6.0\n",
      "dtype: float64\n"
     ]
    }
   ],
   "source": [
    "# 결측치 삭제 : dropna()\n",
    "s = pd.Series([1, np.nan, 3, 4, np.nan, 6])\n",
    "print(s)\n",
    "\n",
    "s = s.dropna()\n",
    "print(s)\n"
   ]
  },
  {
   "cell_type": "markdown",
   "metadata": {},
   "source": [
    "## 날짜와 문자열 데이터 다루기 \n",
    "\n",
    "\n",
    "- Python의 datetime모듈\n",
    "\n",
    ">date : 연, 월, 일\n",
    "\n",
    ">time : 시간, 분, 초, 마이크로초(백만분의 1초)\n",
    "\n",
    ">datetime : date와 time요소\n",
    "\n",
    "- Pandas의 Timestamp\n",
    "\n",
    ">날짜와 시간 모두 포함 : 나노초(10억분의 1초) 단위의 정밀도\n",
    "\n",
    "\n",
    "- timedelta\n",
    "\n",
    ">날짜의 덧셈과 뺄셈에 유용\n",
    "\n"
   ]
  },
  {
   "cell_type": "markdown",
   "metadata": {},
   "source": [
    "### 특정 날짜를 기준으로 DataFrame생성해 보기 "
   ]
  },
  {
   "cell_type": "code",
   "execution_count": 40,
   "metadata": {},
   "outputs": [
    {
     "data": {
      "text/plain": [
       "DatetimeIndex(['2021-06-28', '2021-06-29', '2021-06-30', '2021-07-01',\n",
       "               '2021-07-02', '2021-07-03'],\n",
       "              dtype='datetime64[ns]', freq='D')"
      ]
     },
     "execution_count": 40,
     "metadata": {},
     "output_type": "execute_result"
    }
   ],
   "source": [
    "# 6일치의 날짜, 데이터 생성\n",
    "# date_range(시작일, 범위) : 시작일로부터 해당 범위날짜까지 자동 생성\n",
    "datas = pd.date_range('20210628', periods=6)\n",
    "datas"
   ]
  },
  {
   "cell_type": "markdown",
   "metadata": {},
   "source": [
    "**날짜를 index로 적용해서 DataFrame 객체 생성**"
   ]
  },
  {
   "cell_type": "code",
   "execution_count": 44,
   "metadata": {},
   "outputs": [
    {
     "data": {
      "text/plain": [
       "pandas.core.indexes.datetimes.DatetimeIndex"
      ]
     },
     "execution_count": 44,
     "metadata": {},
     "output_type": "execute_result"
    }
   ],
   "source": [
    "type(datas)"
   ]
  },
  {
   "cell_type": "code",
   "execution_count": 61,
   "metadata": {},
   "outputs": [
    {
     "data": {
      "text/plain": [
       "array([[-0.53301118, -0.52850025,  0.19081051],\n",
       "       [-0.20840396,  0.2113991 , -0.36897902]])"
      ]
     },
     "execution_count": 61,
     "metadata": {},
     "output_type": "execute_result"
    }
   ],
   "source": [
    "# 6by4  : 6행 4열 구조의 DataFrame 생성, 데이터는 자동 생성되는 난수값 활용\n",
    "\n",
    "# 실수의 난수 발생 함수\n",
    "np.random.randn(2, 3)"
   ]
  },
  {
   "cell_type": "code",
   "execution_count": 59,
   "metadata": {},
   "outputs": [
    {
     "data": {
      "text/plain": [
       "6"
      ]
     },
     "execution_count": 59,
     "metadata": {},
     "output_type": "execute_result"
    }
   ],
   "source": [
    "# 정수의 난수 발생 함수(0~11까지)\n",
    "np.random.randint(12)"
   ]
  },
  {
   "cell_type": "code",
   "execution_count": 77,
   "metadata": {},
   "outputs": [
    {
     "data": {
      "text/plain": [
       "2"
      ]
     },
     "execution_count": 77,
     "metadata": {},
     "output_type": "execute_result"
    }
   ],
   "source": [
    "# randn() :  구조 포함한 난수 발생\n",
    "# randint() : 범위에 해당하는 하나의 정수값만 발생\n",
    "\n",
    "np.random.randint(2 ,3)   # 2 - 3이전까지의 정수 난수 발생"
   ]
  },
  {
   "cell_type": "code",
   "execution_count": 79,
   "metadata": {},
   "outputs": [
    {
     "data": {
      "text/html": [
       "<div>\n",
       "<style scoped>\n",
       "    .dataframe tbody tr th:only-of-type {\n",
       "        vertical-align: middle;\n",
       "    }\n",
       "\n",
       "    .dataframe tbody tr th {\n",
       "        vertical-align: top;\n",
       "    }\n",
       "\n",
       "    .dataframe thead th {\n",
       "        text-align: right;\n",
       "    }\n",
       "</style>\n",
       "<table border=\"1\" class=\"dataframe\">\n",
       "  <thead>\n",
       "    <tr style=\"text-align: right;\">\n",
       "      <th></th>\n",
       "      <th>0</th>\n",
       "      <th>1</th>\n",
       "      <th>2</th>\n",
       "      <th>3</th>\n",
       "    </tr>\n",
       "  </thead>\n",
       "  <tbody>\n",
       "    <tr>\n",
       "      <th>2021-06-28</th>\n",
       "      <td>0.521691</td>\n",
       "      <td>-0.213015</td>\n",
       "      <td>0.263896</td>\n",
       "      <td>0.209402</td>\n",
       "    </tr>\n",
       "    <tr>\n",
       "      <th>2021-06-29</th>\n",
       "      <td>-0.361497</td>\n",
       "      <td>-0.310209</td>\n",
       "      <td>1.576226</td>\n",
       "      <td>-1.876283</td>\n",
       "    </tr>\n",
       "    <tr>\n",
       "      <th>2021-06-30</th>\n",
       "      <td>1.356905</td>\n",
       "      <td>-1.036921</td>\n",
       "      <td>0.146845</td>\n",
       "      <td>-1.822982</td>\n",
       "    </tr>\n",
       "    <tr>\n",
       "      <th>2021-07-01</th>\n",
       "      <td>-0.228236</td>\n",
       "      <td>-0.075285</td>\n",
       "      <td>-1.378638</td>\n",
       "      <td>-0.330138</td>\n",
       "    </tr>\n",
       "    <tr>\n",
       "      <th>2021-07-02</th>\n",
       "      <td>-1.010123</td>\n",
       "      <td>-0.000454</td>\n",
       "      <td>1.902103</td>\n",
       "      <td>1.977331</td>\n",
       "    </tr>\n",
       "    <tr>\n",
       "      <th>2021-07-03</th>\n",
       "      <td>-0.297875</td>\n",
       "      <td>-0.714168</td>\n",
       "      <td>1.285406</td>\n",
       "      <td>0.767105</td>\n",
       "    </tr>\n",
       "  </tbody>\n",
       "</table>\n",
       "</div>"
      ],
      "text/plain": [
       "                   0         1         2         3\n",
       "2021-06-28  0.521691 -0.213015  0.263896  0.209402\n",
       "2021-06-29 -0.361497 -0.310209  1.576226 -1.876283\n",
       "2021-06-30  1.356905 -1.036921  0.146845 -1.822982\n",
       "2021-07-01 -0.228236 -0.075285 -1.378638 -0.330138\n",
       "2021-07-02 -1.010123 -0.000454  1.902103  1.977331\n",
       "2021-07-03 -0.297875 -0.714168  1.285406  0.767105"
      ]
     },
     "execution_count": 79,
     "metadata": {},
     "output_type": "execute_result"
    }
   ],
   "source": [
    "# 6행 4열의 구조로 날짜를 보유한 datas 변수값을 index로 구성하는  DataFrame 객체\n",
    "\n",
    "# Pandas로 데이터 처리시에는 Numpy 모듈을필수\n",
    "\n",
    "df = pd.DataFrame(np.random.randn(6, 4), index=datas)\n",
    "df"
   ]
  },
  {
   "cell_type": "code",
   "execution_count": 81,
   "metadata": {},
   "outputs": [
    {
     "data": {
      "text/html": [
       "<div>\n",
       "<style scoped>\n",
       "    .dataframe tbody tr th:only-of-type {\n",
       "        vertical-align: middle;\n",
       "    }\n",
       "\n",
       "    .dataframe tbody tr th {\n",
       "        vertical-align: top;\n",
       "    }\n",
       "\n",
       "    .dataframe thead th {\n",
       "        text-align: right;\n",
       "    }\n",
       "</style>\n",
       "<table border=\"1\" class=\"dataframe\">\n",
       "  <thead>\n",
       "    <tr style=\"text-align: right;\">\n",
       "      <th></th>\n",
       "      <th>a</th>\n",
       "      <th>b</th>\n",
       "      <th>c</th>\n",
       "      <th>d</th>\n",
       "    </tr>\n",
       "  </thead>\n",
       "  <tbody>\n",
       "    <tr>\n",
       "      <th>2021-06-28</th>\n",
       "      <td>1.164638</td>\n",
       "      <td>-0.351942</td>\n",
       "      <td>-0.318904</td>\n",
       "      <td>-0.345312</td>\n",
       "    </tr>\n",
       "    <tr>\n",
       "      <th>2021-06-29</th>\n",
       "      <td>0.320817</td>\n",
       "      <td>-2.553037</td>\n",
       "      <td>-0.693545</td>\n",
       "      <td>0.175388</td>\n",
       "    </tr>\n",
       "    <tr>\n",
       "      <th>2021-06-30</th>\n",
       "      <td>0.602542</td>\n",
       "      <td>-1.865399</td>\n",
       "      <td>1.285543</td>\n",
       "      <td>-0.531536</td>\n",
       "    </tr>\n",
       "    <tr>\n",
       "      <th>2021-07-01</th>\n",
       "      <td>0.072562</td>\n",
       "      <td>0.691708</td>\n",
       "      <td>-0.009590</td>\n",
       "      <td>0.236834</td>\n",
       "    </tr>\n",
       "    <tr>\n",
       "      <th>2021-07-02</th>\n",
       "      <td>-0.920264</td>\n",
       "      <td>-0.657040</td>\n",
       "      <td>-0.678975</td>\n",
       "      <td>-1.685601</td>\n",
       "    </tr>\n",
       "    <tr>\n",
       "      <th>2021-07-03</th>\n",
       "      <td>-0.878590</td>\n",
       "      <td>-0.479164</td>\n",
       "      <td>-0.950027</td>\n",
       "      <td>0.224658</td>\n",
       "    </tr>\n",
       "  </tbody>\n",
       "</table>\n",
       "</div>"
      ],
      "text/plain": [
       "                   a         b         c         d\n",
       "2021-06-28  1.164638 -0.351942 -0.318904 -0.345312\n",
       "2021-06-29  0.320817 -2.553037 -0.693545  0.175388\n",
       "2021-06-30  0.602542 -1.865399  1.285543 -0.531536\n",
       "2021-07-01  0.072562  0.691708 -0.009590  0.236834\n",
       "2021-07-02 -0.920264 -0.657040 -0.678975 -1.685601\n",
       "2021-07-03 -0.878590 -0.479164 -0.950027  0.224658"
      ]
     },
     "execution_count": 81,
     "metadata": {},
     "output_type": "execute_result"
    }
   ],
   "source": [
    "# 컬럼명 가공\n",
    "\n",
    "df = pd.DataFrame(np.random.randn(6, 4), index=datas,\n",
    "                  columns=['a', 'b', 'c', 'd'])\n",
    "df"
   ]
  },
  {
   "cell_type": "code",
   "execution_count": 85,
   "metadata": {},
   "outputs": [
    {
     "data": {
      "text/plain": [
       "array([[ 1.16463805, -0.35194155, -0.3189044 , -0.34531165],\n",
       "       [ 0.32081722, -2.55303663, -0.69354533,  0.17538757],\n",
       "       [ 0.60254185, -1.86539935,  1.28554347, -0.53153573],\n",
       "       [ 0.07256177,  0.69170764, -0.00958963,  0.23683439],\n",
       "       [-0.9202636 , -0.65703969, -0.67897473, -1.6856014 ],\n",
       "       [-0.87858972, -0.47916395, -0.95002697,  0.22465806]])"
      ]
     },
     "execution_count": 85,
     "metadata": {},
     "output_type": "execute_result"
    }
   ],
   "source": [
    "# df의 value\n",
    "df.values"
   ]
  },
  {
   "cell_type": "code",
   "execution_count": 86,
   "metadata": {},
   "outputs": [
    {
     "data": {
      "text/plain": [
       "DatetimeIndex(['2021-06-28', '2021-06-29', '2021-06-30', '2021-07-01',\n",
       "               '2021-07-02', '2021-07-03'],\n",
       "              dtype='datetime64[ns]', freq='D')"
      ]
     },
     "execution_count": 86,
     "metadata": {},
     "output_type": "execute_result"
    }
   ],
   "source": [
    "# df의 index\n",
    "df.index"
   ]
  },
  {
   "cell_type": "code",
   "execution_count": 88,
   "metadata": {},
   "outputs": [
    {
     "data": {
      "text/plain": [
       "Index(['a', 'b', 'c', 'd'], dtype='object')"
      ]
     },
     "execution_count": 88,
     "metadata": {},
     "output_type": "execute_result"
    }
   ],
   "source": [
    "# df의 columns\n",
    "df.columns"
   ]
  },
  {
   "cell_type": "code",
   "execution_count": 90,
   "metadata": {},
   "outputs": [
    {
     "name": "stdout",
     "output_type": "stream",
     "text": [
      "<class 'pandas.core.frame.DataFrame'>\n",
      "DatetimeIndex: 6 entries, 2021-06-28 to 2021-07-03\n",
      "Freq: D\n",
      "Data columns (total 4 columns):\n",
      " #   Column  Non-Null Count  Dtype  \n",
      "---  ------  --------------  -----  \n",
      " 0   a       6 non-null      float64\n",
      " 1   b       6 non-null      float64\n",
      " 2   c       6 non-null      float64\n",
      " 3   d       6 non-null      float64\n",
      "dtypes: float64(4)\n",
      "memory usage: 240.0 bytes\n"
     ]
    }
   ],
   "source": [
    "# 차후에 ML(머신러닝),DL(데이터러닝?)시에 데이터 구조를 한눈에 자주 보아야 함\n",
    "\n",
    "df.info()"
   ]
  },
  {
   "cell_type": "code",
   "execution_count": 92,
   "metadata": {},
   "outputs": [
    {
     "data": {
      "text/html": [
       "<div>\n",
       "<style scoped>\n",
       "    .dataframe tbody tr th:only-of-type {\n",
       "        vertical-align: middle;\n",
       "    }\n",
       "\n",
       "    .dataframe tbody tr th {\n",
       "        vertical-align: top;\n",
       "    }\n",
       "\n",
       "    .dataframe thead th {\n",
       "        text-align: right;\n",
       "    }\n",
       "</style>\n",
       "<table border=\"1\" class=\"dataframe\">\n",
       "  <thead>\n",
       "    <tr style=\"text-align: right;\">\n",
       "      <th></th>\n",
       "      <th>a</th>\n",
       "      <th>b</th>\n",
       "      <th>c</th>\n",
       "      <th>d</th>\n",
       "    </tr>\n",
       "  </thead>\n",
       "  <tbody>\n",
       "    <tr>\n",
       "      <th>count</th>\n",
       "      <td>6.000000</td>\n",
       "      <td>6.000000</td>\n",
       "      <td>6.000000</td>\n",
       "      <td>6.000000</td>\n",
       "    </tr>\n",
       "    <tr>\n",
       "      <th>mean</th>\n",
       "      <td>0.060284</td>\n",
       "      <td>-0.869146</td>\n",
       "      <td>-0.227583</td>\n",
       "      <td>-0.320928</td>\n",
       "    </tr>\n",
       "    <tr>\n",
       "      <th>std</th>\n",
       "      <td>0.827602</td>\n",
       "      <td>1.160073</td>\n",
       "      <td>0.810952</td>\n",
       "      <td>0.743287</td>\n",
       "    </tr>\n",
       "    <tr>\n",
       "      <th>min</th>\n",
       "      <td>-0.920264</td>\n",
       "      <td>-2.553037</td>\n",
       "      <td>-0.950027</td>\n",
       "      <td>-1.685601</td>\n",
       "    </tr>\n",
       "    <tr>\n",
       "      <th>25%</th>\n",
       "      <td>-0.640802</td>\n",
       "      <td>-1.563309</td>\n",
       "      <td>-0.689903</td>\n",
       "      <td>-0.484980</td>\n",
       "    </tr>\n",
       "    <tr>\n",
       "      <th>50%</th>\n",
       "      <td>0.196689</td>\n",
       "      <td>-0.568102</td>\n",
       "      <td>-0.498940</td>\n",
       "      <td>-0.084962</td>\n",
       "    </tr>\n",
       "    <tr>\n",
       "      <th>75%</th>\n",
       "      <td>0.532111</td>\n",
       "      <td>-0.383747</td>\n",
       "      <td>-0.086918</td>\n",
       "      <td>0.212340</td>\n",
       "    </tr>\n",
       "    <tr>\n",
       "      <th>max</th>\n",
       "      <td>1.164638</td>\n",
       "      <td>0.691708</td>\n",
       "      <td>1.285543</td>\n",
       "      <td>0.236834</td>\n",
       "    </tr>\n",
       "  </tbody>\n",
       "</table>\n",
       "</div>"
      ],
      "text/plain": [
       "              a         b         c         d\n",
       "count  6.000000  6.000000  6.000000  6.000000\n",
       "mean   0.060284 -0.869146 -0.227583 -0.320928\n",
       "std    0.827602  1.160073  0.810952  0.743287\n",
       "min   -0.920264 -2.553037 -0.950027 -1.685601\n",
       "25%   -0.640802 -1.563309 -0.689903 -0.484980\n",
       "50%    0.196689 -0.568102 -0.498940 -0.084962\n",
       "75%    0.532111 -0.383747 -0.086918  0.212340\n",
       "max    1.164638  0.691708  1.285543  0.236834"
      ]
     },
     "execution_count": 92,
     "metadata": {},
     "output_type": "execute_result"
    }
   ],
   "source": [
    "# 기초통계 확인 가능한 함수\n",
    "# 가령 빌게이츠 급여가 포함된 동네 주민의 급여들이 활용데이터라 할 경우\n",
    "# 이상치? 결측치? 확인을 위해서 기초 통계를 보고  max()에서 빌게이츠 급여와 75% 지점 갭이 \n",
    "# 너무 크면 이상하다(이상치)로 간주하는 분석 기법도 있음\n",
    "\n",
    "df.describe()\n"
   ]
  },
  {
   "cell_type": "code",
   "execution_count": 93,
   "metadata": {},
   "outputs": [
    {
     "data": {
      "text/html": [
       "<div>\n",
       "<style scoped>\n",
       "    .dataframe tbody tr th:only-of-type {\n",
       "        vertical-align: middle;\n",
       "    }\n",
       "\n",
       "    .dataframe tbody tr th {\n",
       "        vertical-align: top;\n",
       "    }\n",
       "\n",
       "    .dataframe thead th {\n",
       "        text-align: right;\n",
       "    }\n",
       "</style>\n",
       "<table border=\"1\" class=\"dataframe\">\n",
       "  <thead>\n",
       "    <tr style=\"text-align: right;\">\n",
       "      <th></th>\n",
       "      <th>a</th>\n",
       "      <th>b</th>\n",
       "      <th>c</th>\n",
       "      <th>d</th>\n",
       "    </tr>\n",
       "  </thead>\n",
       "  <tbody>\n",
       "    <tr>\n",
       "      <th>2021-06-28</th>\n",
       "      <td>1.321231</td>\n",
       "      <td>-0.589168</td>\n",
       "      <td>-1.066446</td>\n",
       "      <td>0.112580</td>\n",
       "    </tr>\n",
       "    <tr>\n",
       "      <th>2021-06-29</th>\n",
       "      <td>1.221925</td>\n",
       "      <td>-0.482155</td>\n",
       "      <td>0.292517</td>\n",
       "      <td>-1.622621</td>\n",
       "    </tr>\n",
       "    <tr>\n",
       "      <th>2021-06-30</th>\n",
       "      <td>0.262097</td>\n",
       "      <td>1.317760</td>\n",
       "      <td>-0.958715</td>\n",
       "      <td>2.559832</td>\n",
       "    </tr>\n",
       "    <tr>\n",
       "      <th>2021-07-01</th>\n",
       "      <td>-0.244387</td>\n",
       "      <td>1.019444</td>\n",
       "      <td>0.175718</td>\n",
       "      <td>-2.594205</td>\n",
       "    </tr>\n",
       "    <tr>\n",
       "      <th>2021-07-02</th>\n",
       "      <td>1.037910</td>\n",
       "      <td>-0.018358</td>\n",
       "      <td>0.607609</td>\n",
       "      <td>0.508705</td>\n",
       "    </tr>\n",
       "    <tr>\n",
       "      <th>2021-07-03</th>\n",
       "      <td>-1.074677</td>\n",
       "      <td>-0.557977</td>\n",
       "      <td>-1.259721</td>\n",
       "      <td>-1.613394</td>\n",
       "    </tr>\n",
       "  </tbody>\n",
       "</table>\n",
       "</div>"
      ],
      "text/plain": [
       "                   a         b         c         d\n",
       "2021-06-28  1.321231 -0.589168 -1.066446  0.112580\n",
       "2021-06-29  1.221925 -0.482155  0.292517 -1.622621\n",
       "2021-06-30  0.262097  1.317760 -0.958715  2.559832\n",
       "2021-07-01 -0.244387  1.019444  0.175718 -2.594205\n",
       "2021-07-02  1.037910 -0.018358  0.607609  0.508705\n",
       "2021-07-03 -1.074677 -0.557977 -1.259721 -1.613394"
      ]
     },
     "execution_count": 93,
     "metadata": {},
     "output_type": "execute_result"
    }
   ],
   "source": [
    "df = pd.DataFrame(np.random.randn(6, 4), index=datas,\n",
    "                  columns=['a', 'b', 'c', 'd'])\n",
    "df"
   ]
  },
  {
   "cell_type": "code",
   "execution_count": 96,
   "metadata": {},
   "outputs": [
    {
     "data": {
      "text/html": [
       "<div>\n",
       "<style scoped>\n",
       "    .dataframe tbody tr th:only-of-type {\n",
       "        vertical-align: middle;\n",
       "    }\n",
       "\n",
       "    .dataframe tbody tr th {\n",
       "        vertical-align: top;\n",
       "    }\n",
       "\n",
       "    .dataframe thead th {\n",
       "        text-align: right;\n",
       "    }\n",
       "</style>\n",
       "<table border=\"1\" class=\"dataframe\">\n",
       "  <thead>\n",
       "    <tr style=\"text-align: right;\">\n",
       "      <th></th>\n",
       "      <th>a</th>\n",
       "      <th>b</th>\n",
       "      <th>c</th>\n",
       "      <th>d</th>\n",
       "    </tr>\n",
       "  </thead>\n",
       "  <tbody>\n",
       "    <tr>\n",
       "      <th>2021-06-30</th>\n",
       "      <td>0.262097</td>\n",
       "      <td>1.317760</td>\n",
       "      <td>-0.958715</td>\n",
       "      <td>2.559832</td>\n",
       "    </tr>\n",
       "    <tr>\n",
       "      <th>2021-07-01</th>\n",
       "      <td>-0.244387</td>\n",
       "      <td>1.019444</td>\n",
       "      <td>0.175718</td>\n",
       "      <td>-2.594205</td>\n",
       "    </tr>\n",
       "    <tr>\n",
       "      <th>2021-07-02</th>\n",
       "      <td>1.037910</td>\n",
       "      <td>-0.018358</td>\n",
       "      <td>0.607609</td>\n",
       "      <td>0.508705</td>\n",
       "    </tr>\n",
       "    <tr>\n",
       "      <th>2021-06-29</th>\n",
       "      <td>1.221925</td>\n",
       "      <td>-0.482155</td>\n",
       "      <td>0.292517</td>\n",
       "      <td>-1.622621</td>\n",
       "    </tr>\n",
       "    <tr>\n",
       "      <th>2021-07-03</th>\n",
       "      <td>-1.074677</td>\n",
       "      <td>-0.557977</td>\n",
       "      <td>-1.259721</td>\n",
       "      <td>-1.613394</td>\n",
       "    </tr>\n",
       "    <tr>\n",
       "      <th>2021-06-28</th>\n",
       "      <td>1.321231</td>\n",
       "      <td>-0.589168</td>\n",
       "      <td>-1.066446</td>\n",
       "      <td>0.112580</td>\n",
       "    </tr>\n",
       "  </tbody>\n",
       "</table>\n",
       "</div>"
      ],
      "text/plain": [
       "                   a         b         c         d\n",
       "2021-06-30  0.262097  1.317760 -0.958715  2.559832\n",
       "2021-07-01 -0.244387  1.019444  0.175718 -2.594205\n",
       "2021-07-02  1.037910 -0.018358  0.607609  0.508705\n",
       "2021-06-29  1.221925 -0.482155  0.292517 -1.622621\n",
       "2021-07-03 -1.074677 -0.557977 -1.259721 -1.613394\n",
       "2021-06-28  1.321231 -0.589168 -1.066446  0.112580"
      ]
     },
     "execution_count": 96,
     "metadata": {},
     "output_type": "execute_result"
    }
   ],
   "source": [
    "# b 컬럼에 대한 오름차순 정렬 설정\n",
    "# 오름차순 : ascending=True\n",
    "# 내림차순 : ascending=False\n",
    "\n",
    "df.sort_values(by='b', ascending=False)"
   ]
  },
  {
   "cell_type": "code",
   "execution_count": 105,
   "metadata": {},
   "outputs": [
    {
     "data": {
      "text/plain": [
       "2021-06-28    1.321231\n",
       "2021-06-29    1.221925\n",
       "2021-06-30    0.262097\n",
       "2021-07-01   -0.244387\n",
       "2021-07-02    1.037910\n",
       "2021-07-03   -1.074677\n",
       "Freq: D, Name: a, dtype: float64"
      ]
     },
     "execution_count": 105,
     "metadata": {},
     "output_type": "execute_result"
    }
   ],
   "source": [
    "# 특정 컬럼들 값만 도출해보자\n",
    "# [] 연산자와 컬럼명으로 컬럼 도출\n",
    "\n",
    "df['a']\n",
    "\n"
   ]
  },
  {
   "cell_type": "code",
   "execution_count": 106,
   "metadata": {},
   "outputs": [
    {
     "data": {
      "text/plain": [
       "2021-06-28    1.321231\n",
       "2021-06-29    1.221925\n",
       "2021-06-30    0.262097\n",
       "2021-07-01   -0.244387\n",
       "2021-07-02    1.037910\n",
       "2021-07-03   -1.074677\n",
       "Freq: D, Name: a, dtype: float64"
      ]
     },
     "execution_count": 106,
     "metadata": {},
     "output_type": "execute_result"
    }
   ],
   "source": [
    "# dot 연산자를 활용하여 특정 컬럼 검색\n",
    "df.a"
   ]
  },
  {
   "cell_type": "code",
   "execution_count": 103,
   "metadata": {},
   "outputs": [
    {
     "ename": "KeyError",
     "evalue": "('a', 'b')",
     "output_type": "error",
     "traceback": [
      "\u001b[1;31m---------------------------------------------------------------------------\u001b[0m",
      "\u001b[1;31mKeyError\u001b[0m                                  Traceback (most recent call last)",
      "\u001b[1;32m~\\anaconda3\\lib\\site-packages\\pandas\\core\\indexes\\base.py\u001b[0m in \u001b[0;36mget_loc\u001b[1;34m(self, key, method, tolerance)\u001b[0m\n\u001b[0;32m   2894\u001b[0m             \u001b[1;32mtry\u001b[0m\u001b[1;33m:\u001b[0m\u001b[1;33m\u001b[0m\u001b[1;33m\u001b[0m\u001b[0m\n\u001b[1;32m-> 2895\u001b[1;33m                 \u001b[1;32mreturn\u001b[0m \u001b[0mself\u001b[0m\u001b[1;33m.\u001b[0m\u001b[0m_engine\u001b[0m\u001b[1;33m.\u001b[0m\u001b[0mget_loc\u001b[0m\u001b[1;33m(\u001b[0m\u001b[0mcasted_key\u001b[0m\u001b[1;33m)\u001b[0m\u001b[1;33m\u001b[0m\u001b[1;33m\u001b[0m\u001b[0m\n\u001b[0m\u001b[0;32m   2896\u001b[0m             \u001b[1;32mexcept\u001b[0m \u001b[0mKeyError\u001b[0m \u001b[1;32mas\u001b[0m \u001b[0merr\u001b[0m\u001b[1;33m:\u001b[0m\u001b[1;33m\u001b[0m\u001b[1;33m\u001b[0m\u001b[0m\n",
      "\u001b[1;32mpandas\\_libs\\index.pyx\u001b[0m in \u001b[0;36mpandas._libs.index.IndexEngine.get_loc\u001b[1;34m()\u001b[0m\n",
      "\u001b[1;32mpandas\\_libs\\index.pyx\u001b[0m in \u001b[0;36mpandas._libs.index.IndexEngine.get_loc\u001b[1;34m()\u001b[0m\n",
      "\u001b[1;32mpandas\\_libs\\hashtable_class_helper.pxi\u001b[0m in \u001b[0;36mpandas._libs.hashtable.PyObjectHashTable.get_item\u001b[1;34m()\u001b[0m\n",
      "\u001b[1;32mpandas\\_libs\\hashtable_class_helper.pxi\u001b[0m in \u001b[0;36mpandas._libs.hashtable.PyObjectHashTable.get_item\u001b[1;34m()\u001b[0m\n",
      "\u001b[1;31mKeyError\u001b[0m: ('a', 'b')",
      "\nThe above exception was the direct cause of the following exception:\n",
      "\u001b[1;31mKeyError\u001b[0m                                  Traceback (most recent call last)",
      "\u001b[1;32m<ipython-input-103-8fa5ad5a23e2>\u001b[0m in \u001b[0;36m<module>\u001b[1;34m\u001b[0m\n\u001b[1;32m----> 1\u001b[1;33m \u001b[0mdf\u001b[0m\u001b[1;33m[\u001b[0m\u001b[1;34m'a'\u001b[0m\u001b[1;33m,\u001b[0m \u001b[1;34m'b'\u001b[0m\u001b[1;33m]\u001b[0m\u001b[1;33m\u001b[0m\u001b[1;33m\u001b[0m\u001b[0m\n\u001b[0m",
      "\u001b[1;32m~\\anaconda3\\lib\\site-packages\\pandas\\core\\frame.py\u001b[0m in \u001b[0;36m__getitem__\u001b[1;34m(self, key)\u001b[0m\n\u001b[0;32m   2900\u001b[0m             \u001b[1;32mif\u001b[0m \u001b[0mself\u001b[0m\u001b[1;33m.\u001b[0m\u001b[0mcolumns\u001b[0m\u001b[1;33m.\u001b[0m\u001b[0mnlevels\u001b[0m \u001b[1;33m>\u001b[0m \u001b[1;36m1\u001b[0m\u001b[1;33m:\u001b[0m\u001b[1;33m\u001b[0m\u001b[1;33m\u001b[0m\u001b[0m\n\u001b[0;32m   2901\u001b[0m                 \u001b[1;32mreturn\u001b[0m \u001b[0mself\u001b[0m\u001b[1;33m.\u001b[0m\u001b[0m_getitem_multilevel\u001b[0m\u001b[1;33m(\u001b[0m\u001b[0mkey\u001b[0m\u001b[1;33m)\u001b[0m\u001b[1;33m\u001b[0m\u001b[1;33m\u001b[0m\u001b[0m\n\u001b[1;32m-> 2902\u001b[1;33m             \u001b[0mindexer\u001b[0m \u001b[1;33m=\u001b[0m \u001b[0mself\u001b[0m\u001b[1;33m.\u001b[0m\u001b[0mcolumns\u001b[0m\u001b[1;33m.\u001b[0m\u001b[0mget_loc\u001b[0m\u001b[1;33m(\u001b[0m\u001b[0mkey\u001b[0m\u001b[1;33m)\u001b[0m\u001b[1;33m\u001b[0m\u001b[1;33m\u001b[0m\u001b[0m\n\u001b[0m\u001b[0;32m   2903\u001b[0m             \u001b[1;32mif\u001b[0m \u001b[0mis_integer\u001b[0m\u001b[1;33m(\u001b[0m\u001b[0mindexer\u001b[0m\u001b[1;33m)\u001b[0m\u001b[1;33m:\u001b[0m\u001b[1;33m\u001b[0m\u001b[1;33m\u001b[0m\u001b[0m\n\u001b[0;32m   2904\u001b[0m                 \u001b[0mindexer\u001b[0m \u001b[1;33m=\u001b[0m \u001b[1;33m[\u001b[0m\u001b[0mindexer\u001b[0m\u001b[1;33m]\u001b[0m\u001b[1;33m\u001b[0m\u001b[1;33m\u001b[0m\u001b[0m\n",
      "\u001b[1;32m~\\anaconda3\\lib\\site-packages\\pandas\\core\\indexes\\base.py\u001b[0m in \u001b[0;36mget_loc\u001b[1;34m(self, key, method, tolerance)\u001b[0m\n\u001b[0;32m   2895\u001b[0m                 \u001b[1;32mreturn\u001b[0m \u001b[0mself\u001b[0m\u001b[1;33m.\u001b[0m\u001b[0m_engine\u001b[0m\u001b[1;33m.\u001b[0m\u001b[0mget_loc\u001b[0m\u001b[1;33m(\u001b[0m\u001b[0mcasted_key\u001b[0m\u001b[1;33m)\u001b[0m\u001b[1;33m\u001b[0m\u001b[1;33m\u001b[0m\u001b[0m\n\u001b[0;32m   2896\u001b[0m             \u001b[1;32mexcept\u001b[0m \u001b[0mKeyError\u001b[0m \u001b[1;32mas\u001b[0m \u001b[0merr\u001b[0m\u001b[1;33m:\u001b[0m\u001b[1;33m\u001b[0m\u001b[1;33m\u001b[0m\u001b[0m\n\u001b[1;32m-> 2897\u001b[1;33m                 \u001b[1;32mraise\u001b[0m \u001b[0mKeyError\u001b[0m\u001b[1;33m(\u001b[0m\u001b[0mkey\u001b[0m\u001b[1;33m)\u001b[0m \u001b[1;32mfrom\u001b[0m \u001b[0merr\u001b[0m\u001b[1;33m\u001b[0m\u001b[1;33m\u001b[0m\u001b[0m\n\u001b[0m\u001b[0;32m   2898\u001b[0m \u001b[1;33m\u001b[0m\u001b[0m\n\u001b[0;32m   2899\u001b[0m         \u001b[1;32mif\u001b[0m \u001b[0mtolerance\u001b[0m \u001b[1;32mis\u001b[0m \u001b[1;32mnot\u001b[0m \u001b[1;32mNone\u001b[0m\u001b[1;33m:\u001b[0m\u001b[1;33m\u001b[0m\u001b[1;33m\u001b[0m\u001b[0m\n",
      "\u001b[1;31mKeyError\u001b[0m: ('a', 'b')"
     ]
    }
   ],
   "source": [
    "df['a', 'b']   # error"
   ]
  },
  {
   "cell_type": "code",
   "execution_count": 107,
   "metadata": {},
   "outputs": [
    {
     "data": {
      "text/html": [
       "<div>\n",
       "<style scoped>\n",
       "    .dataframe tbody tr th:only-of-type {\n",
       "        vertical-align: middle;\n",
       "    }\n",
       "\n",
       "    .dataframe tbody tr th {\n",
       "        vertical-align: top;\n",
       "    }\n",
       "\n",
       "    .dataframe thead th {\n",
       "        text-align: right;\n",
       "    }\n",
       "</style>\n",
       "<table border=\"1\" class=\"dataframe\">\n",
       "  <thead>\n",
       "    <tr style=\"text-align: right;\">\n",
       "      <th></th>\n",
       "      <th>a</th>\n",
       "      <th>b</th>\n",
       "    </tr>\n",
       "  </thead>\n",
       "  <tbody>\n",
       "    <tr>\n",
       "      <th>2021-06-28</th>\n",
       "      <td>1.321231</td>\n",
       "      <td>-0.589168</td>\n",
       "    </tr>\n",
       "    <tr>\n",
       "      <th>2021-06-29</th>\n",
       "      <td>1.221925</td>\n",
       "      <td>-0.482155</td>\n",
       "    </tr>\n",
       "    <tr>\n",
       "      <th>2021-06-30</th>\n",
       "      <td>0.262097</td>\n",
       "      <td>1.317760</td>\n",
       "    </tr>\n",
       "    <tr>\n",
       "      <th>2021-07-01</th>\n",
       "      <td>-0.244387</td>\n",
       "      <td>1.019444</td>\n",
       "    </tr>\n",
       "    <tr>\n",
       "      <th>2021-07-02</th>\n",
       "      <td>1.037910</td>\n",
       "      <td>-0.018358</td>\n",
       "    </tr>\n",
       "    <tr>\n",
       "      <th>2021-07-03</th>\n",
       "      <td>-1.074677</td>\n",
       "      <td>-0.557977</td>\n",
       "    </tr>\n",
       "  </tbody>\n",
       "</table>\n",
       "</div>"
      ],
      "text/plain": [
       "                   a         b\n",
       "2021-06-28  1.321231 -0.589168\n",
       "2021-06-29  1.221925 -0.482155\n",
       "2021-06-30  0.262097  1.317760\n",
       "2021-07-01 -0.244387  1.019444\n",
       "2021-07-02  1.037910 -0.018358\n",
       "2021-07-03 -1.074677 -0.557977"
      ]
     },
     "execution_count": 107,
     "metadata": {},
     "output_type": "execute_result"
    }
   ],
   "source": [
    "# 하나 이상의 컬럼들은 list 구조로 적용\n",
    "# df[] : x=특정 컬럼을 도출함을 의미하는 문법\n",
    "# ['a', 'b'] :  a와 b 컬럼을 의미\n",
    "# 다중 컬럼 검색시에는 반드시 list로 변환해서 작업\n",
    "\n",
    "df[ ['a', 'b'] ]"
   ]
  },
  {
   "cell_type": "code",
   "execution_count": 109,
   "metadata": {},
   "outputs": [
    {
     "data": {
      "text/plain": [
       "DatetimeIndex(['2021-06-28', '2021-06-29', '2021-06-30', '2021-07-01',\n",
       "               '2021-07-02', '2021-07-03'],\n",
       "              dtype='datetime64[ns]', freq='D')"
      ]
     },
     "execution_count": 109,
     "metadata": {},
     "output_type": "execute_result"
    }
   ],
   "source": [
    "# index로 데이터 검색(도출)\n",
    "df.index"
   ]
  },
  {
   "cell_type": "code",
   "execution_count": 111,
   "metadata": {},
   "outputs": [
    {
     "data": {
      "text/html": [
       "<div>\n",
       "<style scoped>\n",
       "    .dataframe tbody tr th:only-of-type {\n",
       "        vertical-align: middle;\n",
       "    }\n",
       "\n",
       "    .dataframe tbody tr th {\n",
       "        vertical-align: top;\n",
       "    }\n",
       "\n",
       "    .dataframe thead th {\n",
       "        text-align: right;\n",
       "    }\n",
       "</style>\n",
       "<table border=\"1\" class=\"dataframe\">\n",
       "  <thead>\n",
       "    <tr style=\"text-align: right;\">\n",
       "      <th></th>\n",
       "      <th>a</th>\n",
       "      <th>b</th>\n",
       "      <th>c</th>\n",
       "      <th>d</th>\n",
       "    </tr>\n",
       "  </thead>\n",
       "  <tbody>\n",
       "    <tr>\n",
       "      <th>2021-06-28</th>\n",
       "      <td>1.321231</td>\n",
       "      <td>-0.589168</td>\n",
       "      <td>-1.066446</td>\n",
       "      <td>0.112580</td>\n",
       "    </tr>\n",
       "    <tr>\n",
       "      <th>2021-06-29</th>\n",
       "      <td>1.221925</td>\n",
       "      <td>-0.482155</td>\n",
       "      <td>0.292517</td>\n",
       "      <td>-1.622621</td>\n",
       "    </tr>\n",
       "    <tr>\n",
       "      <th>2021-06-30</th>\n",
       "      <td>0.262097</td>\n",
       "      <td>1.317760</td>\n",
       "      <td>-0.958715</td>\n",
       "      <td>2.559832</td>\n",
       "    </tr>\n",
       "    <tr>\n",
       "      <th>2021-07-01</th>\n",
       "      <td>-0.244387</td>\n",
       "      <td>1.019444</td>\n",
       "      <td>0.175718</td>\n",
       "      <td>-2.594205</td>\n",
       "    </tr>\n",
       "  </tbody>\n",
       "</table>\n",
       "</div>"
      ],
      "text/plain": [
       "                   a         b         c         d\n",
       "2021-06-28  1.321231 -0.589168 -1.066446  0.112580\n",
       "2021-06-29  1.221925 -0.482155  0.292517 -1.622621\n",
       "2021-06-30  0.262097  1.317760 -0.958715  2.559832\n",
       "2021-07-01 -0.244387  1.019444  0.175718 -2.594205"
      ]
     },
     "execution_count": 111,
     "metadata": {},
     "output_type": "execute_result"
    }
   ],
   "source": [
    "# : 을 기준으로 slicing해서 데이터 도출\n",
    "# index 명으로 \n",
    "\n",
    "df['2021-06-28' : '2021-07-01']  # 시작일:끝일자"
   ]
  },
  {
   "cell_type": "code",
   "execution_count": 113,
   "metadata": {},
   "outputs": [
    {
     "data": {
      "text/html": [
       "<div>\n",
       "<style scoped>\n",
       "    .dataframe tbody tr th:only-of-type {\n",
       "        vertical-align: middle;\n",
       "    }\n",
       "\n",
       "    .dataframe tbody tr th {\n",
       "        vertical-align: top;\n",
       "    }\n",
       "\n",
       "    .dataframe thead th {\n",
       "        text-align: right;\n",
       "    }\n",
       "</style>\n",
       "<table border=\"1\" class=\"dataframe\">\n",
       "  <thead>\n",
       "    <tr style=\"text-align: right;\">\n",
       "      <th></th>\n",
       "      <th>a</th>\n",
       "      <th>b</th>\n",
       "      <th>c</th>\n",
       "      <th>d</th>\n",
       "    </tr>\n",
       "  </thead>\n",
       "  <tbody>\n",
       "    <tr>\n",
       "      <th>2021-06-28</th>\n",
       "      <td>1.321231</td>\n",
       "      <td>-0.589168</td>\n",
       "      <td>-1.066446</td>\n",
       "      <td>0.112580</td>\n",
       "    </tr>\n",
       "    <tr>\n",
       "      <th>2021-06-29</th>\n",
       "      <td>1.221925</td>\n",
       "      <td>-0.482155</td>\n",
       "      <td>0.292517</td>\n",
       "      <td>-1.622621</td>\n",
       "    </tr>\n",
       "    <tr>\n",
       "      <th>2021-06-30</th>\n",
       "      <td>0.262097</td>\n",
       "      <td>1.317760</td>\n",
       "      <td>-0.958715</td>\n",
       "      <td>2.559832</td>\n",
       "    </tr>\n",
       "    <tr>\n",
       "      <th>2021-07-01</th>\n",
       "      <td>-0.244387</td>\n",
       "      <td>1.019444</td>\n",
       "      <td>0.175718</td>\n",
       "      <td>-2.594205</td>\n",
       "    </tr>\n",
       "  </tbody>\n",
       "</table>\n",
       "</div>"
      ],
      "text/plain": [
       "                   a         b         c         d\n",
       "2021-06-28  1.321231 -0.589168 -1.066446  0.112580\n",
       "2021-06-29  1.221925 -0.482155  0.292517 -1.622621\n",
       "2021-06-30  0.262097  1.317760 -0.958715  2.559832\n",
       "2021-07-01 -0.244387  1.019444  0.175718 -2.594205"
      ]
     },
     "execution_count": 113,
     "metadata": {},
     "output_type": "execute_result"
    }
   ],
   "source": [
    "# index의 위치값인 순번(index)으로 데이터 도출\n",
    "# 0 부터 4-1 = 3ㅇ 즉 4 이전까지 의미\n",
    "df[0:4]"
   ]
  },
  {
   "cell_type": "code",
   "execution_count": 121,
   "metadata": {},
   "outputs": [
    {
     "data": {
      "text/html": [
       "<div>\n",
       "<style scoped>\n",
       "    .dataframe tbody tr th:only-of-type {\n",
       "        vertical-align: middle;\n",
       "    }\n",
       "\n",
       "    .dataframe tbody tr th {\n",
       "        vertical-align: top;\n",
       "    }\n",
       "\n",
       "    .dataframe thead th {\n",
       "        text-align: right;\n",
       "    }\n",
       "</style>\n",
       "<table border=\"1\" class=\"dataframe\">\n",
       "  <thead>\n",
       "    <tr style=\"text-align: right;\">\n",
       "      <th></th>\n",
       "      <th>a</th>\n",
       "      <th>b</th>\n",
       "    </tr>\n",
       "  </thead>\n",
       "  <tbody>\n",
       "    <tr>\n",
       "      <th>2021-06-28</th>\n",
       "      <td>1.321231</td>\n",
       "      <td>-0.589168</td>\n",
       "    </tr>\n",
       "    <tr>\n",
       "      <th>2021-06-29</th>\n",
       "      <td>1.221925</td>\n",
       "      <td>-0.482155</td>\n",
       "    </tr>\n",
       "  </tbody>\n",
       "</table>\n",
       "</div>"
      ],
      "text/plain": [
       "                   a         b\n",
       "2021-06-28  1.321231 -0.589168\n",
       "2021-06-29  1.221925 -0.482155"
      ]
     },
     "execution_count": 121,
     "metadata": {},
     "output_type": "execute_result"
    }
   ],
   "source": [
    "# iloc 라는 속성을 통해서 검색 - index location의 약어\n",
    "# iloc[index, columns]\n",
    "\n",
    "df.iloc[0:2, 0:2]"
   ]
  },
  {
   "cell_type": "code",
   "execution_count": 122,
   "metadata": {},
   "outputs": [
    {
     "name": "stdout",
     "output_type": "stream",
     "text": [
      " C 드라이브의 볼륨에는 이름이 없습니다.\n",
      " 볼륨 일련 번호: 0A95-6BBF\n",
      "\n",
      " C:\\210510datascience\\07.pythonLID 디렉터리\n",
      "\n",
      "2021-06-28  오후 12:41    <DIR>          .\n",
      "2021-06-28  오후 12:41    <DIR>          ..\n",
      "2021-06-28  오후 12:31    <DIR>          .ipynb_checkpoints\n",
      "2021-06-28  오후 12:04         1,177,088 0628pandas수업내용.hwp\n",
      "2021-06-28  오전 11:20             1,799 0628_학습내용.txt\n",
      "2021-06-28  오전 10:13    <DIR>          dataset\n",
      "2021-06-28  오후 12:41            63,136 step01_PandasBasic_s.ipynb\n",
      "2021-06-28  오후 12:31            26,947 step02_PandasReview_s.ipynb\n",
      "               4개 파일           1,268,970 바이트\n",
      "               4개 디렉터리  30,391,181,312 바이트 남음\n"
     ]
    }
   ],
   "source": [
    "!dir"
   ]
  },
  {
   "cell_type": "markdown",
   "metadata": {},
   "source": [
    "### file로 부터 데이터 read해서 date 타입 이해하기"
   ]
  },
  {
   "cell_type": "code",
   "execution_count": 125,
   "metadata": {},
   "outputs": [
    {
     "data": {
      "text/html": [
       "<div>\n",
       "<style scoped>\n",
       "    .dataframe tbody tr th:only-of-type {\n",
       "        vertical-align: middle;\n",
       "    }\n",
       "\n",
       "    .dataframe tbody tr th {\n",
       "        vertical-align: top;\n",
       "    }\n",
       "\n",
       "    .dataframe thead th {\n",
       "        text-align: right;\n",
       "    }\n",
       "</style>\n",
       "<table border=\"1\" class=\"dataframe\">\n",
       "  <thead>\n",
       "    <tr style=\"text-align: right;\">\n",
       "      <th></th>\n",
       "      <th>Name</th>\n",
       "      <th>Birth</th>\n",
       "      <th>email</th>\n",
       "    </tr>\n",
       "  </thead>\n",
       "  <tbody>\n",
       "    <tr>\n",
       "      <th>0</th>\n",
       "      <td>이순신</td>\n",
       "      <td>2021-01-01 9:10</td>\n",
       "      <td>happy@gmail.com</td>\n",
       "    </tr>\n",
       "    <tr>\n",
       "      <th>1</th>\n",
       "      <td>홍길동</td>\n",
       "      <td>2021-01-08 9:20</td>\n",
       "      <td>1004@NAVER.COM</td>\n",
       "    </tr>\n",
       "    <tr>\n",
       "      <th>2</th>\n",
       "      <td>유관순</td>\n",
       "      <td>2021-02-01 10:20</td>\n",
       "      <td>Iron at yahoo.co.kr</td>\n",
       "    </tr>\n",
       "    <tr>\n",
       "      <th>3</th>\n",
       "      <td>이이</td>\n",
       "      <td>2021-02-02 11:40</td>\n",
       "      <td>\\tlee@gmail.com</td>\n",
       "    </tr>\n",
       "    <tr>\n",
       "      <th>4</th>\n",
       "      <td>김구</td>\n",
       "      <td>2021-02-28 15:10</td>\n",
       "      <td>kim@daum.net\\t</td>\n",
       "    </tr>\n",
       "    <tr>\n",
       "      <th>5</th>\n",
       "      <td>윤봉길</td>\n",
       "      <td>2021-04-10 19:20</td>\n",
       "      <td>yeon@daum.ac.kr</td>\n",
       "    </tr>\n",
       "    <tr>\n",
       "      <th>6</th>\n",
       "      <td>강감찬</td>\n",
       "      <td>2021-06-30 21:20</td>\n",
       "      <td>kkc@gmail.com</td>\n",
       "    </tr>\n",
       "    <tr>\n",
       "      <th>7</th>\n",
       "      <td>신사임당</td>\n",
       "      <td>2021-07-20 23:30</td>\n",
       "      <td>monther@NAVER.COM</td>\n",
       "    </tr>\n",
       "    <tr>\n",
       "      <th>8</th>\n",
       "      <td>을지문덕</td>\n",
       "      <td>2021-08-28 11:48</td>\n",
       "      <td>ygmd@daum.net</td>\n",
       "    </tr>\n",
       "    <tr>\n",
       "      <th>9</th>\n",
       "      <td>유재석</td>\n",
       "      <td>2021-09-01 3:12</td>\n",
       "      <td>yjs at gmail.com</td>\n",
       "    </tr>\n",
       "  </tbody>\n",
       "</table>\n",
       "</div>"
      ],
      "text/plain": [
       "   Name             Birth                  email\n",
       "0   이순신   2021-01-01 9:10       happy@gmail.com \n",
       "1   홍길동   2021-01-08 9:20         1004@NAVER.COM\n",
       "2   유관순  2021-02-01 10:20   Iron at yahoo.co.kr \n",
       "3    이이  2021-02-02 11:40        \\tlee@gmail.com\n",
       "4    김구  2021-02-28 15:10         kim@daum.net\\t\n",
       "5   윤봉길  2021-04-10 19:20        yeon@daum.ac.kr\n",
       "6   강감찬  2021-06-30 21:20          kkc@gmail.com\n",
       "7  신사임당  2021-07-20 23:30     monther@NAVER.COM \n",
       "8  을지문덕  2021-08-28 11:48          ygmd@daum.net\n",
       "9   유재석   2021-09-01 3:12       yjs at gmail.com"
      ]
     },
     "execution_count": 125,
     "metadata": {},
     "output_type": "execute_result"
    }
   ],
   "source": [
    "# 01.date_data.csv\n",
    "# csv 파일의 내용을 read하면서 DataFrame 객체로 생성\n",
    "# DataFrame 객체의 장점은 다양한 함수가 있기때문에 조작 및 정제 가능\n",
    "\n",
    "# 가정사항 :  csv 파일은 제공받음, 단 raw는 보존, 정제 및 분석을 위해서는 최적인 상태로 가공 및\n",
    "\n",
    "# 문제점 찾기 - \\t?, at?\n",
    "\n",
    "\n",
    "\n",
    "# 사용 빈도가 매우 높음\n",
    "df = pd.read_csv('dataset/01.date_data.csv')\n",
    "df"
   ]
  },
  {
   "cell_type": "code",
   "execution_count": 126,
   "metadata": {},
   "outputs": [
    {
     "name": "stdout",
     "output_type": "stream",
     "text": [
      "<class 'pandas.core.frame.DataFrame'>\n",
      "RangeIndex: 10 entries, 0 to 9\n",
      "Data columns (total 3 columns):\n",
      " #   Column  Non-Null Count  Dtype \n",
      "---  ------  --------------  ----- \n",
      " 0   Name    10 non-null     object\n",
      " 1   Birth   10 non-null     object\n",
      " 2   email   10 non-null     object\n",
      "dtypes: object(3)\n",
      "memory usage: 368.0+ bytes\n"
     ]
    }
   ],
   "source": [
    "# dtypes : 문자열 타입을 object타입으로 표현\n",
    "df.info()"
   ]
  },
  {
   "cell_type": "code",
   "execution_count": 127,
   "metadata": {},
   "outputs": [
    {
     "data": {
      "text/html": [
       "<div>\n",
       "<style scoped>\n",
       "    .dataframe tbody tr th:only-of-type {\n",
       "        vertical-align: middle;\n",
       "    }\n",
       "\n",
       "    .dataframe tbody tr th {\n",
       "        vertical-align: top;\n",
       "    }\n",
       "\n",
       "    .dataframe thead th {\n",
       "        text-align: right;\n",
       "    }\n",
       "</style>\n",
       "<table border=\"1\" class=\"dataframe\">\n",
       "  <thead>\n",
       "    <tr style=\"text-align: right;\">\n",
       "      <th></th>\n",
       "      <th>Name</th>\n",
       "      <th>Birth</th>\n",
       "      <th>email</th>\n",
       "    </tr>\n",
       "  </thead>\n",
       "  <tbody>\n",
       "    <tr>\n",
       "      <th>0</th>\n",
       "      <td>이순신</td>\n",
       "      <td>2021-01-01 9:10</td>\n",
       "      <td>happy@gmail.com</td>\n",
       "    </tr>\n",
       "    <tr>\n",
       "      <th>1</th>\n",
       "      <td>홍길동</td>\n",
       "      <td>2021-01-08 9:20</td>\n",
       "      <td>1004@NAVER.COM</td>\n",
       "    </tr>\n",
       "    <tr>\n",
       "      <th>2</th>\n",
       "      <td>유관순</td>\n",
       "      <td>2021-02-01 10:20</td>\n",
       "      <td>Iron at yahoo.co.kr</td>\n",
       "    </tr>\n",
       "    <tr>\n",
       "      <th>3</th>\n",
       "      <td>이이</td>\n",
       "      <td>2021-02-02 11:40</td>\n",
       "      <td>\\tlee@gmail.com</td>\n",
       "    </tr>\n",
       "    <tr>\n",
       "      <th>4</th>\n",
       "      <td>김구</td>\n",
       "      <td>2021-02-28 15:10</td>\n",
       "      <td>kim@daum.net\\t</td>\n",
       "    </tr>\n",
       "    <tr>\n",
       "      <th>5</th>\n",
       "      <td>윤봉길</td>\n",
       "      <td>2021-04-10 19:20</td>\n",
       "      <td>yeon@daum.ac.kr</td>\n",
       "    </tr>\n",
       "    <tr>\n",
       "      <th>6</th>\n",
       "      <td>강감찬</td>\n",
       "      <td>2021-06-30 21:20</td>\n",
       "      <td>kkc@gmail.com</td>\n",
       "    </tr>\n",
       "    <tr>\n",
       "      <th>7</th>\n",
       "      <td>신사임당</td>\n",
       "      <td>2021-07-20 23:30</td>\n",
       "      <td>monther@NAVER.COM</td>\n",
       "    </tr>\n",
       "    <tr>\n",
       "      <th>8</th>\n",
       "      <td>을지문덕</td>\n",
       "      <td>2021-08-28 11:48</td>\n",
       "      <td>ygmd@daum.net</td>\n",
       "    </tr>\n",
       "    <tr>\n",
       "      <th>9</th>\n",
       "      <td>유재석</td>\n",
       "      <td>2021-09-01 3:12</td>\n",
       "      <td>yjs at gmail.com</td>\n",
       "    </tr>\n",
       "  </tbody>\n",
       "</table>\n",
       "</div>"
      ],
      "text/plain": [
       "   Name             Birth                  email\n",
       "0   이순신   2021-01-01 9:10       happy@gmail.com \n",
       "1   홍길동   2021-01-08 9:20         1004@NAVER.COM\n",
       "2   유관순  2021-02-01 10:20   Iron at yahoo.co.kr \n",
       "3    이이  2021-02-02 11:40        \\tlee@gmail.com\n",
       "4    김구  2021-02-28 15:10         kim@daum.net\\t\n",
       "5   윤봉길  2021-04-10 19:20        yeon@daum.ac.kr\n",
       "6   강감찬  2021-06-30 21:20          kkc@gmail.com\n",
       "7  신사임당  2021-07-20 23:30     monther@NAVER.COM \n",
       "8  을지문덕  2021-08-28 11:48          ygmd@daum.net\n",
       "9   유재석   2021-09-01 3:12       yjs at gmail.com"
      ]
     },
     "execution_count": 127,
     "metadata": {},
     "output_type": "execute_result"
    }
   ],
   "source": [
    "df"
   ]
  },
  {
   "cell_type": "code",
   "execution_count": 128,
   "metadata": {},
   "outputs": [
    {
     "data": {
      "text/plain": [
       "Index(['Name', 'Birth', 'email'], dtype='object')"
      ]
     },
     "execution_count": 128,
     "metadata": {},
     "output_type": "execute_result"
    }
   ],
   "source": [
    "# format='%Y-%m-%d %H:%M:%S'\n",
    "\n",
    "df.columns"
   ]
  },
  {
   "cell_type": "code",
   "execution_count": 129,
   "metadata": {},
   "outputs": [
    {
     "data": {
      "text/plain": [
       "array([['이순신', '2021-01-01 9:10', 'happy@gmail.com '],\n",
       "       ['홍길동', '2021-01-08 9:20', '  1004@NAVER.COM'],\n",
       "       ['유관순', '2021-02-01 10:20', ' Iron at yahoo.co.kr '],\n",
       "       ['이이', '2021-02-02 11:40', '\\tlee@gmail.com'],\n",
       "       ['김구', '2021-02-28 15:10', 'kim@daum.net\\t'],\n",
       "       ['윤봉길', '2021-04-10 19:20', 'yeon@daum.ac.kr'],\n",
       "       ['강감찬', '2021-06-30 21:20', 'kkc@gmail.com'],\n",
       "       ['신사임당', '2021-07-20 23:30', 'monther@NAVER.COM '],\n",
       "       ['을지문덕', '2021-08-28 11:48', '    ygmd@daum.net'],\n",
       "       ['유재석', '2021-09-01 3:12', 'yjs at gmail.com']], dtype=object)"
      ]
     },
     "execution_count": 129,
     "metadata": {},
     "output_type": "execute_result"
    }
   ],
   "source": [
    "df.values"
   ]
  },
  {
   "cell_type": "code",
   "execution_count": 130,
   "metadata": {},
   "outputs": [
    {
     "data": {
      "text/plain": [
       "RangeIndex(start=0, stop=10, step=1)"
      ]
     },
     "execution_count": 130,
     "metadata": {},
     "output_type": "execute_result"
    }
   ],
   "source": [
    "df.index"
   ]
  },
  {
   "cell_type": "code",
   "execution_count": 131,
   "metadata": {},
   "outputs": [
    {
     "data": {
      "text/plain": [
       "0     2021-01-01 9:10\n",
       "1     2021-01-08 9:20\n",
       "2    2021-02-01 10:20\n",
       "3    2021-02-02 11:40\n",
       "4    2021-02-28 15:10\n",
       "5    2021-04-10 19:20\n",
       "6    2021-06-30 21:20\n",
       "7    2021-07-20 23:30\n",
       "8    2021-08-28 11:48\n",
       "9     2021-09-01 3:12\n",
       "Name: Birth, dtype: object"
      ]
     },
     "execution_count": 131,
     "metadata": {},
     "output_type": "execute_result"
    }
   ],
   "source": [
    "df['Birth']"
   ]
  },
  {
   "cell_type": "code",
   "execution_count": 134,
   "metadata": {},
   "outputs": [
    {
     "data": {
      "text/plain": [
       "0     2021-01-01 9:10\n",
       "1     2021-01-08 9:20\n",
       "2    2021-02-01 10:20\n",
       "3    2021-02-02 11:40\n",
       "4    2021-02-28 15:10\n",
       "5    2021-04-10 19:20\n",
       "6    2021-06-30 21:20\n",
       "7    2021-07-20 23:30\n",
       "8    2021-08-28 11:48\n",
       "9     2021-09-01 3:12\n",
       "Name: Birth, dtype: object"
      ]
     },
     "execution_count": 134,
     "metadata": {},
     "output_type": "execute_result"
    }
   ],
   "source": [
    "df.Birth"
   ]
  },
  {
   "cell_type": "code",
   "execution_count": 135,
   "metadata": {},
   "outputs": [
    {
     "data": {
      "text/html": [
       "<div>\n",
       "<style scoped>\n",
       "    .dataframe tbody tr th:only-of-type {\n",
       "        vertical-align: middle;\n",
       "    }\n",
       "\n",
       "    .dataframe tbody tr th {\n",
       "        vertical-align: top;\n",
       "    }\n",
       "\n",
       "    .dataframe thead th {\n",
       "        text-align: right;\n",
       "    }\n",
       "</style>\n",
       "<table border=\"1\" class=\"dataframe\">\n",
       "  <thead>\n",
       "    <tr style=\"text-align: right;\">\n",
       "      <th></th>\n",
       "      <th>Name</th>\n",
       "      <th>Birth</th>\n",
       "      <th>email</th>\n",
       "    </tr>\n",
       "  </thead>\n",
       "  <tbody>\n",
       "    <tr>\n",
       "      <th>0</th>\n",
       "      <td>이순신</td>\n",
       "      <td>2021-01-01 09:10:00</td>\n",
       "      <td>happy@gmail.com</td>\n",
       "    </tr>\n",
       "    <tr>\n",
       "      <th>1</th>\n",
       "      <td>홍길동</td>\n",
       "      <td>2021-01-08 09:20:00</td>\n",
       "      <td>1004@NAVER.COM</td>\n",
       "    </tr>\n",
       "    <tr>\n",
       "      <th>2</th>\n",
       "      <td>유관순</td>\n",
       "      <td>2021-02-01 10:20:00</td>\n",
       "      <td>Iron at yahoo.co.kr</td>\n",
       "    </tr>\n",
       "    <tr>\n",
       "      <th>3</th>\n",
       "      <td>이이</td>\n",
       "      <td>2021-02-02 11:40:00</td>\n",
       "      <td>\\tlee@gmail.com</td>\n",
       "    </tr>\n",
       "    <tr>\n",
       "      <th>4</th>\n",
       "      <td>김구</td>\n",
       "      <td>2021-02-28 15:10:00</td>\n",
       "      <td>kim@daum.net\\t</td>\n",
       "    </tr>\n",
       "    <tr>\n",
       "      <th>5</th>\n",
       "      <td>윤봉길</td>\n",
       "      <td>2021-04-10 19:20:00</td>\n",
       "      <td>yeon@daum.ac.kr</td>\n",
       "    </tr>\n",
       "    <tr>\n",
       "      <th>6</th>\n",
       "      <td>강감찬</td>\n",
       "      <td>2021-06-30 21:20:00</td>\n",
       "      <td>kkc@gmail.com</td>\n",
       "    </tr>\n",
       "    <tr>\n",
       "      <th>7</th>\n",
       "      <td>신사임당</td>\n",
       "      <td>2021-07-20 23:30:00</td>\n",
       "      <td>monther@NAVER.COM</td>\n",
       "    </tr>\n",
       "    <tr>\n",
       "      <th>8</th>\n",
       "      <td>을지문덕</td>\n",
       "      <td>2021-08-28 11:48:00</td>\n",
       "      <td>ygmd@daum.net</td>\n",
       "    </tr>\n",
       "    <tr>\n",
       "      <th>9</th>\n",
       "      <td>유재석</td>\n",
       "      <td>2021-09-01 03:12:00</td>\n",
       "      <td>yjs at gmail.com</td>\n",
       "    </tr>\n",
       "  </tbody>\n",
       "</table>\n",
       "</div>"
      ],
      "text/plain": [
       "   Name               Birth                  email\n",
       "0   이순신 2021-01-01 09:10:00       happy@gmail.com \n",
       "1   홍길동 2021-01-08 09:20:00         1004@NAVER.COM\n",
       "2   유관순 2021-02-01 10:20:00   Iron at yahoo.co.kr \n",
       "3    이이 2021-02-02 11:40:00        \\tlee@gmail.com\n",
       "4    김구 2021-02-28 15:10:00         kim@daum.net\\t\n",
       "5   윤봉길 2021-04-10 19:20:00        yeon@daum.ac.kr\n",
       "6   강감찬 2021-06-30 21:20:00          kkc@gmail.com\n",
       "7  신사임당 2021-07-20 23:30:00     monther@NAVER.COM \n",
       "8  을지문덕 2021-08-28 11:48:00          ygmd@daum.net\n",
       "9   유재석 2021-09-01 03:12:00       yjs at gmail.com"
      ]
     },
     "execution_count": 135,
     "metadata": {},
     "output_type": "execute_result"
    }
   ],
   "source": [
    "# object 즉 문자열 타입의 datetime 타입으로 변환하는 구조\n",
    "\n",
    "df['Birth'] = pd.to_datetime(df['Birth'], format='%Y-%m-%d %H:%M:%S')\n",
    "df"
   ]
  },
  {
   "cell_type": "code",
   "execution_count": 137,
   "metadata": {},
   "outputs": [
    {
     "name": "stdout",
     "output_type": "stream",
     "text": [
      "<class 'pandas.core.frame.DataFrame'>\n",
      "RangeIndex: 10 entries, 0 to 9\n",
      "Data columns (total 3 columns):\n",
      " #   Column  Non-Null Count  Dtype         \n",
      "---  ------  --------------  -----         \n",
      " 0   Name    10 non-null     object        \n",
      " 1   Birth   10 non-null     datetime64[ns]\n",
      " 2   email   10 non-null     object        \n",
      "dtypes: datetime64[ns](1), object(2)\n",
      "memory usage: 368.0+ bytes\n"
     ]
    }
   ],
   "source": [
    "df.info()"
   ]
  },
  {
   "cell_type": "code",
   "execution_count": 139,
   "metadata": {},
   "outputs": [
    {
     "data": {
      "text/plain": [
       "0   2021-01-01 09:10:00\n",
       "1   2021-01-08 09:20:00\n",
       "2   2021-02-01 10:20:00\n",
       "3   2021-02-02 11:40:00\n",
       "4   2021-02-28 15:10:00\n",
       "5   2021-04-10 19:20:00\n",
       "6   2021-06-30 21:20:00\n",
       "7   2021-07-20 23:30:00\n",
       "8   2021-08-28 11:48:00\n",
       "9   2021-09-01 03:12:00\n",
       "Name: Birth, dtype: datetime64[ns]"
      ]
     },
     "execution_count": 139,
     "metadata": {},
     "output_type": "execute_result"
    }
   ],
   "source": [
    "df['Birth']"
   ]
  },
  {
   "cell_type": "code",
   "execution_count": 141,
   "metadata": {},
   "outputs": [
    {
     "data": {
      "text/plain": [
       "0   731 days 09:10:00\n",
       "1   738 days 09:20:00\n",
       "2   762 days 10:20:00\n",
       "3   763 days 11:40:00\n",
       "4   789 days 15:10:00\n",
       "5   830 days 19:20:00\n",
       "6   911 days 21:20:00\n",
       "7   931 days 23:30:00\n",
       "8   970 days 11:48:00\n",
       "9   974 days 03:12:00\n",
       "Name: Birth, dtype: timedelta64[ns]"
      ]
     },
     "execution_count": 141,
     "metadata": {},
     "output_type": "execute_result"
    }
   ],
   "source": [
    "# 2019-01-01 : 문자열\n",
    "# pd.to_datetime('2019-01-01') : 문자열을 datetime 즉 날짜 관한 타입으로 변환\n",
    "# - : 경과일\n",
    "\n",
    "eday = df['Birth'] - pd.to_datetime('2019-01-01')\n",
    "eday"
   ]
  },
  {
   "cell_type": "code",
   "execution_count": null,
   "metadata": {},
   "outputs": [],
   "source": []
  },
  {
   "cell_type": "markdown",
   "metadata": {},
   "source": [
    "###  경과일 계산\n",
    "\n",
    "- timedelta64[??]\n",
    "  - Y : 연 \n",
    "  - M : 월 \n",
    "  - D : 일 \n",
    "  - m : 분 \n",
    "  - s : 초"
   ]
  },
  {
   "cell_type": "code",
   "execution_count": 147,
   "metadata": {},
   "outputs": [
    {
     "data": {
      "text/plain": [
       "0    731.0\n",
       "1    738.0\n",
       "2    762.0\n",
       "3    763.0\n",
       "4    789.0\n",
       "5    830.0\n",
       "6    911.0\n",
       "7    931.0\n",
       "8    970.0\n",
       "9    974.0\n",
       "Name: Birth, dtype: float64"
      ]
     },
     "execution_count": 147,
     "metadata": {},
     "output_type": "execute_result"
    }
   ],
   "source": [
    "# 경과일을 day 즉 일을 기준으로 일 데이터만 도출\n",
    "# 아쉬운점 : 표현의미 없을 경우 삭제시도 astype()함수로 체이닝 기술 적용\n",
    "\n",
    "eday.astype('timedelta64[D]')"
   ]
  },
  {
   "cell_type": "code",
   "execution_count": 148,
   "metadata": {},
   "outputs": [
    {
     "data": {
      "text/plain": [
       "0    731\n",
       "1    738\n",
       "2    762\n",
       "3    763\n",
       "4    789\n",
       "5    830\n",
       "6    911\n",
       "7    931\n",
       "8    970\n",
       "9    974\n",
       "Name: Birth, dtype: int32"
      ]
     },
     "execution_count": 148,
     "metadata": {},
     "output_type": "execute_result"
    }
   ],
   "source": [
    "# 최종적으로 int로 정제\n",
    "eday.astype('timedelta64[D]').astype('int')"
   ]
  },
  {
   "cell_type": "markdown",
   "metadata": {},
   "source": [
    "## 인덱서(indexer)\n",
    "\n",
    "### iloc(index location)\n",
    "- 데이터 프레임의 부분집합 선택을 위한 도구\n",
    "- iloc는 정수로만 선택\n",
    "- 여러 개의 정수 위치를 선택하려면 리스트 전달\n",
    "- 동일한 간격으로 선택하려면 슬라이스 표기\n",
    "- iloc[index] or iloc[index, column]"
   ]
  },
  {
   "cell_type": "code",
   "execution_count": 149,
   "metadata": {},
   "outputs": [
    {
     "data": {
      "text/html": [
       "<div>\n",
       "<style scoped>\n",
       "    .dataframe tbody tr th:only-of-type {\n",
       "        vertical-align: middle;\n",
       "    }\n",
       "\n",
       "    .dataframe tbody tr th {\n",
       "        vertical-align: top;\n",
       "    }\n",
       "\n",
       "    .dataframe thead th {\n",
       "        text-align: right;\n",
       "    }\n",
       "</style>\n",
       "<table border=\"1\" class=\"dataframe\">\n",
       "  <thead>\n",
       "    <tr style=\"text-align: right;\">\n",
       "      <th></th>\n",
       "      <th>Name</th>\n",
       "      <th>Birth</th>\n",
       "      <th>email</th>\n",
       "    </tr>\n",
       "  </thead>\n",
       "  <tbody>\n",
       "    <tr>\n",
       "      <th>0</th>\n",
       "      <td>이순신</td>\n",
       "      <td>2021-01-01 9:10</td>\n",
       "      <td>happy@gmail.com</td>\n",
       "    </tr>\n",
       "    <tr>\n",
       "      <th>1</th>\n",
       "      <td>홍길동</td>\n",
       "      <td>2021-01-08 9:20</td>\n",
       "      <td>1004@NAVER.COM</td>\n",
       "    </tr>\n",
       "    <tr>\n",
       "      <th>2</th>\n",
       "      <td>유관순</td>\n",
       "      <td>2021-02-01 10:20</td>\n",
       "      <td>Iron at yahoo.co.kr</td>\n",
       "    </tr>\n",
       "    <tr>\n",
       "      <th>3</th>\n",
       "      <td>이이</td>\n",
       "      <td>2021-02-02 11:40</td>\n",
       "      <td>\\tlee@gmail.com</td>\n",
       "    </tr>\n",
       "    <tr>\n",
       "      <th>4</th>\n",
       "      <td>김구</td>\n",
       "      <td>2021-02-28 15:10</td>\n",
       "      <td>kim@daum.net\\t</td>\n",
       "    </tr>\n",
       "    <tr>\n",
       "      <th>5</th>\n",
       "      <td>윤봉길</td>\n",
       "      <td>2021-04-10 19:20</td>\n",
       "      <td>yeon@daum.ac.kr</td>\n",
       "    </tr>\n",
       "    <tr>\n",
       "      <th>6</th>\n",
       "      <td>강감찬</td>\n",
       "      <td>2021-06-30 21:20</td>\n",
       "      <td>kkc@gmail.com</td>\n",
       "    </tr>\n",
       "    <tr>\n",
       "      <th>7</th>\n",
       "      <td>신사임당</td>\n",
       "      <td>2021-07-20 23:30</td>\n",
       "      <td>monther@NAVER.COM</td>\n",
       "    </tr>\n",
       "    <tr>\n",
       "      <th>8</th>\n",
       "      <td>을지문덕</td>\n",
       "      <td>2021-08-28 11:48</td>\n",
       "      <td>ygmd@daum.net</td>\n",
       "    </tr>\n",
       "    <tr>\n",
       "      <th>9</th>\n",
       "      <td>유재석</td>\n",
       "      <td>2021-09-01 3:12</td>\n",
       "      <td>yjs at gmail.com</td>\n",
       "    </tr>\n",
       "  </tbody>\n",
       "</table>\n",
       "</div>"
      ],
      "text/plain": [
       "   Name             Birth                  email\n",
       "0   이순신   2021-01-01 9:10       happy@gmail.com \n",
       "1   홍길동   2021-01-08 9:20         1004@NAVER.COM\n",
       "2   유관순  2021-02-01 10:20   Iron at yahoo.co.kr \n",
       "3    이이  2021-02-02 11:40        \\tlee@gmail.com\n",
       "4    김구  2021-02-28 15:10         kim@daum.net\\t\n",
       "5   윤봉길  2021-04-10 19:20        yeon@daum.ac.kr\n",
       "6   강감찬  2021-06-30 21:20          kkc@gmail.com\n",
       "7  신사임당  2021-07-20 23:30     monther@NAVER.COM \n",
       "8  을지문덕  2021-08-28 11:48          ygmd@daum.net\n",
       "9   유재석   2021-09-01 3:12       yjs at gmail.com"
      ]
     },
     "execution_count": 149,
     "metadata": {},
     "output_type": "execute_result"
    }
   ],
   "source": [
    "df = pd.read_csv('dataset/01.date_data.csv')\n",
    "df"
   ]
  },
  {
   "cell_type": "code",
   "execution_count": 150,
   "metadata": {},
   "outputs": [
    {
     "data": {
      "text/plain": [
       "Name                       유관순\n",
       "Birth         2021-02-01 10:20\n",
       "email     Iron at yahoo.co.kr \n",
       "Name: 2, dtype: object"
      ]
     },
     "execution_count": 150,
     "metadata": {},
     "output_type": "execute_result"
    }
   ],
   "source": [
    "df.iloc[2]"
   ]
  },
  {
   "cell_type": "code",
   "execution_count": 151,
   "metadata": {
    "scrolled": true
   },
   "outputs": [
    {
     "data": {
      "text/html": [
       "<div>\n",
       "<style scoped>\n",
       "    .dataframe tbody tr th:only-of-type {\n",
       "        vertical-align: middle;\n",
       "    }\n",
       "\n",
       "    .dataframe tbody tr th {\n",
       "        vertical-align: top;\n",
       "    }\n",
       "\n",
       "    .dataframe thead th {\n",
       "        text-align: right;\n",
       "    }\n",
       "</style>\n",
       "<table border=\"1\" class=\"dataframe\">\n",
       "  <thead>\n",
       "    <tr style=\"text-align: right;\">\n",
       "      <th></th>\n",
       "      <th>Name</th>\n",
       "      <th>Birth</th>\n",
       "      <th>email</th>\n",
       "    </tr>\n",
       "  </thead>\n",
       "  <tbody>\n",
       "    <tr>\n",
       "      <th>0</th>\n",
       "      <td>이순신</td>\n",
       "      <td>2021-01-01 9:10</td>\n",
       "      <td>happy@gmail.com</td>\n",
       "    </tr>\n",
       "    <tr>\n",
       "      <th>1</th>\n",
       "      <td>홍길동</td>\n",
       "      <td>2021-01-08 9:20</td>\n",
       "      <td>1004@NAVER.COM</td>\n",
       "    </tr>\n",
       "    <tr>\n",
       "      <th>2</th>\n",
       "      <td>유관순</td>\n",
       "      <td>2021-02-01 10:20</td>\n",
       "      <td>Iron at yahoo.co.kr</td>\n",
       "    </tr>\n",
       "    <tr>\n",
       "      <th>3</th>\n",
       "      <td>이이</td>\n",
       "      <td>2021-02-02 11:40</td>\n",
       "      <td>\\tlee@gmail.com</td>\n",
       "    </tr>\n",
       "    <tr>\n",
       "      <th>4</th>\n",
       "      <td>김구</td>\n",
       "      <td>2021-02-28 15:10</td>\n",
       "      <td>kim@daum.net\\t</td>\n",
       "    </tr>\n",
       "    <tr>\n",
       "      <th>5</th>\n",
       "      <td>윤봉길</td>\n",
       "      <td>2021-04-10 19:20</td>\n",
       "      <td>yeon@daum.ac.kr</td>\n",
       "    </tr>\n",
       "    <tr>\n",
       "      <th>6</th>\n",
       "      <td>강감찬</td>\n",
       "      <td>2021-06-30 21:20</td>\n",
       "      <td>kkc@gmail.com</td>\n",
       "    </tr>\n",
       "    <tr>\n",
       "      <th>7</th>\n",
       "      <td>신사임당</td>\n",
       "      <td>2021-07-20 23:30</td>\n",
       "      <td>monther@NAVER.COM</td>\n",
       "    </tr>\n",
       "    <tr>\n",
       "      <th>8</th>\n",
       "      <td>을지문덕</td>\n",
       "      <td>2021-08-28 11:48</td>\n",
       "      <td>ygmd@daum.net</td>\n",
       "    </tr>\n",
       "    <tr>\n",
       "      <th>9</th>\n",
       "      <td>유재석</td>\n",
       "      <td>2021-09-01 3:12</td>\n",
       "      <td>yjs at gmail.com</td>\n",
       "    </tr>\n",
       "  </tbody>\n",
       "</table>\n",
       "</div>"
      ],
      "text/plain": [
       "   Name             Birth                  email\n",
       "0   이순신   2021-01-01 9:10       happy@gmail.com \n",
       "1   홍길동   2021-01-08 9:20         1004@NAVER.COM\n",
       "2   유관순  2021-02-01 10:20   Iron at yahoo.co.kr \n",
       "3    이이  2021-02-02 11:40        \\tlee@gmail.com\n",
       "4    김구  2021-02-28 15:10         kim@daum.net\\t\n",
       "5   윤봉길  2021-04-10 19:20        yeon@daum.ac.kr\n",
       "6   강감찬  2021-06-30 21:20          kkc@gmail.com\n",
       "7  신사임당  2021-07-20 23:30     monther@NAVER.COM \n",
       "8  을지문덕  2021-08-28 11:48          ygmd@daum.net\n",
       "9   유재석   2021-09-01 3:12       yjs at gmail.com"
      ]
     },
     "execution_count": 151,
     "metadata": {},
     "output_type": "execute_result"
    }
   ],
   "source": [
    "df"
   ]
  },
  {
   "cell_type": "code",
   "execution_count": 152,
   "metadata": {},
   "outputs": [
    {
     "data": {
      "text/plain": [
       "'이순신'"
      ]
     },
     "execution_count": 152,
     "metadata": {},
     "output_type": "execute_result"
    }
   ],
   "source": [
    "df.iloc[0, 0]"
   ]
  },
  {
   "cell_type": "code",
   "execution_count": 159,
   "metadata": {},
   "outputs": [
    {
     "data": {
      "text/plain": [
       "1    홍길동\n",
       "2    유관순\n",
       "Name: Name, dtype: object"
      ]
     },
     "execution_count": 159,
     "metadata": {},
     "output_type": "execute_result"
    }
   ],
   "source": [
    "df.iloc[1:3, 0]"
   ]
  },
  {
   "cell_type": "code",
   "execution_count": 162,
   "metadata": {},
   "outputs": [
    {
     "data": {
      "text/plain": [
       "'kim@daum.net\\t'"
      ]
     },
     "execution_count": 162,
     "metadata": {},
     "output_type": "execute_result"
    }
   ],
   "source": [
    "df.iloc[4, 2]"
   ]
  },
  {
   "cell_type": "code",
   "execution_count": 163,
   "metadata": {},
   "outputs": [
    {
     "data": {
      "text/html": [
       "<div>\n",
       "<style scoped>\n",
       "    .dataframe tbody tr th:only-of-type {\n",
       "        vertical-align: middle;\n",
       "    }\n",
       "\n",
       "    .dataframe tbody tr th {\n",
       "        vertical-align: top;\n",
       "    }\n",
       "\n",
       "    .dataframe thead th {\n",
       "        text-align: right;\n",
       "    }\n",
       "</style>\n",
       "<table border=\"1\" class=\"dataframe\">\n",
       "  <thead>\n",
       "    <tr style=\"text-align: right;\">\n",
       "      <th></th>\n",
       "      <th>Name</th>\n",
       "      <th>Birth</th>\n",
       "      <th>email</th>\n",
       "    </tr>\n",
       "  </thead>\n",
       "  <tbody>\n",
       "    <tr>\n",
       "      <th>0</th>\n",
       "      <td>이순신</td>\n",
       "      <td>2021-01-01 9:10</td>\n",
       "      <td>happy@gmail.com</td>\n",
       "    </tr>\n",
       "    <tr>\n",
       "      <th>1</th>\n",
       "      <td>홍길동</td>\n",
       "      <td>2021-01-08 9:20</td>\n",
       "      <td>1004@NAVER.COM</td>\n",
       "    </tr>\n",
       "    <tr>\n",
       "      <th>2</th>\n",
       "      <td>유관순</td>\n",
       "      <td>2021-02-01 10:20</td>\n",
       "      <td>Iron at yahoo.co.kr</td>\n",
       "    </tr>\n",
       "    <tr>\n",
       "      <th>3</th>\n",
       "      <td>이이</td>\n",
       "      <td>2021-02-02 11:40</td>\n",
       "      <td>\\tlee@gmail.com</td>\n",
       "    </tr>\n",
       "    <tr>\n",
       "      <th>4</th>\n",
       "      <td>김구</td>\n",
       "      <td>2021-02-28 15:10</td>\n",
       "      <td>kim@daum.net\\t</td>\n",
       "    </tr>\n",
       "  </tbody>\n",
       "</table>\n",
       "</div>"
      ],
      "text/plain": [
       "  Name             Birth                  email\n",
       "0  이순신   2021-01-01 9:10       happy@gmail.com \n",
       "1  홍길동   2021-01-08 9:20         1004@NAVER.COM\n",
       "2  유관순  2021-02-01 10:20   Iron at yahoo.co.kr \n",
       "3   이이  2021-02-02 11:40        \\tlee@gmail.com\n",
       "4   김구  2021-02-28 15:10         kim@daum.net\\t"
      ]
     },
     "execution_count": 163,
     "metadata": {},
     "output_type": "execute_result"
    }
   ],
   "source": [
    "df.head()    # DataFrame의 앞 부분 역역 5개의 index 반환"
   ]
  },
  {
   "cell_type": "code",
   "execution_count": 164,
   "metadata": {},
   "outputs": [
    {
     "data": {
      "text/html": [
       "<div>\n",
       "<style scoped>\n",
       "    .dataframe tbody tr th:only-of-type {\n",
       "        vertical-align: middle;\n",
       "    }\n",
       "\n",
       "    .dataframe tbody tr th {\n",
       "        vertical-align: top;\n",
       "    }\n",
       "\n",
       "    .dataframe thead th {\n",
       "        text-align: right;\n",
       "    }\n",
       "</style>\n",
       "<table border=\"1\" class=\"dataframe\">\n",
       "  <thead>\n",
       "    <tr style=\"text-align: right;\">\n",
       "      <th></th>\n",
       "      <th>Name</th>\n",
       "      <th>Birth</th>\n",
       "      <th>email</th>\n",
       "    </tr>\n",
       "  </thead>\n",
       "  <tbody>\n",
       "    <tr>\n",
       "      <th>1</th>\n",
       "      <td>홍길동</td>\n",
       "      <td>2021-01-08 9:20</td>\n",
       "      <td>1004@NAVER.COM</td>\n",
       "    </tr>\n",
       "    <tr>\n",
       "      <th>2</th>\n",
       "      <td>유관순</td>\n",
       "      <td>2021-02-01 10:20</td>\n",
       "      <td>Iron at yahoo.co.kr</td>\n",
       "    </tr>\n",
       "  </tbody>\n",
       "</table>\n",
       "</div>"
      ],
      "text/plain": [
       "  Name             Birth                  email\n",
       "1  홍길동   2021-01-08 9:20         1004@NAVER.COM\n",
       "2  유관순  2021-02-01 10:20   Iron at yahoo.co.kr "
      ]
     },
     "execution_count": 164,
     "metadata": {},
     "output_type": "execute_result"
    }
   ],
   "source": [
    "# index 1~2 까지의 모든 컬럼 DataFrame 관점에서 시리즈 검색\n",
    "df.iloc[1:3, :]"
   ]
  },
  {
   "cell_type": "code",
   "execution_count": 175,
   "metadata": {},
   "outputs": [
    {
     "data": {
      "text/html": [
       "<div>\n",
       "<style scoped>\n",
       "    .dataframe tbody tr th:only-of-type {\n",
       "        vertical-align: middle;\n",
       "    }\n",
       "\n",
       "    .dataframe tbody tr th {\n",
       "        vertical-align: top;\n",
       "    }\n",
       "\n",
       "    .dataframe thead th {\n",
       "        text-align: right;\n",
       "    }\n",
       "</style>\n",
       "<table border=\"1\" class=\"dataframe\">\n",
       "  <thead>\n",
       "    <tr style=\"text-align: right;\">\n",
       "      <th></th>\n",
       "      <th>Name</th>\n",
       "      <th>Birth</th>\n",
       "      <th>email</th>\n",
       "    </tr>\n",
       "  </thead>\n",
       "  <tbody>\n",
       "    <tr>\n",
       "      <th>5</th>\n",
       "      <td>윤봉길</td>\n",
       "      <td>2021-04-10 19:20</td>\n",
       "      <td>yeon@daum.ac.kr</td>\n",
       "    </tr>\n",
       "    <tr>\n",
       "      <th>6</th>\n",
       "      <td>강감찬</td>\n",
       "      <td>2021-06-30 21:20</td>\n",
       "      <td>kkc@gmail.com</td>\n",
       "    </tr>\n",
       "    <tr>\n",
       "      <th>7</th>\n",
       "      <td>신사임당</td>\n",
       "      <td>2021-07-20 23:30</td>\n",
       "      <td>monther@NAVER.COM</td>\n",
       "    </tr>\n",
       "    <tr>\n",
       "      <th>8</th>\n",
       "      <td>을지문덕</td>\n",
       "      <td>2021-08-28 11:48</td>\n",
       "      <td>ygmd@daum.net</td>\n",
       "    </tr>\n",
       "    <tr>\n",
       "      <th>9</th>\n",
       "      <td>유재석</td>\n",
       "      <td>2021-09-01 3:12</td>\n",
       "      <td>yjs at gmail.com</td>\n",
       "    </tr>\n",
       "  </tbody>\n",
       "</table>\n",
       "</div>"
      ],
      "text/plain": [
       "   Name             Birth               email\n",
       "5   윤봉길  2021-04-10 19:20     yeon@daum.ac.kr\n",
       "6   강감찬  2021-06-30 21:20       kkc@gmail.com\n",
       "7  신사임당  2021-07-20 23:30  monther@NAVER.COM \n",
       "8  을지문덕  2021-08-28 11:48       ygmd@daum.net\n",
       "9   유재석   2021-09-01 3:12    yjs at gmail.com"
      ]
     },
     "execution_count": 175,
     "metadata": {},
     "output_type": "execute_result"
    }
   ],
   "source": [
    "df.tail() "
   ]
  },
  {
   "cell_type": "code",
   "execution_count": 176,
   "metadata": {},
   "outputs": [
    {
     "data": {
      "text/html": [
       "<div>\n",
       "<style scoped>\n",
       "    .dataframe tbody tr th:only-of-type {\n",
       "        vertical-align: middle;\n",
       "    }\n",
       "\n",
       "    .dataframe tbody tr th {\n",
       "        vertical-align: top;\n",
       "    }\n",
       "\n",
       "    .dataframe thead th {\n",
       "        text-align: right;\n",
       "    }\n",
       "</style>\n",
       "<table border=\"1\" class=\"dataframe\">\n",
       "  <thead>\n",
       "    <tr style=\"text-align: right;\">\n",
       "      <th></th>\n",
       "      <th>Name</th>\n",
       "      <th>Birth</th>\n",
       "    </tr>\n",
       "  </thead>\n",
       "  <tbody>\n",
       "    <tr>\n",
       "      <th>0</th>\n",
       "      <td>김순신</td>\n",
       "      <td>2021-01-01 9:10</td>\n",
       "    </tr>\n",
       "    <tr>\n",
       "      <th>1</th>\n",
       "      <td>홍길동</td>\n",
       "      <td>2021-01-08 9:20</td>\n",
       "    </tr>\n",
       "    <tr>\n",
       "      <th>2</th>\n",
       "      <td>유관순</td>\n",
       "      <td>2021-02-01 10:20</td>\n",
       "    </tr>\n",
       "    <tr>\n",
       "      <th>3</th>\n",
       "      <td>이이</td>\n",
       "      <td>2021-02-02 11:40</td>\n",
       "    </tr>\n",
       "    <tr>\n",
       "      <th>4</th>\n",
       "      <td>김구</td>\n",
       "      <td>2021-02-28 15:10</td>\n",
       "    </tr>\n",
       "    <tr>\n",
       "      <th>5</th>\n",
       "      <td>윤봉길</td>\n",
       "      <td>2021-04-10 19:20</td>\n",
       "    </tr>\n",
       "    <tr>\n",
       "      <th>6</th>\n",
       "      <td>강감찬</td>\n",
       "      <td>2021-06-30 21:20</td>\n",
       "    </tr>\n",
       "    <tr>\n",
       "      <th>7</th>\n",
       "      <td>신사임당</td>\n",
       "      <td>2021-07-20 23:30</td>\n",
       "    </tr>\n",
       "    <tr>\n",
       "      <th>8</th>\n",
       "      <td>을지문덕</td>\n",
       "      <td>2021-08-28 11:48</td>\n",
       "    </tr>\n",
       "    <tr>\n",
       "      <th>9</th>\n",
       "      <td>유재석</td>\n",
       "      <td>2021-09-01 3:12</td>\n",
       "    </tr>\n",
       "  </tbody>\n",
       "</table>\n",
       "</div>"
      ],
      "text/plain": [
       "   Name             Birth\n",
       "0   김순신   2021-01-01 9:10\n",
       "1   홍길동   2021-01-08 9:20\n",
       "2   유관순  2021-02-01 10:20\n",
       "3    이이  2021-02-02 11:40\n",
       "4    김구  2021-02-28 15:10\n",
       "5   윤봉길  2021-04-10 19:20\n",
       "6   강감찬  2021-06-30 21:20\n",
       "7  신사임당  2021-07-20 23:30\n",
       "8  을지문덕  2021-08-28 11:48\n",
       "9   유재석   2021-09-01 3:12"
      ]
     },
     "execution_count": 176,
     "metadata": {},
     "output_type": "execute_result"
    }
   ],
   "source": [
    "# 모든 row들이면서 Name, Birth 시리즈 값만 만환\n",
    "df.loc[:, ['Name', 'Birth']]"
   ]
  },
  {
   "cell_type": "code",
   "execution_count": 174,
   "metadata": {},
   "outputs": [
    {
     "name": "stdout",
     "output_type": "stream",
     "text": [
      "김순신\n",
      "김순신\n",
      "0     김순신\n",
      "1     홍길동\n",
      "2     유관순\n",
      "3      이이\n",
      "4      김구\n",
      "5     윤봉길\n",
      "6     강감찬\n",
      "7    신사임당\n",
      "8    을지문덕\n",
      "9     유재석\n",
      "Name: Name, dtype: object\n"
     ]
    }
   ],
   "source": [
    "# 데이터 수정\n",
    "print(df.iloc[0, 0])\n",
    "print(df.loc[0, 'Name'])\n",
    "print(df.loc[:, 'Name'])"
   ]
  },
  {
   "cell_type": "code",
   "execution_count": 171,
   "metadata": {},
   "outputs": [
    {
     "data": {
      "text/html": [
       "<div>\n",
       "<style scoped>\n",
       "    .dataframe tbody tr th:only-of-type {\n",
       "        vertical-align: middle;\n",
       "    }\n",
       "\n",
       "    .dataframe tbody tr th {\n",
       "        vertical-align: top;\n",
       "    }\n",
       "\n",
       "    .dataframe thead th {\n",
       "        text-align: right;\n",
       "    }\n",
       "</style>\n",
       "<table border=\"1\" class=\"dataframe\">\n",
       "  <thead>\n",
       "    <tr style=\"text-align: right;\">\n",
       "      <th></th>\n",
       "      <th>Name</th>\n",
       "      <th>Birth</th>\n",
       "      <th>email</th>\n",
       "    </tr>\n",
       "  </thead>\n",
       "  <tbody>\n",
       "    <tr>\n",
       "      <th>0</th>\n",
       "      <td>김순신</td>\n",
       "      <td>2021-01-01 9:10</td>\n",
       "      <td>happy@gmail.com</td>\n",
       "    </tr>\n",
       "    <tr>\n",
       "      <th>1</th>\n",
       "      <td>홍길동</td>\n",
       "      <td>2021-01-08 9:20</td>\n",
       "      <td>1004@NAVER.COM</td>\n",
       "    </tr>\n",
       "    <tr>\n",
       "      <th>2</th>\n",
       "      <td>유관순</td>\n",
       "      <td>2021-02-01 10:20</td>\n",
       "      <td>Iron at yahoo.co.kr</td>\n",
       "    </tr>\n",
       "    <tr>\n",
       "      <th>3</th>\n",
       "      <td>이이</td>\n",
       "      <td>2021-02-02 11:40</td>\n",
       "      <td>\\tlee@gmail.com</td>\n",
       "    </tr>\n",
       "    <tr>\n",
       "      <th>4</th>\n",
       "      <td>김구</td>\n",
       "      <td>2021-02-28 15:10</td>\n",
       "      <td>kim@daum.net\\t</td>\n",
       "    </tr>\n",
       "  </tbody>\n",
       "</table>\n",
       "</div>"
      ],
      "text/plain": [
       "  Name             Birth                  email\n",
       "0  김순신   2021-01-01 9:10       happy@gmail.com \n",
       "1  홍길동   2021-01-08 9:20         1004@NAVER.COM\n",
       "2  유관순  2021-02-01 10:20   Iron at yahoo.co.kr \n",
       "3   이이  2021-02-02 11:40        \\tlee@gmail.com\n",
       "4   김구  2021-02-28 15:10         kim@daum.net\\t"
      ]
     },
     "execution_count": 171,
     "metadata": {},
     "output_type": "execute_result"
    }
   ],
   "source": [
    "df.loc[0, 'Name'] = '김순신'\n",
    "df.head()"
   ]
  },
  {
   "cell_type": "markdown",
   "metadata": {},
   "source": [
    "### loc 속성\n",
    "\n",
    "- 데이터들을 slicing 하는 기술\n",
    "- loc[index, columns]\n",
    "- loc는 레이블로만 선택\n",
    "- 여러 개의 레이블을 선택하려면 리스트 전달\n",
    "- 동일한 간격으로 선택하려면 슬라이스 표기 사용\n",
    "- 마지막 레이블까지 포함"
   ]
  },
  {
   "cell_type": "code",
   "execution_count": 181,
   "metadata": {},
   "outputs": [
    {
     "data": {
      "text/html": [
       "<div>\n",
       "<style scoped>\n",
       "    .dataframe tbody tr th:only-of-type {\n",
       "        vertical-align: middle;\n",
       "    }\n",
       "\n",
       "    .dataframe tbody tr th {\n",
       "        vertical-align: top;\n",
       "    }\n",
       "\n",
       "    .dataframe thead th {\n",
       "        text-align: right;\n",
       "    }\n",
       "</style>\n",
       "<table border=\"1\" class=\"dataframe\">\n",
       "  <thead>\n",
       "    <tr style=\"text-align: right;\">\n",
       "      <th></th>\n",
       "      <th>Name</th>\n",
       "      <th>Birth</th>\n",
       "      <th>email</th>\n",
       "    </tr>\n",
       "  </thead>\n",
       "  <tbody>\n",
       "    <tr>\n",
       "      <th>0</th>\n",
       "      <td>이순신</td>\n",
       "      <td>2021-01-01 9:10</td>\n",
       "      <td>happy@gmail.com</td>\n",
       "    </tr>\n",
       "    <tr>\n",
       "      <th>1</th>\n",
       "      <td>홍길동</td>\n",
       "      <td>2021-01-08 9:20</td>\n",
       "      <td>1004@NAVER.COM</td>\n",
       "    </tr>\n",
       "    <tr>\n",
       "      <th>2</th>\n",
       "      <td>유관순</td>\n",
       "      <td>2021-02-01 10:20</td>\n",
       "      <td>Iron at yahoo.co.kr</td>\n",
       "    </tr>\n",
       "    <tr>\n",
       "      <th>3</th>\n",
       "      <td>이이</td>\n",
       "      <td>2021-02-02 11:40</td>\n",
       "      <td>\\tlee@gmail.com</td>\n",
       "    </tr>\n",
       "    <tr>\n",
       "      <th>4</th>\n",
       "      <td>김구</td>\n",
       "      <td>2021-02-28 15:10</td>\n",
       "      <td>kim@daum.net\\t</td>\n",
       "    </tr>\n",
       "    <tr>\n",
       "      <th>5</th>\n",
       "      <td>윤봉길</td>\n",
       "      <td>2021-04-10 19:20</td>\n",
       "      <td>yeon@daum.ac.kr</td>\n",
       "    </tr>\n",
       "    <tr>\n",
       "      <th>6</th>\n",
       "      <td>강감찬</td>\n",
       "      <td>2021-06-30 21:20</td>\n",
       "      <td>kkc@gmail.com</td>\n",
       "    </tr>\n",
       "    <tr>\n",
       "      <th>7</th>\n",
       "      <td>신사임당</td>\n",
       "      <td>2021-07-20 23:30</td>\n",
       "      <td>monther@NAVER.COM</td>\n",
       "    </tr>\n",
       "    <tr>\n",
       "      <th>8</th>\n",
       "      <td>을지문덕</td>\n",
       "      <td>2021-08-28 11:48</td>\n",
       "      <td>ygmd@daum.net</td>\n",
       "    </tr>\n",
       "    <tr>\n",
       "      <th>9</th>\n",
       "      <td>유재석</td>\n",
       "      <td>2021-09-01 3:12</td>\n",
       "      <td>yjs at gmail.com</td>\n",
       "    </tr>\n",
       "  </tbody>\n",
       "</table>\n",
       "</div>"
      ],
      "text/plain": [
       "   Name             Birth                  email\n",
       "0   이순신   2021-01-01 9:10       happy@gmail.com \n",
       "1   홍길동   2021-01-08 9:20         1004@NAVER.COM\n",
       "2   유관순  2021-02-01 10:20   Iron at yahoo.co.kr \n",
       "3    이이  2021-02-02 11:40        \\tlee@gmail.com\n",
       "4    김구  2021-02-28 15:10         kim@daum.net\\t\n",
       "5   윤봉길  2021-04-10 19:20        yeon@daum.ac.kr\n",
       "6   강감찬  2021-06-30 21:20          kkc@gmail.com\n",
       "7  신사임당  2021-07-20 23:30     monther@NAVER.COM \n",
       "8  을지문덕  2021-08-28 11:48          ygmd@daum.net\n",
       "9   유재석   2021-09-01 3:12       yjs at gmail.com"
      ]
     },
     "execution_count": 181,
     "metadata": {},
     "output_type": "execute_result"
    }
   ],
   "source": [
    "df = pd.read_csv('dataset/01.date_data.csv')\n",
    "df"
   ]
  },
  {
   "cell_type": "code",
   "execution_count": 183,
   "metadata": {},
   "outputs": [
    {
     "data": {
      "text/html": [
       "<div>\n",
       "<style scoped>\n",
       "    .dataframe tbody tr th:only-of-type {\n",
       "        vertical-align: middle;\n",
       "    }\n",
       "\n",
       "    .dataframe tbody tr th {\n",
       "        vertical-align: top;\n",
       "    }\n",
       "\n",
       "    .dataframe thead th {\n",
       "        text-align: right;\n",
       "    }\n",
       "</style>\n",
       "<table border=\"1\" class=\"dataframe\">\n",
       "  <thead>\n",
       "    <tr style=\"text-align: right;\">\n",
       "      <th></th>\n",
       "      <th>Name</th>\n",
       "      <th>Birth</th>\n",
       "      <th>email</th>\n",
       "    </tr>\n",
       "  </thead>\n",
       "  <tbody>\n",
       "    <tr>\n",
       "      <th>0</th>\n",
       "      <td>이순신</td>\n",
       "      <td>2021-01-01 9:10</td>\n",
       "      <td>happy@gmail.com</td>\n",
       "    </tr>\n",
       "    <tr>\n",
       "      <th>1</th>\n",
       "      <td>홍길동</td>\n",
       "      <td>2021-01-08 9:20</td>\n",
       "      <td>1004@NAVER.COM</td>\n",
       "    </tr>\n",
       "    <tr>\n",
       "      <th>2</th>\n",
       "      <td>유관순</td>\n",
       "      <td>2021-02-01 10:20</td>\n",
       "      <td>Iron at yahoo.co.kr</td>\n",
       "    </tr>\n",
       "    <tr>\n",
       "      <th>3</th>\n",
       "      <td>이이</td>\n",
       "      <td>2021-02-02 11:40</td>\n",
       "      <td>\\tlee@gmail.com</td>\n",
       "    </tr>\n",
       "    <tr>\n",
       "      <th>4</th>\n",
       "      <td>김구</td>\n",
       "      <td>2021-02-28 15:10</td>\n",
       "      <td>kim@daum.net\\t</td>\n",
       "    </tr>\n",
       "  </tbody>\n",
       "</table>\n",
       "</div>"
      ],
      "text/plain": [
       "  Name             Birth                  email\n",
       "0  이순신   2021-01-01 9:10       happy@gmail.com \n",
       "1  홍길동   2021-01-08 9:20         1004@NAVER.COM\n",
       "2  유관순  2021-02-01 10:20   Iron at yahoo.co.kr \n",
       "3   이이  2021-02-02 11:40        \\tlee@gmail.com\n",
       "4   김구  2021-02-28 15:10         kim@daum.net\\t"
      ]
     },
     "execution_count": 183,
     "metadata": {},
     "output_type": "execute_result"
    }
   ],
   "source": [
    "df.head()"
   ]
  },
  {
   "cell_type": "code",
   "execution_count": 192,
   "metadata": {
    "scrolled": true
   },
   "outputs": [
    {
     "data": {
      "text/html": [
       "<div>\n",
       "<style scoped>\n",
       "    .dataframe tbody tr th:only-of-type {\n",
       "        vertical-align: middle;\n",
       "    }\n",
       "\n",
       "    .dataframe tbody tr th {\n",
       "        vertical-align: top;\n",
       "    }\n",
       "\n",
       "    .dataframe thead th {\n",
       "        text-align: right;\n",
       "    }\n",
       "</style>\n",
       "<table border=\"1\" class=\"dataframe\">\n",
       "  <thead>\n",
       "    <tr style=\"text-align: right;\">\n",
       "      <th></th>\n",
       "      <th>Name</th>\n",
       "      <th>Birth</th>\n",
       "      <th>email</th>\n",
       "      <th>age</th>\n",
       "    </tr>\n",
       "  </thead>\n",
       "  <tbody>\n",
       "    <tr>\n",
       "      <th>0</th>\n",
       "      <td>이순신</td>\n",
       "      <td>2021-01-01 9:10</td>\n",
       "      <td>happy@gmail.com</td>\n",
       "      <td>10</td>\n",
       "    </tr>\n",
       "    <tr>\n",
       "      <th>1</th>\n",
       "      <td>홍길동</td>\n",
       "      <td>2021-01-08 9:20</td>\n",
       "      <td>1004@NAVER.COM</td>\n",
       "      <td>20</td>\n",
       "    </tr>\n",
       "    <tr>\n",
       "      <th>2</th>\n",
       "      <td>유관순</td>\n",
       "      <td>2021-02-01 10:20</td>\n",
       "      <td>Iron at yahoo.co.kr</td>\n",
       "      <td>30</td>\n",
       "    </tr>\n",
       "    <tr>\n",
       "      <th>3</th>\n",
       "      <td>이이</td>\n",
       "      <td>2021-02-02 11:40</td>\n",
       "      <td>\\tlee@gmail.com</td>\n",
       "      <td>40</td>\n",
       "    </tr>\n",
       "    <tr>\n",
       "      <th>4</th>\n",
       "      <td>김구</td>\n",
       "      <td>2021-02-28 15:10</td>\n",
       "      <td>kim@daum.net\\t</td>\n",
       "      <td>50</td>\n",
       "    </tr>\n",
       "    <tr>\n",
       "      <th>5</th>\n",
       "      <td>윤봉길</td>\n",
       "      <td>2021-04-10 19:20</td>\n",
       "      <td>yeon@daum.ac.kr</td>\n",
       "      <td>60</td>\n",
       "    </tr>\n",
       "    <tr>\n",
       "      <th>6</th>\n",
       "      <td>강감찬</td>\n",
       "      <td>2021-06-30 21:20</td>\n",
       "      <td>kkc@gmail.com</td>\n",
       "      <td>70</td>\n",
       "    </tr>\n",
       "    <tr>\n",
       "      <th>7</th>\n",
       "      <td>신사임당</td>\n",
       "      <td>2021-07-20 23:30</td>\n",
       "      <td>monther@NAVER.COM</td>\n",
       "      <td>80</td>\n",
       "    </tr>\n",
       "    <tr>\n",
       "      <th>8</th>\n",
       "      <td>을지문덕</td>\n",
       "      <td>2021-08-28 11:48</td>\n",
       "      <td>ygmd@daum.net</td>\n",
       "      <td>90</td>\n",
       "    </tr>\n",
       "    <tr>\n",
       "      <th>9</th>\n",
       "      <td>유재석</td>\n",
       "      <td>2021-09-01 3:12</td>\n",
       "      <td>yjs at gmail.com</td>\n",
       "      <td>100</td>\n",
       "    </tr>\n",
       "  </tbody>\n",
       "</table>\n",
       "</div>"
      ],
      "text/plain": [
       "   Name             Birth                  email  age\n",
       "0   이순신   2021-01-01 9:10       happy@gmail.com    10\n",
       "1   홍길동   2021-01-08 9:20         1004@NAVER.COM   20\n",
       "2   유관순  2021-02-01 10:20   Iron at yahoo.co.kr    30\n",
       "3    이이  2021-02-02 11:40        \\tlee@gmail.com   40\n",
       "4    김구  2021-02-28 15:10         kim@daum.net\\t   50\n",
       "5   윤봉길  2021-04-10 19:20        yeon@daum.ac.kr   60\n",
       "6   강감찬  2021-06-30 21:20          kkc@gmail.com   70\n",
       "7  신사임당  2021-07-20 23:30     monther@NAVER.COM    80\n",
       "8  을지문덕  2021-08-28 11:48          ygmd@daum.net   90\n",
       "9   유재석   2021-09-01 3:12       yjs at gmail.com  100"
      ]
     },
     "execution_count": 192,
     "metadata": {},
     "output_type": "execute_result"
    }
   ],
   "source": [
    "# 새로운 시리즈(컬럼) 추가 \n",
    "\n",
    "df['age'] = [10, 20, 30, 40, 50, 60, 70, 80, 90, 100]\n",
    "df\n"
   ]
  },
  {
   "cell_type": "markdown",
   "metadata": {},
   "source": [
    "- file로부터 데이터 read해서 DataFrame\n",
    "- DataFrame의 특정 데이터값 적출\n",
    "- DataFrame의 특정 데이터값 수정\n",
    "- 새로운 Series 추가\n",
    "- 결측치 처리 (대체 (fillna()/ 삭제(dropna())"
   ]
  },
  {
   "cell_type": "code",
   "execution_count": 193,
   "metadata": {},
   "outputs": [
    {
     "data": {
      "text/html": [
       "<div>\n",
       "<style scoped>\n",
       "    .dataframe tbody tr th:only-of-type {\n",
       "        vertical-align: middle;\n",
       "    }\n",
       "\n",
       "    .dataframe tbody tr th {\n",
       "        vertical-align: top;\n",
       "    }\n",
       "\n",
       "    .dataframe thead th {\n",
       "        text-align: right;\n",
       "    }\n",
       "</style>\n",
       "<table border=\"1\" class=\"dataframe\">\n",
       "  <thead>\n",
       "    <tr style=\"text-align: right;\">\n",
       "      <th></th>\n",
       "      <th>Name</th>\n",
       "      <th>Birth</th>\n",
       "      <th>email</th>\n",
       "    </tr>\n",
       "  </thead>\n",
       "  <tbody>\n",
       "    <tr>\n",
       "      <th>0</th>\n",
       "      <td>이순신</td>\n",
       "      <td>2021-01-01 9:10</td>\n",
       "      <td>happy@gmail.com</td>\n",
       "    </tr>\n",
       "    <tr>\n",
       "      <th>1</th>\n",
       "      <td>홍길동</td>\n",
       "      <td>2021-01-08 9:20</td>\n",
       "      <td>1004@NAVER.COM</td>\n",
       "    </tr>\n",
       "    <tr>\n",
       "      <th>2</th>\n",
       "      <td>유관순</td>\n",
       "      <td>2021-02-01 10:20</td>\n",
       "      <td>Iron at yahoo.co.kr</td>\n",
       "    </tr>\n",
       "    <tr>\n",
       "      <th>3</th>\n",
       "      <td>이이</td>\n",
       "      <td>2021-02-02 11:40</td>\n",
       "      <td>\\tlee@gmail.com</td>\n",
       "    </tr>\n",
       "    <tr>\n",
       "      <th>4</th>\n",
       "      <td>김구</td>\n",
       "      <td>2021-02-28 15:10</td>\n",
       "      <td>kim@daum.net\\t</td>\n",
       "    </tr>\n",
       "    <tr>\n",
       "      <th>5</th>\n",
       "      <td>윤봉길</td>\n",
       "      <td>2021-04-10 19:20</td>\n",
       "      <td>yeon@daum.ac.kr</td>\n",
       "    </tr>\n",
       "    <tr>\n",
       "      <th>6</th>\n",
       "      <td>강감찬</td>\n",
       "      <td>2021-06-30 21:20</td>\n",
       "      <td>kkc@gmail.com</td>\n",
       "    </tr>\n",
       "    <tr>\n",
       "      <th>7</th>\n",
       "      <td>신사임당</td>\n",
       "      <td>2021-07-20 23:30</td>\n",
       "      <td>monther@NAVER.COM</td>\n",
       "    </tr>\n",
       "    <tr>\n",
       "      <th>8</th>\n",
       "      <td>을지문덕</td>\n",
       "      <td>2021-08-28 11:48</td>\n",
       "      <td>ygmd@daum.net</td>\n",
       "    </tr>\n",
       "    <tr>\n",
       "      <th>9</th>\n",
       "      <td>유재석</td>\n",
       "      <td>2021-09-01 3:12</td>\n",
       "      <td>yjs at gmail.com</td>\n",
       "    </tr>\n",
       "  </tbody>\n",
       "</table>\n",
       "</div>"
      ],
      "text/plain": [
       "   Name             Birth                  email\n",
       "0   이순신   2021-01-01 9:10       happy@gmail.com \n",
       "1   홍길동   2021-01-08 9:20         1004@NAVER.COM\n",
       "2   유관순  2021-02-01 10:20   Iron at yahoo.co.kr \n",
       "3    이이  2021-02-02 11:40        \\tlee@gmail.com\n",
       "4    김구  2021-02-28 15:10         kim@daum.net\\t\n",
       "5   윤봉길  2021-04-10 19:20        yeon@daum.ac.kr\n",
       "6   강감찬  2021-06-30 21:20          kkc@gmail.com\n",
       "7  신사임당  2021-07-20 23:30     monther@NAVER.COM \n",
       "8  을지문덕  2021-08-28 11:48          ygmd@daum.net\n",
       "9   유재석   2021-09-01 3:12       yjs at gmail.com"
      ]
     },
     "execution_count": 193,
     "metadata": {},
     "output_type": "execute_result"
    }
   ],
   "source": [
    "# 특정 Series 삭제하는 구문\n",
    "\n",
    "del df['age']  # java script와 동일\n",
    "df"
   ]
  },
  {
   "cell_type": "code",
   "execution_count": null,
   "metadata": {},
   "outputs": [],
   "source": [
    "type(df)"
   ]
  },
  {
   "cell_type": "code",
   "execution_count": null,
   "metadata": {},
   "outputs": [],
   "source": []
  },
  {
   "cell_type": "markdown",
   "metadata": {},
   "source": [
    "### 이미 존재하는 파일의 내용을 기반으로 DataFrame 생성하기"
   ]
  },
  {
   "cell_type": "code",
   "execution_count": 194,
   "metadata": {},
   "outputs": [
    {
     "data": {
      "text/html": [
       "<div>\n",
       "<style scoped>\n",
       "    .dataframe tbody tr th:only-of-type {\n",
       "        vertical-align: middle;\n",
       "    }\n",
       "\n",
       "    .dataframe tbody tr th {\n",
       "        vertical-align: top;\n",
       "    }\n",
       "\n",
       "    .dataframe thead th {\n",
       "        text-align: right;\n",
       "    }\n",
       "</style>\n",
       "<table border=\"1\" class=\"dataframe\">\n",
       "  <thead>\n",
       "    <tr style=\"text-align: right;\">\n",
       "      <th></th>\n",
       "      <th>이름</th>\n",
       "      <th>나이</th>\n",
       "      <th>직업</th>\n",
       "      <th>hobby</th>\n",
       "    </tr>\n",
       "  </thead>\n",
       "  <tbody>\n",
       "    <tr>\n",
       "      <th>0</th>\n",
       "      <td>신동엽</td>\n",
       "      <td>20</td>\n",
       "      <td>연예인</td>\n",
       "      <td>music</td>\n",
       "    </tr>\n",
       "    <tr>\n",
       "      <th>1</th>\n",
       "      <td>유재석</td>\n",
       "      <td>41</td>\n",
       "      <td>교수</td>\n",
       "      <td>art</td>\n",
       "    </tr>\n",
       "    <tr>\n",
       "      <th>2</th>\n",
       "      <td>김새롬</td>\n",
       "      <td>18</td>\n",
       "      <td>학생</td>\n",
       "      <td>study</td>\n",
       "    </tr>\n",
       "    <tr>\n",
       "      <th>3</th>\n",
       "      <td>이영자</td>\n",
       "      <td>45</td>\n",
       "      <td>상담사</td>\n",
       "      <td>talk</td>\n",
       "    </tr>\n",
       "    <tr>\n",
       "      <th>4</th>\n",
       "      <td>강호동</td>\n",
       "      <td>38</td>\n",
       "      <td>연예인</td>\n",
       "      <td>talk</td>\n",
       "    </tr>\n",
       "  </tbody>\n",
       "</table>\n",
       "</div>"
      ],
      "text/plain": [
       "    이름  나이   직업  hobby\n",
       "0  신동엽  20  연예인  music\n",
       "1  유재석  41   교수    art\n",
       "2  김새롬  18   학생  study\n",
       "3  이영자  45  상담사   talk\n",
       "4  강호동  38  연예인   talk"
      ]
     },
     "execution_count": 194,
     "metadata": {},
     "output_type": "execute_result"
    }
   ],
   "source": [
    "df = pd.read_csv('dataset/02.friends.csv')\n",
    "df"
   ]
  },
  {
   "cell_type": "code",
   "execution_count": 196,
   "metadata": {},
   "outputs": [
    {
     "data": {
      "text/plain": [
       "pandas.core.frame.DataFrame"
      ]
     },
     "execution_count": 196,
     "metadata": {},
     "output_type": "execute_result"
    }
   ],
   "source": [
    "type(df)"
   ]
  },
  {
   "cell_type": "code",
   "execution_count": 198,
   "metadata": {},
   "outputs": [
    {
     "data": {
      "text/plain": [
       "45"
      ]
     },
     "execution_count": 198,
     "metadata": {},
     "output_type": "execute_result"
    }
   ],
   "source": [
    "df.loc[3, '나이']"
   ]
  },
  {
   "cell_type": "code",
   "execution_count": 216,
   "metadata": {},
   "outputs": [
    {
     "name": "stdout",
     "output_type": "stream",
     "text": [
      "     이름\\t나이\\t직업\\thobby\n",
      "0  신동엽\\t20\\t연예인\\tmusic\n",
      "1     유재석\\t41\\t교수\\tart\n",
      "2   김새롬\\t18\\t학생\\tstudy\n",
      "3   이영자\\t45\\t상담사\\ttalk\n",
      "4   강호동\\t38\\t연예인\\ttalk\n",
      "********************\n",
      "    이름  나이   직업  hobby\n",
      "0  신동엽  20  연예인  music\n",
      "1  유재석  41   교수    art\n",
      "2  김새롬  18   학생  study\n",
      "3  이영자  45  상담사   talk\n",
      "4  강호동  38  연예인   talk\n"
     ]
    }
   ],
   "source": [
    "df = pd.read_csv('dataset/03.friendsTab.txt')\n",
    "print(df)\n",
    "\n",
    "print('*'*20)\n",
    "# 문제점 발견 : tab으로 데이터 구분(tab seperated value(tsv)), 확장자 = tsv\n",
    "# tsv의 포멧은 문제가 없는에 DataFrame으로 변환시 문제 발생\n",
    "# 해결책 : read_csv() 구분자 속성으로 . 가구분자가 아닌 tab 구분자로 명시\n",
    "# 03.friendsTab.txt\n",
    "\n",
    "\n",
    "df = pd.read_csv('dataset/03.friendsTab.txt', delimiter='\\t')\n",
    "print(df)"
   ]
  },
  {
   "cell_type": "code",
   "execution_count": 208,
   "metadata": {},
   "outputs": [
    {
     "name": "stdout",
     "output_type": "stream",
     "text": [
      "   신동엽  20  연예인  music\n",
      "0  유재석  41   교수    art\n",
      "1  김새롬  18   학생  study\n",
      "2  이영자  45  상담사   talk\n",
      "3  강호동  38  연예인   talk\n"
     ]
    }
   ],
   "source": [
    "df = pd.read_csv('dataset/04.friendsTabNoHead.txt', delimiter='\\t')\n",
    "print(df)\n",
    "\n",
    "# 문제점 : data가 마치 header 처럼 쓰임\n",
    "# 해결 : 새로운 컬럼명 추가"
   ]
  },
  {
   "cell_type": "code",
   "execution_count": 209,
   "metadata": {},
   "outputs": [
    {
     "data": {
      "text/plain": [
       "Index(['신동엽', '20', '연예인', 'music'], dtype='object')"
      ]
     },
     "execution_count": 209,
     "metadata": {},
     "output_type": "execute_result"
    }
   ],
   "source": [
    "df.columns"
   ]
  },
  {
   "cell_type": "code",
   "execution_count": 213,
   "metadata": {},
   "outputs": [
    {
     "name": "stdout",
     "output_type": "stream",
     "text": [
      "     0   1    2      3\n",
      "0  신동엽  20  연예인  music\n",
      "1  유재석  41   교수    art\n",
      "2  김새롬  18   학생  study\n",
      "3  이영자  45  상담사   talk\n",
      "4  강호동  38  연예인   talk\n"
     ]
    }
   ],
   "source": [
    "# header가 없는 외부 파일 read시에  header미 적용 설정\n",
    "# 데이터가 column으로 적용되지 않음\n",
    "\n",
    "df = pd.read_csv('dataset/04.friendsTabNoHead.txt', delimiter='\\t', header=None)\n",
    "print(df)"
   ]
  },
  {
   "cell_type": "code",
   "execution_count": 218,
   "metadata": {},
   "outputs": [
    {
     "name": "stdout",
     "output_type": "stream",
     "text": [
      "    이름  나이   직업     취미\n",
      "0  신동엽  20  연예인  music\n",
      "1  유재석  41   교수    art\n",
      "2  김새롬  18   학생  study\n",
      "3  이영자  45  상담사   talk\n",
      "4  강호동  38  연예인   talk\n"
     ]
    }
   ],
   "source": [
    "# header 즉 column 정보 추가\n",
    "\n",
    "df = pd.read_csv('dataset/04.friendsTabNoHead.txt',\n",
    "                 delimiter='\\t', names=['이름', '나이', '직업', '취미'])\n",
    "print(df)"
   ]
  },
  {
   "cell_type": "code",
   "execution_count": 220,
   "metadata": {},
   "outputs": [
    {
     "data": {
      "text/html": [
       "<div>\n",
       "<style scoped>\n",
       "    .dataframe tbody tr th:only-of-type {\n",
       "        vertical-align: middle;\n",
       "    }\n",
       "\n",
       "    .dataframe tbody tr th {\n",
       "        vertical-align: top;\n",
       "    }\n",
       "\n",
       "    .dataframe thead th {\n",
       "        text-align: right;\n",
       "    }\n",
       "</style>\n",
       "<table border=\"1\" class=\"dataframe\">\n",
       "  <thead>\n",
       "    <tr style=\"text-align: right;\">\n",
       "      <th></th>\n",
       "      <th>이름</th>\n",
       "      <th>나이</th>\n",
       "      <th>직업</th>\n",
       "      <th>취미</th>\n",
       "    </tr>\n",
       "  </thead>\n",
       "  <tbody>\n",
       "    <tr>\n",
       "      <th>0</th>\n",
       "      <td>신동엽</td>\n",
       "      <td>20</td>\n",
       "      <td>연예인</td>\n",
       "      <td>music</td>\n",
       "    </tr>\n",
       "    <tr>\n",
       "      <th>1</th>\n",
       "      <td>유재석</td>\n",
       "      <td>41</td>\n",
       "      <td>교수</td>\n",
       "      <td>art</td>\n",
       "    </tr>\n",
       "    <tr>\n",
       "      <th>2</th>\n",
       "      <td>김새롬</td>\n",
       "      <td>18</td>\n",
       "      <td>학생</td>\n",
       "      <td>study</td>\n",
       "    </tr>\n",
       "    <tr>\n",
       "      <th>3</th>\n",
       "      <td>이영자</td>\n",
       "      <td>45</td>\n",
       "      <td>상담사</td>\n",
       "      <td>talk</td>\n",
       "    </tr>\n",
       "    <tr>\n",
       "      <th>4</th>\n",
       "      <td>강호동</td>\n",
       "      <td>38</td>\n",
       "      <td>연예인</td>\n",
       "      <td>talk</td>\n",
       "    </tr>\n",
       "  </tbody>\n",
       "</table>\n",
       "</div>"
      ],
      "text/plain": [
       "    이름  나이   직업     취미\n",
       "0  신동엽  20  연예인  music\n",
       "1  유재석  41   교수    art\n",
       "2  김새롬  18   학생  study\n",
       "3  이영자  45  상담사   talk\n",
       "4  강호동  38  연예인   talk"
      ]
     },
     "execution_count": 220,
     "metadata": {},
     "output_type": "execute_result"
    }
   ],
   "source": [
    "df"
   ]
  },
  {
   "cell_type": "code",
   "execution_count": 221,
   "metadata": {},
   "outputs": [
    {
     "data": {
      "text/html": [
       "<div>\n",
       "<style scoped>\n",
       "    .dataframe tbody tr th:only-of-type {\n",
       "        vertical-align: middle;\n",
       "    }\n",
       "\n",
       "    .dataframe tbody tr th {\n",
       "        vertical-align: top;\n",
       "    }\n",
       "\n",
       "    .dataframe thead th {\n",
       "        text-align: right;\n",
       "    }\n",
       "</style>\n",
       "<table border=\"1\" class=\"dataframe\">\n",
       "  <thead>\n",
       "    <tr style=\"text-align: right;\">\n",
       "      <th></th>\n",
       "      <th>이름</th>\n",
       "      <th>나이</th>\n",
       "      <th>직업</th>\n",
       "      <th>취미</th>\n",
       "      <th>sal</th>\n",
       "    </tr>\n",
       "  </thead>\n",
       "  <tbody>\n",
       "    <tr>\n",
       "      <th>0</th>\n",
       "      <td>신동엽</td>\n",
       "      <td>20</td>\n",
       "      <td>연예인</td>\n",
       "      <td>music</td>\n",
       "      <td>0</td>\n",
       "    </tr>\n",
       "    <tr>\n",
       "      <th>1</th>\n",
       "      <td>유재석</td>\n",
       "      <td>41</td>\n",
       "      <td>교수</td>\n",
       "      <td>art</td>\n",
       "      <td>0</td>\n",
       "    </tr>\n",
       "    <tr>\n",
       "      <th>2</th>\n",
       "      <td>김새롬</td>\n",
       "      <td>18</td>\n",
       "      <td>학생</td>\n",
       "      <td>study</td>\n",
       "      <td>0</td>\n",
       "    </tr>\n",
       "    <tr>\n",
       "      <th>3</th>\n",
       "      <td>이영자</td>\n",
       "      <td>45</td>\n",
       "      <td>상담사</td>\n",
       "      <td>talk</td>\n",
       "      <td>0</td>\n",
       "    </tr>\n",
       "    <tr>\n",
       "      <th>4</th>\n",
       "      <td>강호동</td>\n",
       "      <td>38</td>\n",
       "      <td>연예인</td>\n",
       "      <td>talk</td>\n",
       "      <td>0</td>\n",
       "    </tr>\n",
       "  </tbody>\n",
       "</table>\n",
       "</div>"
      ],
      "text/plain": [
       "    이름  나이   직업     취미  sal\n",
       "0  신동엽  20  연예인  music    0\n",
       "1  유재석  41   교수    art    0\n",
       "2  김새롬  18   학생  study    0\n",
       "3  이영자  45  상담사   talk    0\n",
       "4  강호동  38  연예인   talk    0"
      ]
     },
     "execution_count": 221,
     "metadata": {},
     "output_type": "execute_result"
    }
   ],
   "source": [
    "# sal 급여 시리즈 추가, 단 학생인 경우엔 급여는 no로 변환 , non-학생은 yes값으로 변환\n",
    "# 값에 따른 데이터 적용(조건별 값 차별화)\n",
    "\n",
    "# sal 이라는 컬럼에 0 값으로 적용\n",
    "df['sal'] = 0\n",
    "df"
   ]
  },
  {
   "cell_type": "code",
   "execution_count": 225,
   "metadata": {},
   "outputs": [
    {
     "data": {
      "text/html": [
       "<div>\n",
       "<style scoped>\n",
       "    .dataframe tbody tr th:only-of-type {\n",
       "        vertical-align: middle;\n",
       "    }\n",
       "\n",
       "    .dataframe tbody tr th {\n",
       "        vertical-align: top;\n",
       "    }\n",
       "\n",
       "    .dataframe thead th {\n",
       "        text-align: right;\n",
       "    }\n",
       "</style>\n",
       "<table border=\"1\" class=\"dataframe\">\n",
       "  <thead>\n",
       "    <tr style=\"text-align: right;\">\n",
       "      <th></th>\n",
       "      <th>이름</th>\n",
       "      <th>나이</th>\n",
       "      <th>직업</th>\n",
       "      <th>취미</th>\n",
       "      <th>sal</th>\n",
       "    </tr>\n",
       "  </thead>\n",
       "  <tbody>\n",
       "    <tr>\n",
       "      <th>0</th>\n",
       "      <td>신동엽</td>\n",
       "      <td>20</td>\n",
       "      <td>연예인</td>\n",
       "      <td>music</td>\n",
       "      <td>YES</td>\n",
       "    </tr>\n",
       "    <tr>\n",
       "      <th>1</th>\n",
       "      <td>유재석</td>\n",
       "      <td>41</td>\n",
       "      <td>교수</td>\n",
       "      <td>art</td>\n",
       "      <td>YES</td>\n",
       "    </tr>\n",
       "    <tr>\n",
       "      <th>2</th>\n",
       "      <td>김새롬</td>\n",
       "      <td>18</td>\n",
       "      <td>학생</td>\n",
       "      <td>study</td>\n",
       "      <td>NO</td>\n",
       "    </tr>\n",
       "    <tr>\n",
       "      <th>3</th>\n",
       "      <td>이영자</td>\n",
       "      <td>45</td>\n",
       "      <td>상담사</td>\n",
       "      <td>talk</td>\n",
       "      <td>YES</td>\n",
       "    </tr>\n",
       "    <tr>\n",
       "      <th>4</th>\n",
       "      <td>강호동</td>\n",
       "      <td>38</td>\n",
       "      <td>연예인</td>\n",
       "      <td>talk</td>\n",
       "      <td>YES</td>\n",
       "    </tr>\n",
       "  </tbody>\n",
       "</table>\n",
       "</div>"
      ],
      "text/plain": [
       "    이름  나이   직업     취미  sal\n",
       "0  신동엽  20  연예인  music  YES\n",
       "1  유재석  41   교수    art  YES\n",
       "2  김새롬  18   학생  study   NO\n",
       "3  이영자  45  상담사   talk  YES\n",
       "4  강호동  38  연예인   talk  YES"
      ]
     },
     "execution_count": 225,
     "metadata": {},
     "output_type": "execute_result"
    }
   ],
   "source": [
    "# job이 학생을 제외한 모든 친구들은 sal에 yes\n",
    "# 3항 연산자 : 조건식? 조건식이 true인 경우 실행, 조건식이 false인 경우 실행\n",
    "df['직업'] == '학생'\n",
    "\n",
    "# 암기\n",
    "# 삼항 연산식을 Numpy 의 where 이라는 함수의 parameter로 적용시 syntax\n",
    "# np.where(조건식, 조건식이 True인 경우 실행, 조건식이 False인 경우 실행)\n",
    "\n",
    "df['sal'] = np.where(df['직업'] != '학생', 'YES', 'NO')\n",
    "df"
   ]
  },
  {
   "cell_type": "markdown",
   "metadata": {},
   "source": [
    "### python의 데이터로 DataFrame객체로 변환하기\n",
    "\n",
    "- dict의 key를 DataFrame의 Series명으로 자동변환\n",
    "- 차후에 데이터 수집 및 관리시에 어떤 구조로 데이터를 수집하고 취합해야 하는지 설계 가능"
   ]
  },
  {
   "cell_type": "code",
   "execution_count": 227,
   "metadata": {},
   "outputs": [
    {
     "data": {
      "text/plain": [
       "list"
      ]
     },
     "execution_count": 227,
     "metadata": {},
     "output_type": "execute_result"
    }
   ],
   "source": [
    "# 딕셔너리들로 구성된 하나의 list\n",
    "\n",
    "friend_dict_list = [{'name': '신동엽', 'age': 20, 'job': '연예인', 'hobby': 'music'},\n",
    "                    {'name': '유재석', 'age': 41, 'job': '교수', 'hobby': 'art'},\n",
    "                    {'name': '김새롬', 'age': 18, 'job': '학생', 'hobby': 'study'},\n",
    "                    {'name': '이영자', 'age': 45, 'job': '상담사', 'hobby': 'talk'},\n",
    "                    {'name':  '강호동', 'age': 38, 'job': '연예인', 'hobby': 'talk'}]\n",
    "type(friend_dict_list)"
   ]
  },
  {
   "cell_type": "code",
   "execution_count": 230,
   "metadata": {},
   "outputs": [
    {
     "name": "stdout",
     "output_type": "stream",
     "text": [
      "  name  age  job  hobby\n",
      "0  신동엽   20  연예인  music\n",
      "1  유재석   41   교수    art\n",
      "2  김새롬   18   학생  study\n",
      "3  이영자   45  상담사   talk\n",
      "4  강호동   38  연예인   talk\n",
      "<class 'pandas.core.frame.DataFrame'>\n"
     ]
    }
   ],
   "source": [
    "df = pd.DataFrame(friend_dict_list)\n",
    "print(df)\n",
    "print(type(df))"
   ]
  },
  {
   "cell_type": "markdown",
   "metadata": {},
   "source": [
    "### 중복 데이터 제거 기술"
   ]
  },
  {
   "cell_type": "code",
   "execution_count": 231,
   "metadata": {},
   "outputs": [
    {
     "data": {
      "text/html": [
       "<div>\n",
       "<style scoped>\n",
       "    .dataframe tbody tr th:only-of-type {\n",
       "        vertical-align: middle;\n",
       "    }\n",
       "\n",
       "    .dataframe tbody tr th {\n",
       "        vertical-align: top;\n",
       "    }\n",
       "\n",
       "    .dataframe thead th {\n",
       "        text-align: right;\n",
       "    }\n",
       "</style>\n",
       "<table border=\"1\" class=\"dataframe\">\n",
       "  <thead>\n",
       "    <tr style=\"text-align: right;\">\n",
       "      <th></th>\n",
       "      <th>name</th>\n",
       "      <th>age</th>\n",
       "      <th>job</th>\n",
       "      <th>hobby</th>\n",
       "    </tr>\n",
       "  </thead>\n",
       "  <tbody>\n",
       "    <tr>\n",
       "      <th>0</th>\n",
       "      <td>신동엽</td>\n",
       "      <td>20</td>\n",
       "      <td>연예인</td>\n",
       "      <td>music</td>\n",
       "    </tr>\n",
       "    <tr>\n",
       "      <th>1</th>\n",
       "      <td>유재석</td>\n",
       "      <td>41</td>\n",
       "      <td>교수</td>\n",
       "      <td>art</td>\n",
       "    </tr>\n",
       "    <tr>\n",
       "      <th>2</th>\n",
       "      <td>김새롬</td>\n",
       "      <td>18</td>\n",
       "      <td>학생</td>\n",
       "      <td>study</td>\n",
       "    </tr>\n",
       "    <tr>\n",
       "      <th>3</th>\n",
       "      <td>이영자</td>\n",
       "      <td>45</td>\n",
       "      <td>상담사</td>\n",
       "      <td>talk</td>\n",
       "    </tr>\n",
       "    <tr>\n",
       "      <th>4</th>\n",
       "      <td>강호동</td>\n",
       "      <td>38</td>\n",
       "      <td>연예인</td>\n",
       "      <td>talk</td>\n",
       "    </tr>\n",
       "    <tr>\n",
       "      <th>5</th>\n",
       "      <td>신동엽</td>\n",
       "      <td>20</td>\n",
       "      <td>연예인</td>\n",
       "      <td>music</td>\n",
       "    </tr>\n",
       "  </tbody>\n",
       "</table>\n",
       "</div>"
      ],
      "text/plain": [
       "  name  age  job  hobby\n",
       "0  신동엽   20  연예인  music\n",
       "1  유재석   41   교수    art\n",
       "2  김새롬   18   학생  study\n",
       "3  이영자   45  상담사   talk\n",
       "4  강호동   38  연예인   talk\n",
       "5  신동엽   20  연예인  music"
      ]
     },
     "execution_count": 231,
     "metadata": {},
     "output_type": "execute_result"
    }
   ],
   "source": [
    "friend_dict_list = [{'name': '신동엽', 'age': 20, 'job': '연예인', 'hobby': 'music'},\n",
    "                    {'name': '유재석', 'age': 41, 'job': '교수', 'hobby': 'art'},\n",
    "                    {'name': '김새롬', 'age': 18, 'job': '학생', 'hobby': 'study'},\n",
    "                    {'name': '이영자', 'age': 45, 'job': '상담사', 'hobby': 'talk'},\n",
    "                    {'name':  '강호동', 'age': 38, 'job': '연예인', 'hobby': 'talk'},\n",
    "                    {'name': '신동엽', 'age': 20, 'job': '연예인', 'hobby': 'music'}]\n",
    "\n",
    "df = pd.DataFrame(friend_dict_list)\n",
    "df"
   ]
  },
  {
   "cell_type": "code",
   "execution_count": 233,
   "metadata": {},
   "outputs": [
    {
     "data": {
      "text/plain": [
       "0    False\n",
       "1    False\n",
       "2    False\n",
       "3    False\n",
       "4    False\n",
       "5     True\n",
       "dtype: bool"
      ]
     },
     "execution_count": 233,
     "metadata": {},
     "output_type": "execute_result"
    }
   ],
   "source": [
    "# duplicated() : 중복 데이터 여부 확인 가능한 함수\n",
    "df.duplicated()"
   ]
  },
  {
   "cell_type": "code",
   "execution_count": 236,
   "metadata": {},
   "outputs": [
    {
     "data": {
      "text/html": [
       "<div>\n",
       "<style scoped>\n",
       "    .dataframe tbody tr th:only-of-type {\n",
       "        vertical-align: middle;\n",
       "    }\n",
       "\n",
       "    .dataframe tbody tr th {\n",
       "        vertical-align: top;\n",
       "    }\n",
       "\n",
       "    .dataframe thead th {\n",
       "        text-align: right;\n",
       "    }\n",
       "</style>\n",
       "<table border=\"1\" class=\"dataframe\">\n",
       "  <thead>\n",
       "    <tr style=\"text-align: right;\">\n",
       "      <th></th>\n",
       "      <th>name</th>\n",
       "      <th>age</th>\n",
       "      <th>job</th>\n",
       "      <th>hobby</th>\n",
       "    </tr>\n",
       "  </thead>\n",
       "  <tbody>\n",
       "    <tr>\n",
       "      <th>0</th>\n",
       "      <td>신동엽</td>\n",
       "      <td>20</td>\n",
       "      <td>연예인</td>\n",
       "      <td>music</td>\n",
       "    </tr>\n",
       "    <tr>\n",
       "      <th>1</th>\n",
       "      <td>유재석</td>\n",
       "      <td>41</td>\n",
       "      <td>교수</td>\n",
       "      <td>art</td>\n",
       "    </tr>\n",
       "    <tr>\n",
       "      <th>2</th>\n",
       "      <td>김새롬</td>\n",
       "      <td>18</td>\n",
       "      <td>학생</td>\n",
       "      <td>study</td>\n",
       "    </tr>\n",
       "    <tr>\n",
       "      <th>3</th>\n",
       "      <td>이영자</td>\n",
       "      <td>45</td>\n",
       "      <td>상담사</td>\n",
       "      <td>talk</td>\n",
       "    </tr>\n",
       "    <tr>\n",
       "      <th>4</th>\n",
       "      <td>강호동</td>\n",
       "      <td>38</td>\n",
       "      <td>연예인</td>\n",
       "      <td>talk</td>\n",
       "    </tr>\n",
       "    <tr>\n",
       "      <th>5</th>\n",
       "      <td>신동엽</td>\n",
       "      <td>20</td>\n",
       "      <td>연예인</td>\n",
       "      <td>music</td>\n",
       "    </tr>\n",
       "  </tbody>\n",
       "</table>\n",
       "</div>"
      ],
      "text/plain": [
       "  name  age  job  hobby\n",
       "0  신동엽   20  연예인  music\n",
       "1  유재석   41   교수    art\n",
       "2  김새롬   18   학생  study\n",
       "3  이영자   45  상담사   talk\n",
       "4  강호동   38  연예인   talk\n",
       "5  신동엽   20  연예인  music"
      ]
     },
     "execution_count": 236,
     "metadata": {},
     "output_type": "execute_result"
    }
   ],
   "source": [
    "# drop_duplicates() : duplicated()의 값이 true인 데이터를 삭제, 중복된 데이터 삭제하는 함수\n",
    "df.drop_duplicates()\n",
    "df"
   ]
  },
  {
   "cell_type": "code",
   "execution_count": 237,
   "metadata": {},
   "outputs": [
    {
     "data": {
      "text/html": [
       "<div>\n",
       "<style scoped>\n",
       "    .dataframe tbody tr th:only-of-type {\n",
       "        vertical-align: middle;\n",
       "    }\n",
       "\n",
       "    .dataframe tbody tr th {\n",
       "        vertical-align: top;\n",
       "    }\n",
       "\n",
       "    .dataframe thead th {\n",
       "        text-align: right;\n",
       "    }\n",
       "</style>\n",
       "<table border=\"1\" class=\"dataframe\">\n",
       "  <thead>\n",
       "    <tr style=\"text-align: right;\">\n",
       "      <th></th>\n",
       "      <th>name</th>\n",
       "      <th>age</th>\n",
       "      <th>job</th>\n",
       "      <th>hobby</th>\n",
       "    </tr>\n",
       "  </thead>\n",
       "  <tbody>\n",
       "    <tr>\n",
       "      <th>0</th>\n",
       "      <td>신동엽</td>\n",
       "      <td>20</td>\n",
       "      <td>연예인</td>\n",
       "      <td>music</td>\n",
       "    </tr>\n",
       "    <tr>\n",
       "      <th>1</th>\n",
       "      <td>유재석</td>\n",
       "      <td>41</td>\n",
       "      <td>교수</td>\n",
       "      <td>art</td>\n",
       "    </tr>\n",
       "    <tr>\n",
       "      <th>2</th>\n",
       "      <td>김새롬</td>\n",
       "      <td>18</td>\n",
       "      <td>학생</td>\n",
       "      <td>study</td>\n",
       "    </tr>\n",
       "    <tr>\n",
       "      <th>3</th>\n",
       "      <td>이영자</td>\n",
       "      <td>45</td>\n",
       "      <td>상담사</td>\n",
       "      <td>talk</td>\n",
       "    </tr>\n",
       "    <tr>\n",
       "      <th>4</th>\n",
       "      <td>강호동</td>\n",
       "      <td>38</td>\n",
       "      <td>연예인</td>\n",
       "      <td>talk</td>\n",
       "    </tr>\n",
       "    <tr>\n",
       "      <th>5</th>\n",
       "      <td>신동엽</td>\n",
       "      <td>20</td>\n",
       "      <td>연예인</td>\n",
       "      <td>music</td>\n",
       "    </tr>\n",
       "  </tbody>\n",
       "</table>\n",
       "</div>"
      ],
      "text/plain": [
       "  name  age  job  hobby\n",
       "0  신동엽   20  연예인  music\n",
       "1  유재석   41   교수    art\n",
       "2  김새롬   18   학생  study\n",
       "3  이영자   45  상담사   talk\n",
       "4  강호동   38  연예인   talk\n",
       "5  신동엽   20  연예인  music"
      ]
     },
     "execution_count": 237,
     "metadata": {},
     "output_type": "execute_result"
    }
   ],
   "source": [
    "# step02 - 속성으로 선별해서 삭제\n",
    "\n",
    "friend_dict_list = [{'name': '신동엽', 'age': 20, 'job': '연예인', 'hobby': 'music'},\n",
    "                    {'name': '유재석', 'age': 41, 'job': '교수', 'hobby': 'art'},\n",
    "                    {'name': '김새롬', 'age': 18, 'job': '학생', 'hobby': 'study'},\n",
    "                    {'name': '이영자', 'age': 45, 'job': '상담사', 'hobby': 'talk'},\n",
    "                    {'name':  '강호동', 'age': 38, 'job': '연예인', 'hobby': 'talk'},\n",
    "                    {'name': '신동엽', 'age': 20, 'job': '연예인', 'hobby': 'music'}]\n",
    "\n",
    "df = pd.DataFrame(friend_dict_list)\n",
    "df"
   ]
  },
  {
   "cell_type": "code",
   "execution_count": 239,
   "metadata": {},
   "outputs": [
    {
     "data": {
      "text/html": [
       "<div>\n",
       "<style scoped>\n",
       "    .dataframe tbody tr th:only-of-type {\n",
       "        vertical-align: middle;\n",
       "    }\n",
       "\n",
       "    .dataframe tbody tr th {\n",
       "        vertical-align: top;\n",
       "    }\n",
       "\n",
       "    .dataframe thead th {\n",
       "        text-align: right;\n",
       "    }\n",
       "</style>\n",
       "<table border=\"1\" class=\"dataframe\">\n",
       "  <thead>\n",
       "    <tr style=\"text-align: right;\">\n",
       "      <th></th>\n",
       "      <th>name</th>\n",
       "      <th>age</th>\n",
       "      <th>job</th>\n",
       "      <th>hobby</th>\n",
       "    </tr>\n",
       "  </thead>\n",
       "  <tbody>\n",
       "    <tr>\n",
       "      <th>1</th>\n",
       "      <td>유재석</td>\n",
       "      <td>41</td>\n",
       "      <td>교수</td>\n",
       "      <td>art</td>\n",
       "    </tr>\n",
       "    <tr>\n",
       "      <th>2</th>\n",
       "      <td>김새롬</td>\n",
       "      <td>18</td>\n",
       "      <td>학생</td>\n",
       "      <td>study</td>\n",
       "    </tr>\n",
       "    <tr>\n",
       "      <th>3</th>\n",
       "      <td>이영자</td>\n",
       "      <td>45</td>\n",
       "      <td>상담사</td>\n",
       "      <td>talk</td>\n",
       "    </tr>\n",
       "    <tr>\n",
       "      <th>4</th>\n",
       "      <td>강호동</td>\n",
       "      <td>38</td>\n",
       "      <td>연예인</td>\n",
       "      <td>talk</td>\n",
       "    </tr>\n",
       "    <tr>\n",
       "      <th>5</th>\n",
       "      <td>신동엽</td>\n",
       "      <td>20</td>\n",
       "      <td>연예인</td>\n",
       "      <td>music</td>\n",
       "    </tr>\n",
       "  </tbody>\n",
       "</table>\n",
       "</div>"
      ],
      "text/plain": [
       "  name  age  job  hobby\n",
       "1  유재석   41   교수    art\n",
       "2  김새롬   18   학생  study\n",
       "3  이영자   45  상담사   talk\n",
       "4  강호동   38  연예인   talk\n",
       "5  신동엽   20  연예인  music"
      ]
     },
     "execution_count": 239,
     "metadata": {},
     "output_type": "execute_result"
    }
   ],
   "source": [
    "# keep 속성으로 마지막 중복 데이터 유지하고 첫번째 데이터 삭제\n",
    "# hint는 parameter에서 SHIFT TAB으로 확인\n",
    "df.drop_duplicates(keep='last')"
   ]
  },
  {
   "cell_type": "code",
   "execution_count": 240,
   "metadata": {},
   "outputs": [
    {
     "data": {
      "text/html": [
       "<div>\n",
       "<style scoped>\n",
       "    .dataframe tbody tr th:only-of-type {\n",
       "        vertical-align: middle;\n",
       "    }\n",
       "\n",
       "    .dataframe tbody tr th {\n",
       "        vertical-align: top;\n",
       "    }\n",
       "\n",
       "    .dataframe thead th {\n",
       "        text-align: right;\n",
       "    }\n",
       "</style>\n",
       "<table border=\"1\" class=\"dataframe\">\n",
       "  <thead>\n",
       "    <tr style=\"text-align: right;\">\n",
       "      <th></th>\n",
       "      <th>name</th>\n",
       "      <th>age</th>\n",
       "      <th>job</th>\n",
       "      <th>hobby</th>\n",
       "    </tr>\n",
       "  </thead>\n",
       "  <tbody>\n",
       "    <tr>\n",
       "      <th>0</th>\n",
       "      <td>신동엽</td>\n",
       "      <td>20</td>\n",
       "      <td>연예인</td>\n",
       "      <td>music</td>\n",
       "    </tr>\n",
       "    <tr>\n",
       "      <th>1</th>\n",
       "      <td>유재석</td>\n",
       "      <td>41</td>\n",
       "      <td>교수</td>\n",
       "      <td>art</td>\n",
       "    </tr>\n",
       "    <tr>\n",
       "      <th>2</th>\n",
       "      <td>김새롬</td>\n",
       "      <td>18</td>\n",
       "      <td>학생</td>\n",
       "      <td>study</td>\n",
       "    </tr>\n",
       "    <tr>\n",
       "      <th>3</th>\n",
       "      <td>이영자</td>\n",
       "      <td>45</td>\n",
       "      <td>상담사</td>\n",
       "      <td>talk</td>\n",
       "    </tr>\n",
       "    <tr>\n",
       "      <th>4</th>\n",
       "      <td>강호동</td>\n",
       "      <td>38</td>\n",
       "      <td>연예인</td>\n",
       "      <td>talk</td>\n",
       "    </tr>\n",
       "    <tr>\n",
       "      <th>5</th>\n",
       "      <td>신동엽</td>\n",
       "      <td>50</td>\n",
       "      <td>연예인</td>\n",
       "      <td>music</td>\n",
       "    </tr>\n",
       "  </tbody>\n",
       "</table>\n",
       "</div>"
      ],
      "text/plain": [
       "  name  age  job  hobby\n",
       "0  신동엽   20  연예인  music\n",
       "1  유재석   41   교수    art\n",
       "2  김새롬   18   학생  study\n",
       "3  이영자   45  상담사   talk\n",
       "4  강호동   38  연예인   talk\n",
       "5  신동엽   50  연예인  music"
      ]
     },
     "execution_count": 240,
     "metadata": {},
     "output_type": "execute_result"
    }
   ],
   "source": [
    "# step03 - 동명이인일 경우에 선별해서 삭제\n",
    "\n",
    "friend_dict_list = [{'name': '신동엽', 'age': 20, 'job': '연예인', 'hobby': 'music'},\n",
    "                    {'name': '유재석', 'age': 41, 'job': '교수', 'hobby': 'art'},\n",
    "                    {'name': '김새롬', 'age': 18, 'job': '학생', 'hobby': 'study'},\n",
    "                    {'name': '이영자', 'age': 45, 'job': '상담사', 'hobby': 'talk'},\n",
    "                    {'name':  '강호동', 'age': 38, 'job': '연예인', 'hobby': 'talk'},\n",
    "                    {'name': '신동엽', 'age': 50, 'job': '연예인', 'hobby': 'music'}]\n",
    "\n",
    "df = pd.DataFrame(friend_dict_list)\n",
    "df"
   ]
  },
  {
   "cell_type": "code",
   "execution_count": 242,
   "metadata": {},
   "outputs": [
    {
     "data": {
      "text/html": [
       "<div>\n",
       "<style scoped>\n",
       "    .dataframe tbody tr th:only-of-type {\n",
       "        vertical-align: middle;\n",
       "    }\n",
       "\n",
       "    .dataframe tbody tr th {\n",
       "        vertical-align: top;\n",
       "    }\n",
       "\n",
       "    .dataframe thead th {\n",
       "        text-align: right;\n",
       "    }\n",
       "</style>\n",
       "<table border=\"1\" class=\"dataframe\">\n",
       "  <thead>\n",
       "    <tr style=\"text-align: right;\">\n",
       "      <th></th>\n",
       "      <th>name</th>\n",
       "      <th>age</th>\n",
       "      <th>job</th>\n",
       "      <th>hobby</th>\n",
       "    </tr>\n",
       "  </thead>\n",
       "  <tbody>\n",
       "    <tr>\n",
       "      <th>1</th>\n",
       "      <td>유재석</td>\n",
       "      <td>41</td>\n",
       "      <td>교수</td>\n",
       "      <td>art</td>\n",
       "    </tr>\n",
       "    <tr>\n",
       "      <th>2</th>\n",
       "      <td>김새롬</td>\n",
       "      <td>18</td>\n",
       "      <td>학생</td>\n",
       "      <td>study</td>\n",
       "    </tr>\n",
       "    <tr>\n",
       "      <th>3</th>\n",
       "      <td>이영자</td>\n",
       "      <td>45</td>\n",
       "      <td>상담사</td>\n",
       "      <td>talk</td>\n",
       "    </tr>\n",
       "    <tr>\n",
       "      <th>4</th>\n",
       "      <td>강호동</td>\n",
       "      <td>38</td>\n",
       "      <td>연예인</td>\n",
       "      <td>talk</td>\n",
       "    </tr>\n",
       "    <tr>\n",
       "      <th>5</th>\n",
       "      <td>신동엽</td>\n",
       "      <td>50</td>\n",
       "      <td>연예인</td>\n",
       "      <td>music</td>\n",
       "    </tr>\n",
       "  </tbody>\n",
       "</table>\n",
       "</div>"
      ],
      "text/plain": [
       "  name  age  job  hobby\n",
       "1  유재석   41   교수    art\n",
       "2  김새롬   18   학생  study\n",
       "3  이영자   45  상담사   talk\n",
       "4  강호동   38  연예인   talk\n",
       "5  신동엽   50  연예인  music"
      ]
     },
     "execution_count": 242,
     "metadata": {},
     "output_type": "execute_result"
    }
   ],
   "source": [
    "# 원본 DataFrame에서 수정해서 새로 생성된 DataFrame 객체\n",
    "# df에 대입하지 않을 경우 원본 유지되는 구조\n",
    "\n",
    "df.drop_duplicates('name', keep='last')"
   ]
  },
  {
   "cell_type": "code",
   "execution_count": 243,
   "metadata": {},
   "outputs": [
    {
     "data": {
      "text/html": [
       "<div>\n",
       "<style scoped>\n",
       "    .dataframe tbody tr th:only-of-type {\n",
       "        vertical-align: middle;\n",
       "    }\n",
       "\n",
       "    .dataframe tbody tr th {\n",
       "        vertical-align: top;\n",
       "    }\n",
       "\n",
       "    .dataframe thead th {\n",
       "        text-align: right;\n",
       "    }\n",
       "</style>\n",
       "<table border=\"1\" class=\"dataframe\">\n",
       "  <thead>\n",
       "    <tr style=\"text-align: right;\">\n",
       "      <th></th>\n",
       "      <th>name</th>\n",
       "      <th>age</th>\n",
       "      <th>job</th>\n",
       "      <th>hobby</th>\n",
       "    </tr>\n",
       "  </thead>\n",
       "  <tbody>\n",
       "    <tr>\n",
       "      <th>0</th>\n",
       "      <td>신동엽</td>\n",
       "      <td>20</td>\n",
       "      <td>연예인</td>\n",
       "      <td>music</td>\n",
       "    </tr>\n",
       "    <tr>\n",
       "      <th>1</th>\n",
       "      <td>유재석</td>\n",
       "      <td>41</td>\n",
       "      <td>교수</td>\n",
       "      <td>art</td>\n",
       "    </tr>\n",
       "    <tr>\n",
       "      <th>2</th>\n",
       "      <td>김새롬</td>\n",
       "      <td>18</td>\n",
       "      <td>학생</td>\n",
       "      <td>study</td>\n",
       "    </tr>\n",
       "    <tr>\n",
       "      <th>3</th>\n",
       "      <td>이영자</td>\n",
       "      <td>45</td>\n",
       "      <td>상담사</td>\n",
       "      <td>talk</td>\n",
       "    </tr>\n",
       "    <tr>\n",
       "      <th>4</th>\n",
       "      <td>강호동</td>\n",
       "      <td>38</td>\n",
       "      <td>연예인</td>\n",
       "      <td>talk</td>\n",
       "    </tr>\n",
       "    <tr>\n",
       "      <th>5</th>\n",
       "      <td>신동엽</td>\n",
       "      <td>50</td>\n",
       "      <td>연예인</td>\n",
       "      <td>music</td>\n",
       "    </tr>\n",
       "  </tbody>\n",
       "</table>\n",
       "</div>"
      ],
      "text/plain": [
       "  name  age  job  hobby\n",
       "0  신동엽   20  연예인  music\n",
       "1  유재석   41   교수    art\n",
       "2  김새롬   18   학생  study\n",
       "3  이영자   45  상담사   talk\n",
       "4  강호동   38  연예인   talk\n",
       "5  신동엽   50  연예인  music"
      ]
     },
     "execution_count": 243,
     "metadata": {},
     "output_type": "execute_result"
    }
   ],
   "source": [
    "df"
   ]
  },
  {
   "cell_type": "code",
   "execution_count": 244,
   "metadata": {},
   "outputs": [
    {
     "data": {
      "text/html": [
       "<div>\n",
       "<style scoped>\n",
       "    .dataframe tbody tr th:only-of-type {\n",
       "        vertical-align: middle;\n",
       "    }\n",
       "\n",
       "    .dataframe tbody tr th {\n",
       "        vertical-align: top;\n",
       "    }\n",
       "\n",
       "    .dataframe thead th {\n",
       "        text-align: right;\n",
       "    }\n",
       "</style>\n",
       "<table border=\"1\" class=\"dataframe\">\n",
       "  <thead>\n",
       "    <tr style=\"text-align: right;\">\n",
       "      <th></th>\n",
       "      <th>name</th>\n",
       "      <th>age</th>\n",
       "      <th>job</th>\n",
       "      <th>hobby</th>\n",
       "    </tr>\n",
       "  </thead>\n",
       "  <tbody>\n",
       "    <tr>\n",
       "      <th>0</th>\n",
       "      <td>신동엽</td>\n",
       "      <td>20</td>\n",
       "      <td>연예인</td>\n",
       "      <td>music</td>\n",
       "    </tr>\n",
       "    <tr>\n",
       "      <th>1</th>\n",
       "      <td>유재석</td>\n",
       "      <td>41</td>\n",
       "      <td>교수</td>\n",
       "      <td>art</td>\n",
       "    </tr>\n",
       "    <tr>\n",
       "      <th>2</th>\n",
       "      <td>김새롬</td>\n",
       "      <td>18</td>\n",
       "      <td>학생</td>\n",
       "      <td>study</td>\n",
       "    </tr>\n",
       "    <tr>\n",
       "      <th>3</th>\n",
       "      <td>이영자</td>\n",
       "      <td>45</td>\n",
       "      <td>상담사</td>\n",
       "      <td>talk</td>\n",
       "    </tr>\n",
       "    <tr>\n",
       "      <th>4</th>\n",
       "      <td>강호동</td>\n",
       "      <td>38</td>\n",
       "      <td>연예인</td>\n",
       "      <td>talk</td>\n",
       "    </tr>\n",
       "    <tr>\n",
       "      <th>5</th>\n",
       "      <td>신동엽</td>\n",
       "      <td>50</td>\n",
       "      <td>연예인</td>\n",
       "      <td>music</td>\n",
       "    </tr>\n",
       "  </tbody>\n",
       "</table>\n",
       "</div>"
      ],
      "text/plain": [
       "  name  age  job  hobby\n",
       "0  신동엽   20  연예인  music\n",
       "1  유재석   41   교수    art\n",
       "2  김새롬   18   학생  study\n",
       "3  이영자   45  상담사   talk\n",
       "4  강호동   38  연예인   talk\n",
       "5  신동엽   50  연예인  music"
      ]
     },
     "execution_count": 244,
     "metadata": {},
     "output_type": "execute_result"
    }
   ],
   "source": [
    "# step04 - 원본 DataFrame 자체에 수정 사항 바로 반영하는 속성\n",
    "\n",
    "friend_dict_list = [{'name': '신동엽', 'age': 20, 'job': '연예인', 'hobby': 'music'},\n",
    "                    {'name': '유재석', 'age': 41, 'job': '교수', 'hobby': 'art'},\n",
    "                    {'name': '김새롬', 'age': 18, 'job': '학생', 'hobby': 'study'},\n",
    "                    {'name': '이영자', 'age': 45, 'job': '상담사', 'hobby': 'talk'},\n",
    "                    {'name':  '강호동', 'age': 38, 'job': '연예인', 'hobby': 'talk'},\n",
    "                    {'name': '신동엽', 'age': 50, 'job': '연예인', 'hobby': 'music'}]\n",
    "\n",
    "df = pd.DataFrame(friend_dict_list)\n",
    "df"
   ]
  },
  {
   "cell_type": "code",
   "execution_count": 246,
   "metadata": {},
   "outputs": [
    {
     "data": {
      "text/html": [
       "<div>\n",
       "<style scoped>\n",
       "    .dataframe tbody tr th:only-of-type {\n",
       "        vertical-align: middle;\n",
       "    }\n",
       "\n",
       "    .dataframe tbody tr th {\n",
       "        vertical-align: top;\n",
       "    }\n",
       "\n",
       "    .dataframe thead th {\n",
       "        text-align: right;\n",
       "    }\n",
       "</style>\n",
       "<table border=\"1\" class=\"dataframe\">\n",
       "  <thead>\n",
       "    <tr style=\"text-align: right;\">\n",
       "      <th></th>\n",
       "      <th>name</th>\n",
       "      <th>age</th>\n",
       "      <th>job</th>\n",
       "      <th>hobby</th>\n",
       "    </tr>\n",
       "  </thead>\n",
       "  <tbody>\n",
       "    <tr>\n",
       "      <th>1</th>\n",
       "      <td>유재석</td>\n",
       "      <td>41</td>\n",
       "      <td>교수</td>\n",
       "      <td>art</td>\n",
       "    </tr>\n",
       "    <tr>\n",
       "      <th>2</th>\n",
       "      <td>김새롬</td>\n",
       "      <td>18</td>\n",
       "      <td>학생</td>\n",
       "      <td>study</td>\n",
       "    </tr>\n",
       "    <tr>\n",
       "      <th>3</th>\n",
       "      <td>이영자</td>\n",
       "      <td>45</td>\n",
       "      <td>상담사</td>\n",
       "      <td>talk</td>\n",
       "    </tr>\n",
       "    <tr>\n",
       "      <th>4</th>\n",
       "      <td>강호동</td>\n",
       "      <td>38</td>\n",
       "      <td>연예인</td>\n",
       "      <td>talk</td>\n",
       "    </tr>\n",
       "    <tr>\n",
       "      <th>5</th>\n",
       "      <td>신동엽</td>\n",
       "      <td>50</td>\n",
       "      <td>연예인</td>\n",
       "      <td>music</td>\n",
       "    </tr>\n",
       "  </tbody>\n",
       "</table>\n",
       "</div>"
      ],
      "text/plain": [
       "  name  age  job  hobby\n",
       "1  유재석   41   교수    art\n",
       "2  김새롬   18   학생  study\n",
       "3  이영자   45  상담사   talk\n",
       "4  강호동   38  연예인   talk\n",
       "5  신동엽   50  연예인  music"
      ]
     },
     "execution_count": 246,
     "metadata": {},
     "output_type": "execute_result"
    }
   ],
   "source": [
    "# inplace=True : 원본에 실제 변경 사항을 여과없이 적용, 원본 수정\n",
    "\n",
    "df.drop_duplicates('name', keep='last', inplace=True)\n",
    "df"
   ]
  },
  {
   "cell_type": "code",
   "execution_count": 249,
   "metadata": {},
   "outputs": [
    {
     "name": "stdout",
     "output_type": "stream",
     "text": [
      "<class 'pandas.core.frame.DataFrame'>\n",
      "Int64Index: 5 entries, 1 to 5\n",
      "Data columns (total 4 columns):\n",
      " #   Column  Non-Null Count  Dtype \n",
      "---  ------  --------------  ----- \n",
      " 0   name    5 non-null      object\n",
      " 1   age     5 non-null      int64 \n",
      " 2   job     5 non-null      object\n",
      " 3   hobby   5 non-null      object\n",
      "dtypes: int64(1), object(3)\n",
      "memory usage: 200.0+ bytes\n"
     ]
    }
   ],
   "source": [
    "df.info()"
   ]
  },
  {
   "cell_type": "markdown",
   "metadata": {},
   "source": [
    "### 결측치 처리"
   ]
  },
  {
   "cell_type": "code",
   "execution_count": 277,
   "metadata": {},
   "outputs": [
    {
     "data": {
      "text/html": [
       "<div>\n",
       "<style scoped>\n",
       "    .dataframe tbody tr th:only-of-type {\n",
       "        vertical-align: middle;\n",
       "    }\n",
       "\n",
       "    .dataframe tbody tr th {\n",
       "        vertical-align: top;\n",
       "    }\n",
       "\n",
       "    .dataframe thead th {\n",
       "        text-align: right;\n",
       "    }\n",
       "</style>\n",
       "<table border=\"1\" class=\"dataframe\">\n",
       "  <thead>\n",
       "    <tr style=\"text-align: right;\">\n",
       "      <th></th>\n",
       "      <th>name</th>\n",
       "      <th>age</th>\n",
       "      <th>job</th>\n",
       "      <th>hobby</th>\n",
       "    </tr>\n",
       "  </thead>\n",
       "  <tbody>\n",
       "    <tr>\n",
       "      <th>0</th>\n",
       "      <td>신동엽</td>\n",
       "      <td>20.0</td>\n",
       "      <td>연예인</td>\n",
       "      <td>music</td>\n",
       "    </tr>\n",
       "    <tr>\n",
       "      <th>1</th>\n",
       "      <td>유재석</td>\n",
       "      <td>41.0</td>\n",
       "      <td>교수</td>\n",
       "      <td>art</td>\n",
       "    </tr>\n",
       "    <tr>\n",
       "      <th>2</th>\n",
       "      <td>김새롬</td>\n",
       "      <td>18.0</td>\n",
       "      <td>학생</td>\n",
       "      <td>study</td>\n",
       "    </tr>\n",
       "    <tr>\n",
       "      <th>3</th>\n",
       "      <td>이영자</td>\n",
       "      <td>45.0</td>\n",
       "      <td>상담사</td>\n",
       "      <td>talk</td>\n",
       "    </tr>\n",
       "    <tr>\n",
       "      <th>4</th>\n",
       "      <td>강호동</td>\n",
       "      <td>38.0</td>\n",
       "      <td>연예인</td>\n",
       "      <td>talk</td>\n",
       "    </tr>\n",
       "    <tr>\n",
       "      <th>5</th>\n",
       "      <td>신동엽</td>\n",
       "      <td>NaN</td>\n",
       "      <td>연예인</td>\n",
       "      <td>music</td>\n",
       "    </tr>\n",
       "  </tbody>\n",
       "</table>\n",
       "</div>"
      ],
      "text/plain": [
       "  name   age  job  hobby\n",
       "0  신동엽  20.0  연예인  music\n",
       "1  유재석  41.0   교수    art\n",
       "2  김새롬  18.0   학생  study\n",
       "3  이영자  45.0  상담사   talk\n",
       "4  강호동  38.0  연예인   talk\n",
       "5  신동엽   NaN  연예인  music"
      ]
     },
     "execution_count": 277,
     "metadata": {},
     "output_type": "execute_result"
    }
   ],
   "source": [
    "friend_dict_list = [{'name': '신동엽', 'age': 20, 'job': '연예인', 'hobby': 'music'},\n",
    "                    {'name': '유재석', 'age': 41, 'job': '교수', 'hobby': 'art'},\n",
    "                    {'name': '김새롬', 'age': 18, 'job': '학생', 'hobby': 'study'},\n",
    "                    {'name': '이영자', 'age': 45, 'job': '상담사', 'hobby': 'talk'},\n",
    "                    {'name':  '강호동', 'age': 38, 'job': '연예인', 'hobby': 'talk'},\n",
    "                    {'name': '신동엽', 'age': None, 'job': '연예인', 'hobby': 'music'}]\n",
    "df = pd.DataFrame(friend_dict_list)\n",
    "df"
   ]
  },
  {
   "cell_type": "code",
   "execution_count": 278,
   "metadata": {},
   "outputs": [
    {
     "name": "stdout",
     "output_type": "stream",
     "text": [
      "<class 'pandas.core.frame.DataFrame'>\n",
      "RangeIndex: 6 entries, 0 to 5\n",
      "Data columns (total 4 columns):\n",
      " #   Column  Non-Null Count  Dtype  \n",
      "---  ------  --------------  -----  \n",
      " 0   name    6 non-null      object \n",
      " 1   age     5 non-null      float64\n",
      " 2   job     6 non-null      object \n",
      " 3   hobby   6 non-null      object \n",
      "dtypes: float64(1), object(3)\n",
      "memory usage: 320.0+ bytes\n"
     ]
    }
   ],
   "source": [
    "# index명 5 라는 위치의 신동엽의 age는 결측치\n",
    "# info() 로 non-null 값으로 결측치 여부 확인 가능\n",
    "\n",
    "# 저 결측치를 어떻게 처리할까?\n",
    "# age는 절대 결측치일리가 없음, 나이가 없는 친구가 없기 때문\n",
    "# age의 Non은 어떻게 할까? 지울까? 대체?(평균? 중앙값? 최빈값?....)\n",
    "\n",
    "\n",
    "df.info()"
   ]
  },
  {
   "cell_type": "code",
   "execution_count": 280,
   "metadata": {},
   "outputs": [
    {
     "data": {
      "text/html": [
       "<div>\n",
       "<style scoped>\n",
       "    .dataframe tbody tr th:only-of-type {\n",
       "        vertical-align: middle;\n",
       "    }\n",
       "\n",
       "    .dataframe tbody tr th {\n",
       "        vertical-align: top;\n",
       "    }\n",
       "\n",
       "    .dataframe thead th {\n",
       "        text-align: right;\n",
       "    }\n",
       "</style>\n",
       "<table border=\"1\" class=\"dataframe\">\n",
       "  <thead>\n",
       "    <tr style=\"text-align: right;\">\n",
       "      <th></th>\n",
       "      <th>name</th>\n",
       "      <th>age</th>\n",
       "      <th>job</th>\n",
       "      <th>hobby</th>\n",
       "    </tr>\n",
       "  </thead>\n",
       "  <tbody>\n",
       "    <tr>\n",
       "      <th>0</th>\n",
       "      <td>신동엽</td>\n",
       "      <td>20.0</td>\n",
       "      <td>연예인</td>\n",
       "      <td>music</td>\n",
       "    </tr>\n",
       "    <tr>\n",
       "      <th>1</th>\n",
       "      <td>유재석</td>\n",
       "      <td>41.0</td>\n",
       "      <td>교수</td>\n",
       "      <td>art</td>\n",
       "    </tr>\n",
       "    <tr>\n",
       "      <th>2</th>\n",
       "      <td>김새롬</td>\n",
       "      <td>18.0</td>\n",
       "      <td>학생</td>\n",
       "      <td>study</td>\n",
       "    </tr>\n",
       "    <tr>\n",
       "      <th>3</th>\n",
       "      <td>이영자</td>\n",
       "      <td>45.0</td>\n",
       "      <td>상담사</td>\n",
       "      <td>talk</td>\n",
       "    </tr>\n",
       "    <tr>\n",
       "      <th>4</th>\n",
       "      <td>강호동</td>\n",
       "      <td>38.0</td>\n",
       "      <td>연예인</td>\n",
       "      <td>talk</td>\n",
       "    </tr>\n",
       "    <tr>\n",
       "      <th>5</th>\n",
       "      <td>신동엽</td>\n",
       "      <td>NaN</td>\n",
       "      <td>연예인</td>\n",
       "      <td>music</td>\n",
       "    </tr>\n",
       "  </tbody>\n",
       "</table>\n",
       "</div>"
      ],
      "text/plain": [
       "  name   age  job  hobby\n",
       "0  신동엽  20.0  연예인  music\n",
       "1  유재석  41.0   교수    art\n",
       "2  김새롬  18.0   학생  study\n",
       "3  이영자  45.0  상담사   talk\n",
       "4  강호동  38.0  연예인   talk\n",
       "5  신동엽   NaN  연예인  music"
      ]
     },
     "execution_count": 280,
     "metadata": {},
     "output_type": "execute_result"
    }
   ],
   "source": [
    "df"
   ]
  },
  {
   "cell_type": "code",
   "execution_count": 282,
   "metadata": {},
   "outputs": [
    {
     "data": {
      "text/html": [
       "<div>\n",
       "<style scoped>\n",
       "    .dataframe tbody tr th:only-of-type {\n",
       "        vertical-align: middle;\n",
       "    }\n",
       "\n",
       "    .dataframe tbody tr th {\n",
       "        vertical-align: top;\n",
       "    }\n",
       "\n",
       "    .dataframe thead th {\n",
       "        text-align: right;\n",
       "    }\n",
       "</style>\n",
       "<table border=\"1\" class=\"dataframe\">\n",
       "  <thead>\n",
       "    <tr style=\"text-align: right;\">\n",
       "      <th></th>\n",
       "      <th>name</th>\n",
       "      <th>age</th>\n",
       "      <th>job</th>\n",
       "      <th>hobby</th>\n",
       "    </tr>\n",
       "  </thead>\n",
       "  <tbody>\n",
       "    <tr>\n",
       "      <th>0</th>\n",
       "      <td>False</td>\n",
       "      <td>False</td>\n",
       "      <td>False</td>\n",
       "      <td>False</td>\n",
       "    </tr>\n",
       "    <tr>\n",
       "      <th>1</th>\n",
       "      <td>False</td>\n",
       "      <td>False</td>\n",
       "      <td>False</td>\n",
       "      <td>False</td>\n",
       "    </tr>\n",
       "    <tr>\n",
       "      <th>2</th>\n",
       "      <td>False</td>\n",
       "      <td>False</td>\n",
       "      <td>False</td>\n",
       "      <td>False</td>\n",
       "    </tr>\n",
       "    <tr>\n",
       "      <th>3</th>\n",
       "      <td>False</td>\n",
       "      <td>False</td>\n",
       "      <td>False</td>\n",
       "      <td>False</td>\n",
       "    </tr>\n",
       "    <tr>\n",
       "      <th>4</th>\n",
       "      <td>False</td>\n",
       "      <td>False</td>\n",
       "      <td>False</td>\n",
       "      <td>False</td>\n",
       "    </tr>\n",
       "    <tr>\n",
       "      <th>5</th>\n",
       "      <td>False</td>\n",
       "      <td>True</td>\n",
       "      <td>False</td>\n",
       "      <td>False</td>\n",
       "    </tr>\n",
       "  </tbody>\n",
       "</table>\n",
       "</div>"
      ],
      "text/plain": [
       "    name    age    job  hobby\n",
       "0  False  False  False  False\n",
       "1  False  False  False  False\n",
       "2  False  False  False  False\n",
       "3  False  False  False  False\n",
       "4  False  False  False  False\n",
       "5  False   True  False  False"
      ]
     },
     "execution_count": 282,
     "metadata": {},
     "output_type": "execute_result"
    }
   ],
   "source": [
    "# null(결측치, NaN과 동일한 표현)\n",
    "# isnull() : null값 확인 함수, True 값을 표현하는 것은 NaN에 해당하는 데이터인 경우\n",
    "\n",
    "df.isnull()"
   ]
  },
  {
   "cell_type": "code",
   "execution_count": 283,
   "metadata": {},
   "outputs": [
    {
     "data": {
      "text/plain": [
       "162.0"
      ]
     },
     "execution_count": 283,
     "metadata": {},
     "output_type": "execute_result"
    }
   ],
   "source": [
    "# age시리즈에 대한 총합\n",
    "\n",
    "df['age'].sum()"
   ]
  },
  {
   "cell_type": "code",
   "execution_count": 286,
   "metadata": {},
   "outputs": [
    {
     "data": {
      "text/plain": [
       "32.4"
      ]
     },
     "execution_count": 286,
     "metadata": {},
     "output_type": "execute_result"
    }
   ],
   "source": [
    "# age 시리즈에 대한 평균\n",
    "\n",
    "df['age'].mean()"
   ]
  },
  {
   "cell_type": "code",
   "execution_count": 288,
   "metadata": {},
   "outputs": [
    {
     "data": {
      "text/plain": [
       "45.0"
      ]
     },
     "execution_count": 288,
     "metadata": {},
     "output_type": "execute_result"
    }
   ],
   "source": [
    "df['age'].max()"
   ]
  },
  {
   "cell_type": "code",
   "execution_count": 289,
   "metadata": {},
   "outputs": [
    {
     "data": {
      "text/plain": [
       "18.0"
      ]
     },
     "execution_count": 289,
     "metadata": {},
     "output_type": "execute_result"
    }
   ],
   "source": [
    "df['age'].min()"
   ]
  },
  {
   "cell_type": "code",
   "execution_count": null,
   "metadata": {},
   "outputs": [],
   "source": []
  },
  {
   "cell_type": "code",
   "execution_count": 291,
   "metadata": {},
   "outputs": [
    {
     "data": {
      "text/html": [
       "<div>\n",
       "<style scoped>\n",
       "    .dataframe tbody tr th:only-of-type {\n",
       "        vertical-align: middle;\n",
       "    }\n",
       "\n",
       "    .dataframe tbody tr th {\n",
       "        vertical-align: top;\n",
       "    }\n",
       "\n",
       "    .dataframe thead th {\n",
       "        text-align: right;\n",
       "    }\n",
       "</style>\n",
       "<table border=\"1\" class=\"dataframe\">\n",
       "  <thead>\n",
       "    <tr style=\"text-align: right;\">\n",
       "      <th></th>\n",
       "      <th>name</th>\n",
       "      <th>age</th>\n",
       "      <th>job</th>\n",
       "      <th>hobby</th>\n",
       "    </tr>\n",
       "  </thead>\n",
       "  <tbody>\n",
       "    <tr>\n",
       "      <th>0</th>\n",
       "      <td>신동엽</td>\n",
       "      <td>20.0</td>\n",
       "      <td>연예인</td>\n",
       "      <td>music</td>\n",
       "    </tr>\n",
       "    <tr>\n",
       "      <th>1</th>\n",
       "      <td>유재석</td>\n",
       "      <td>41.0</td>\n",
       "      <td>교수</td>\n",
       "      <td>art</td>\n",
       "    </tr>\n",
       "    <tr>\n",
       "      <th>2</th>\n",
       "      <td>김새롬</td>\n",
       "      <td>18.0</td>\n",
       "      <td>학생</td>\n",
       "      <td>study</td>\n",
       "    </tr>\n",
       "    <tr>\n",
       "      <th>3</th>\n",
       "      <td>이영자</td>\n",
       "      <td>45.0</td>\n",
       "      <td>상담사</td>\n",
       "      <td>talk</td>\n",
       "    </tr>\n",
       "    <tr>\n",
       "      <th>4</th>\n",
       "      <td>강호동</td>\n",
       "      <td>38.0</td>\n",
       "      <td>연예인</td>\n",
       "      <td>talk</td>\n",
       "    </tr>\n",
       "    <tr>\n",
       "      <th>5</th>\n",
       "      <td>신동엽</td>\n",
       "      <td>32.4</td>\n",
       "      <td>연예인</td>\n",
       "      <td>music</td>\n",
       "    </tr>\n",
       "  </tbody>\n",
       "</table>\n",
       "</div>"
      ],
      "text/plain": [
       "  name   age  job  hobby\n",
       "0  신동엽  20.0  연예인  music\n",
       "1  유재석  41.0   교수    art\n",
       "2  김새롬  18.0   학생  study\n",
       "3  이영자  45.0  상담사   talk\n",
       "4  강호동  38.0  연예인   talk\n",
       "5  신동엽  32.4  연예인  music"
      ]
     },
     "execution_count": 291,
     "metadata": {},
     "output_type": "execute_result"
    }
   ],
   "source": [
    "# 결측치 어떤 값으로 치환?\n",
    "# age의 평균을 구해서 df의 age 값이 결측치에 한해서만 평균값 적용\n",
    "\n",
    "# df['age'].mean() - age의 평균\n",
    "# fillna(결측치에 적용될 데이터, inplace=True(갱신된내용 원본에 적용))\n",
    "# 남성?여성? 빈도에 맞춰서 남성이 많다면 남성 평균으로만 적용\n",
    "\n",
    "\n",
    "df.fillna(df['age'].mean(), inplace=True)\n",
    "df"
   ]
  },
  {
   "cell_type": "code",
   "execution_count": null,
   "metadata": {},
   "outputs": [],
   "source": []
  },
  {
   "cell_type": "code",
   "execution_count": null,
   "metadata": {},
   "outputs": [],
   "source": []
  },
  {
   "cell_type": "markdown",
   "metadata": {},
   "source": [
    "### 그룹화 하기"
   ]
  },
  {
   "cell_type": "code",
   "execution_count": null,
   "metadata": {},
   "outputs": [],
   "source": []
  },
  {
   "cell_type": "code",
   "execution_count": 398,
   "metadata": {},
   "outputs": [
    {
     "data": {
      "text/html": [
       "<div>\n",
       "<style scoped>\n",
       "    .dataframe tbody tr th:only-of-type {\n",
       "        vertical-align: middle;\n",
       "    }\n",
       "\n",
       "    .dataframe tbody tr th {\n",
       "        vertical-align: top;\n",
       "    }\n",
       "\n",
       "    .dataframe thead th {\n",
       "        text-align: right;\n",
       "    }\n",
       "</style>\n",
       "<table border=\"1\" class=\"dataframe\">\n",
       "  <thead>\n",
       "    <tr style=\"text-align: right;\">\n",
       "      <th></th>\n",
       "      <th>name</th>\n",
       "      <th>age</th>\n",
       "      <th>job</th>\n",
       "      <th>hobby</th>\n",
       "    </tr>\n",
       "  </thead>\n",
       "  <tbody>\n",
       "    <tr>\n",
       "      <th>0</th>\n",
       "      <td>신동엽</td>\n",
       "      <td>20.0</td>\n",
       "      <td>연예인</td>\n",
       "      <td>music</td>\n",
       "    </tr>\n",
       "    <tr>\n",
       "      <th>1</th>\n",
       "      <td>유재석</td>\n",
       "      <td>41.0</td>\n",
       "      <td>교수</td>\n",
       "      <td>art</td>\n",
       "    </tr>\n",
       "    <tr>\n",
       "      <th>2</th>\n",
       "      <td>김새롬</td>\n",
       "      <td>18.0</td>\n",
       "      <td>학생</td>\n",
       "      <td>study</td>\n",
       "    </tr>\n",
       "    <tr>\n",
       "      <th>3</th>\n",
       "      <td>이영자</td>\n",
       "      <td>45.0</td>\n",
       "      <td>상담사</td>\n",
       "      <td>talk</td>\n",
       "    </tr>\n",
       "    <tr>\n",
       "      <th>4</th>\n",
       "      <td>강호동</td>\n",
       "      <td>38.0</td>\n",
       "      <td>연예인</td>\n",
       "      <td>talk</td>\n",
       "    </tr>\n",
       "    <tr>\n",
       "      <th>5</th>\n",
       "      <td>신동엽</td>\n",
       "      <td>32.4</td>\n",
       "      <td>연예인</td>\n",
       "      <td>music</td>\n",
       "    </tr>\n",
       "  </tbody>\n",
       "</table>\n",
       "</div>"
      ],
      "text/plain": [
       "  name   age  job  hobby\n",
       "0  신동엽  20.0  연예인  music\n",
       "1  유재석  41.0   교수    art\n",
       "2  김새롬  18.0   학생  study\n",
       "3  이영자  45.0  상담사   talk\n",
       "4  강호동  38.0  연예인   talk\n",
       "5  신동엽  32.4  연예인  music"
      ]
     },
     "execution_count": 398,
     "metadata": {},
     "output_type": "execute_result"
    }
   ],
   "source": [
    "# None 값을 0 값으로 치환\n",
    "\n",
    "friend_dict_list = [{'name': '신동엽', 'age': 20, 'job': '연예인', 'hobby': 'music'},\n",
    "                    {'name': '유재석', 'age': 41, 'job': '교수', 'hobby': 'art'},\n",
    "                    {'name': '김새롬', 'age': 18, 'job': '학생', 'hobby': 'study'},\n",
    "                    {'name': '이영자', 'age': 45, 'job': '상담사', 'hobby': 'talk'},\n",
    "                    {'name':  '강호동', 'age': 38, 'job': '연예인', 'hobby': 'talk'},\n",
    "                    {'name': '신동엽', 'age': None, 'job': '연예인', 'hobby': 'music'}]\n",
    "\n",
    "df = pd.DataFrame(friend_dict_list)\n",
    "df['age'].fillna(df['age'].mean(), inplace=True)\n",
    "df"
   ]
  },
  {
   "cell_type": "code",
   "execution_count": 352,
   "metadata": {},
   "outputs": [
    {
     "data": {
      "text/plain": [
       "<pandas.core.groupby.generic.DataFrameGroupBy object at 0x0000018AFDC671F0>"
      ]
     },
     "execution_count": 352,
     "metadata": {},
     "output_type": "execute_result"
    }
   ],
   "source": [
    "df.groupby('job')"
   ]
  },
  {
   "cell_type": "code",
   "execution_count": null,
   "metadata": {},
   "outputs": [],
   "source": []
  },
  {
   "cell_type": "markdown",
   "metadata": {},
   "source": [
    "1. job 종류 확인 : unique()\n",
    "2. job 별 개수 확인 :  value_counts()"
   ]
  },
  {
   "cell_type": "code",
   "execution_count": 353,
   "metadata": {},
   "outputs": [
    {
     "data": {
      "text/plain": [
       "name  age   job  hobby\n",
       "이영자   45.0  상담사  talk     1\n",
       "유재석   41.0  교수   art      1\n",
       "신동엽   32.4  연예인  music    1\n",
       "      20.0  연예인  music    1\n",
       "김새롬   18.0  학생   study    1\n",
       "강호동   38.0  연예인  talk     1\n",
       "dtype: int64"
      ]
     },
     "execution_count": 353,
     "metadata": {},
     "output_type": "execute_result"
    }
   ],
   "source": [
    "df.value_counts()"
   ]
  },
  {
   "cell_type": "code",
   "execution_count": 354,
   "metadata": {},
   "outputs": [
    {
     "data": {
      "text/plain": [
       "연예인    3\n",
       "학생     1\n",
       "교수     1\n",
       "상담사    1\n",
       "Name: job, dtype: int64"
      ]
     },
     "execution_count": 354,
     "metadata": {},
     "output_type": "execute_result"
    }
   ],
   "source": [
    "# value_counts() : 데이터별 개수 counting\n",
    "\n",
    "df['job'].value_counts()"
   ]
  },
  {
   "cell_type": "code",
   "execution_count": 355,
   "metadata": {},
   "outputs": [
    {
     "data": {
      "text/plain": [
       "talk     2\n",
       "music    2\n",
       "study    1\n",
       "art      1\n",
       "Name: hobby, dtype: int64"
      ]
     },
     "execution_count": 355,
     "metadata": {},
     "output_type": "execute_result"
    }
   ],
   "source": [
    "df['hobby'].value_counts()"
   ]
  },
  {
   "cell_type": "code",
   "execution_count": 356,
   "metadata": {},
   "outputs": [
    {
     "data": {
      "text/html": [
       "<div>\n",
       "<style scoped>\n",
       "    .dataframe tbody tr th:only-of-type {\n",
       "        vertical-align: middle;\n",
       "    }\n",
       "\n",
       "    .dataframe tbody tr th {\n",
       "        vertical-align: top;\n",
       "    }\n",
       "\n",
       "    .dataframe thead th {\n",
       "        text-align: right;\n",
       "    }\n",
       "</style>\n",
       "<table border=\"1\" class=\"dataframe\">\n",
       "  <thead>\n",
       "    <tr style=\"text-align: right;\">\n",
       "      <th></th>\n",
       "      <th>name</th>\n",
       "      <th>age</th>\n",
       "      <th>job</th>\n",
       "      <th>hobby</th>\n",
       "    </tr>\n",
       "  </thead>\n",
       "  <tbody>\n",
       "    <tr>\n",
       "      <th>0</th>\n",
       "      <td>신동엽</td>\n",
       "      <td>20.0</td>\n",
       "      <td>연예인</td>\n",
       "      <td>music</td>\n",
       "    </tr>\n",
       "    <tr>\n",
       "      <th>1</th>\n",
       "      <td>유재석</td>\n",
       "      <td>41.0</td>\n",
       "      <td>교수</td>\n",
       "      <td>art</td>\n",
       "    </tr>\n",
       "    <tr>\n",
       "      <th>2</th>\n",
       "      <td>김새롬</td>\n",
       "      <td>18.0</td>\n",
       "      <td>학생</td>\n",
       "      <td>study</td>\n",
       "    </tr>\n",
       "    <tr>\n",
       "      <th>3</th>\n",
       "      <td>이영자</td>\n",
       "      <td>45.0</td>\n",
       "      <td>상담사</td>\n",
       "      <td>talk</td>\n",
       "    </tr>\n",
       "    <tr>\n",
       "      <th>4</th>\n",
       "      <td>강호동</td>\n",
       "      <td>38.0</td>\n",
       "      <td>연예인</td>\n",
       "      <td>talk</td>\n",
       "    </tr>\n",
       "    <tr>\n",
       "      <th>5</th>\n",
       "      <td>신동엽</td>\n",
       "      <td>32.4</td>\n",
       "      <td>연예인</td>\n",
       "      <td>music</td>\n",
       "    </tr>\n",
       "  </tbody>\n",
       "</table>\n",
       "</div>"
      ],
      "text/plain": [
       "  name   age  job  hobby\n",
       "0  신동엽  20.0  연예인  music\n",
       "1  유재석  41.0   교수    art\n",
       "2  김새롬  18.0   학생  study\n",
       "3  이영자  45.0  상담사   talk\n",
       "4  강호동  38.0  연예인   talk\n",
       "5  신동엽  32.4  연예인  music"
      ]
     },
     "execution_count": 356,
     "metadata": {},
     "output_type": "execute_result"
    }
   ],
   "source": [
    "df"
   ]
  },
  {
   "cell_type": "code",
   "execution_count": 357,
   "metadata": {},
   "outputs": [
    {
     "data": {
      "text/html": [
       "<div>\n",
       "<style scoped>\n",
       "    .dataframe tbody tr th:only-of-type {\n",
       "        vertical-align: middle;\n",
       "    }\n",
       "\n",
       "    .dataframe tbody tr th {\n",
       "        vertical-align: top;\n",
       "    }\n",
       "\n",
       "    .dataframe thead th {\n",
       "        text-align: right;\n",
       "    }\n",
       "</style>\n",
       "<table border=\"1\" class=\"dataframe\">\n",
       "  <thead>\n",
       "    <tr style=\"text-align: right;\">\n",
       "      <th></th>\n",
       "      <th>age</th>\n",
       "    </tr>\n",
       "    <tr>\n",
       "      <th>hobby</th>\n",
       "      <th></th>\n",
       "    </tr>\n",
       "  </thead>\n",
       "  <tbody>\n",
       "    <tr>\n",
       "      <th>art</th>\n",
       "      <td>41.0</td>\n",
       "    </tr>\n",
       "    <tr>\n",
       "      <th>music</th>\n",
       "      <td>52.4</td>\n",
       "    </tr>\n",
       "    <tr>\n",
       "      <th>study</th>\n",
       "      <td>18.0</td>\n",
       "    </tr>\n",
       "    <tr>\n",
       "      <th>talk</th>\n",
       "      <td>83.0</td>\n",
       "    </tr>\n",
       "  </tbody>\n",
       "</table>\n",
       "</div>"
      ],
      "text/plain": [
       "        age\n",
       "hobby      \n",
       "art    41.0\n",
       "music  52.4\n",
       "study  18.0\n",
       "talk   83.0"
      ]
     },
     "execution_count": 357,
     "metadata": {},
     "output_type": "execute_result"
    }
   ],
   "source": [
    "# 취미별 grouping 후에 연산이 가능한 Series의 값의 합을 자동 도출\n",
    "\n",
    "df.groupby('hobby').sum()"
   ]
  },
  {
   "cell_type": "code",
   "execution_count": 358,
   "metadata": {},
   "outputs": [
    {
     "data": {
      "text/plain": [
       "array(['연예인', '교수', '학생', '상담사'], dtype=object)"
      ]
     },
     "execution_count": 358,
     "metadata": {},
     "output_type": "execute_result"
    }
   ],
   "source": [
    "# select distinct job from emp\n",
    "\n",
    "df['job'].unique()"
   ]
  },
  {
   "cell_type": "code",
   "execution_count": 359,
   "metadata": {},
   "outputs": [
    {
     "data": {
      "text/html": [
       "<div>\n",
       "<style scoped>\n",
       "    .dataframe tbody tr th:only-of-type {\n",
       "        vertical-align: middle;\n",
       "    }\n",
       "\n",
       "    .dataframe tbody tr th {\n",
       "        vertical-align: top;\n",
       "    }\n",
       "\n",
       "    .dataframe thead th {\n",
       "        text-align: right;\n",
       "    }\n",
       "</style>\n",
       "<table border=\"1\" class=\"dataframe\">\n",
       "  <thead>\n",
       "    <tr style=\"text-align: right;\">\n",
       "      <th></th>\n",
       "      <th>name</th>\n",
       "      <th>age</th>\n",
       "      <th>job</th>\n",
       "      <th>hobby</th>\n",
       "    </tr>\n",
       "  </thead>\n",
       "  <tbody>\n",
       "    <tr>\n",
       "      <th>0</th>\n",
       "      <td>신동엽</td>\n",
       "      <td>20.0</td>\n",
       "      <td>연예인</td>\n",
       "      <td>music</td>\n",
       "    </tr>\n",
       "    <tr>\n",
       "      <th>1</th>\n",
       "      <td>유재석</td>\n",
       "      <td>41.0</td>\n",
       "      <td>교수</td>\n",
       "      <td>art</td>\n",
       "    </tr>\n",
       "    <tr>\n",
       "      <th>2</th>\n",
       "      <td>김새롬</td>\n",
       "      <td>18.0</td>\n",
       "      <td>학생</td>\n",
       "      <td>study</td>\n",
       "    </tr>\n",
       "    <tr>\n",
       "      <th>3</th>\n",
       "      <td>이영자</td>\n",
       "      <td>45.0</td>\n",
       "      <td>상담사</td>\n",
       "      <td>talk</td>\n",
       "    </tr>\n",
       "    <tr>\n",
       "      <th>4</th>\n",
       "      <td>강호동</td>\n",
       "      <td>38.0</td>\n",
       "      <td>연예인</td>\n",
       "      <td>talk</td>\n",
       "    </tr>\n",
       "    <tr>\n",
       "      <th>5</th>\n",
       "      <td>신동엽</td>\n",
       "      <td>32.4</td>\n",
       "      <td>연예인</td>\n",
       "      <td>music</td>\n",
       "    </tr>\n",
       "  </tbody>\n",
       "</table>\n",
       "</div>"
      ],
      "text/plain": [
       "  name   age  job  hobby\n",
       "0  신동엽  20.0  연예인  music\n",
       "1  유재석  41.0   교수    art\n",
       "2  김새롬  18.0   학생  study\n",
       "3  이영자  45.0  상담사   talk\n",
       "4  강호동  38.0  연예인   talk\n",
       "5  신동엽  32.4  연예인  music"
      ]
     },
     "execution_count": 359,
     "metadata": {},
     "output_type": "execute_result"
    }
   ],
   "source": [
    "df"
   ]
  },
  {
   "cell_type": "code",
   "execution_count": 360,
   "metadata": {},
   "outputs": [
    {
     "data": {
      "text/html": [
       "<div>\n",
       "<style scoped>\n",
       "    .dataframe tbody tr th:only-of-type {\n",
       "        vertical-align: middle;\n",
       "    }\n",
       "\n",
       "    .dataframe tbody tr th {\n",
       "        vertical-align: top;\n",
       "    }\n",
       "\n",
       "    .dataframe thead th {\n",
       "        text-align: right;\n",
       "    }\n",
       "</style>\n",
       "<table border=\"1\" class=\"dataframe\">\n",
       "  <thead>\n",
       "    <tr style=\"text-align: right;\">\n",
       "      <th></th>\n",
       "      <th>name</th>\n",
       "      <th>age</th>\n",
       "      <th>job</th>\n",
       "      <th>hobby</th>\n",
       "    </tr>\n",
       "  </thead>\n",
       "  <tbody>\n",
       "    <tr>\n",
       "      <th>0</th>\n",
       "      <td>신동엽</td>\n",
       "      <td>20.0</td>\n",
       "      <td>연예인</td>\n",
       "      <td>music</td>\n",
       "    </tr>\n",
       "    <tr>\n",
       "      <th>1</th>\n",
       "      <td>유재석</td>\n",
       "      <td>41.0</td>\n",
       "      <td>교수</td>\n",
       "      <td>art</td>\n",
       "    </tr>\n",
       "    <tr>\n",
       "      <th>2</th>\n",
       "      <td>김새롬</td>\n",
       "      <td>18.0</td>\n",
       "      <td>학생</td>\n",
       "      <td>study</td>\n",
       "    </tr>\n",
       "    <tr>\n",
       "      <th>3</th>\n",
       "      <td>이영자</td>\n",
       "      <td>45.0</td>\n",
       "      <td>상담사</td>\n",
       "      <td>talk</td>\n",
       "    </tr>\n",
       "    <tr>\n",
       "      <th>4</th>\n",
       "      <td>강호동</td>\n",
       "      <td>38.0</td>\n",
       "      <td>연예인</td>\n",
       "      <td>talk</td>\n",
       "    </tr>\n",
       "    <tr>\n",
       "      <th>5</th>\n",
       "      <td>신동엽</td>\n",
       "      <td>NaN</td>\n",
       "      <td>연예인</td>\n",
       "      <td>music</td>\n",
       "    </tr>\n",
       "  </tbody>\n",
       "</table>\n",
       "</div>"
      ],
      "text/plain": [
       "  name   age  job  hobby\n",
       "0  신동엽  20.0  연예인  music\n",
       "1  유재석  41.0   교수    art\n",
       "2  김새롬  18.0   학생  study\n",
       "3  이영자  45.0  상담사   talk\n",
       "4  강호동  38.0  연예인   talk\n",
       "5  신동엽   NaN  연예인  music"
      ]
     },
     "execution_count": 360,
     "metadata": {},
     "output_type": "execute_result"
    }
   ],
   "source": [
    "# np.nan : 결측치 표현\n",
    "# test를 위해서 결측치 추가\n",
    "\n",
    "df.iloc[5, 1] = np.nan\n",
    "df"
   ]
  },
  {
   "cell_type": "code",
   "execution_count": 361,
   "metadata": {},
   "outputs": [
    {
     "data": {
      "text/plain": [
       "<pandas.core.groupby.generic.DataFrameGroupBy object at 0x0000018AFDC673A0>"
      ]
     },
     "execution_count": 361,
     "metadata": {},
     "output_type": "execute_result"
    }
   ],
   "source": [
    "df.groupby('job')"
   ]
  },
  {
   "cell_type": "code",
   "execution_count": 362,
   "metadata": {},
   "outputs": [
    {
     "data": {
      "text/plain": [
       "<pandas.core.groupby.generic.SeriesGroupBy object at 0x0000018AFE508100>"
      ]
     },
     "execution_count": 362,
     "metadata": {},
     "output_type": "execute_result"
    }
   ],
   "source": [
    "df.groupby('job')['age']"
   ]
  },
  {
   "cell_type": "code",
   "execution_count": 363,
   "metadata": {},
   "outputs": [
    {
     "data": {
      "text/html": [
       "<div>\n",
       "<style scoped>\n",
       "    .dataframe tbody tr th:only-of-type {\n",
       "        vertical-align: middle;\n",
       "    }\n",
       "\n",
       "    .dataframe tbody tr th {\n",
       "        vertical-align: top;\n",
       "    }\n",
       "\n",
       "    .dataframe thead th {\n",
       "        text-align: right;\n",
       "    }\n",
       "</style>\n",
       "<table border=\"1\" class=\"dataframe\">\n",
       "  <thead>\n",
       "    <tr style=\"text-align: right;\">\n",
       "      <th></th>\n",
       "      <th>name</th>\n",
       "      <th>age</th>\n",
       "      <th>job</th>\n",
       "      <th>hobby</th>\n",
       "    </tr>\n",
       "  </thead>\n",
       "  <tbody>\n",
       "    <tr>\n",
       "      <th>0</th>\n",
       "      <td>신동엽</td>\n",
       "      <td>29.0</td>\n",
       "      <td>연예인</td>\n",
       "      <td>music</td>\n",
       "    </tr>\n",
       "    <tr>\n",
       "      <th>1</th>\n",
       "      <td>유재석</td>\n",
       "      <td>41.0</td>\n",
       "      <td>교수</td>\n",
       "      <td>art</td>\n",
       "    </tr>\n",
       "    <tr>\n",
       "      <th>2</th>\n",
       "      <td>김새롬</td>\n",
       "      <td>18.0</td>\n",
       "      <td>학생</td>\n",
       "      <td>study</td>\n",
       "    </tr>\n",
       "    <tr>\n",
       "      <th>3</th>\n",
       "      <td>이영자</td>\n",
       "      <td>45.0</td>\n",
       "      <td>상담사</td>\n",
       "      <td>talk</td>\n",
       "    </tr>\n",
       "    <tr>\n",
       "      <th>4</th>\n",
       "      <td>강호동</td>\n",
       "      <td>29.0</td>\n",
       "      <td>연예인</td>\n",
       "      <td>talk</td>\n",
       "    </tr>\n",
       "    <tr>\n",
       "      <th>5</th>\n",
       "      <td>신동엽</td>\n",
       "      <td>29.0</td>\n",
       "      <td>연예인</td>\n",
       "      <td>music</td>\n",
       "    </tr>\n",
       "  </tbody>\n",
       "</table>\n",
       "</div>"
      ],
      "text/plain": [
       "  name   age  job  hobby\n",
       "0  신동엽  29.0  연예인  music\n",
       "1  유재석  41.0   교수    art\n",
       "2  김새롬  18.0   학생  study\n",
       "3  이영자  45.0  상담사   talk\n",
       "4  강호동  29.0  연예인   talk\n",
       "5  신동엽  29.0  연예인  music"
      ]
     },
     "execution_count": 363,
     "metadata": {},
     "output_type": "execute_result"
    }
   ],
   "source": [
    "# 중앙값(데이터를 오름차순으로 나열해서 가운데 값을 의미)으로 치환\n",
    "# 치환\n",
    "# job별로 그룹핑/그룹핑되어있는 job별로 각 중앙값 도출\n",
    "# 그 중앙값으로 반환\n",
    "\n",
    "# 중앙값 특징 : 홀수라면 정말 정 중앙 데이타 의미\n",
    "# 짝수인 경우 중앙 두개의 데이터더하고 나누기 2한 데이터값이 중앙값\n",
    "\n",
    "# 전체 나열했을 경우 - 18, 29, 29, 41, 45\n",
    "# job별로 그룹핑 후 - \n",
    "df['age'] = df.groupby('job')['age'].transform('median')\n",
    "df"
   ]
  },
  {
   "cell_type": "code",
   "execution_count": 364,
   "metadata": {},
   "outputs": [
    {
     "ename": "KeyError",
     "evalue": "'Column not found: hooby'",
     "output_type": "error",
     "traceback": [
      "\u001b[1;31m---------------------------------------------------------------------------\u001b[0m",
      "\u001b[1;31mKeyError\u001b[0m                                  Traceback (most recent call last)",
      "\u001b[1;32m<ipython-input-364-64bd6cd43386>\u001b[0m in \u001b[0;36m<module>\u001b[1;34m\u001b[0m\n\u001b[1;32m----> 1\u001b[1;33m \u001b[0mdf\u001b[0m\u001b[1;33m[\u001b[0m\u001b[1;34m'age'\u001b[0m\u001b[1;33m]\u001b[0m \u001b[1;33m=\u001b[0m \u001b[0mdf\u001b[0m\u001b[1;33m.\u001b[0m\u001b[0mgroupby\u001b[0m\u001b[1;33m(\u001b[0m\u001b[1;34m'job'\u001b[0m\u001b[1;33m)\u001b[0m\u001b[1;33m[\u001b[0m\u001b[1;34m'hooby'\u001b[0m\u001b[1;33m]\u001b[0m\u001b[1;33m.\u001b[0m\u001b[0mtransform\u001b[0m\u001b[1;33m(\u001b[0m\u001b[1;34m'median'\u001b[0m\u001b[1;33m)\u001b[0m\u001b[1;33m\u001b[0m\u001b[1;33m\u001b[0m\u001b[0m\n\u001b[0m\u001b[0;32m      2\u001b[0m \u001b[0mdf\u001b[0m\u001b[1;33m\u001b[0m\u001b[1;33m\u001b[0m\u001b[0m\n",
      "\u001b[1;32m~\\anaconda3\\lib\\site-packages\\pandas\\core\\groupby\\generic.py\u001b[0m in \u001b[0;36m__getitem__\u001b[1;34m(self, key)\u001b[0m\n\u001b[0;32m   1648\u001b[0m                 \u001b[0mstacklevel\u001b[0m\u001b[1;33m=\u001b[0m\u001b[1;36m2\u001b[0m\u001b[1;33m,\u001b[0m\u001b[1;33m\u001b[0m\u001b[1;33m\u001b[0m\u001b[0m\n\u001b[0;32m   1649\u001b[0m             )\n\u001b[1;32m-> 1650\u001b[1;33m         \u001b[1;32mreturn\u001b[0m \u001b[0msuper\u001b[0m\u001b[1;33m(\u001b[0m\u001b[1;33m)\u001b[0m\u001b[1;33m.\u001b[0m\u001b[0m__getitem__\u001b[0m\u001b[1;33m(\u001b[0m\u001b[0mkey\u001b[0m\u001b[1;33m)\u001b[0m\u001b[1;33m\u001b[0m\u001b[1;33m\u001b[0m\u001b[0m\n\u001b[0m\u001b[0;32m   1651\u001b[0m \u001b[1;33m\u001b[0m\u001b[0m\n\u001b[0;32m   1652\u001b[0m     \u001b[1;32mdef\u001b[0m \u001b[0m_gotitem\u001b[0m\u001b[1;33m(\u001b[0m\u001b[0mself\u001b[0m\u001b[1;33m,\u001b[0m \u001b[0mkey\u001b[0m\u001b[1;33m,\u001b[0m \u001b[0mndim\u001b[0m\u001b[1;33m:\u001b[0m \u001b[0mint\u001b[0m\u001b[1;33m,\u001b[0m \u001b[0msubset\u001b[0m\u001b[1;33m=\u001b[0m\u001b[1;32mNone\u001b[0m\u001b[1;33m)\u001b[0m\u001b[1;33m:\u001b[0m\u001b[1;33m\u001b[0m\u001b[1;33m\u001b[0m\u001b[0m\n",
      "\u001b[1;32m~\\anaconda3\\lib\\site-packages\\pandas\\core\\base.py\u001b[0m in \u001b[0;36m__getitem__\u001b[1;34m(self, key)\u001b[0m\n\u001b[0;32m    226\u001b[0m         \u001b[1;32melse\u001b[0m\u001b[1;33m:\u001b[0m\u001b[1;33m\u001b[0m\u001b[1;33m\u001b[0m\u001b[0m\n\u001b[0;32m    227\u001b[0m             \u001b[1;32mif\u001b[0m \u001b[0mkey\u001b[0m \u001b[1;32mnot\u001b[0m \u001b[1;32min\u001b[0m \u001b[0mself\u001b[0m\u001b[1;33m.\u001b[0m\u001b[0mobj\u001b[0m\u001b[1;33m:\u001b[0m\u001b[1;33m\u001b[0m\u001b[1;33m\u001b[0m\u001b[0m\n\u001b[1;32m--> 228\u001b[1;33m                 \u001b[1;32mraise\u001b[0m \u001b[0mKeyError\u001b[0m\u001b[1;33m(\u001b[0m\u001b[1;34mf\"Column not found: {key}\"\u001b[0m\u001b[1;33m)\u001b[0m\u001b[1;33m\u001b[0m\u001b[1;33m\u001b[0m\u001b[0m\n\u001b[0m\u001b[0;32m    229\u001b[0m             \u001b[1;32mreturn\u001b[0m \u001b[0mself\u001b[0m\u001b[1;33m.\u001b[0m\u001b[0m_gotitem\u001b[0m\u001b[1;33m(\u001b[0m\u001b[0mkey\u001b[0m\u001b[1;33m,\u001b[0m \u001b[0mndim\u001b[0m\u001b[1;33m=\u001b[0m\u001b[1;36m1\u001b[0m\u001b[1;33m)\u001b[0m\u001b[1;33m\u001b[0m\u001b[1;33m\u001b[0m\u001b[0m\n\u001b[0;32m    230\u001b[0m \u001b[1;33m\u001b[0m\u001b[0m\n",
      "\u001b[1;31mKeyError\u001b[0m: 'Column not found: hooby'"
     ]
    }
   ],
   "source": [
    "df['age'] = df.groupby('job')['hooby'].transform('median')\n",
    "df"
   ]
  },
  {
   "cell_type": "code",
   "execution_count": 373,
   "metadata": {},
   "outputs": [
    {
     "data": {
      "text/html": [
       "<div>\n",
       "<style scoped>\n",
       "    .dataframe tbody tr th:only-of-type {\n",
       "        vertical-align: middle;\n",
       "    }\n",
       "\n",
       "    .dataframe tbody tr th {\n",
       "        vertical-align: top;\n",
       "    }\n",
       "\n",
       "    .dataframe thead th {\n",
       "        text-align: right;\n",
       "    }\n",
       "</style>\n",
       "<table border=\"1\" class=\"dataframe\">\n",
       "  <thead>\n",
       "    <tr style=\"text-align: right;\">\n",
       "      <th></th>\n",
       "      <th>name</th>\n",
       "      <th>age</th>\n",
       "      <th>job</th>\n",
       "      <th>hobby</th>\n",
       "    </tr>\n",
       "  </thead>\n",
       "  <tbody>\n",
       "    <tr>\n",
       "      <th>0</th>\n",
       "      <td>신동엽</td>\n",
       "      <td>20.0</td>\n",
       "      <td>연예인</td>\n",
       "      <td>music</td>\n",
       "    </tr>\n",
       "    <tr>\n",
       "      <th>1</th>\n",
       "      <td>유재석</td>\n",
       "      <td>41.0</td>\n",
       "      <td>교수</td>\n",
       "      <td>art</td>\n",
       "    </tr>\n",
       "    <tr>\n",
       "      <th>2</th>\n",
       "      <td>김새롬</td>\n",
       "      <td>18.0</td>\n",
       "      <td>학생</td>\n",
       "      <td>study</td>\n",
       "    </tr>\n",
       "    <tr>\n",
       "      <th>3</th>\n",
       "      <td>이영자</td>\n",
       "      <td>45.0</td>\n",
       "      <td>상담사</td>\n",
       "      <td>talk</td>\n",
       "    </tr>\n",
       "    <tr>\n",
       "      <th>4</th>\n",
       "      <td>강호동</td>\n",
       "      <td>38.0</td>\n",
       "      <td>연예인</td>\n",
       "      <td>talk</td>\n",
       "    </tr>\n",
       "    <tr>\n",
       "      <th>5</th>\n",
       "      <td>신동엽</td>\n",
       "      <td>NaN</td>\n",
       "      <td>연예인</td>\n",
       "      <td>music</td>\n",
       "    </tr>\n",
       "    <tr>\n",
       "      <th>6</th>\n",
       "      <td>가</td>\n",
       "      <td>44.0</td>\n",
       "      <td>연예인</td>\n",
       "      <td>music</td>\n",
       "    </tr>\n",
       "    <tr>\n",
       "      <th>7</th>\n",
       "      <td>나</td>\n",
       "      <td>22.0</td>\n",
       "      <td>연예인</td>\n",
       "      <td>art</td>\n",
       "    </tr>\n",
       "    <tr>\n",
       "      <th>8</th>\n",
       "      <td>다</td>\n",
       "      <td>18.0</td>\n",
       "      <td>연예인</td>\n",
       "      <td>study</td>\n",
       "    </tr>\n",
       "    <tr>\n",
       "      <th>9</th>\n",
       "      <td>라</td>\n",
       "      <td>45.0</td>\n",
       "      <td>연예인</td>\n",
       "      <td>talk</td>\n",
       "    </tr>\n",
       "    <tr>\n",
       "      <th>10</th>\n",
       "      <td>마</td>\n",
       "      <td>28.0</td>\n",
       "      <td>연예인</td>\n",
       "      <td>talk</td>\n",
       "    </tr>\n",
       "    <tr>\n",
       "      <th>11</th>\n",
       "      <td>바</td>\n",
       "      <td>45.0</td>\n",
       "      <td>연예인</td>\n",
       "      <td>talk</td>\n",
       "    </tr>\n",
       "  </tbody>\n",
       "</table>\n",
       "</div>"
      ],
      "text/plain": [
       "   name   age  job  hobby\n",
       "0   신동엽  20.0  연예인  music\n",
       "1   유재석  41.0   교수    art\n",
       "2   김새롬  18.0   학생  study\n",
       "3   이영자  45.0  상담사   talk\n",
       "4   강호동  38.0  연예인   talk\n",
       "5   신동엽   NaN  연예인  music\n",
       "6     가  44.0  연예인  music\n",
       "7     나  22.0  연예인    art\n",
       "8     다  18.0  연예인  study\n",
       "9     라  45.0  연예인   talk\n",
       "10    마  28.0  연예인   talk\n",
       "11    바  45.0  연예인   talk"
      ]
     },
     "execution_count": 373,
     "metadata": {},
     "output_type": "execute_result"
    }
   ],
   "source": [
    "friend_dict_list = [{'name': '신동엽', 'age': 20, 'job': '연예인', 'hobby': 'music'},\n",
    "                    {'name': '유재석', 'age': 41, 'job': '교수', 'hobby': 'art'},\n",
    "                    {'name': '김새롬', 'age': 18, 'job': '학생', 'hobby': 'study'},\n",
    "                    {'name': '이영자', 'age': 45, 'job': '상담사', 'hobby': 'talk'},\n",
    "                    {'name': '강호동', 'age': 38, 'job': '연예인', 'hobby': 'talk'},\n",
    "                    {'name': '신동엽', 'age': None, 'job': '연예인', 'hobby': 'music'},\n",
    "                    {'name': '가', 'age': 44, 'job': '연예인', 'hobby': 'music'},\n",
    "                    {'name': '나', 'age': 22, 'job': '연예인', 'hobby': 'art'},\n",
    "                    {'name': '다', 'age': 18, 'job': '연예인', 'hobby': 'study'},\n",
    "                    {'name': '라', 'age': 45, 'job': '연예인', 'hobby': 'talk'},\n",
    "                    {'name': '마', 'age': 28, 'job': '연예인', 'hobby': 'talk'},\n",
    "                   {'name': '바', 'age': 45, 'job': '연예인', 'hobby': 'talk'}]\n",
    "\n",
    "df = pd.DataFrame(friend_dict_list)\n",
    "df"
   ]
  },
  {
   "cell_type": "code",
   "execution_count": 374,
   "metadata": {},
   "outputs": [
    {
     "data": {
      "text/html": [
       "<div>\n",
       "<style scoped>\n",
       "    .dataframe tbody tr th:only-of-type {\n",
       "        vertical-align: middle;\n",
       "    }\n",
       "\n",
       "    .dataframe tbody tr th {\n",
       "        vertical-align: top;\n",
       "    }\n",
       "\n",
       "    .dataframe thead th {\n",
       "        text-align: right;\n",
       "    }\n",
       "</style>\n",
       "<table border=\"1\" class=\"dataframe\">\n",
       "  <thead>\n",
       "    <tr style=\"text-align: right;\">\n",
       "      <th></th>\n",
       "      <th>age</th>\n",
       "    </tr>\n",
       "    <tr>\n",
       "      <th>job</th>\n",
       "      <th></th>\n",
       "    </tr>\n",
       "  </thead>\n",
       "  <tbody>\n",
       "    <tr>\n",
       "      <th>교수</th>\n",
       "      <td>41.0</td>\n",
       "    </tr>\n",
       "    <tr>\n",
       "      <th>상담사</th>\n",
       "      <td>45.0</td>\n",
       "    </tr>\n",
       "    <tr>\n",
       "      <th>연예인</th>\n",
       "      <td>260.0</td>\n",
       "    </tr>\n",
       "    <tr>\n",
       "      <th>학생</th>\n",
       "      <td>18.0</td>\n",
       "    </tr>\n",
       "  </tbody>\n",
       "</table>\n",
       "</div>"
      ],
      "text/plain": [
       "       age\n",
       "job       \n",
       "교수    41.0\n",
       "상담사   45.0\n",
       "연예인  260.0\n",
       "학생    18.0"
      ]
     },
     "execution_count": 374,
     "metadata": {},
     "output_type": "execute_result"
    }
   ],
   "source": [
    "df.groupby('job').sum()\n",
    "# 18, 20, 22, 28, 38, 44, 45, 45"
   ]
  },
  {
   "cell_type": "code",
   "execution_count": 375,
   "metadata": {},
   "outputs": [
    {
     "data": {
      "text/html": [
       "<div>\n",
       "<style scoped>\n",
       "    .dataframe tbody tr th:only-of-type {\n",
       "        vertical-align: middle;\n",
       "    }\n",
       "\n",
       "    .dataframe tbody tr th {\n",
       "        vertical-align: top;\n",
       "    }\n",
       "\n",
       "    .dataframe thead th {\n",
       "        text-align: right;\n",
       "    }\n",
       "</style>\n",
       "<table border=\"1\" class=\"dataframe\">\n",
       "  <thead>\n",
       "    <tr style=\"text-align: right;\">\n",
       "      <th></th>\n",
       "      <th>name</th>\n",
       "      <th>age</th>\n",
       "      <th>job</th>\n",
       "      <th>hobby</th>\n",
       "    </tr>\n",
       "  </thead>\n",
       "  <tbody>\n",
       "    <tr>\n",
       "      <th>0</th>\n",
       "      <td>신동엽</td>\n",
       "      <td>33.0</td>\n",
       "      <td>연예인</td>\n",
       "      <td>music</td>\n",
       "    </tr>\n",
       "    <tr>\n",
       "      <th>1</th>\n",
       "      <td>유재석</td>\n",
       "      <td>41.0</td>\n",
       "      <td>교수</td>\n",
       "      <td>art</td>\n",
       "    </tr>\n",
       "    <tr>\n",
       "      <th>2</th>\n",
       "      <td>김새롬</td>\n",
       "      <td>18.0</td>\n",
       "      <td>학생</td>\n",
       "      <td>study</td>\n",
       "    </tr>\n",
       "    <tr>\n",
       "      <th>3</th>\n",
       "      <td>이영자</td>\n",
       "      <td>45.0</td>\n",
       "      <td>상담사</td>\n",
       "      <td>talk</td>\n",
       "    </tr>\n",
       "    <tr>\n",
       "      <th>4</th>\n",
       "      <td>강호동</td>\n",
       "      <td>33.0</td>\n",
       "      <td>연예인</td>\n",
       "      <td>talk</td>\n",
       "    </tr>\n",
       "    <tr>\n",
       "      <th>5</th>\n",
       "      <td>신동엽</td>\n",
       "      <td>33.0</td>\n",
       "      <td>연예인</td>\n",
       "      <td>music</td>\n",
       "    </tr>\n",
       "    <tr>\n",
       "      <th>6</th>\n",
       "      <td>가</td>\n",
       "      <td>33.0</td>\n",
       "      <td>연예인</td>\n",
       "      <td>music</td>\n",
       "    </tr>\n",
       "    <tr>\n",
       "      <th>7</th>\n",
       "      <td>나</td>\n",
       "      <td>33.0</td>\n",
       "      <td>연예인</td>\n",
       "      <td>art</td>\n",
       "    </tr>\n",
       "    <tr>\n",
       "      <th>8</th>\n",
       "      <td>다</td>\n",
       "      <td>33.0</td>\n",
       "      <td>연예인</td>\n",
       "      <td>study</td>\n",
       "    </tr>\n",
       "    <tr>\n",
       "      <th>9</th>\n",
       "      <td>라</td>\n",
       "      <td>33.0</td>\n",
       "      <td>연예인</td>\n",
       "      <td>talk</td>\n",
       "    </tr>\n",
       "    <tr>\n",
       "      <th>10</th>\n",
       "      <td>마</td>\n",
       "      <td>33.0</td>\n",
       "      <td>연예인</td>\n",
       "      <td>talk</td>\n",
       "    </tr>\n",
       "    <tr>\n",
       "      <th>11</th>\n",
       "      <td>바</td>\n",
       "      <td>33.0</td>\n",
       "      <td>연예인</td>\n",
       "      <td>talk</td>\n",
       "    </tr>\n",
       "  </tbody>\n",
       "</table>\n",
       "</div>"
      ],
      "text/plain": [
       "   name   age  job  hobby\n",
       "0   신동엽  33.0  연예인  music\n",
       "1   유재석  41.0   교수    art\n",
       "2   김새롬  18.0   학생  study\n",
       "3   이영자  45.0  상담사   talk\n",
       "4   강호동  33.0  연예인   talk\n",
       "5   신동엽  33.0  연예인  music\n",
       "6     가  33.0  연예인  music\n",
       "7     나  33.0  연예인    art\n",
       "8     다  33.0  연예인  study\n",
       "9     라  33.0  연예인   talk\n",
       "10    마  33.0  연예인   talk\n",
       "11    바  33.0  연예인   talk"
      ]
     },
     "execution_count": 375,
     "metadata": {},
     "output_type": "execute_result"
    }
   ],
   "source": [
    "# 18, 20, 22, 28, 38, 44, 45 : 중앙값이 (28+38)/2 이므로 연예인들의 나이는 33로 대체됨\n",
    "df['age'] = df.groupby('job')['age'].transform('median')\n",
    "df"
   ]
  },
  {
   "cell_type": "code",
   "execution_count": null,
   "metadata": {},
   "outputs": [],
   "source": [
    "# 데이터 제공\n",
    "\n",
    "friend_dict_list = [{'name': '신동엽', 'age': 20, 'job': '연예인', 'hobby': 'music'},\n",
    "                    {'name': '유재석', 'age': 41, 'job': '교수', 'hobby': 'art'},\n",
    "                    {'name': '김새롬', 'age': 18, 'job': '학생', 'hobby': 'study'},\n",
    "                    {'name': '이영자', 'age': 45, 'job': '상담사', 'hobby': 'talk'},\n",
    "                    {'name': '강호동', 'age': 38, 'job': '연예인', 'hobby': 'talk'},\n",
    "                    {'name': '신동엽', 'age': None, 'job': '연예인', 'hobby': 'music'},\n",
    "                    {'name': '고현정', 'age': 44, 'job': '가수', 'hobby': 'music'},\n",
    "                    {'name': '박민영', 'age': 22, 'job': '학생', 'hobby': 'art'},\n",
    "                    {'name': '박서준', 'age': 18, 'job': '학생', 'hobby': 'study'},\n",
    "                    {'name': '박보검', 'age': 45, 'job': '상담사', 'hobby': 'talk'},\n",
    "                    {'name': '이효리', 'age': 28, 'job': '교수', 'hobby': 'talk'},\n",
    "                    {'name': '이상순', 'age': 29, 'job': '주부', 'hobby': 'music'}]\n",
    "\n",
    "df = pd.DataFrame(friend_dict_list)\n",
    "df"
   ]
  },
  {
   "cell_type": "markdown",
   "metadata": {},
   "source": [
    "### 조건 기반 필터링\n",
    "\n",
    "- Pandas의 비교 및 논리 연산자\n",
    "- 비교 연산자는 기본 연산자를 사용\n",
    "- AND : &\n",
    "- OR : |\n",
    "- NOT : ~\n",
    "- 논리 연산에 기본 연산자를 사용할 경우 객체\n",
    "전체의 참을 계산하기 때문에 오류 발생\n",
    "- 각 표현은 괄호로 묶는 것은 권장"
   ]
  },
  {
   "cell_type": "code",
   "execution_count": 378,
   "metadata": {},
   "outputs": [
    {
     "data": {
      "text/html": [
       "<div>\n",
       "<style scoped>\n",
       "    .dataframe tbody tr th:only-of-type {\n",
       "        vertical-align: middle;\n",
       "    }\n",
       "\n",
       "    .dataframe tbody tr th {\n",
       "        vertical-align: top;\n",
       "    }\n",
       "\n",
       "    .dataframe thead th {\n",
       "        text-align: right;\n",
       "    }\n",
       "</style>\n",
       "<table border=\"1\" class=\"dataframe\">\n",
       "  <thead>\n",
       "    <tr style=\"text-align: right;\">\n",
       "      <th></th>\n",
       "      <th>name</th>\n",
       "      <th>age</th>\n",
       "      <th>job</th>\n",
       "      <th>hobby</th>\n",
       "    </tr>\n",
       "  </thead>\n",
       "  <tbody>\n",
       "    <tr>\n",
       "      <th>0</th>\n",
       "      <td>신동엽</td>\n",
       "      <td>33.0</td>\n",
       "      <td>연예인</td>\n",
       "      <td>music</td>\n",
       "    </tr>\n",
       "    <tr>\n",
       "      <th>1</th>\n",
       "      <td>유재석</td>\n",
       "      <td>41.0</td>\n",
       "      <td>교수</td>\n",
       "      <td>art</td>\n",
       "    </tr>\n",
       "    <tr>\n",
       "      <th>2</th>\n",
       "      <td>김새롬</td>\n",
       "      <td>18.0</td>\n",
       "      <td>학생</td>\n",
       "      <td>study</td>\n",
       "    </tr>\n",
       "    <tr>\n",
       "      <th>3</th>\n",
       "      <td>이영자</td>\n",
       "      <td>45.0</td>\n",
       "      <td>상담사</td>\n",
       "      <td>talk</td>\n",
       "    </tr>\n",
       "    <tr>\n",
       "      <th>4</th>\n",
       "      <td>강호동</td>\n",
       "      <td>33.0</td>\n",
       "      <td>연예인</td>\n",
       "      <td>talk</td>\n",
       "    </tr>\n",
       "  </tbody>\n",
       "</table>\n",
       "</div>"
      ],
      "text/plain": [
       "  name   age  job  hobby\n",
       "0  신동엽  33.0  연예인  music\n",
       "1  유재석  41.0   교수    art\n",
       "2  김새롬  18.0   학생  study\n",
       "3  이영자  45.0  상담사   talk\n",
       "4  강호동  33.0  연예인   talk"
      ]
     },
     "execution_count": 378,
     "metadata": {},
     "output_type": "execute_result"
    }
   ],
   "source": [
    "df.head()"
   ]
  },
  {
   "cell_type": "code",
   "execution_count": 379,
   "metadata": {},
   "outputs": [
    {
     "data": {
      "text/plain": [
       "0      True\n",
       "1     False\n",
       "2     False\n",
       "3     False\n",
       "4     False\n",
       "5      True\n",
       "6     False\n",
       "7     False\n",
       "8     False\n",
       "9     False\n",
       "10    False\n",
       "11    False\n",
       "Name: name, dtype: bool"
      ]
     },
     "execution_count": 379,
     "metadata": {},
     "output_type": "execute_result"
    }
   ],
   "source": [
    "# == : 값의 동등비교 연산자\n",
    "\n",
    "df.name == '신동엽'"
   ]
  },
  {
   "cell_type": "code",
   "execution_count": 382,
   "metadata": {},
   "outputs": [
    {
     "data": {
      "text/plain": [
       "0     False\n",
       "1     False\n",
       "2      True\n",
       "3     False\n",
       "4     False\n",
       "5     False\n",
       "6     False\n",
       "7     False\n",
       "8     False\n",
       "9     False\n",
       "10    False\n",
       "11    False\n",
       "dtype: bool"
      ]
     },
     "execution_count": 382,
     "metadata": {},
     "output_type": "execute_result"
    }
   ],
   "source": [
    "f1 = df.name == '김새롬'\n",
    "f2 = df.job == '학생'\n",
    "\n",
    "f1 & f2"
   ]
  },
  {
   "cell_type": "code",
   "execution_count": 383,
   "metadata": {},
   "outputs": [],
   "source": [
    "# True값을 보유한 값을 기준으로 새로운 DataFrame 객체 생성\n",
    "# 데이터 조작\n",
    "\n",
    "df2 = df[f1 & f2]"
   ]
  },
  {
   "cell_type": "code",
   "execution_count": 384,
   "metadata": {},
   "outputs": [
    {
     "data": {
      "text/html": [
       "<div>\n",
       "<style scoped>\n",
       "    .dataframe tbody tr th:only-of-type {\n",
       "        vertical-align: middle;\n",
       "    }\n",
       "\n",
       "    .dataframe tbody tr th {\n",
       "        vertical-align: top;\n",
       "    }\n",
       "\n",
       "    .dataframe thead th {\n",
       "        text-align: right;\n",
       "    }\n",
       "</style>\n",
       "<table border=\"1\" class=\"dataframe\">\n",
       "  <thead>\n",
       "    <tr style=\"text-align: right;\">\n",
       "      <th></th>\n",
       "      <th>name</th>\n",
       "      <th>age</th>\n",
       "      <th>job</th>\n",
       "      <th>hobby</th>\n",
       "    </tr>\n",
       "  </thead>\n",
       "  <tbody>\n",
       "    <tr>\n",
       "      <th>2</th>\n",
       "      <td>김새롬</td>\n",
       "      <td>18.0</td>\n",
       "      <td>학생</td>\n",
       "      <td>study</td>\n",
       "    </tr>\n",
       "  </tbody>\n",
       "</table>\n",
       "</div>"
      ],
      "text/plain": [
       "  name   age job  hobby\n",
       "2  김새롬  18.0  학생  study"
      ]
     },
     "execution_count": 384,
     "metadata": {},
     "output_type": "execute_result"
    }
   ],
   "source": [
    "df2"
   ]
  },
  {
   "cell_type": "code",
   "execution_count": null,
   "metadata": {},
   "outputs": [],
   "source": []
  },
  {
   "cell_type": "markdown",
   "metadata": {},
   "source": [
    "### 두개의 DataFrame 병합하기 - row 기준"
   ]
  },
  {
   "cell_type": "code",
   "execution_count": 3,
   "metadata": {},
   "outputs": [],
   "source": [
    "import pandas as pd"
   ]
  },
  {
   "cell_type": "code",
   "execution_count": 6,
   "metadata": {},
   "outputs": [],
   "source": [
    "l1 = [{'name': '이효리', 'job': \"교수\"},\n",
    "      {'name': '이상순', 'job': \"학생\"},\n",
    "      {'name': '박보검', 'job': \"개발자\"}]\n",
    "\n",
    "l2 = [{'name': '신동엽', 'job': \"치과의사\"},\n",
    "      {'name': '이영자', 'job': \"농부\"},\n",
    "      {'name': '정찬우', 'job': \"연예인\"}]"
   ]
  },
  {
   "cell_type": "code",
   "execution_count": 8,
   "metadata": {},
   "outputs": [
    {
     "data": {
      "text/plain": [
       "[{'name': '이효리', 'job': '교수'},\n",
       " {'name': '이상순', 'job': '학생'},\n",
       " {'name': '박보검', 'job': '개발자'}]"
      ]
     },
     "execution_count": 8,
     "metadata": {},
     "output_type": "execute_result"
    }
   ],
   "source": [
    "l1"
   ]
  },
  {
   "cell_type": "code",
   "execution_count": 9,
   "metadata": {},
   "outputs": [
    {
     "data": {
      "text/plain": [
       "list"
      ]
     },
     "execution_count": 9,
     "metadata": {},
     "output_type": "execute_result"
    }
   ],
   "source": [
    "type(l1)"
   ]
  },
  {
   "cell_type": "code",
   "execution_count": 10,
   "metadata": {},
   "outputs": [
    {
     "name": "stdout",
     "output_type": "stream",
     "text": [
      "  name  job\n",
      "0  이효리   교수\n",
      "1  이상순   학생\n",
      "2  박보검  개발자\n",
      "<class 'pandas.core.frame.DataFrame'>\n",
      "2\n",
      "(3, 2)\n",
      "--------------------\n",
      "  name   job\n",
      "0  신동엽  치과의사\n",
      "1  이영자    농부\n",
      "2  정찬우   연예인\n"
     ]
    }
   ],
   "source": [
    "# list를 기준으로 DataFrame 생성, columns속성으로 컬럼명을 명시\n",
    "\n",
    "df1 = pd.DataFrame(l1, columns=['name', 'job'])\n",
    "df2 = pd.DataFrame(l2, columns=['name', 'job'])\n",
    "\n",
    "print(df1)\n",
    "print(type(df1))\n",
    "print(df1.ndim)      # 2차원\n",
    "print(df1.shape)    # (3, 2) 즉 3행 2열\n",
    "\n",
    "print('-'*20)\n",
    "\n",
    "print(df2)"
   ]
  },
  {
   "cell_type": "code",
   "execution_count": 388,
   "metadata": {},
   "outputs": [
    {
     "data": {
      "text/html": [
       "<div>\n",
       "<style scoped>\n",
       "    .dataframe tbody tr th:only-of-type {\n",
       "        vertical-align: middle;\n",
       "    }\n",
       "\n",
       "    .dataframe tbody tr th {\n",
       "        vertical-align: top;\n",
       "    }\n",
       "\n",
       "    .dataframe thead th {\n",
       "        text-align: right;\n",
       "    }\n",
       "</style>\n",
       "<table border=\"1\" class=\"dataframe\">\n",
       "  <thead>\n",
       "    <tr style=\"text-align: right;\">\n",
       "      <th></th>\n",
       "      <th>name</th>\n",
       "      <th>job</th>\n",
       "    </tr>\n",
       "  </thead>\n",
       "  <tbody>\n",
       "    <tr>\n",
       "      <th>0</th>\n",
       "      <td>이효리</td>\n",
       "      <td>교수</td>\n",
       "    </tr>\n",
       "    <tr>\n",
       "      <th>1</th>\n",
       "      <td>이상순</td>\n",
       "      <td>학생</td>\n",
       "    </tr>\n",
       "    <tr>\n",
       "      <th>2</th>\n",
       "      <td>박보검</td>\n",
       "      <td>개발자</td>\n",
       "    </tr>\n",
       "    <tr>\n",
       "      <th>0</th>\n",
       "      <td>신동엽</td>\n",
       "      <td>치과의사</td>\n",
       "    </tr>\n",
       "    <tr>\n",
       "      <th>1</th>\n",
       "      <td>이영자</td>\n",
       "      <td>농부</td>\n",
       "    </tr>\n",
       "    <tr>\n",
       "      <th>2</th>\n",
       "      <td>정찬우</td>\n",
       "      <td>연예인</td>\n",
       "    </tr>\n",
       "  </tbody>\n",
       "</table>\n",
       "</div>"
      ],
      "text/plain": [
       "  name   job\n",
       "0  이효리    교수\n",
       "1  이상순    학생\n",
       "2  박보검   개발자\n",
       "0  신동엽  치과의사\n",
       "1  이영자    농부\n",
       "2  정찬우   연예인"
      ]
     },
     "execution_count": 388,
     "metadata": {},
     "output_type": "execute_result"
    }
   ],
   "source": [
    "# 두개의 DataFrame을 하나로 결합(merge)\n",
    "# concat(결합시킬데이터, axis, ignore_index=True) 결합함수\n",
    "# 결함시킬 데이터 = list / axis=0(위아래), axis=1(좌우), index재정렬\n",
    "\n",
    "# 기본적으론 위아래로 결합\n",
    "\n",
    "df_all = pd.concat([df1, df2])\n",
    "df_all"
   ]
  },
  {
   "cell_type": "code",
   "execution_count": 389,
   "metadata": {},
   "outputs": [
    {
     "data": {
      "text/html": [
       "<div>\n",
       "<style scoped>\n",
       "    .dataframe tbody tr th:only-of-type {\n",
       "        vertical-align: middle;\n",
       "    }\n",
       "\n",
       "    .dataframe tbody tr th {\n",
       "        vertical-align: top;\n",
       "    }\n",
       "\n",
       "    .dataframe thead th {\n",
       "        text-align: right;\n",
       "    }\n",
       "</style>\n",
       "<table border=\"1\" class=\"dataframe\">\n",
       "  <thead>\n",
       "    <tr style=\"text-align: right;\">\n",
       "      <th></th>\n",
       "      <th>name</th>\n",
       "      <th>job</th>\n",
       "      <th>name</th>\n",
       "      <th>job</th>\n",
       "    </tr>\n",
       "  </thead>\n",
       "  <tbody>\n",
       "    <tr>\n",
       "      <th>0</th>\n",
       "      <td>이효리</td>\n",
       "      <td>교수</td>\n",
       "      <td>신동엽</td>\n",
       "      <td>치과의사</td>\n",
       "    </tr>\n",
       "    <tr>\n",
       "      <th>1</th>\n",
       "      <td>이상순</td>\n",
       "      <td>학생</td>\n",
       "      <td>이영자</td>\n",
       "      <td>농부</td>\n",
       "    </tr>\n",
       "    <tr>\n",
       "      <th>2</th>\n",
       "      <td>박보검</td>\n",
       "      <td>개발자</td>\n",
       "      <td>정찬우</td>\n",
       "      <td>연예인</td>\n",
       "    </tr>\n",
       "  </tbody>\n",
       "</table>\n",
       "</div>"
      ],
      "text/plain": [
       "  name  job name   job\n",
       "0  이효리   교수  신동엽  치과의사\n",
       "1  이상순   학생  이영자    농부\n",
       "2  박보검  개발자  정찬우   연예인"
      ]
     },
     "execution_count": 389,
     "metadata": {},
     "output_type": "execute_result"
    }
   ],
   "source": [
    "# 두개의 DataFrame을 좌우로 결합\n",
    "# 기준이 되는 축\n",
    "# axis=1 : 컬럼 즉 Series를 추가하는 구조로 결합\n",
    "df_all = pd.concat([df1, df2], axis=1)\n",
    "df_all"
   ]
  },
  {
   "cell_type": "code",
   "execution_count": 393,
   "metadata": {},
   "outputs": [
    {
     "data": {
      "text/html": [
       "<div>\n",
       "<style scoped>\n",
       "    .dataframe tbody tr th:only-of-type {\n",
       "        vertical-align: middle;\n",
       "    }\n",
       "\n",
       "    .dataframe tbody tr th {\n",
       "        vertical-align: top;\n",
       "    }\n",
       "\n",
       "    .dataframe thead th {\n",
       "        text-align: right;\n",
       "    }\n",
       "</style>\n",
       "<table border=\"1\" class=\"dataframe\">\n",
       "  <thead>\n",
       "    <tr style=\"text-align: right;\">\n",
       "      <th></th>\n",
       "      <th>name</th>\n",
       "      <th>job</th>\n",
       "    </tr>\n",
       "  </thead>\n",
       "  <tbody>\n",
       "    <tr>\n",
       "      <th>0</th>\n",
       "      <td>이효리</td>\n",
       "      <td>교수</td>\n",
       "    </tr>\n",
       "    <tr>\n",
       "      <th>1</th>\n",
       "      <td>이상순</td>\n",
       "      <td>학생</td>\n",
       "    </tr>\n",
       "    <tr>\n",
       "      <th>2</th>\n",
       "      <td>박보검</td>\n",
       "      <td>개발자</td>\n",
       "    </tr>\n",
       "    <tr>\n",
       "      <th>0</th>\n",
       "      <td>신동엽</td>\n",
       "      <td>치과의사</td>\n",
       "    </tr>\n",
       "    <tr>\n",
       "      <th>1</th>\n",
       "      <td>이영자</td>\n",
       "      <td>농부</td>\n",
       "    </tr>\n",
       "    <tr>\n",
       "      <th>2</th>\n",
       "      <td>정찬우</td>\n",
       "      <td>연예인</td>\n",
       "    </tr>\n",
       "  </tbody>\n",
       "</table>\n",
       "</div>"
      ],
      "text/plain": [
       "  name   job\n",
       "0  이효리    교수\n",
       "1  이상순    학생\n",
       "2  박보검   개발자\n",
       "0  신동엽  치과의사\n",
       "1  이영자    농부\n",
       "2  정찬우   연예인"
      ]
     },
     "execution_count": 393,
     "metadata": {},
     "output_type": "execute_result"
    }
   ],
   "source": [
    "# 두개의 DataFrame을 위아래로 결합, row들을 증가하는 구조\n",
    "# axis=0 (필수암기)\n",
    "\n",
    "df_all = pd.concat([df1, df2], axis=0)\n",
    "df_all"
   ]
  },
  {
   "cell_type": "code",
   "execution_count": 396,
   "metadata": {},
   "outputs": [
    {
     "data": {
      "text/html": [
       "<div>\n",
       "<style scoped>\n",
       "    .dataframe tbody tr th:only-of-type {\n",
       "        vertical-align: middle;\n",
       "    }\n",
       "\n",
       "    .dataframe tbody tr th {\n",
       "        vertical-align: top;\n",
       "    }\n",
       "\n",
       "    .dataframe thead th {\n",
       "        text-align: right;\n",
       "    }\n",
       "</style>\n",
       "<table border=\"1\" class=\"dataframe\">\n",
       "  <thead>\n",
       "    <tr style=\"text-align: right;\">\n",
       "      <th></th>\n",
       "      <th>name</th>\n",
       "      <th>job</th>\n",
       "    </tr>\n",
       "  </thead>\n",
       "  <tbody>\n",
       "    <tr>\n",
       "      <th>0</th>\n",
       "      <td>이효리</td>\n",
       "      <td>교수</td>\n",
       "    </tr>\n",
       "    <tr>\n",
       "      <th>1</th>\n",
       "      <td>이상순</td>\n",
       "      <td>학생</td>\n",
       "    </tr>\n",
       "    <tr>\n",
       "      <th>2</th>\n",
       "      <td>박보검</td>\n",
       "      <td>개발자</td>\n",
       "    </tr>\n",
       "    <tr>\n",
       "      <th>3</th>\n",
       "      <td>신동엽</td>\n",
       "      <td>치과의사</td>\n",
       "    </tr>\n",
       "    <tr>\n",
       "      <th>4</th>\n",
       "      <td>이영자</td>\n",
       "      <td>농부</td>\n",
       "    </tr>\n",
       "    <tr>\n",
       "      <th>5</th>\n",
       "      <td>정찬우</td>\n",
       "      <td>연예인</td>\n",
       "    </tr>\n",
       "  </tbody>\n",
       "</table>\n",
       "</div>"
      ],
      "text/plain": [
       "  name   job\n",
       "0  이효리    교수\n",
       "1  이상순    학생\n",
       "2  박보검   개발자\n",
       "3  신동엽  치과의사\n",
       "4  이영자    농부\n",
       "5  정찬우   연예인"
      ]
     },
     "execution_count": 396,
     "metadata": {},
     "output_type": "execute_result"
    }
   ],
   "source": [
    "# index의 재 정리가 필요\n",
    "# ignore_index=True : 기준 index의 설정은 무시하고 새롭게 설정\n",
    "df_all = pd.concat([df1, df2], axis=0, ignore_index=True)\n",
    "df_all"
   ]
  },
  {
   "cell_type": "code",
   "execution_count": null,
   "metadata": {},
   "outputs": [],
   "source": []
  },
  {
   "cell_type": "markdown",
   "metadata": {},
   "source": [
    "<hr>\n",
    "\n",
    "**미션**\n",
    "\n",
    "1. hobby 종류 확인 : unique로 list로 변환\n",
    "2. hobby 종류의 총수 확인 : unique()와 결과를 len()으로 개수 확인\n",
    "3. 종류별 개수 : value_counts()로 범주별 counting"
   ]
  },
  {
   "cell_type": "code",
   "execution_count": 399,
   "metadata": {},
   "outputs": [
    {
     "data": {
      "text/html": [
       "<div>\n",
       "<style scoped>\n",
       "    .dataframe tbody tr th:only-of-type {\n",
       "        vertical-align: middle;\n",
       "    }\n",
       "\n",
       "    .dataframe tbody tr th {\n",
       "        vertical-align: top;\n",
       "    }\n",
       "\n",
       "    .dataframe thead th {\n",
       "        text-align: right;\n",
       "    }\n",
       "</style>\n",
       "<table border=\"1\" class=\"dataframe\">\n",
       "  <thead>\n",
       "    <tr style=\"text-align: right;\">\n",
       "      <th></th>\n",
       "      <th>name</th>\n",
       "      <th>age</th>\n",
       "      <th>job</th>\n",
       "      <th>hobby</th>\n",
       "    </tr>\n",
       "  </thead>\n",
       "  <tbody>\n",
       "    <tr>\n",
       "      <th>0</th>\n",
       "      <td>신동엽</td>\n",
       "      <td>20.0</td>\n",
       "      <td>연예인</td>\n",
       "      <td>music</td>\n",
       "    </tr>\n",
       "    <tr>\n",
       "      <th>1</th>\n",
       "      <td>유재석</td>\n",
       "      <td>41.0</td>\n",
       "      <td>교수</td>\n",
       "      <td>art</td>\n",
       "    </tr>\n",
       "    <tr>\n",
       "      <th>2</th>\n",
       "      <td>김새롬</td>\n",
       "      <td>18.0</td>\n",
       "      <td>학생</td>\n",
       "      <td>study</td>\n",
       "    </tr>\n",
       "    <tr>\n",
       "      <th>3</th>\n",
       "      <td>이영자</td>\n",
       "      <td>45.0</td>\n",
       "      <td>상담사</td>\n",
       "      <td>talk</td>\n",
       "    </tr>\n",
       "    <tr>\n",
       "      <th>4</th>\n",
       "      <td>강호동</td>\n",
       "      <td>38.0</td>\n",
       "      <td>연예인</td>\n",
       "      <td>talk</td>\n",
       "    </tr>\n",
       "    <tr>\n",
       "      <th>5</th>\n",
       "      <td>신동엽</td>\n",
       "      <td>32.4</td>\n",
       "      <td>연예인</td>\n",
       "      <td>music</td>\n",
       "    </tr>\n",
       "  </tbody>\n",
       "</table>\n",
       "</div>"
      ],
      "text/plain": [
       "  name   age  job  hobby\n",
       "0  신동엽  20.0  연예인  music\n",
       "1  유재석  41.0   교수    art\n",
       "2  김새롬  18.0   학생  study\n",
       "3  이영자  45.0  상담사   talk\n",
       "4  강호동  38.0  연예인   talk\n",
       "5  신동엽  32.4  연예인  music"
      ]
     },
     "execution_count": 399,
     "metadata": {},
     "output_type": "execute_result"
    }
   ],
   "source": [
    "df"
   ]
  },
  {
   "cell_type": "code",
   "execution_count": 403,
   "metadata": {},
   "outputs": [
    {
     "name": "stdout",
     "output_type": "stream",
     "text": [
      "['music' 'art' 'study' 'talk']\n",
      "4\n",
      "talk     2\n",
      "music    2\n",
      "study    1\n",
      "art      1\n",
      "Name: hobby, dtype: int64\n"
     ]
    }
   ],
   "source": [
    "print(df.hobby.unique())    #  ['music' 'art' 'study' 'talk']\n",
    "print(len(df.hobby.unique()))  # 4\n",
    "print(df.hobby.value_counts())"
   ]
  },
  {
   "cell_type": "code",
   "execution_count": null,
   "metadata": {},
   "outputs": [],
   "source": []
  }
 ],
 "metadata": {
  "kernelspec": {
   "display_name": "Python 3",
   "language": "python",
   "name": "python3"
  },
  "language_info": {
   "codemirror_mode": {
    "name": "ipython",
    "version": 3
   },
   "file_extension": ".py",
   "mimetype": "text/x-python",
   "name": "python",
   "nbconvert_exporter": "python",
   "pygments_lexer": "ipython3",
   "version": "3.8.5"
  },
  "toc": {
   "base_numbering": 1,
   "nav_menu": {},
   "number_sections": true,
   "sideBar": true,
   "skip_h1_title": false,
   "title_cell": "Table of Contents",
   "title_sidebar": "Contents",
   "toc_cell": false,
   "toc_position": {
    "height": "calc(100% - 180px)",
    "left": "10px",
    "top": "150px",
    "width": "165px"
   },
   "toc_section_display": true,
   "toc_window_display": true
  }
 },
 "nbformat": 4,
 "nbformat_minor": 4
}
