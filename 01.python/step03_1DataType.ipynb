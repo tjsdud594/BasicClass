{
 "cells": [
  {
   "cell_type": "markdown",
   "metadata": {
    "id": "HW0p4_4aP1PQ"
   },
   "source": [
    "<!--NAVIGATION-->\n",
    "\n",
    "\n",
    "[[step02. 조건문 & 반복문 학습 page로 이동](step02ConditionLoop.ipynb) ]  |   [[step03_2.slice 학습 page로 이동](step03_2Slice.ipynb) ]"
   ]
  },
  {
   "cell_type": "code",
   "execution_count": null,
   "metadata": {
    "id": "NquC5OwSP1Pd"
   },
   "outputs": [],
   "source": [
    "# image 추가를 위한 설정\n",
    "\n",
    "# 외부에서 제공하는 library(api)들 사용한다는 설정\n",
    "# 소스상에 사용한다는 의미의 표현 필수\n",
    "# from pakage명(폴더명) import 특정파일\n",
    "\n",
    "# print() 처럼 별도의 설정 없이도 사용가능한 내장함수\n",
    "#\n",
    "\n",
    "\n",
    "from IPython.display import Image "
   ]
  },
  {
   "cell_type": "markdown",
   "metadata": {
    "id": "OBnqwN5xP1Pj"
   },
   "source": [
    "# DataType\n",
    "\n",
    "- 파이썬은 인터프리터 언어\n",
    "- 타입 : 부울, 정수, 실수, 문자열('' or \"\") \n",
    "- 자료형 확인하기 : type(데이터)\n",
    "- 파이썬 철학 : import this\n",
    "\n",
    "참조 url\n",
    "https://docs.python.org/ko/3.6/library/stdtypes.html#text-sequence-type-str"
   ]
  },
  {
   "cell_type": "code",
   "execution_count": null,
   "metadata": {
    "id": "JAo1dAb3P1Pn",
    "outputId": "c94f574e-b659-4602-87af-d44d379039d3",
    "scrolled": true
   },
   "outputs": [
    {
     "name": "stdout",
     "output_type": "stream",
     "text": [
      "The Zen of Python, by Tim Peters\n",
      "\n",
      "Beautiful is better than ugly.\n",
      "Explicit is better than implicit.\n",
      "Simple is better than complex.\n",
      "Complex is better than complicated.\n",
      "Flat is better than nested.\n",
      "Sparse is better than dense.\n",
      "Readability counts.\n",
      "Special cases aren't special enough to break the rules.\n",
      "Although practicality beats purity.\n",
      "Errors should never pass silently.\n",
      "Unless explicitly silenced.\n",
      "In the face of ambiguity, refuse the temptation to guess.\n",
      "There should be one-- and preferably only one --obvious way to do it.\n",
      "Although that way may not be obvious at first unless you're Dutch.\n",
      "Now is better than never.\n",
      "Although never is often better than *right* now.\n",
      "If the implementation is hard to explain, it's a bad idea.\n",
      "If the implementation is easy to explain, it may be a good idea.\n",
      "Namespaces are one honking great idea -- let's do more of those!\n"
     ]
    }
   ],
   "source": [
    "import this"
   ]
  },
  {
   "cell_type": "code",
   "execution_count": 50,
   "metadata": {
    "id": "Sb5ADFPaP1Pv",
    "outputId": "f83d3278-13c2-4f2e-f925-4e6cc5d70247"
   },
   "outputs": [
    {
     "data": {
      "image/png": "[encoded data removed]",
      "text/plain": [
       "<IPython.core.display.Image object>"
      ]
     },
     "execution_count": 50,
     "metadata": {},
     "output_type": "execute_result"
    }
   ],
   "source": [
    "Image('img/python-data-types.png')"
   ]
  },
  {
   "cell_type": "code",
   "execution_count": null,
   "metadata": {},
   "outputs": [],
   "source": []
  },
  {
   "cell_type": "markdown",
   "metadata": {
    "id": "F88Q5SRVP1Py"
   },
   "source": [
    "**숫자**\n",
    "\n",
    "- 연산자 참고 URL<br>\n",
    "   https://docs.python.org/3.7/reference/lexical_analysis.html#operators  <br>\n",
    "- / 는 부동도수점 포함해서 출력 <br>\n",
    "- //는 부동소수점을 제외한 결과 즉 정수가 출력<br>\n",
    "- 복소수(complex number) : python에선 실수부와 허수부로 이뤄진 복소수 사용 가능, 단 공학에선 허수부 숫자 뒤에 j 표기\n",
    " "
   ]
  },
  {
   "cell_type": "code",
   "execution_count": null,
   "metadata": {
    "id": "LDwJu7DPP1P0"
   },
   "outputs": [],
   "source": []
  },
  {
   "cell_type": "markdown",
   "metadata": {
    "id": "0mK5ShZCP1P1"
   },
   "source": [
    "**형변환**\n",
    "\n",
    "1. int(숫자 or 계산식 or '문자열') : 정수로 변환\n",
    "2. str() : 문자열로 변환\n",
    "3. float(숫자 or 계산식 or '문자열') : 실수로 변환"
   ]
  },
  {
   "cell_type": "code",
   "execution_count": 19,
   "metadata": {
    "id": "tKGV78vEP1P2"
   },
   "outputs": [
    {
     "name": "stdout",
     "output_type": "stream",
     "text": [
      "2   a   3.5\n",
      "<class 'int'>   <class 'str'>   <class 'float'>\n",
      "<class 'str'>   <class 'int'>   <class 'int'>\n",
      "2   97   3\n"
     ]
    }
   ],
   "source": [
    "d1 = 2\n",
    "d2 = 'a'\n",
    "d3 = 3.5\n",
    "\n",
    "print(d1, ' ', d2, ' ', d3)\n",
    "\n",
    "print(type(d1), ' ', type(d2), ' ', type(d3))\n",
    "\n",
    "print(type( str(d1) ), ' ', type(ord(d2)) , ' ', type( int(d3) ))\n",
    "\n",
    "print( str(d1) , ' ', ord(d2) , ' ',  int(d3) )\n",
    "\n",
    "# 문자열은 int, float로 변형 불가능! But ord로 아스킥코드로 변환해서 int로 인식하게 할 수 있음."
   ]
  },
  {
   "cell_type": "markdown",
   "metadata": {
    "id": "ofjeiB9mP1P7"
   },
   "source": [
    "**sequence 타입**\n",
    "\n",
    "1. python 내장 타입\n",
    "2. 멤버십 연산 : in 키워드 사용해서 다수의 데이터 중에 하나씩 착출해서 사용\n",
    "3. 크기 함수 : len(seq)\n",
    "4. slicing 속성 : seq[:-1]\n",
    "5. 반복성 : iterability - 반복문에 있는 데이터를 순회할 수 있음\n",
    "6. 문자열, 튜플, 리스트, 바이트 배열, 바이트 등 5개의 내장 시퀀스 타입 존재"
   ]
  },
  {
   "cell_type": "code",
   "execution_count": null,
   "metadata": {
    "id": "iiHU1i47P1P5"
   },
   "outputs": [],
   "source": []
  },
  {
   "cell_type": "markdown",
   "metadata": {
    "id": "11_dWHVbP1P9"
   },
   "source": [
    "string\n",
    "\n",
    "\n",
    "- 문자들의 순서 있는 집합\n",
    "- 여러줄로 이뤄진 문자열 표현도 가능 - 단일, 쌍따옴표 표현 \n",
    "- print 함수 사용시 특수 기호로 처리 가능 : \\r(문자열 앞단에 선언)\n",
    "- str() : 문자열로 형변환\n",
    "- 문자열 반복\n",
    "- 문자열 출력\n",
    "- 문자열 indexing \n",
    "- 문자열 slice : 문자열의 일부 추출\n",
    "- 문자열의 내장 함수 이해하기\n",
    "- 유니코드 문자열 : 전 세계 언어의 문자를 정의하기 위한 국제 표준 코드\n",
    "- python3 부턴 모든 문자열을 유니코드로 처리\n",
    "- 문자열 앞단에 u를 적용할 경우 유니코드로 구성할 수 있음\n"
   ]
  },
  {
   "cell_type": "code",
   "execution_count": 24,
   "metadata": {
    "id": "6BlN2riEP1P_"
   },
   "outputs": [
    {
     "name": "stdout",
     "output_type": "stream",
     "text": [
      "안녕하세요\n",
      "좋은 하루 되셔요\n",
      "------------------------------\n",
      "안녕\n",
      "루\n",
      "------------------------------\n",
      "안녕하세요안녕하세요\n",
      "좋은 하루 되셔요좋은 하루 되셔요\n",
      "------------------------------\n",
      "안녕하세요\n",
      "세요\n",
      "------------------------------\n"
     ]
    }
   ],
   "source": [
    "str1 = '안녕하세요' #string str1    \n",
    "str2 = '좋은 하루 되셔요' #string str2    \n",
    "\n",
    "print(str1)\n",
    "print(str2)\n",
    "print('-' * 30)\n",
    "\n",
    "# 하나의 문자열을 slicing하는 기술\n",
    "# 방법 - [시작 : 끝-1]\n",
    "print(str1[0:2])\n",
    "print(str2[4])\n",
    "print('-' * 30)\n",
    "\n",
    "\n",
    "print(str1*2)\n",
    "print(str2 + str2)\n",
    "print('-' * 30)\n",
    "\n",
    "# 숫자 표현이 없을 때는 :이 모두 다 의미\n",
    "print(str1[:])\n",
    "print(str1[3:])\n",
    "print('-' * 30)\n"
   ]
  },
  {
   "cell_type": "code",
   "execution_count": 25,
   "metadata": {
    "id": "Px94ChYaP1QB"
   },
   "outputs": [
    {
     "name": "stdout",
     "output_type": "stream",
     "text": [
      "문\\a자열\n",
      "문\u0007자열\n",
      "문자열2\n"
     ]
    }
   ],
   "source": [
    "# raw - 원천 데이터\n",
    "# r 표기 유무에 따른 차이점 파악하기\n",
    "# ''' ''' 문자열 데이터 표현, 다중라인 주석으로 사용 가능\n",
    "data1 = r'문\\a자열'\n",
    "data2 = '문\\a자열'\n",
    "data3 = '''문자열2'''\n",
    "\n",
    "print(data1)\n",
    "print(data2)\n",
    "print(data3)"
   ]
  },
  {
   "cell_type": "markdown",
   "metadata": {
    "id": "xVN4Ol9hP1QC"
   },
   "source": [
    "list\n",
    "\n",
    "\n",
    "\n",
    "- list1 = list()\t\t# 공백 리스트 생성<br>\n",
    "- list2 = list(\"Hello\")\t\t# 문자 H, e, l, l, o를 요소로 가지는 리스트 생성<br>\n",
    "- list3 = list(range(0, 5))\t# 0, 1, 2, 3, 4를 요소가 가지는 리스트 생성<br>\n",
    "- list4 = [ ] \t\t\t# 공백 리스트 생성<br>\n",
    "- list5 = [ \"H\", \"e\", \"l\", \"l\", \"o\" ] \t# 문자 H, e, l, l, o를 요소로 가지는 리스트<br> \n",
    "- list6 = [ 0, 1, 2, 3, 4 ]# 0, 1, 2, 3, 4를 요소가 가지는 리스트 생성<br>"
   ]
  },
  {
   "cell_type": "markdown",
   "metadata": {
    "id": "plgU8CSmP1QD"
   },
   "source": [
    "복잡한 list\n",
    "-. list1 = [12, \"dog\", 180.14] \t\t\t\t# 혼합 자료형 <br>\n",
    "- list2 =  [[\"Seoul\", 10], [\"Paris\", 12], [\"London\", 50]] \t# 내장 리스트<br> \n",
    "- list3 = [\"aaa\", [\"bbb\", [\"ccc\", [\"ddd\", \"eee\", 45]]]] \t# 내장 리스트 <br>"
   ]
  },
  {
   "cell_type": "code",
   "execution_count": null,
   "metadata": {
    "id": "sEtzg9CyP1QF"
   },
   "outputs": [],
   "source": [
    "# 혼합(다수의 타입으로 하나의 list 생성가능) 자료형\n",
    "list1  = [1, \"안녕\", \"Python\", 2]   \n",
    "\n",
    "\n"
   ]
  },
  {
   "cell_type": "code",
   "execution_count": null,
   "metadata": {
    "id": "44VvUcJBP1QG",
    "outputId": "f15fdb56-fb64-4828-80b2-9d8d7690aa3e"
   },
   "outputs": [
    {
     "name": "stdout",
     "output_type": "stream",
     "text": [
      "['H', 'e', 'l', 'l', 'o']\n",
      "e\n"
     ]
    }
   ],
   "source": [
    "list2 = list(\"Hello\")\n",
    "\n",
    "\n"
   ]
  },
  {
   "cell_type": "code",
   "execution_count": 27,
   "metadata": {
    "id": "b9OrmKspP1QI"
   },
   "outputs": [
    {
     "name": "stdout",
     "output_type": "stream",
     "text": [
      "<class 'list'>\n",
      "[1, '안녕', 'Python', 2]\n",
      "[2]\n",
      "[1, '안녕']\n",
      "[1, '안녕', 'Python', 2, 1, '안녕', 'Python', 2]\n",
      "[1, '안녕', 'Python', 2, 1, '안녕', 'Python', 2, 1, '안녕', 'Python', 2]\n"
     ]
    }
   ],
   "source": [
    "list1  = [1, \"안녕\", \"Python\", 2]\n",
    "\n",
    "#Checking type of given list\n",
    "print(type(list1))\n",
    "\n",
    "#Printing the list1\n",
    "print (list1)\n",
    "\n",
    "# List slicing\n",
    "print (list1[3:])\n",
    "\n",
    "# List slicing\n",
    "print (list1[0:2])\n",
    "\n",
    "# List Concatenation using + operator\n",
    "# list들도 결합 연산자로 하나의 list로 새로 생성\n",
    "print (list1 + list1)\n",
    "\n",
    "# List repetation using * operator\n",
    "print (list1 * 3)"
   ]
  },
  {
   "cell_type": "code",
   "execution_count": 33,
   "metadata": {},
   "outputs": [
    {
     "name": "stdout",
     "output_type": "stream",
     "text": [
      "['h', 'e', 'l', 'l', 'o']\n",
      "['h', 'e']\n"
     ]
    }
   ],
   "source": [
    "list2 = list('hello')\n",
    "\n",
    "print(list2)\n",
    "print(list2[0:2])"
   ]
  },
  {
   "cell_type": "code",
   "execution_count": 38,
   "metadata": {},
   "outputs": [
    {
     "name": "stdout",
     "output_type": "stream",
     "text": [
      "[0, 1, 2, 3, 4]\n",
      "3\n",
      "13\n"
     ]
    }
   ],
   "source": [
    "# 생성자 - 없던 것을 생성한다는 의미, 데이터들을 보유한 객체 생성 문법\n",
    "\n",
    "list3 = list(range(5))\n",
    "\n",
    "print(list3)\n",
    "print(list3[3])\n",
    "\n",
    "# 데이터 재대입(재할당) = 변경가능\n",
    "list3[3] = 13\n",
    "print(list3[3])"
   ]
  },
  {
   "cell_type": "code",
   "execution_count": null,
   "metadata": {},
   "outputs": [],
   "source": []
  },
  {
   "cell_type": "markdown",
   "metadata": {
    "id": "G-_yLPebP1QK"
   },
   "source": [
    "Tuple\n",
    "\n",
    "\n",
    "- 쉼표로 구분된 변경 불가능한 리스트, 연산 사용 가능<br>\n",
    "- 문법 : ()\n",
    "- 개별 데이터 활용 : 고유한 index\n",
    "- tuple1 = ()<br>\n",
    "- tuple2 = tuple()<br>\n",
    "- t1 = (1, 2, 3, 4, 5)<br>\n",
    "- t2 = (\"red\", \"green\", \"blue\")<br>\n",
    "- t = t1 + t2 <br>\n",
    "- t3 = 'test', 'test1', 'test2' #괄호없이 나영될 객체들도 튜플로 간주"
   ]
  },
  {
   "cell_type": "code",
   "execution_count": 44,
   "metadata": {
    "id": "wDq6yE-7P1QM"
   },
   "outputs": [
    {
     "name": "stdout",
     "output_type": "stream",
     "text": [
      "('안녕', 'Python', 2)\n",
      "<class 'tuple'>\n",
      "안녕\n"
     ]
    }
   ],
   "source": [
    "tup  = (\"안녕\", \"Python\", 2)   \n",
    "\n",
    "print(tup)\n",
    "print(type(tup))\n",
    "print(tup[0])\n"
   ]
  },
  {
   "cell_type": "code",
   "execution_count": 46,
   "metadata": {
    "id": "H2HojWPhQIVD"
   },
   "outputs": [
    {
     "ename": "TypeError",
     "evalue": "'tuple' object does not support item assignment",
     "output_type": "error",
     "traceback": [
      "\u001b[1;31m---------------------------------------------------------------------------\u001b[0m",
      "\u001b[1;31mTypeError\u001b[0m                                 Traceback (most recent call last)",
      "\u001b[1;32m<ipython-input-46-cb58cd9f5f20>\u001b[0m in \u001b[0;36m<module>\u001b[1;34m\u001b[0m\n\u001b[0;32m      1\u001b[0m \u001b[1;31m# tuple 타입은 수정 불가 따라서 수정시 syntax 발생\u001b[0m\u001b[1;33m\u001b[0m\u001b[1;33m\u001b[0m\u001b[1;33m\u001b[0m\u001b[0m\n\u001b[1;32m----> 2\u001b[1;33m \u001b[0mtup\u001b[0m\u001b[1;33m[\u001b[0m\u001b[1;36m0\u001b[0m\u001b[1;33m]\u001b[0m \u001b[1;33m=\u001b[0m \u001b[1;34m'잘가'\u001b[0m\u001b[1;33m\u001b[0m\u001b[1;33m\u001b[0m\u001b[0m\n\u001b[0m\u001b[0;32m      3\u001b[0m \u001b[1;33m\u001b[0m\u001b[0m\n\u001b[0;32m      4\u001b[0m '''\n\u001b[0;32m      5\u001b[0m \u001b[0mTypeError\u001b[0m\u001b[1;33m:\u001b[0m \u001b[1;34m'tuple'\u001b[0m \u001b[0mobject\u001b[0m \u001b[0mdoes\u001b[0m \u001b[1;32mnot\u001b[0m \u001b[0msupport\u001b[0m \u001b[0mitem\u001b[0m \u001b[0massignment\u001b[0m\u001b[1;33m\u001b[0m\u001b[1;33m\u001b[0m\u001b[0m\n",
      "\u001b[1;31mTypeError\u001b[0m: 'tuple' object does not support item assignment"
     ]
    }
   ],
   "source": [
    "# tuple 타입은 수정 불가 따라서 수정시 syntax 발생\n",
    "tup[0] = '잘가'\n",
    "\n",
    "'''\n",
    "TypeError: 'tuple' object does not support item assignment\n",
    "item : 다수의 데이터중 하나씩 의미\n",
    "assignment : 할당(대입)\n",
    "'''"
   ]
  },
  {
   "cell_type": "markdown",
   "metadata": {
    "id": "R1UVGUitP1P3"
   },
   "source": [
    "**미션 - 자동 판매기를 시뮬레이션하는 프로그램 만들기**\n",
    "\n",
    "> 1. 문제<br>\n",
    "  사용자는 1000원짜리 지폐와 500원짜리 동전, 100원짜리 동전을 사용할 수 있고, 물건값을 입력하고 1000원권, 500원 짜리 동전, 100원짜리 동전을 사용할 수 있다.<br>\n",
    "  물건값을 입력하고 1000원권, 500원짜리 동전, 100원짜리 동전의 개수를 입력하면 거스름돈을 계산하여서 동전으로 변환한다<br>\n",
    "\n",
    ">2. 출력 결과 예시<br>\n",
    "물건값을 입력하시오: 750 <br>\n",
    "1000원 지폐개수: 1<br>\n",
    "500원 동전개수: 0<br>\n",
    "100원 동전개수: 0<br>\n",
    "출력 500원= 0 100원= 2 10원= 5 1원= 0<br>"
   ]
  },
  {
   "cell_type": "code",
   "execution_count": 1,
   "metadata": {
    "id": "jswLLKlbP1QO",
    "scrolled": true
   },
   "outputs": [
    {
     "name": "stdout",
     "output_type": "stream",
     "text": [
      "물건값을 입력하시오: 1000\n",
      "1000원 지폐개수: 2\n",
      "500원 동전개수: 1\n",
      "100원 동전개수: 1\n",
      "받을 잔돈은 1000원: 1 , 500원: 1 , 100원: 1 , 10원: 0\n",
      "남은 잔액은 0 원 입니다.\n"
     ]
    }
   ],
   "source": [
    "# 하다가 너~무 안되면 강사님이 슬랙에 공유한 이미지 참고하기!\n",
    "# input으로 입력되는 모든 값들은 string으로 인식이 되므로 \n",
    "  #숫자로 인식하게 하려면 int를 적용시켜야 한다\n",
    "\n",
    "def cashier(pay):\n",
    "    pay = int(input('물건값을 입력하시오: '))\n",
    "\n",
    "    thousand = int(input('1000원 지폐개수: ')) * 1000\n",
    "    five_hundreds = int(input('500원 동전개수: ')) * 500\n",
    "    hundred = int(input('100원 동전개수: ')) *100\n",
    "\n",
    "\n",
    "    change = (thousand + five_hundreds + hundred) - pay\n",
    "\n",
    "\n",
    "# 잔돈을 1000, 500, 100 으로 나누어서 몫이 1이상이면 잔돈에서 몫*돈크기 빼기\n",
    "\n",
    "    a1 = change // 1000    # a1 : 잔돈 1000원단위\n",
    "    change = change % 1000    \n",
    "    a2 = change // 500    # a2 : 잔돈 500원단위\n",
    "    change = change % 500    \n",
    "    a3 = change // 100   # a3 : 잔돈 100원단위\n",
    "    change = change % 100\n",
    "    a4 =  change // 10    # a4 : 잔돈 10원 단위\n",
    "    change = change % 10\n",
    "\n",
    "\n",
    "\n",
    "    print('받을 잔돈은', '1000원:', a1, ',', '500원:', a2, ',', '100원:', a3, ',', '10원:', a4)\n",
    "    print('남은 잔액은', change, '원 입니다.')\n",
    "\n",
    "cashier(1000)"
   ]
  },
  {
   "cell_type": "code",
   "execution_count": null,
   "metadata": {},
   "outputs": [],
   "source": []
  },
  {
   "cell_type": "code",
   "execution_count": null,
   "metadata": {},
   "outputs": [],
   "source": []
  },
  {
   "cell_type": "markdown",
   "metadata": {
    "id": "nocigLHiP1QP"
   },
   "source": [
    "**Dictionary**\n",
    "\n",
    "- 문법 : {key:value, key2:value, ...} ,  son 포멧과 흡사함.\n",
    "- key로 value값 구분, key = 고유한 이름, 데이터구분을 위해 필수\n",
    "- value = 실제 사용되는 데이터\n",
    "- 활용 : 변수명['key']\n",
    "- 특정키를 주면 관련된 값을 돌려주는 내용 기반으로 검색하는 자료형\n",
    "- 키(key)와 값(value)의 쌍으로 관리되는 객체\n",
    "- 순서가 없음 \n",
    "- 키는 절대 중복 안함\n",
    "- 주요 함수 : get()/items()/keys()/values()/copy()/update\n",
    "- 저장 및 활용<br>\n",
    "    1. 이미 존재하는 dict 에 추가 저장 : dict변수['newKey'] = 새로운데이터<br>\n",
    "    2. 이미 존재하는 데이터 반환 : get(), ['key']\n",
    "\n",
    "- doc <br>\n",
    "https://docs.python.org/ko/3.6/library/stdtypes.html#mapping-types-dict\n"
   ]
  },
  {
   "cell_type": "code",
   "execution_count": 6,
   "metadata": {
    "id": "y6rUS1MZP1QR"
   },
   "outputs": [
    {
     "data": {
      "text/plain": [
       "True"
      ]
     },
     "execution_count": 6,
     "metadata": {},
     "output_type": "execute_result"
    }
   ],
   "source": [
    "# 사전처럼 index로 데이터 구분하듯 key로 value값 구분하는 것의 포멧\n",
    "# 문법은 다르지만 동일한 로직\n",
    "\n",
    "a = dict(one=1, two=2, three=3)\n",
    "b = {'one': 1, 'two': 2, 'three': 3} # 가장 많이 선호하는 문법\n",
    "\n",
    "# one과 1, two와 2, three와 3 끼리 압축하는 개념\n",
    "# zip() 내장함수\n",
    "c = dict(zip(['one', 'two', 'three'], [1, 2, 3]))\n",
    "\n",
    "\n",
    "# tuple 문법을 활용한 dict 생성\n",
    "d = dict([('two', 2), ('one', 1), ('three', 3)])\n",
    "e = dict({'three': 3, 'one': 1, 'two': 2})\n",
    "\n",
    "a == b == c == d == e"
   ]
  },
  {
   "cell_type": "code",
   "execution_count": 8,
   "metadata": {},
   "outputs": [
    {
     "data": {
      "text/plain": [
       "dict"
      ]
     },
     "execution_count": 8,
     "metadata": {},
     "output_type": "execute_result"
    }
   ],
   "source": [
    "type(b)"
   ]
  },
  {
   "cell_type": "code",
   "execution_count": 9,
   "metadata": {},
   "outputs": [
    {
     "name": "stdout",
     "output_type": "stream",
     "text": [
      "{'one': 1, 'two': 2, 'three': 3}\n"
     ]
    }
   ],
   "source": [
    "print(b)"
   ]
  },
  {
   "cell_type": "code",
   "execution_count": 11,
   "metadata": {},
   "outputs": [
    {
     "name": "stdout",
     "output_type": "stream",
     "text": [
      "2\n"
     ]
    }
   ],
   "source": [
    "print(b['two'])   # key로 value 활용"
   ]
  },
  {
   "cell_type": "code",
   "execution_count": 13,
   "metadata": {},
   "outputs": [
    {
     "name": "stdout",
     "output_type": "stream",
     "text": [
      "test\n"
     ]
    }
   ],
   "source": [
    "# b['two']에 새로운 데이터 저장\n",
    "b['two'] = 'test'\n",
    "print(b['two'])"
   ]
  },
  {
   "cell_type": "code",
   "execution_count": 17,
   "metadata": {},
   "outputs": [
    {
     "name": "stdout",
     "output_type": "stream",
     "text": [
      "{'one': 1, 'two': 'test', 'three': 3}\n",
      "dict_keys(['one', 'two', 'three'])\n",
      "dict_values([1, 'test', 3])\n"
     ]
    }
   ],
   "source": [
    "print(b)\n",
    "# 데이터들 구분이 key, 가령 데이터가 무수히 많을 경우 key들만 필요할 경우도 있음\n",
    "# key 명 자체를 모를 경우도 있음\n",
    "# value 들만 필요한 경우도 있음\n",
    "\n",
    "print(b.keys())\n",
    "print(b.values())"
   ]
  },
  {
   "cell_type": "code",
   "execution_count": 20,
   "metadata": {},
   "outputs": [
    {
     "name": "stdout",
     "output_type": "stream",
     "text": [
      "one 1\n",
      "two test\n",
      "three 3\n"
     ]
    }
   ],
   "source": [
    "#? key들로 value를 뽑아서 출력, 반복해서 출력(for)\n",
    "# 힌트 : keys()   /['key']\n",
    "\n",
    "for key in b.keys():\n",
    "    print(key, b[key])\n",
    "    \n"
   ]
  },
  {
   "cell_type": "code",
   "execution_count": 23,
   "metadata": {},
   "outputs": [
    {
     "name": "stdout",
     "output_type": "stream",
     "text": [
      "one 1\n",
      "two test\n",
      "three 3\n"
     ]
    }
   ],
   "source": [
    "for key in b:\n",
    "    print(key, b[key])"
   ]
  },
  {
   "cell_type": "code",
   "execution_count": 25,
   "metadata": {},
   "outputs": [],
   "source": [
    "# 놀면뭐하니? 정보를 서비스하고자 하는 로직이라 가정\n",
    "# 현 미션 : 두 팀 경연대회 후 한팀 선별\n",
    "# 팀명과 팀원들 / 팀원이름, 나이 , 직무...\n",
    "# client 에게 서비스 하는 화면단에 team1 버튼/ team2 버튼 구성\n",
    "# 해당 버튼 클릭시에 팀원들에 대한 정보가 출력되게\n",
    "# python 의 dict 타입으로 구성해 주면 화면에 데이터 출렿가는 개발자가 활용\n",
    "# 요지: dict구조만 우리가 구성하면 될 터인데 어떨게 설계할 것인가?\n",
    "\n",
    "\n",
    "test = {'team1' : {'name':'1'}}\n"
   ]
  },
  {
   "cell_type": "code",
   "execution_count": 27,
   "metadata": {},
   "outputs": [
    {
     "name": "stdout",
     "output_type": "stream",
     "text": [
      "{'team1': {'name': '1'}}\n",
      "1\n"
     ]
    }
   ],
   "source": [
    "print(test)\n",
    "print(test['team1']['name'])"
   ]
  },
  {
   "cell_type": "code",
   "execution_count": 40,
   "metadata": {},
   "outputs": [
    {
     "ename": "SyntaxError",
     "evalue": "illegal target for annotation (<ipython-input-40-0f3e3e211042>, line 1)",
     "output_type": "error",
     "traceback": [
      "\u001b[1;36m  File \u001b[1;32m\"<ipython-input-40-0f3e3e211042>\"\u001b[1;36m, line \u001b[1;32m1\u001b[0m\n\u001b[1;33m    'p1' : {'name' : '지석진', 'age':56}\u001b[0m\n\u001b[1;37m    ^\u001b[0m\n\u001b[1;31mSyntaxError\u001b[0m\u001b[1;31m:\u001b[0m illegal target for annotation\n"
     ]
    }
   ],
   "source": [
    "'p1' : {'name' : '지석진', 'age':56}\n",
    "'p2' : {'name' : '쌈디', 'age':28}\n",
    "    \n",
    "test = {'team1' : {'팀원1' : {'name' : '지석진', 'age':56} , '팀원2' : {'name' : '쌈디', 'age':28} }}"
   ]
  },
  {
   "cell_type": "code",
   "execution_count": 38,
   "metadata": {},
   "outputs": [
    {
     "data": {
      "text/plain": [
       "{'team1': {'name': '1'}}"
      ]
     },
     "execution_count": 38,
     "metadata": {},
     "output_type": "execute_result"
    }
   ],
   "source": [
    "test"
   ]
  },
  {
   "cell_type": "code",
   "execution_count": 39,
   "metadata": {},
   "outputs": [
    {
     "ename": "KeyError",
     "evalue": "'팀원1'",
     "output_type": "error",
     "traceback": [
      "\u001b[1;31m---------------------------------------------------------------------------\u001b[0m",
      "\u001b[1;31mKeyError\u001b[0m                                  Traceback (most recent call last)",
      "\u001b[1;32m<ipython-input-39-c5fd85e32195>\u001b[0m in \u001b[0;36m<module>\u001b[1;34m\u001b[0m\n\u001b[1;32m----> 1\u001b[1;33m \u001b[0mtest\u001b[0m\u001b[1;33m[\u001b[0m\u001b[1;34m'team1'\u001b[0m\u001b[1;33m]\u001b[0m\u001b[1;33m[\u001b[0m\u001b[1;34m'팀원1'\u001b[0m\u001b[1;33m]\u001b[0m\u001b[1;33m\u001b[0m\u001b[1;33m\u001b[0m\u001b[0m\n\u001b[0m",
      "\u001b[1;31mKeyError\u001b[0m: '팀원1'"
     ]
    }
   ],
   "source": [
    "test['team1']['팀원1']"
   ]
  },
  {
   "cell_type": "markdown",
   "metadata": {
    "id": "iw9gW1e5P1QT"
   },
   "source": [
    " '**Boolean**"
   ]
  },
  {
   "cell_type": "code",
   "execution_count": null,
   "metadata": {},
   "outputs": [],
   "source": []
  },
  {
   "cell_type": "code",
   "execution_count": null,
   "metadata": {
    "id": "pu6Ztc7VP1QU"
   },
   "outputs": [],
   "source": []
  },
  {
   "cell_type": "markdown",
   "metadata": {
    "id": "Bq-lWkMZP1QU"
   },
   "source": [
    "**Set**\n",
    "\n",
    "-. 중복되지 않는 순서 없는 항목들 , 고유한 데이터 값들로만 구성된 집합<br>\n",
    "- set1 = {2, 1, 3} <br>\n",
    "- set2 = set()\n",
    "- doc <br>\n",
    "https://docs.python.org/ko/3.6/library/stdtypes.html#set-types-set-frozenset"
   ]
  },
  {
   "cell_type": "code",
   "execution_count": 42,
   "metadata": {
    "id": "lNPnDm2-P1QW"
   },
   "outputs": [
    {
     "name": "stdout",
     "output_type": "stream",
     "text": [
      "{1, 2, 3}\n"
     ]
    }
   ],
   "source": [
    "set1 = {2, 1, 3}   # ()소괄호, {}중괄호, []대괄호 - 브래킷연산자 라고도 함.\n",
    "print(set1)"
   ]
  },
  {
   "cell_type": "code",
   "execution_count": 43,
   "metadata": {},
   "outputs": [
    {
     "name": "stdout",
     "output_type": "stream",
     "text": [
      "{1, 2, 3}\n"
     ]
    }
   ],
   "source": [
    "set1 = {2, 1, 3, 3}   # 순서고려X, 중복 삭제\n",
    "print(set1)"
   ]
  },
  {
   "cell_type": "markdown",
   "metadata": {
    "id": "RHtuLen8P1QV"
   },
   "source": [
    "####  부분 집합 연산 & 합집합 연산\n",
    "> issubset() - 부분 집합 여부 검사<br>\n",
    "> issuperset() - 상위집합 여부 검사<br>\n",
    "\n",
    "> union() - 합집합 <br>\n",
    "> intersection() - 교집합, & 연산자 사용 가능<br>\n",
    "> difference() - 차집합, - 연산자 사용 가능<br>"
   ]
  },
  {
   "cell_type": "code",
   "execution_count": 61,
   "metadata": {},
   "outputs": [
    {
     "name": "stdout",
     "output_type": "stream",
     "text": [
      "{2, '신동엽', 10.7, 45, '유재석'}\n"
     ]
    }
   ],
   "source": [
    "set1 = {'유재석', 2, 45, '신동엽'}\n",
    "set1.add(10.7)    #이미 생성된 set에 추가 저장하는 함수\n",
    "print(set1)"
   ]
  },
  {
   "cell_type": "code",
   "execution_count": 63,
   "metadata": {},
   "outputs": [
    {
     "name": "stdout",
     "output_type": "stream",
     "text": [
      "False\n"
     ]
    }
   ],
   "source": [
    "set1 = {'유재석', 2, 45, '신동엽'}\n",
    "\n",
    "# set1이 신동엽을 보우하고 있는지 확인하는 문장\n",
    "print('신동엽' not in set1)\n"
   ]
  },
  {
   "cell_type": "code",
   "execution_count": 64,
   "metadata": {},
   "outputs": [
    {
     "name": "stdout",
     "output_type": "stream",
     "text": [
      "True\n"
     ]
    }
   ],
   "source": [
    "print('신동엽' in set1)"
   ]
  },
  {
   "cell_type": "code",
   "execution_count": 56,
   "metadata": {},
   "outputs": [
    {
     "name": "stdout",
     "output_type": "stream",
     "text": [
      "2\n"
     ]
    }
   ],
   "source": [
    "# list / tuple / dict / set\n",
    "# [ , ] / ( , ) / {key : value , } / { , }\n",
    "# 서로 다른 타입 내부에 상이한 타입을 value로 저장 가능 \n",
    "\n",
    "# 저장 : add / 삭제 : \n",
    "\n",
    "print(set1.pop()) # 데이터 완전히 뽑는 함수, 잔존시키지 않음\n"
   ]
  },
  {
   "cell_type": "code",
   "execution_count": 59,
   "metadata": {},
   "outputs": [
    {
     "name": "stdout",
     "output_type": "stream",
     "text": [
      "{2, '신동엽', 10.7, 45, '유재석'}\n",
      "2\n",
      "{'신동엽', 10.7, 45, '유재석'}\n",
      "신동엽\n"
     ]
    }
   ],
   "source": [
    "print(set1)\n",
    "print(set1.pop())\n",
    "print(set1)\n",
    "print(set1.pop())"
   ]
  },
  {
   "cell_type": "code",
   "execution_count": 49,
   "metadata": {},
   "outputs": [
    {
     "ename": "IndentationError",
     "evalue": "unexpected indent (<ipython-input-49-1b90347c129b>, line 2)",
     "output_type": "error",
     "traceback": [
      "\u001b[1;36m  File \u001b[1;32m\"<ipython-input-49-1b90347c129b>\"\u001b[1;36m, line \u001b[1;32m2\u001b[0m\n\u001b[1;33m    - 저장, 수정(갱신, 삭제)가능\u001b[0m\n\u001b[1;37m    ^\u001b[0m\n\u001b[1;31mIndentationError\u001b[0m\u001b[1;31m:\u001b[0m unexpected indent\n"
     ]
    }
   ],
   "source": [
    "# list(순서, index), dict(key), set(순서보장 불가, 고유값만 저장, index로 데이터 관리 불가)\n",
    "   - 저장, 수정(갱신, 삭제)가능\n",
    "# tuple - 수정불가, 저장해서 활용 용도\n"
   ]
  },
  {
   "cell_type": "code",
   "execution_count": 76,
   "metadata": {},
   "outputs": [
    {
     "name": "stdout",
     "output_type": "stream",
     "text": [
      "True\n"
     ]
    }
   ],
   "source": [
    "A = {1, 2, 3}\n",
    "B = {1, 2, 3}\n",
    "\n",
    "print(A == B)"
   ]
  },
  {
   "cell_type": "code",
   "execution_count": 81,
   "metadata": {},
   "outputs": [
    {
     "name": "stdout",
     "output_type": "stream",
     "text": [
      "False\n",
      "{3}\n"
     ]
    }
   ],
   "source": [
    "A = {1, 2, 3}\n",
    "B = {3, 4, 5}\n",
    "\n",
    "print(A == B)\n",
    "print(A.intersection(B))"
   ]
  },
  {
   "cell_type": "code",
   "execution_count": 83,
   "metadata": {},
   "outputs": [
    {
     "ename": "SyntaxError",
     "evalue": "invalid syntax (<ipython-input-83-3da36414cefd>, line 7)",
     "output_type": "error",
     "traceback": [
      "\u001b[1;36m  File \u001b[1;32m\"<ipython-input-83-3da36414cefd>\"\u001b[1;36m, line \u001b[1;32m7\u001b[0m\n\u001b[1;33m    B = {1, 2, 3}\u001b[0m\n\u001b[1;37m    ^\u001b[0m\n\u001b[1;31mSyntaxError\u001b[0m\u001b[1;31m:\u001b[0m invalid syntax\n"
     ]
    }
   ],
   "source": [
    "# 포함 관계등\n",
    "A = {1, 2, 3}\n",
    "B = {1, 2, 3, 4, 5}\n",
    "\n",
    "print(A == B)"
   ]
  },
  {
   "cell_type": "code",
   "execution_count": 89,
   "metadata": {},
   "outputs": [],
   "source": [
    "A = {1, 2, 3}\n",
    "B = {1, 2, 3, 4, 5}"
   ]
  },
  {
   "cell_type": "code",
   "execution_count": 90,
   "metadata": {},
   "outputs": [
    {
     "data": {
      "text/plain": [
       "True"
      ]
     },
     "execution_count": 90,
     "metadata": {},
     "output_type": "execute_result"
    }
   ],
   "source": [
    "A < B"
   ]
  },
  {
   "cell_type": "code",
   "execution_count": 91,
   "metadata": {},
   "outputs": [
    {
     "data": {
      "text/plain": [
       "False"
      ]
     },
     "execution_count": 91,
     "metadata": {},
     "output_type": "execute_result"
    }
   ],
   "source": [
    "A > B"
   ]
  },
  {
   "cell_type": "code",
   "execution_count": 92,
   "metadata": {},
   "outputs": [
    {
     "data": {
      "text/plain": [
       "False"
      ]
     },
     "execution_count": 92,
     "metadata": {},
     "output_type": "execute_result"
    }
   ],
   "source": [
    "B.issubset(A)   # A < B"
   ]
  },
  {
   "cell_type": "code",
   "execution_count": 93,
   "metadata": {},
   "outputs": [
    {
     "data": {
      "text/plain": [
       "True"
      ]
     },
     "execution_count": 93,
     "metadata": {},
     "output_type": "execute_result"
    }
   ],
   "source": [
    "B.issuperset(A)"
   ]
  },
  {
   "cell_type": "markdown",
   "metadata": {
    "id": "_ISciwmiP1QX"
   },
   "source": [
    "**미션 - 파티 동시 참석자 알아내기**\n",
    "\n",
    "> [문제] <br>\n",
    "> 파티에 참석한 사람들의 명단이 세트 A와 B에 각각 저장되어 있다.<br>\n",
    "> 2개 파티에 모두 참석한 사람들의 명단을 출력하려면 어떻게 해야 할까? <br>\n",
    "\n",
    "> [출력 결과] <br>\n",
    "> 2개의 파티에 모두 참석한 사람은 다음과 같습니다. <br>\n",
    "> {'Park'}"
   ]
  },
  {
   "cell_type": "code",
   "execution_count": 95,
   "metadata": {
    "id": "mka_QVc0P1QY"
   },
   "outputs": [
    {
     "name": "stdout",
     "output_type": "stream",
     "text": [
      "{'유재석', '백종원', '아무개'} {'유재석'}\n"
     ]
    }
   ],
   "source": [
    "partA = {'유재석', '백종원', '아무개'}\n",
    "partB = {'유재석'}\n",
    "\n",
    "print(partA, partB)"
   ]
  },
  {
   "cell_type": "code",
   "execution_count": 96,
   "metadata": {},
   "outputs": [
    {
     "data": {
      "text/plain": [
       "{'유재석'}"
      ]
     },
     "execution_count": 96,
     "metadata": {},
     "output_type": "execute_result"
    }
   ],
   "source": [
    "partA & partB"
   ]
  },
  {
   "cell_type": "markdown",
   "metadata": {
    "id": "hEVM3rHUP1Qa"
   },
   "source": [
    "**미션-각각의 단어가 몇 번이나 나오는지를 계산하는 프로그램을 작성하기**\n",
    "\n",
    "> 문제<br>\n",
    ">  - 사용자가 지정하는 파일을 읽어서 파일에 저장된 각각의 단어가 몇 번이나 나오는지를 계산하는 프로그램을 작성하여 보자.<br>\n",
    "\n",
    "> 힌트<br>\n",
    "    - key는 단어로, 나온 횟수는 value로 처리하기<br>\n",
    "    - 필요한 타입 : 딕셔너리"
   ]
  },
  {
   "cell_type": "code",
   "execution_count": 97,
   "metadata": {},
   "outputs": [],
   "source": [
    "data = '''내 속엔 내가 너무도 많아 당신의 쉴 곳 없네\n",
    "내 속엔 헛된바램들로 당신의 편할 곳 없네\n",
    "내 속엔 내가 어쩔 수 없는 어둠 당신의 쉴 자리를 뺏고\n",
    "내 속엔 내가 이길 수 없는 슬픔 무성한 가시나무숲같네\n",
    "바람만 불면 그 메마른가지 서로 부대끼며 울어대고\n",
    "쉴곳을 찾아 지쳐 날아온 어린새들도 가시에 찔려 날아가고\n",
    "바람만 불면 외롭고 또 괴로워 슬픈 노래를 부르던 날이 많았는데\n",
    "내 속엔 내가 너무도 많아서 당신의 쉴 곳 없네\n",
    "바람만 불면 그 메마른가지 서로 부대끼며 울어대고\n",
    "쉴곳을 찾아 지쳐 날아온 어린새들도 가시에 찔려 날아가고\n",
    "바람만 불면 외롭고 또 괴로워 슬픈 노래를 부르던 날이 많았는데\n",
    "내 속엔 내가 너무도 많아서 당신의 쉴 곳 없네'''"
   ]
  },
  {
   "cell_type": "code",
   "execution_count": 99,
   "metadata": {
    "id": "40kMj-F6P1Qb"
   },
   "outputs": [
    {
     "data": {
      "text/plain": [
       "'내 속엔 내가 너무도 많아 당신의 쉴 곳 없네\\n내 속엔 헛된바램들로 당신의 편할 곳 없네\\n내 속엔 내가 어쩔 수 없는 어둠 당신의 쉴 자리를 뺏고\\n내 속엔 내가 이길 수 없는 슬픔 무성한 가시나무숲같네\\n바람만 불면 그 메마른가지 서로 부대끼며 울어대고\\n쉴곳을 찾아 지쳐 날아온 어린새들도 가시에 찔려 날아가고\\n바람만 불면 외롭고 또 괴로워 슬픈 노래를 부르던 날이 많았는데\\n내 속엔 내가 너무도 많아서 당신의 쉴 곳 없네\\n바람만 불면 그 메마른가지 서로 부대끼며 울어대고\\n쉴곳을 찾아 지쳐 날아온 어린새들도 가시에 찔려 날아가고\\n바람만 불면 외롭고 또 괴로워 슬픈 노래를 부르던 날이 많았는데\\n내 속엔 내가 너무도 많아서 당신의 쉴 곳 없네'"
      ]
     },
     "execution_count": 99,
     "metadata": {},
     "output_type": "execute_result"
    }
   ],
   "source": [
    "data"
   ]
  },
  {
   "cell_type": "code",
   "execution_count": 111,
   "metadata": {},
   "outputs": [
    {
     "name": "stdout",
     "output_type": "stream",
     "text": [
      "내 속엔 내가 너무도 많아 당신의 쉴 곳 없네\n",
      "내 속엔 헛된바램들로 당신의 편할 곳 없네\n",
      "내 속엔 내가 어쩔 수 없는 어둠 당신의 쉴 자리를 뺏고\n",
      "내 속엔 내가 이길 수 없는 슬픔 무성한 가시나무숲같네\n",
      "바람만 불면 그 메마른가지 서로 부대끼며 울어대고\n",
      "쉴곳을 찾아 지쳐 날아온 어린새들도 가시에 찔려 날아가고\n",
      "바람만 불면 외롭고 또 괴로워 슬픈 노래를 부르던 날이 많았는데\n",
      "내 속엔 내가 너무도 많아서 당신의 쉴 곳 없네\n",
      "바람만 불면 그 메마른가지 서로 부대끼며 울어대고\n",
      "쉴곳을 찾아 지쳐 날아온 어린새들도 가시에 찔려 날아가고\n",
      "바람만 불면 외롭고 또 괴로워 슬픈 노래를 부르던 날이 많았는데\n",
      "내 속엔 내가 너무도 많아서 당신의 쉴 곳 없네"
     ]
    }
   ],
   "source": [
    "v = 'string'\n",
    "\n",
    "for line in data:\n",
    "    print(line, end='')"
   ]
  },
  {
   "cell_type": "code",
   "execution_count": 112,
   "metadata": {},
   "outputs": [
    {
     "name": "stdout",
     "output_type": "stream",
     "text": [
      "new2\n"
     ]
    }
   ],
   "source": [
    "dict1 = {'key1' : 'value1', 'k2' : 'v2'}\n",
    "dict1['k2'] = 'new2'\n",
    "print(dict1['k2'])"
   ]
  },
  {
   "cell_type": "code",
   "execution_count": 116,
   "metadata": {},
   "outputs": [],
   "source": [
    "word = {'내' : 'a1', '속' : 'a2', '가' : 'a3'}\n",
    "a1 = 0\n",
    "a2 = 0\n",
    "a3 = 0\n",
    "\n",
    "for count in data:\n",
    "    if count == '내':\n",
    "        a1 += 1\n",
    "\n",
    "\n",
    "\n",
    "\n"
   ]
  },
  {
   "cell_type": "code",
   "execution_count": 119,
   "metadata": {},
   "outputs": [
    {
     "name": "stdout",
     "output_type": "stream",
     "text": [
      "{'내': 11, '속': 6, '엔': 6, '가': 12, '너': 3, '무': 5, '도': 5, '많': 5, '아': 9, '당': 5, '신': 5, '의': 5, '쉴': 6, '곳': 6, '없': 6, '네': 5, '헛': 1, '된': 1, '바': 5, '램': 1, '들': 3, '로': 5, '편': 1, '할': 1, '어': 6, '쩔': 1, '수': 2, '는': 4, '둠': 1, '자': 1, '리': 1, '를': 3, '뺏': 1, '고': 7, '이': 3, '길': 1, '슬': 3, '픔': 1, '성': 1, '한': 1, '시': 3, '나': 1, '숲': 1, '같': 1, '람': 4, '만': 4, '불': 4, '면': 4, '그': 2, '메': 2, '마': 2, '른': 2, '지': 4, '서': 4, '부': 4, '대': 4, '끼': 2, '며': 2, '울': 2, '을': 2, '찾': 2, '쳐': 2, '날': 6, '온': 2, '린': 2, '새': 2, '에': 2, '찔': 2, '려': 2, '외': 2, '롭': 2, '또': 2, '괴': 2, '워': 2, '픈': 2, '노': 2, '래': 2, '르': 2, '던': 2, '았': 2, '데': 2}\n"
     ]
    }
   ],
   "source": [
    "# 모범 답안\n",
    "\n",
    "# key value 구조로 저장 가능한 dict 생성\n",
    "# 반복해서 철자들을 read\n",
    "# read된 철자를 ' ' and \\n 여부 비교해서 필터링, 즉 이 표현은 counting 제외\n",
    "# ' ' and \\n 도 아니면 추가 및 value값 증가\n",
    "\n",
    "dictory = dict()   # 빈 사전 객체 생성\n",
    "\n",
    "for v in data:\n",
    "    if v != '\\n' and v != ' ':\n",
    "        if v not in dictory:         # dict에 미 존재할 경우에만 true\n",
    "            dictory[v] = 1            # 사전에 새로 등록하면서 1 증가\n",
    "        else:\n",
    "            dictory[v] += 1           # 사전에 존재할 경우엔 1 증가\n",
    "            \n",
    "print(dictory)\n"
   ]
  },
  {
   "cell_type": "code",
   "execution_count": null,
   "metadata": {},
   "outputs": [],
   "source": []
  },
  {
   "cell_type": "code",
   "execution_count": 108,
   "metadata": {},
   "outputs": [
    {
     "name": "stdout",
     "output_type": "stream",
     "text": [
      "{'key1': 'value1', 'k2': 'new2', 'k3': 100}\n"
     ]
    }
   ],
   "source": [
    "dict1['k3'] = 100  #새로운 데이터 추가저장\n",
    "print(dict1)"
   ]
  },
  {
   "cell_type": "code",
   "execution_count": 109,
   "metadata": {},
   "outputs": [],
   "source": [
    "# 데이터를 read하면서 key로 최초에 등록, 또 읽고 없다면 등록이지만 이지 존재한다면 값을 1 증가하는 로직이어야함\n",
    "\n",
    "# 힌트 : \\n과 ' '는 counting에서 제외 : if 변수명 != '\\n' and 변수명 != ' ' <br>\n",
    "\n",
    "# 힌트 : dict변수['key'] = 1 : 없던 철자인경우 1 값으로 새로 추가, 이미 존재할 경우엔 dict변수['key'] +=1"
   ]
  },
  {
   "cell_type": "code",
   "execution_count": 110,
   "metadata": {},
   "outputs": [
    {
     "name": "stdout",
     "output_type": "stream",
     "text": [
      "1\n",
      "2\n",
      "3\n"
     ]
    }
   ],
   "source": [
    "v1 = 1\n",
    "print(v1)\n",
    "v1 = v1 + 1\n",
    "print(v1)\n",
    "\n",
    "v1 +=1      # v1 = v1 + 1과 동일한 문법\n",
    "print(v1)"
   ]
  },
  {
   "cell_type": "code",
   "execution_count": null,
   "metadata": {},
   "outputs": [],
   "source": [
    "# 실행 결과\n",
    "\n",
    "{'내' : 11, '속' : 6, '엔' : 6, '가' : 12, ...}"
   ]
  },
  {
   "cell_type": "code",
   "execution_count": 120,
   "metadata": {},
   "outputs": [
    {
     "name": "stdout",
     "output_type": "stream",
     "text": [
      "apple\n",
      "banana\n",
      "cherry\n"
     ]
    },
    {
     "data": {
      "text/plain": [
       "[None, None, None]"
      ]
     },
     "execution_count": 120,
     "metadata": {},
     "output_type": "execute_result"
    }
   ],
   "source": [
    "thislist = [\"apple\", \"banana\", \"cherry\"]\n",
    "\n",
    "# [반복실행문 for 변수 in 데이터범위]\n",
    "[print(x) for x in thislist]"
   ]
  },
  {
   "cell_type": "code",
   "execution_count": 121,
   "metadata": {},
   "outputs": [
    {
     "name": "stdout",
     "output_type": "stream",
     "text": [
      "apple\n",
      "banana\n",
      "cherry\n"
     ]
    }
   ],
   "source": [
    "for x in thislist:\n",
    "    print(x)"
   ]
  },
  {
   "cell_type": "code",
   "execution_count": 125,
   "metadata": {},
   "outputs": [
    {
     "name": "stdout",
     "output_type": "stream",
     "text": [
      "1\n",
      "2\n",
      "3\n"
     ]
    }
   ],
   "source": [
    "for x in [1, 2, 3]:\n",
    "    print(x)\n",
    "    "
   ]
  },
  {
   "cell_type": "code",
   "execution_count": 126,
   "metadata": {},
   "outputs": [
    {
     "name": "stdout",
     "output_type": "stream",
     "text": [
      "1\n",
      "2\n",
      "3\n"
     ]
    },
    {
     "data": {
      "text/plain": [
       "[None, None, None]"
      ]
     },
     "execution_count": 126,
     "metadata": {},
     "output_type": "execute_result"
    }
   ],
   "source": [
    "[print(x) for x in [1, 2, 3]]"
   ]
  },
  {
   "cell_type": "code",
   "execution_count": 127,
   "metadata": {},
   "outputs": [
    {
     "name": "stdout",
     "output_type": "stream",
     "text": [
      "1\n",
      "2\n",
      "3\n",
      "[None, None, None]\n"
     ]
    }
   ],
   "source": [
    "# Looping Using List Comprehension\n",
    "lst = [print(x) for x in [1, 2, 3]]\n",
    "print(lst)"
   ]
  },
  {
   "cell_type": "code",
   "execution_count": 131,
   "metadata": {},
   "outputs": [
    {
     "name": "stdout",
     "output_type": "stream",
     "text": [
      "[11, 12, 13]\n"
     ]
    }
   ],
   "source": [
    "lst = []\n",
    "\n",
    "for x in [1, 2, 3]:\n",
    "    lst.append(x+10)  # List 내에 데이터를 추가 저장하는 함수\n",
    "    \n",
    "print(lst)"
   ]
  },
  {
   "cell_type": "code",
   "execution_count": 134,
   "metadata": {},
   "outputs": [
    {
     "name": "stdout",
     "output_type": "stream",
     "text": [
      "[11, 12, 13]\n"
     ]
    }
   ],
   "source": [
    "# list에 재저장\n",
    "\n",
    "\n",
    "lst = []\n",
    "\n",
    "[lst.append(x+10) for x in [1, 2, 3] ]          # [ 실행문장]\n",
    "    \n",
    "print(lst)"
   ]
  },
  {
   "cell_type": "code",
   "execution_count": 137,
   "metadata": {},
   "outputs": [
    {
     "name": "stdout",
     "output_type": "stream",
     "text": [
      "['apple', 'banana', 'mango']\n"
     ]
    }
   ],
   "source": [
    "fruits = [\"apple\", \"banana\", \"cherry\", \"kiwi\", \"mango\"]\n",
    "newlist = []\n",
    "\n",
    "for x in fruits:\n",
    "    if \"a\" in x:\n",
    "        newlist.append(x)\n",
    "\n",
    "print(newlist)"
   ]
  },
  {
   "cell_type": "code",
   "execution_count": 139,
   "metadata": {},
   "outputs": [
    {
     "name": "stdout",
     "output_type": "stream",
     "text": [
      "['apple', 'banana', 'mango']\n"
     ]
    }
   ],
   "source": [
    "fruits = [\"apple\", \"banana\", \"cherry\", \"kiwi\", \"mango\"]\n",
    "\n",
    "\n",
    "newlist = [x for x in fruits if \"a\" in x]\n",
    "\n",
    "\n",
    "print(newlist)"
   ]
  },
  {
   "cell_type": "code",
   "execution_count": null,
   "metadata": {},
   "outputs": [],
   "source": [
    "newlist = [x for x in fruits if x != \"apple\"]"
   ]
  },
  {
   "cell_type": "code",
   "execution_count": 141,
   "metadata": {},
   "outputs": [
    {
     "name": "stdout",
     "output_type": "stream",
     "text": [
      "['banana', 'cherry', 'kiwi', 'mango']\n"
     ]
    }
   ],
   "source": [
    "fruits = [\"apple\", \"banana\", \"cherry\", \"kiwi\", \"mango\"]\n",
    "newlist = []\n",
    "\n",
    "for x in fruits:\n",
    "    if x != 'apple':\n",
    "        newlist.append(x)\n",
    "        \n",
    "print(newlist)"
   ]
  },
  {
   "cell_type": "markdown",
   "metadata": {
    "id": "k9HV5w2pP1Qb"
   },
   "source": [
    "**미션-함축된 표현식으로 변경해 보기**\n",
    "\n",
    "> 1. 소스 분석하기<br>\n",
    "> 2. 반복문을 함축 표현으로 변경해 보기\n",
    "> 3. 알고리즘 문제로 많이 나오는 로직"
   ]
  },
  {
   "cell_type": "code",
   "execution_count": null,
   "metadata": {
    "id": "IYCvEA6yP1Qc",
    "outputId": "1f8d30c5-1e2a-489d-9769-6370435a9335"
   },
   "outputs": [
    {
     "data": {
      "text/plain": [
       "['V1 TEST', 'V2 TEST', 'V3 TEST']"
      ]
     },
     "execution_count": 59,
     "metadata": {
      "tags": []
     },
     "output_type": "execute_result"
    }
   ],
   "source": [
    "v = []\n",
    "values = ['v1 test', 'v2 test', 'v3 test', 'v4', 'v5']\n",
    "for x in values:\n",
    "    if len(x) > 2:\n",
    "        v.append(x.upper());       # upper : 대문자  / lower : 소문자\n",
    "\n",
    "v"
   ]
  },
  {
   "cell_type": "code",
   "execution_count": 146,
   "metadata": {
    "id": "I5qfhDD0P1Qe"
   },
   "outputs": [
    {
     "data": {
      "text/plain": [
       "['V1 TEST', 'V2 TEST', 'V3 TEST']"
      ]
     },
     "execution_count": 146,
     "metadata": {},
     "output_type": "execute_result"
    }
   ],
   "source": [
    "values = ['v1 test', 'v2 test', 'v3 test', 'v4', 'v5']\n",
    "\n",
    "\n",
    "v = [x.upper() for x in values if len(x) > 2]\n",
    "\n",
    "print(v)"
   ]
  },
  {
   "cell_type": "code",
   "execution_count": null,
   "metadata": {},
   "outputs": [],
   "source": []
  }
 ],
 "metadata": {
  "colab": {
   "collapsed_sections": [],
   "name": "step03_1DataType.ipynb",
   "provenance": []
  },
  "kernelspec": {
   "display_name": "Python 3",
   "language": "python",
   "name": "python3"
  },
  "language_info": {
   "codemirror_mode": {
    "name": "ipython",
    "version": 3
   },
   "file_extension": ".py",
   "mimetype": "text/x-python",
   "name": "python",
   "nbconvert_exporter": "python",
   "pygments_lexer": "ipython3",
   "version": "3.8.5"
  }
 },
 "nbformat": 4,
 "nbformat_minor": 1
}
