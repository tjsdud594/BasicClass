{
 "cells": [
  {
   "cell_type": "markdown",
   "metadata": {},
   "source": [
    "**상위권 3명 확인하기**\n",
    "- dictionary 타입의 students를 점수가 높은 순으로 정렬한 뒤 상위의 3명을 출력한다.\n",
    "- 조건\n",
    "    1. students = {'길동': 56, '철수': 89, '수경': 45, '종화': 72, '서윤': 90, '영희': 99 }\n",
    "    2. lambda식을 이용하기\n",
    "- 출력 예시 <br>\n",
    "    1등 : 영희 99점<br>\n",
    "    2등 : 서윤 90점<br>\n",
    "    3등 : 철수 89점<br>\n",
    "        \n",
    "**50점 이하 학생들 확인하기**\n",
    "- dictionary 타입의 students를 점수가 낮은 순으로 정렬한 뒤 50점 이하의 학생들을 출력한다.\n",
    "- 조건\n",
    "    1. students = {'A':100, 'B': 50, 'C':85, 'D':78, 'E':75, 'F':45}\n",
    "    2. lambda식/filter함수 이용하기\n",
    "- 출력 예시 <br>\n",
    "     5등 : B 50점 <br>\n",
    "     6등 : F 45점 <br>"
   ]
  },
  {
   "cell_type": "code",
   "execution_count": 79,
   "metadata": {},
   "outputs": [
    {
     "name": "stdout",
     "output_type": "stream",
     "text": [
      "1 등 : A 100 점\n",
      "1등 : A 100점\n",
      "2 등 : C 85 점\n",
      "2등 : C 85점\n",
      "3 등 : D 78 점\n",
      "3등 : D 78점\n"
     ]
    }
   ],
   "source": [
    "# 혼자작성해본 1번 답\n",
    "\n",
    "students = {'길동': 56, '철수': 89, '수경': 45, '종화': 72, '서윤': 90, '영희': 99 }\n",
    "\n",
    "x = list(students.items())\n",
    "\n",
    "x.sort(key=lambda a : a[1], reverse=True)\n",
    "\n",
    "v = (x[0], x[1], x[2])\n",
    "\n",
    "def prize(**kwargs): \n",
    "    c = 0\n",
    "    for a, b in v:\n",
    "        c = c + 1\n",
    "        print(c, '등', ':', a, b, '점')\n",
    "        print(f'{c}등 : {a} {b}점')\n",
    "\n",
    "prize()"
   ]
  },
  {
   "cell_type": "code",
   "execution_count": null,
   "metadata": {},
   "outputs": [],
   "source": [
    "# 수정받은 답안\n",
    "\n",
    "def prize2(kwargs):\n",
    "    x = list(kwargs.items())\n",
    "    x.sort(key=lambda a : a[1], reverse=True)\n",
    "    v = (x[0], x[1], x[2])\n",
    "    c = 0\n",
    "    for a, b in v:\n",
    "    c = c + 1\n",
    "    print(f'{c} 등 : {a, b} 점')"
   ]
  },
  {
   "cell_type": "code",
   "execution_count": 75,
   "metadata": {},
   "outputs": [
    {
     "name": "stdout",
     "output_type": "stream",
     "text": [
      "1등 : A 100점\n",
      "2등 : C 85점\n",
      "3등 : D 78점\n"
     ]
    }
   ],
   "source": [
    "# 예진님 답안\n",
    "\n",
    "students = {'A':100, 'B': 50, 'C':85, 'D':78, 'E':75, 'F':45}\n",
    "\n",
    "rank_list = sorted(students.items(), key=lambda x: x[1], reverse=True)\n",
    "\n",
    "for i in range(3):  # i = 0, 1, 2\n",
    "    print(f'{i+1}등 : {rank_list[i][0]} {rank_list[i][1]}점')"
   ]
  },
  {
   "cell_type": "code",
   "execution_count": 80,
   "metadata": {},
   "outputs": [
    {
     "name": "stdout",
     "output_type": "stream",
     "text": [
      "뒤에서 1 등 : F 45 점\n",
      "뒤에서 2 등 : B 50 점\n",
      "뒤에서 3 등 : E 75 점\n"
     ]
    }
   ],
   "source": [
    "# 혼자작성해본 2번 답\n",
    "\n",
    "x = list(students.items())\n",
    "\n",
    "x.sort(key=lambda a : a[1])\n",
    "\n",
    "v = (x[0], x[1], x[2])\n",
    "\n",
    "def afterschool(**kwargs): \n",
    "    c = 0\n",
    "    for a, b in v:\n",
    "        c = c + 1\n",
    "        print('뒤에서', c, '등', ':', a, b, '점')\n",
    "        \n",
    "\n",
    "afterschool()"
   ]
  },
  {
   "cell_type": "code",
   "execution_count": 1,
   "metadata": {},
   "outputs": [
    {
     "name": "stdout",
     "output_type": "stream",
     "text": [
      "5등 : B 50점\n",
      "6등 : F 45점\n"
     ]
    }
   ],
   "source": [
    "# 예진님 답안2\n",
    "\n",
    "students = {'A':100, 'B': 50, 'C':85, 'D':78, 'E':75, 'F':45}\n",
    "\n",
    "rank_list = sorted(students.items(), key=lambda x: x[1], reverse=True)\n",
    "\n",
    "fail = list(filter(lambda x: x[1] <= 50 , rank_list))\n",
    "leng = len(students) - len(fail)\n",
    "for i in range(len(fail)):\n",
    "    print(f'{leng+i+1}등 : {fail[i][0]} {fail[i][1]}점')"
   ]
  },
  {
   "cell_type": "code",
   "execution_count": null,
   "metadata": {},
   "outputs": [],
   "source": []
  }
 ],
 "metadata": {
  "kernelspec": {
   "display_name": "Python 3",
   "language": "python",
   "name": "python3"
  },
  "language_info": {
   "codemirror_mode": {
    "name": "ipython",
    "version": 3
   },
   "file_extension": ".py",
   "mimetype": "text/x-python",
   "name": "python",
   "nbconvert_exporter": "python",
   "pygments_lexer": "ipython3",
   "version": "3.8.5"
  }
 },
 "nbformat": 4,
 "nbformat_minor": 4
}
