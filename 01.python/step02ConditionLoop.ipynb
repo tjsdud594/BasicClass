{
 "cells": [
  {
   "cell_type": "markdown",
   "metadata": {
    "id": "niLpGsx9R06B"
   },
   "source": [
    "<!--NAVIGATION-->\n",
    "\n",
    "\n",
    "[[step01. 기본 연산 학습 page로 이동](step01Calculation.ipynb) ]   |   [[step03_1. 데이터 타입 학습 page로 이동](step03_1DataType.ipynb) ]"
   ]
  },
  {
   "cell_type": "markdown",
   "metadata": {
    "id": "bwhZBiyRR06H"
   },
   "source": [
    "## 조건문 & 반복문을 이용한 프로그램 응용력 향상하기\n",
    "\n",
    "1. 연산자\n",
    "> 1. = : 오른쪽의 데이터를 왼쪽에 대입(할당) 연산자\n",
    "> 2. == : 동등비교 연산자\n",
    "> 3. != : 부정 연산자\n",
    "\n",
    "\n",
    "2. 조건식\n",
    "> 1. pass : 아무것도 실행하지 않음, 단순히 실행할 코드가 없다는 의미\n",
    "> 2. continue : 해당 로직을 제외하고 다음 loop 실행하란 의미\n",
    "\n",
    "3. 반복문 : 동일한 명령문을 여러번 실행\n",
    "> 1. for : 정해진 횟수만큼  반복하는 구조<br>\n",
    "> 2. while : 어떤 조건이 만족되는 동안, 반복을 계속하는 구조"
   ]
  },
  {
   "cell_type": "markdown",
   "metadata": {
    "id": "SGdtCzfWsesp"
   },
   "source": [
    "4. 키워드\n",
    "> 1. def - 사용자 정의 함수를 만들겠다는 선언구 \n",
    "> 2. return - 함수 내부에서 해당 함수를 호출한 곳으로 값을 돌려주는 키워드\n",
    "> 3. if / elif / else - 조건식\n",
    "> 4. True / False - boolean 표현\n",
    "\n",
    "\n"
   ]
  },
  {
   "cell_type": "markdown",
   "metadata": {},
   "source": [
    "5. IT 언어I 표현\n",
    "\n",
    "> 1. 함수 실행시 새로운 데이터를 ()표기로 선언된 변수로 받음\n",
    "> 2. def함수명(변수선언):\n",
    "> 3. 변수선언 자체를 parameter 또는 argument 또는 인자 또는 매개인자.\n"
   ]
  },
  {
   "cell_type": "code",
   "execution_count": null,
   "metadata": {
    "id": "bSFXEulAR06K"
   },
   "outputs": [],
   "source": [
    "'''\n",
    "조건문\n",
    "1. 조건이 true인 경우에만 하는 상황\n",
    "\n",
    "2. 조건이 true인 경우와 false 경우 실행되는 로직이 명확히 구분되어야 할 상황\n",
    "\n",
    "3. 조건이 여러개인 경우의 상황\n",
    "\n",
    "\n",
    "---\n",
    "1. 로그인 인증 \n",
    "  id/pw 둘다 인증\n",
    "    경우의 수 1 - id와 pw 비교시 id도 true 그리고 pw도 true    O\n",
    "    경우의 수 2 - id는 true 또는 pw는 true   (id가 true 이거나 또는 pw가 true 즉 둘중에 하나만 true 여도 되는 상황을 표현) X\n",
    "\n",
    "    경우의 수 3 - id는 true 그리고 pw는 false     X\n",
    "    경우의 수 4 - id는 false 그리고 pw는 true     X\n",
    "    경우의 수 5 - id는 false 그리고 pw는 false    X\n",
    "\n",
    "2. 의사 코드\n",
    "  말로 하는 코딩\n",
    "  말로 하는 로직의 흐름을 서술하는 형식 의사 코드\n",
    "  문법은 고려하지 않음 표현\n",
    "\n",
    "  경우의 수 1 : \n",
    "  만약에 id가 true라면           if id==True:\n",
    "    pw가 true인지 비교              if pw==True\n",
    "\n",
    "  \n",
    "  경우의 수 2 : \n",
    "    만약에 id가 true이고  pw가 true인지 비교          if id==True and pw==True\n",
    "\n",
    "  경우의 수 3  - 부적합\n",
    "     만약에 id가 true 또는  pw가 true인지 비교 \n",
    "    if id==True 개별 문장\n",
    "    if pw==True 개별 문장\n",
    "    ....\n",
    "\n",
    "'''"
   ]
  },
  {
   "cell_type": "code",
   "execution_count": null,
   "metadata": {
    "colab": {
     "base_uri": "https://localhost:8080/"
    },
    "id": "VRiKnJ7ubIK_",
    "outputId": "0406ad08-4e6c-4579-941b-0f5d6e9332d2"
   },
   "outputs": [
    {
     "name": "stdout",
     "output_type": "stream",
     "text": [
      "True인 경우만 실행\n"
     ]
    }
   ],
   "source": [
    "# True인 경우만 고려하는 단일 조건식\n",
    "if True:\n",
    "  print(\"True인 경우만 실행\")\n"
   ]
  },
  {
   "cell_type": "code",
   "execution_count": null,
   "metadata": {
    "colab": {
     "base_uri": "https://localhost:8080/"
    },
    "id": "UqYvn28kbRPq",
    "outputId": "3be166e0-758b-4b37-85c7-fdcd71b94a80"
   },
   "outputs": [
    {
     "name": "stdout",
     "output_type": "stream",
     "text": [
      "True인 경우만 실행\n"
     ]
    }
   ],
   "source": [
    "if 'a' == 'a':\n",
    "  print(\"True인 경우만 실행\")"
   ]
  },
  {
   "cell_type": "code",
   "execution_count": null,
   "metadata": {
    "id": "M-IQRgbFbd33"
   },
   "outputs": [],
   "source": [
    "if 'a' != 'a':\n",
    "  print(\"True인 경우만 실행\")"
   ]
  },
  {
   "cell_type": "code",
   "execution_count": null,
   "metadata": {
    "colab": {
     "base_uri": "https://localhost:8080/"
    },
    "id": "M0P11kIBbixb",
    "outputId": "7103ed83-4476-40f0-c124-ae591b1fa57d"
   },
   "outputs": [
    {
     "name": "stdout",
     "output_type": "stream",
     "text": [
      "조건식이 False인 경우만 실행\n"
     ]
    }
   ],
   "source": [
    "# True인 경우와 false 경우를 고려하는 조건식\n",
    "# if else\n",
    "# :  콜론이라 읽음    , 콤마    ; 세미콜론\n",
    "if 'a' != 'a':\n",
    "  print(\"True인 경우만 실행\")\n",
    "else:\n",
    "  print(\"조건식이 False인 경우만 실행\")"
   ]
  },
  {
   "cell_type": "code",
   "execution_count": null,
   "metadata": {
    "colab": {
     "base_uri": "https://localhost:8080/"
    },
    "id": "Wo42mfqPb1dQ",
    "outputId": "a433254a-2f7d-4b26-bfde-d791b9efdb68"
   },
   "outputs": [
    {
     "name": "stdout",
     "output_type": "stream",
     "text": [
      "10보다 작거나 같다\n"
     ]
    }
   ],
   "source": [
    "# 다중 조건식\n",
    "# if / elif / else\n",
    "a = 10\n",
    "\n",
    "if a < 5:  \n",
    "  print(\"5보다 작다\") \n",
    "elif a <= 10 :\n",
    "  print(\"10보다 작거나 같다\") \n",
    "else:\n",
    "  print(\"이도저도 아니더라\")"
   ]
  },
  {
   "cell_type": "code",
   "execution_count": null,
   "metadata": {
    "colab": {
     "base_uri": "https://localhost:8080/"
    },
    "id": "d7_4cOitfNDd",
    "outputId": "1dc7e2f1-29ff-4586-d1f8-e7abee6326ac"
   },
   "outputs": [
    {
     "name": "stdout",
     "output_type": "stream",
     "text": [
      "10보다 작거나 같다\n"
     ]
    }
   ],
   "source": [
    "# python 에서 기능을 재사용 할수 있게 구현하는 함수 개발\n",
    "# def 함수명( [new데이터 받을수 있는 문법 공간] ):\n",
    "#   함수 로직\n",
    "#   [결과값 반환 로직]\n",
    "\n",
    "def my_fun(a):\n",
    "  if a < 5:  \n",
    "    print(\"5보다 작다\") \n",
    "  elif a <= 10 :\n",
    "    print(\"10보다 작거나 같다\") \n",
    "  else:\n",
    "    print(\"이도저도 아니더라\")\n",
    "\n",
    "my_fun(10)"
   ]
  },
  {
   "cell_type": "code",
   "execution_count": null,
   "metadata": {
    "colab": {
     "base_uri": "https://localhost:8080/"
    },
    "id": "l4WB9Y-pfGLR",
    "outputId": "1c58be11-fab5-4c10-d65a-657ba45259da"
   },
   "outputs": [
    {
     "name": "stdout",
     "output_type": "stream",
     "text": [
      "5보다 작다\n"
     ]
    }
   ],
   "source": [
    "my_fun(3)"
   ]
  },
  {
   "cell_type": "code",
   "execution_count": null,
   "metadata": {
    "id": "UvBC3aIzkPPG"
   },
   "outputs": [],
   "source": [
    "# ???  실시간 입력되는 데이터는 문자열, playdata 라는 문자열에 한해서만 encore 출력되게 만들기\n",
    "\n",
    "def edu_name(msg):\n",
    "  if msg == 'playdata':\n",
    "    print('encore')\n",
    "  else:\n",
    "    print('틀렸어') "
   ]
  },
  {
   "cell_type": "code",
   "execution_count": null,
   "metadata": {
    "colab": {
     "base_uri": "https://localhost:8080/"
    },
    "executionInfo": {
     "elapsed": 970,
     "status": "ok",
     "timestamp": 1620873758595,
     "user": {
      "displayName": "김혜경",
      "photoUrl": "https://lh3.googleusercontent.com/a-/AOh14Ghj6yCOWfas3c-RFEZg9yZi0Y8GAll6IHR_nygo=s64",
      "userId": "05956990831563294642"
     },
     "user_tz": -540
    },
    "id": "5ACxF4YFkrJa",
    "outputId": "5f89cce9-4236-4967-fce7-666719a85576"
   },
   "outputs": [
    {
     "name": "stdout",
     "output_type": "stream",
     "text": [
      "틀렸어\n"
     ]
    }
   ],
   "source": [
    "edu_name('encore')    # 틀렸어 출력 "
   ]
  },
  {
   "cell_type": "code",
   "execution_count": null,
   "metadata": {
    "colab": {
     "base_uri": "https://localhost:8080/"
    },
    "executionInfo": {
     "elapsed": 1157,
     "status": "ok",
     "timestamp": 1620873760412,
     "user": {
      "displayName": "김혜경",
      "photoUrl": "https://lh3.googleusercontent.com/a-/AOh14Ghj6yCOWfas3c-RFEZg9yZi0Y8GAll6IHR_nygo=s64",
      "userId": "05956990831563294642"
     },
     "user_tz": -540
    },
    "id": "c5swHqTaksMr",
    "outputId": "a42f5ad1-9b86-4663-a282-16971ede7aa9"
   },
   "outputs": [
    {
     "name": "stdout",
     "output_type": "stream",
     "text": [
      "encore\n"
     ]
    }
   ],
   "source": [
    "edu_name('playdata')   # encore 출력"
   ]
  },
  {
   "cell_type": "code",
   "execution_count": null,
   "metadata": {
    "id": "2BbqYjQ5kuoJ"
   },
   "outputs": [],
   "source": [
    "def edu_name2(msg):\n",
    "  if msg == 'playdata':\n",
    "    return 'encore'\n",
    "  else:\n",
    "    return '틀렸어'"
   ]
  },
  {
   "cell_type": "code",
   "execution_count": null,
   "metadata": {
    "colab": {
     "base_uri": "https://localhost:8080/"
    },
    "executionInfo": {
     "elapsed": 1285,
     "status": "ok",
     "timestamp": 1620874031214,
     "user": {
      "displayName": "김혜경",
      "photoUrl": "https://lh3.googleusercontent.com/a-/AOh14Ghj6yCOWfas3c-RFEZg9yZi0Y8GAll6IHR_nygo=s64",
      "userId": "05956990831563294642"
     },
     "user_tz": -540
    },
    "id": "1x4Rgz9PnfAQ",
    "outputId": "86f104f9-0f16-4fc8-d515-d383ac78ce64"
   },
   "outputs": [
    {
     "name": "stdout",
     "output_type": "stream",
     "text": [
      "반환된 결과값 틀렸어\n"
     ]
    }
   ],
   "source": [
    "# 함수 실행 결과값을 받아서 새로운 문자열 조합해서 출력 \n",
    "# + 기호의 기능 두가지\n",
    "# + : 산술 연산의 더하기 / 데이터들 결합 \n",
    "\n",
    "# 결합 연산자\n",
    "\n",
    "print(\"반환된 결과값 \" + edu_name2('encore')) "
   ]
  },
  {
   "cell_type": "code",
   "execution_count": null,
   "metadata": {
    "id": "l0R-LZn3paNa"
   },
   "outputs": [],
   "source": []
  },
  {
   "cell_type": "markdown",
   "metadata": {
    "id": "eDxo9XY9oHo2"
   },
   "source": [
    "```\n",
    "  ` : 백틱 이라 읽음\n",
    "  \n",
    "  print(\"반환된 결과값 \" + edu_name2('encore')) \n",
    "\n",
    "  1. print() : 콘솔창에 출력하는 기능의 내장 함수\n",
    "  2. eud_name2() : python 사용하는 개발자를 [python 언어] 사용자가 구현한 함수 (사용자 정의 함수)\n",
    "\n",
    "  3. 실행 순서\n",
    "    print() 호출(call) -> \"반환된 결과값 \" 문자열이 메모리에 생성 -> + 실행 시작 -> edu_name2('encore') 호출 시작 -> encore 문자열 생성 -> 실행 edu_name2 실행 -> 결과값이 반환되어 옴 -> + 연산자가 결과값 결합 -> print() 실행 즉 출력 마무리 \n",
    "```"
   ]
  },
  {
   "cell_type": "code",
   "execution_count": null,
   "metadata": {
    "id": "gWfuhbqWnusu"
   },
   "outputs": [],
   "source": [
    "# ??? 두개의 데이터 받아서 더한 결과값을 반환(return)하는 더하기(산술연산 + ) 함수 만들기\n",
    "\n",
    "def my_sum(v1, v2):\n",
    "  return v1 + v2   # return 이 기능의 함수를 호출한 곳으로 값을 전달하는 기능의 키워드"
   ]
  },
  {
   "cell_type": "code",
   "execution_count": null,
   "metadata": {
    "colab": {
     "base_uri": "https://localhost:8080/"
    },
    "executionInfo": {
     "elapsed": 915,
     "status": "ok",
     "timestamp": 1620875087514,
     "user": {
      "displayName": "김혜경",
      "photoUrl": "https://lh3.googleusercontent.com/a-/AOh14Ghj6yCOWfas3c-RFEZg9yZi0Y8GAll6IHR_nygo=s64",
      "userId": "05956990831563294642"
     },
     "user_tz": -540
    },
    "id": "gvY-PuvpnthU",
    "outputId": "b2f1c6c1-1da5-4910-872f-3749f91b9256"
   },
   "outputs": [
    {
     "name": "stdout",
     "output_type": "stream",
     "text": [
      "30\n"
     ]
    }
   ],
   "source": [
    "# 다수의 데이터들은 , 가 구분자\n",
    "# 두개의 메모리 필요\n",
    "print(my_sum(10, 20))   # 30"
   ]
  },
  {
   "cell_type": "code",
   "execution_count": null,
   "metadata": {
    "colab": {
     "base_uri": "https://localhost:8080/"
    },
    "executionInfo": {
     "elapsed": 764,
     "status": "ok",
     "timestamp": 1620875090278,
     "user": {
      "displayName": "김혜경",
      "photoUrl": "https://lh3.googleusercontent.com/a-/AOh14Ghj6yCOWfas3c-RFEZg9yZi0Y8GAll6IHR_nygo=s64",
      "userId": "05956990831563294642"
     },
     "user_tz": -540
    },
    "id": "Z7acPrIyniui",
    "outputId": "3f58ab7f-e098-483b-b19a-e40751f60d2b"
   },
   "outputs": [
    {
     "name": "stdout",
     "output_type": "stream",
     "text": [
      "120\n"
     ]
    }
   ],
   "source": [
    "print(my_sum(100, 20))   # 120"
   ]
  },
  {
   "cell_type": "code",
   "execution_count": null,
   "metadata": {
    "id": "NiYQ6jGRr6IN"
   },
   "outputs": [],
   "source": [
    "def my_sum(v1, v2):\n",
    "  v1 + v2  # 더하기만 하고 끝남 즉 이 함수 기능을 통해서 더한 결과값을 활용하기 위해 다른 곳에서 호출한 경우 더한 결과값 못받음"
   ]
  },
  {
   "cell_type": "markdown",
   "metadata": {
    "id": "YAmFuSecd76M"
   },
   "source": [
    "### 1. 입력하는 id값(실시간 가변적인 동적 데이터)을 받아서 로직 수행 후 검증한 결과값을 client에게 반환\n",
    "### 2. client 는 데이터를 입력 ->server에 전송\n",
    "### 3. server는 데이터를 받고 -> 검증 -> 인증 결과값을 client에게 응답(출력, 결과 리턴)\n",
    "\n",
    "\n",
    "데이터 받고 - 받을수 가변적인 문법\n",
    "처리하고  - 조건 비교\n",
    "리턴 - return \n",
    "\n",
    "여러명이 요청하는 로직 - 재사용성 고려\n",
    "필요시 마다 호출 - 이름\n",
    "\n",
    "\n",
    "def 이름(데이터 받는 영역):\n",
    "\n",
    "  if ...:  \n",
    "  elif ... :\n",
    "  else:\n",
    "\n",
    "  return 결과값;\n",
    "\n",
    "\n"
   ]
  },
  {
   "cell_type": "code",
   "execution_count": 1,
   "metadata": {
    "id": "sllct2KvdiZO"
   },
   "outputs": [
    {
     "name": "stdout",
     "output_type": "stream",
     "text": [
      "두 조건 True\n"
     ]
    }
   ],
   "source": [
    "# 그리고 와 또는 -> 프로그래밍화\n",
    "# 조건식에 반영시 and : 해당 조건들 모두 True인 경우에 유효\n",
    "# or : 해당 조건들 중 하나만이라도 true라면 유효\n",
    "\n",
    "# 조건식1 and 조건식2\n",
    "# 조건식1 or 조건식2\n",
    "\n",
    "if 'a' == 'a' and 'b'=='b' :\n",
    "    print('두 조건 True')\n",
    "\n"
   ]
  },
  {
   "cell_type": "code",
   "execution_count": 4,
   "metadata": {},
   "outputs": [
    {
     "name": "stdout",
     "output_type": "stream",
     "text": [
      "두 조건 중 하나만 True여도 가능\n"
     ]
    }
   ],
   "source": [
    "if 'a' == 'a2' or 'b'=='b' :\n",
    "    print('두 조건 중 하나만 True여도 가능')"
   ]
  },
  {
   "cell_type": "code",
   "execution_count": 8,
   "metadata": {},
   "outputs": [],
   "source": [
    "if 'a' == 'a2' and 'b'=='b' :\n",
    "    print('두 조건 중 하나만 True여도 가능')"
   ]
  },
  {
   "cell_type": "code",
   "execution_count": 12,
   "metadata": {},
   "outputs": [
    {
     "name": "stdout",
     "output_type": "stream",
     "text": [
      "인증성공\n"
     ]
    }
   ],
   "source": [
    "# id/pw를 인증해주는 함수 - encore / 77 만 유효 가정\n",
    "\n",
    "# 방법1\n",
    "\n",
    "def login_check(id, pw):\n",
    "    \n",
    "    if id=='encore' and pw==77 :\n",
    "        print(\"인증성공\")\n",
    "    else :\n",
    "        print('인증실패')\n",
    "\n",
    "        \n",
    "login_check(\"encore\", 77)"
   ]
  },
  {
   "cell_type": "code",
   "execution_count": 14,
   "metadata": {},
   "outputs": [
    {
     "name": "stdout",
     "output_type": "stream",
     "text": [
      "인증실패\n"
     ]
    }
   ],
   "source": [
    "login_check(\"encore\", 7)"
   ]
  },
  {
   "cell_type": "code",
   "execution_count": 17,
   "metadata": {},
   "outputs": [
    {
     "name": "stdout",
     "output_type": "stream",
     "text": [
      "id 인증 실패\n"
     ]
    }
   ],
   "source": [
    "# 방법2 - 중첩 조건문\n",
    "\n",
    "def login_check(id, pw):\n",
    "    \n",
    "    if id=='encore' :\n",
    "        if pw==77 :\n",
    "            print(\"인증성공\")\n",
    "        else:\n",
    "            print('pw만 인증 실패')\n",
    "    else :\n",
    "        print('id 인증 실패')\n",
    "        \n",
    "login_check('encor', 77)"
   ]
  },
  {
   "cell_type": "code",
   "execution_count": 18,
   "metadata": {
    "scrolled": true
   },
   "outputs": [
    {
     "name": "stdout",
     "output_type": "stream",
     "text": [
      "True\n"
     ]
    }
   ],
   "source": [
    "v = 'string'\n",
    "\n",
    "if v:\n",
    "    print(True)\n",
    "else:\n",
    "    print(False)"
   ]
  },
  {
   "cell_type": "code",
   "execution_count": 19,
   "metadata": {},
   "outputs": [
    {
     "name": "stdout",
     "output_type": "stream",
     "text": [
      "False\n"
     ]
    }
   ],
   "source": [
    "v = ''   #길이가 0인 blank 문자열\n",
    "\n",
    "if v:        # v페 데이터 있어? 없어? 에 대한 조건식\n",
    "    print(True)\n",
    "else:\n",
    "    print(False)"
   ]
  },
  {
   "cell_type": "code",
   "execution_count": 20,
   "metadata": {},
   "outputs": [
    {
     "name": "stdout",
     "output_type": "stream",
     "text": [
      "False\n"
     ]
    }
   ],
   "source": [
    "# 다수의 데이터들을 하나의 변수로 관리\n",
    "v = 1      # 하나의 데이터를 보유하게 되는 변수\n",
    "v2 = [1, 2, 3]   #list 구조의 다수의 데이터 관리, list라는 타입\n",
    "\n",
    "v3 = []     #데이터가 없는 list들은 조건식 비교 표현식 없이도 False\n",
    "if v3:\n",
    "    print(True)\n",
    "else:\n",
    "    print(False)"
   ]
  },
  {
   "cell_type": "code",
   "execution_count": 29,
   "metadata": {},
   "outputs": [
    {
     "name": "stdout",
     "output_type": "stream",
     "text": [
      "22\n",
      "22\n",
      "<class 'str'>\n",
      "<class 'int'>\n"
     ]
    }
   ],
   "source": [
    "v = input()  # 실행시 실시간 입력 가능하게 해주는 함수\n",
    "print(v)  #  입력된 데이터를 출력\n",
    "print(type(v))   # 입력되는 모든 데이터는 str(python 문자열)\n",
    "\n",
    "# 사칙 연산과 같은 연산 작업이 피수인 경우 str -> 숫자(int or float)\n",
    "print(type(int(v)))     # int() int로 형변환 하는 함수"
   ]
  },
  {
   "cell_type": "code",
   "execution_count": null,
   "metadata": {},
   "outputs": [],
   "source": []
  },
  {
   "cell_type": "code",
   "execution_count": null,
   "metadata": {},
   "outputs": [],
   "source": []
  },
  {
   "cell_type": "code",
   "execution_count": null,
   "metadata": {},
   "outputs": [],
   "source": []
  },
  {
   "cell_type": "markdown",
   "metadata": {
    "id": "rI57zoE7R06L"
   },
   "source": [
    "**미션1. 윤년  프로그램을 통한 연산자 및 조건식 이해하기**\n",
    "\n",
    "- 4로 나누어 떨어지는 년도 : 값 % 4이 0    \n",
    "- 그 중 100으로 나누어 떨어지는 년도는 윤년이 아님 : 값 % 100 의 0과 비교\n",
    "- 400으로 나누어 떨어지는 년도는 무조건 윤년 : 1+2 또는 3번째 조건식 비교( 값 % 400와 0 비교)"
   ]
  },
  {
   "cell_type": "code",
   "execution_count": 16,
   "metadata": {
    "id": "jWOyxx2yHUiT"
   },
   "outputs": [],
   "source": [
    "def leap_year(a):\n",
    "    a = int(input('윤년입니까? : '))\n",
    "    if a%4==0 and a%100!=0 :\n",
    "        print('윤년')\n",
    "    else:\n",
    "        if a%400==0 :\n",
    "            print('윤년')\n",
    "        else :\n",
    "            print('윤년아님')\n",
    "            "
   ]
  },
  {
   "cell_type": "code",
   "execution_count": 18,
   "metadata": {
    "id": "p5RndAGxR06M"
   },
   "outputs": [
    {
     "name": "stdout",
     "output_type": "stream",
     "text": [
      "윤년입니까? : 2000\n",
      "윤년\n"
     ]
    }
   ],
   "source": [
    "leap_year(2000)"
   ]
  },
  {
   "cell_type": "code",
   "execution_count": 15,
   "metadata": {},
   "outputs": [
    {
     "name": "stdout",
     "output_type": "stream",
     "text": [
      "윤년입니까? : 1000\n",
      "윤년아님\n"
     ]
    }
   ],
   "source": [
    "leap_year(1000)"
   ]
  },
  {
   "cell_type": "code",
   "execution_count": null,
   "metadata": {},
   "outputs": [],
   "source": []
  },
  {
   "cell_type": "markdown",
   "metadata": {
    "id": "2Mip93stR06N"
   },
   "source": [
    "**미션2. 문자열의 중간 문자를 추출해 보기**\n",
    "\n",
    "실시간 입력되는 문자열의 중앙에 있는 문자를 출력한다. 예를 들어서 문자열이 \"weekday\"이라면 중앙의 문자는 \"k\"가 된다.<br>\n",
    "하지만 만약 문자열이 짝수개의 문자를 가지고 있다면 중앙의 2개의 글자를 출력한다.<br>\n",
    "예를 들어서 \"string\" 문자열에서는 \"ri\"를 반환한다. "
   ]
  },
  {
   "cell_type": "code",
   "execution_count": 31,
   "metadata": {
    "id": "0-a10Gc3R06O"
   },
   "outputs": [
    {
     "data": {
      "text/plain": [
       "(4, 6, 7)"
      ]
     },
     "execution_count": 31,
     "metadata": {},
     "output_type": "execute_result"
    }
   ],
   "source": [
    "# 문자열의 길이값을 반환\n",
    "# 문자열 길이 확인 후에 호출한 곳으로 길이값 반환(리턴값)\n",
    "\n",
    "len('test'), len('string'), len('weekday')"
   ]
  },
  {
   "cell_type": "code",
   "execution_count": 33,
   "metadata": {},
   "outputs": [
    {
     "data": {
      "text/plain": [
       "(3.5, 3)"
      ]
     },
     "execution_count": 33,
     "metadata": {},
     "output_type": "execute_result"
    }
   ],
   "source": [
    "7/2, 7//2"
   ]
  },
  {
   "cell_type": "code",
   "execution_count": 34,
   "metadata": {},
   "outputs": [
    {
     "name": "stdout",
     "output_type": "stream",
     "text": [
      "<class 'str'>\n",
      "<class 'str'>\n",
      "<class 'list'>\n"
     ]
    }
   ],
   "source": [
    "v = 'string'\n",
    "c1 = v[0]\n",
    "c2 = v[2]\n",
    "print(type(v))   #<class 'str'>\n",
    "print(type(c1))\n",
    "v2 = ['a', 'b']\n",
    "print(type(v2))   # <class 'list'>"
   ]
  },
  {
   "cell_type": "code",
   "execution_count": 91,
   "metadata": {
    "scrolled": true
   },
   "outputs": [
    {
     "data": {
      "text/plain": [
       "'ho'"
      ]
     },
     "execution_count": 91,
     "metadata": {},
     "output_type": "execute_result"
    }
   ],
   "source": [
    "def count(v1):\n",
    "    v2 = len(v1)   \n",
    "    if v2 % 2 == 1:    \n",
    "        v3=v2//2 \n",
    "        return v1[v3:v3+1]\n",
    "    else:\n",
    "        v3 = v2//2 - 1   \n",
    "        return v1[v3:v3+2]\n",
    "\n",
    "\n",
    "count('school')"
   ]
  },
  {
   "cell_type": "markdown",
   "metadata": {
    "id": "4NUEtnh_R06P"
   },
   "source": [
    "**미션3. 임금 계산해 보기**\n",
    "\n",
    "사용자에게 근무 시간과 시간당 임금을 물어보고, 주당 근무 시간이 40시간을 넘으면 1.5배의 임금을 지급해야 한다고 가정할 경우<br> \n",
    "이번주에 받는 총임금을 계산하는 프로그램을 만들어 보자"
   ]
  },
  {
   "cell_type": "code",
   "execution_count": 3,
   "metadata": {
    "id": "n4Na5-oSR06Q"
   },
   "outputs": [
    {
     "data": {
      "text/plain": [
       "373500.0"
      ]
     },
     "execution_count": 3,
     "metadata": {},
     "output_type": "execute_result"
    }
   ],
   "source": [
    "#근무시간 = t\n",
    "#시간당 임금 = w \n",
    "\n",
    "\n",
    "def work_time(t, w):\n",
    "    if t<40:\n",
    "        return(t*w)\n",
    "    if t>=40:\n",
    "        t2=int(t-40)\n",
    "        return((40*w)+(t2*w*1.5))\n",
    "        \n",
    "work_time(41, 9000)"
   ]
  },
  {
   "cell_type": "code",
   "execution_count": 4,
   "metadata": {},
   "outputs": [
    {
     "data": {
      "text/plain": [
       "360000.0"
      ]
     },
     "execution_count": 4,
     "metadata": {},
     "output_type": "execute_result"
    }
   ],
   "source": [
    "work_time(40, 9000)"
   ]
  },
  {
   "cell_type": "markdown",
   "metadata": {
    "id": "cCgIbH_4R06R"
   },
   "source": [
    "## 반복문"
   ]
  },
  {
   "cell_type": "code",
   "execution_count": 24,
   "metadata": {},
   "outputs": [
    {
     "name": "stdout",
     "output_type": "stream",
     "text": [
      "[1, 2, 3, 4, 5]\n",
      "<class 'list'>\n",
      "5\n",
      "5 , 1\n"
     ]
    }
   ],
   "source": [
    "multi = [1, 2, 3, 4, 5]\n",
    "print(multi)\n",
    "print(type(multi))\n",
    "print(multi[4])\n",
    "print(multi[4], ',', multi[0])"
   ]
  },
  {
   "cell_type": "code",
   "execution_count": 29,
   "metadata": {
    "id": "StR5vBqsR06S"
   },
   "outputs": [
    {
     "name": "stdout",
     "output_type": "stream",
     "text": [
      "1\n",
      "2\n",
      "3\n",
      "4\n",
      "5\n"
     ]
    }
   ],
   "source": [
    "# 다수의 데이터가 존재할 경우 하나씩 하나씩 뽑아서 화면에 출력\n",
    "# 다수의 데이터가 있어야 하고 -> 하나씩 뽑은 데이터를 관리하는 변수 -> 출력\n",
    "\n",
    "# 다수의 데이터 = multi\n",
    "# 뽑은 데이터 보유 변수 = one\n",
    "\n",
    "multi = [1, 2, 3, 4, 5]\n",
    "\n",
    "for one in multi:\n",
    "    print(one)\n",
    "\n",
    "\n"
   ]
  },
  {
   "cell_type": "code",
   "execution_count": 31,
   "metadata": {},
   "outputs": [
    {
     "name": "stdout",
     "output_type": "stream",
     "text": [
      "1 2 3 4 5 "
     ]
    }
   ],
   "source": [
    "for one in multi:             # for 변수 in 데이터\n",
    "    print(one, end=' ')  #반복하면서 한 line에 데이터 출력 가능한 속성"
   ]
  },
  {
   "cell_type": "code",
   "execution_count": 34,
   "metadata": {},
   "outputs": [
    {
     "name": "stdout",
     "output_type": "stream",
     "text": [
      "1.2.3.4.5."
     ]
    }
   ],
   "source": [
    "for one in multi:\n",
    "    print(one, end='.')  #반복하면서 한 line에 데이터 출력 가능한 속성"
   ]
  },
  {
   "cell_type": "code",
   "execution_count": 35,
   "metadata": {},
   "outputs": [
    {
     "name": "stdout",
     "output_type": "stream",
     "text": [
      "0\n",
      "1\n",
      "2\n",
      "3\n",
      "4\n"
     ]
    }
   ],
   "source": [
    "# 0-100 까지의 101개의 숫자값을 출력 line 단위로\n",
    "# range() : 일정 범위의 숫자값을 자동 생성해 주는 함수 \n",
    "\n",
    "for data in range(5):\n",
    "    print(data)"
   ]
  },
  {
   "cell_type": "code",
   "execution_count": 41,
   "metadata": {
    "scrolled": false
   },
   "outputs": [
    {
     "name": "stdout",
     "output_type": "stream",
     "text": [
      "1 2 3 4 5 "
     ]
    }
   ],
   "source": [
    "# 0-100 까지의 101개의 숫자값을 출력 line 단위로\n",
    "# range() : 일정 범위의 숫자값을 자동 생성해 주는 함수 \n",
    "\n",
    "\n",
    "for data in range(1, 6):\n",
    "    print(data, end=' ')"
   ]
  },
  {
   "cell_type": "code",
   "execution_count": 46,
   "metadata": {
    "scrolled": false
   },
   "outputs": [
    {
     "name": "stdout",
     "output_type": "stream",
     "text": [
      "1\n",
      "3\n",
      "5\n"
     ]
    }
   ],
   "source": [
    "# 0-100 까지의 101개의 숫자값을 출력 line 단위로\n",
    "# range() : 일정 범위의 숫자값을 자동 생성해 주는 함수 \n",
    "# range(처음시작숫자, 마지막숫자, 점프단위)\n",
    "\n",
    "for data in range(1, 6, 2):\n",
    "    print(data, )"
   ]
  },
  {
   "cell_type": "code",
   "execution_count": 51,
   "metadata": {
    "scrolled": true
   },
   "outputs": [
    {
     "name": "stdout",
     "output_type": "stream",
     "text": [
      "0\n",
      "1\n",
      "2\n"
     ]
    }
   ],
   "source": [
    "for i in range(9): \n",
    "    if i > 3:\n",
    "        break   # 반복문 종료\n",
    "\n",
    "    print(i)"
   ]
  },
  {
   "cell_type": "code",
   "execution_count": 56,
   "metadata": {
    "scrolled": true
   },
   "outputs": [
    {
     "name": "stdout",
     "output_type": "stream",
     "text": [
      "0\n",
      "1\n",
      "2\n",
      "3\n",
      "-  4\n",
      "-  5\n",
      "-  6\n",
      "-  7\n",
      "-  8\n"
     ]
    }
   ],
   "source": [
    "for i in range(9): \n",
    "    if i > 3:\n",
    "        print('- ', i)\n",
    "        continue  # 반복문 파괴가 아닌 해당 조건 실행만 skip\n",
    "\n",
    "    print(i)"
   ]
  },
  {
   "cell_type": "code",
   "execution_count": 55,
   "metadata": {
    "scrolled": false
   },
   "outputs": [
    {
     "name": "stdout",
     "output_type": "stream",
     "text": [
      "0\n",
      "1\n",
      "2\n",
      "4\n",
      "5\n",
      "6\n",
      "7\n",
      "8\n"
     ]
    }
   ],
   "source": [
    "for i in range(9):\n",
    "    if i == 3:\n",
    "        continue\n",
    " \n",
    "    print(i)"
   ]
  },
  {
   "cell_type": "code",
   "execution_count": 61,
   "metadata": {},
   "outputs": [],
   "source": [
    "# 가변적인 입력 숫자값(재사용성)으로\n",
    "# 입력 숫자값으로 range 함수 에 적용해서 그 수만큼 반보거\n",
    "# 단, 만일 반복되는 데이터가 5인 경우에만 skip = if continue\n",
    "\n",
    "\n",
    "# 구현\n",
    "def my_for(v):\n",
    "    for d in range(v):\n",
    "        if d==5:\n",
    "            continue\n",
    "        print(d)"
   ]
  },
  {
   "cell_type": "code",
   "execution_count": 63,
   "metadata": {},
   "outputs": [
    {
     "name": "stdout",
     "output_type": "stream",
     "text": [
      "0\n",
      "1\n",
      "2\n",
      "3\n",
      "4\n",
      "6\n",
      "7\n",
      "8\n",
      "9\n"
     ]
    }
   ],
   "source": [
    "#구현된 함수 호출\n",
    "my_for(10)"
   ]
  },
  {
   "cell_type": "code",
   "execution_count": null,
   "metadata": {},
   "outputs": [],
   "source": [
    "# if문과 for 생각해서 문제 만들기\n",
    "#????\n",
    "# 장바구니 목록에서 금액에서 어떤걸 2개를 뺄지\n",
    "\n",
    "item\n",
    "\n",
    "def howmuch(m):\n",
    "    for m in range(501, 3001, 500):\n",
    "        if m>5000:\n",
    "            break\n"
   ]
  },
  {
   "cell_type": "code",
   "execution_count": null,
   "metadata": {},
   "outputs": [],
   "source": []
  },
  {
   "cell_type": "code",
   "execution_count": 70,
   "metadata": {},
   "outputs": [
    {
     "name": "stdout",
     "output_type": "stream",
     "text": [
      "2501\n"
     ]
    }
   ],
   "source": [
    "\n",
    "    for m in range(501, 3001, 500): \n",
    "        if m>5000:\n",
    "            break\n",
    "print(m)"
   ]
  },
  {
   "cell_type": "code",
   "execution_count": 86,
   "metadata": {
    "scrolled": true
   },
   "outputs": [
    {
     "name": "stdout",
     "output_type": "stream",
     "text": [
      "3\n",
      "5\n",
      "6\n",
      "10\n",
      "15\n",
      "21\n",
      "[1, 2, 3, 4, 5, 6]\n",
      "check 20\n"
     ]
    }
   ],
   "source": [
    "# 변수설정\n",
    "limit_budget = 20\n",
    "a = [3, 2, 1, 4, 5, 6]\n",
    "sum = 0\n",
    "\n",
    "# 장바구니 물건들의 가격합산\n",
    "for money in a:\n",
    "    sum += money     # a리스트 안의 모든 값을 더함\n",
    "    \n",
    "    print(sum)\n",
    "    \n",
    "if sum>limit_buget :\n",
    "    a.sort()    # a라는 리스트를 오름차순으로 정렬\n",
    "    print(a)\n",
    "    \n",
    "    for i in a:\n",
    "        sum = sum-i\n",
    "        if sum<=limit_budget:\n",
    "            break\n",
    "            \n",
    "print('check', sum)"
   ]
  },
  {
   "cell_type": "markdown",
   "metadata": {},
   "source": [
    "미션1)\n",
    "\n",
    "A와 B가 카드를 뽑아 큰 수를 뽑는 사람이 이기는 게임을 5번 진행했다.\n",
    "각 게임마다 카드를 제시하여 큰 숫자를 제시한 사람이 이기는 게임이다.\n",
    "게임에서 이긴 \n",
    "\n",
    "\n",
    "미션2)\n",
    "\n",
    "장을 보러 가기로 했다. \n",
    "예산은 2만원이고 살 물건들의 가격 목록은 아래 a 리스트와 같다. \n",
    "살 물건들의 가격 합이 예산을 넘지 않는지 확인하고 예산을 넘지 않는다면 최종결제금액 출력하라.\n",
    "\n",
    "a = [3000, 2000, 1000, 4000, 5000, 6000]"
   ]
  },
  {
   "cell_type": "markdown",
   "metadata": {
    "id": "9gtlf8i1R06T"
   },
   "source": [
    "**미션 - 숫자로 pyramid 만들기**\n",
    "\n",
    "- 중첩 for문과 range() 함수 활용\n",
    "- 함수로 구현"
   ]
  },
  {
   "cell_type": "code",
   "execution_count": 117,
   "metadata": {},
   "outputs": [],
   "source": [
    "def pyramid(v):\n",
    "    for data in range(1, v+1):    # outer loop\n",
    "        \n",
    "        for j in range(data):     # inner loop\n",
    "            print(data, end='')\n",
    "            \n",
    "        print()      # blank new line, outer loop에 포함된 로직"
   ]
  },
  {
   "cell_type": "code",
   "execution_count": 118,
   "metadata": {},
   "outputs": [],
   "source": [
    "def pyramid2(v):\n",
    "    for data in range(1, v+1):\n",
    "        for i in range(data):\n",
    "            print(data, end='')\n",
    "        print()"
   ]
  },
  {
   "cell_type": "code",
   "execution_count": 119,
   "metadata": {},
   "outputs": [
    {
     "name": "stdout",
     "output_type": "stream",
     "text": [
      "1\n",
      "22\n"
     ]
    }
   ],
   "source": [
    "pyramid2(2)"
   ]
  },
  {
   "cell_type": "code",
   "execution_count": 138,
   "metadata": {},
   "outputs": [
    {
     "name": "stdout",
     "output_type": "stream",
     "text": [
      "1\n",
      "22\n",
      "333\n",
      "4444\n",
      "55555\n"
     ]
    }
   ],
   "source": [
    "pyramid(5)"
   ]
  },
  {
   "cell_type": "code",
   "execution_count": 139,
   "metadata": {},
   "outputs": [
    {
     "name": "stdout",
     "output_type": "stream",
     "text": [
      "피라미드의 층 수를 입력하세요 : 5\n",
      "1\t\n",
      "\n",
      "2\t3\t\n",
      "\n",
      "4\t5\t6\t\n",
      "\n",
      "7\t8\t9\t10\t\n",
      "\n",
      "11\t12\t13\t14\t15\t\n",
      "\n",
      "16\t17\t18\t19\t\n",
      "\n",
      "20\t21\t22\t\n",
      "\n",
      "23\t24\t\n",
      "\n",
      "25\t\n",
      "\n"
     ]
    }
   ],
   "source": [
    "num = int(input(\"피라미드의 층 수를 입력하세요 : \"))\n",
    "line_num = num*2 -1\n",
    "pyramid_num = 1\n",
    "for line_idx in range(line_num) :\n",
    "    if line_idx < line_num // 2 :\n",
    "        for idx in range(line_idx+1) :\n",
    "            print(pyramid_num, end = \"\\t\")\n",
    "            pyramid_num += 1\n",
    "    else :\n",
    "        for idx in range(line_num - line_idx) :\n",
    "            print(pyramid_num, end = \"\\t\")\n",
    "            pyramid_num += 1\n",
    "    print(\"\\n\")"
   ]
  },
  {
   "cell_type": "markdown",
   "metadata": {
    "id": "kOMwwTGMR06V"
   },
   "source": [
    "**미션- 팩토리얼 계산하기**\n",
    ">반복문을 활용하여 팩토리얼 계산해 보기<br>\n",
    "for문과 while문을 활용하여 각각 만들어 보기<br>\n",
    "팩토리얼 n!은 1~n까지의 정수를 모두 곱한 것을 의미한다<br>\n",
    "n! = 1*2*3*...(n-1)*n\n",
    "\n",
    ">힌트 : range() 함수를 이용"
   ]
  },
  {
   "cell_type": "code",
   "execution_count": 134,
   "metadata": {
    "id": "UyA4IcErR06W",
    "scrolled": true
   },
   "outputs": [
    {
     "name": "stdout",
     "output_type": "stream",
     "text": [
      "30\n"
     ]
    }
   ],
   "source": [
    "n = 3\n",
    "fact = 5\n",
    "\n",
    "for i in range(1, n+1):    #1, 2, 3\n",
    "    fact = fact * i        #5*1=5, 5*2=10, 10*3=30\n",
    "    \n",
    "    \n",
    "print(fact)\n",
    "    "
   ]
  },
  {
   "cell_type": "code",
   "execution_count": 137,
   "metadata": {},
   "outputs": [
    {
     "name": "stdout",
     "output_type": "stream",
     "text": [
      "5 !은 120\n"
     ]
    }
   ],
   "source": [
    "n = 5\n",
    "fact = 1\n",
    "\n",
    "for i in range(1, n+1):      #  1 2 3 반복\n",
    "    fact = fact * i         # 1*1=1, 1*2*2, 2*3=6\n",
    "    \n",
    "    \n",
    "print(n, '!은', fact)"
   ]
  },
  {
   "cell_type": "markdown",
   "metadata": {
    "id": "l30fK4b3R06X"
   },
   "source": [
    "**미션-계좌번호 처리하기**\n",
    "\n",
    "> 인터넷 뱅킹을 사용하다보면 계좌번호를 입력할 때, \"312-02-1234567\"과 사용자로부터 \"-\"가 포함된 계좌 번호를 받아서 \"-\"을 삭제한 문자열을 만들어보자. \n"
   ]
  },
  {
   "cell_type": "code",
   "execution_count": 154,
   "metadata": {
    "id": "vWAjdQTdR06Y"
   },
   "outputs": [
    {
     "name": "stdout",
     "output_type": "stream",
     "text": [
      "string"
     ]
    }
   ],
   "source": [
    "data = 'string'\n",
    "\n",
    "# 문자열도 반복문에 적용 가능\n",
    "# 문자열의 철자 개수 만큼 반복해서 하나씩 뽑음\n",
    "\n",
    "for v in data:\n",
    "    print(v, end='')   \n",
    "\n",
    "# 출력 + new line 자동 반영(new line 무시표현 : end='')\n"
   ]
  },
  {
   "cell_type": "code",
   "execution_count": null,
   "metadata": {},
   "outputs": [],
   "source": [
    "data = 'string'\n",
    "new_data = ''\n",
    "\n",
    "for v in data:\n",
    "    new_data = new_data + v\n",
    "        \n",
    "print(new_data)"
   ]
  },
  {
   "cell_type": "markdown",
   "metadata": {
    "id": "Bolhbr2QR06Z"
   },
   "source": [
    "문자열 데이터 획득 -> 문자열을 철자 하나하나씩 뽑아(for) -> -여부 검증(if)\n",
    "    -> -입니다 또는 -아닙니다(==비교)\n",
    "    -: 지우기..?\n",
    "    - 아닌경우 : 유지\n",
    "    \n",
    "    "
   ]
  },
  {
   "cell_type": "code",
   "execution_count": 156,
   "metadata": {},
   "outputs": [
    {
     "name": "stdout",
     "output_type": "stream",
     "text": [
      "312021234567\n"
     ]
    }
   ],
   "source": [
    "raw = '312-02-1234567'\n",
    "\n",
    "final_data = ''\n",
    "\n",
    "for v in raw:\n",
    "    if v != '-':\n",
    "        final_data = final_data + v\n",
    "\n",
    "print(final_data)"
   ]
  },
  {
   "cell_type": "markdown",
   "metadata": {},
   "source": [
    "**미션 - 알파벳, 숫자, 스페이스의 처리**\n",
    "\n",
    "> 문자열을 조사하여서 알파벳 문자의 개수, 숫자의 개수, 스페이스의 개수를 출력하는 프로그램을 작성하라"
   ]
  },
  {
   "cell_type": "code",
   "execution_count": 1,
   "metadata": {},
   "outputs": [
    {
     "name": "stdout",
     "output_type": "stream",
     "text": [
      "문자열을 입력하시오: test code\n",
      "알파벳 문자의 개수= 8\n",
      "숫자 문자의 개수= 0\n",
      "스페이스  문자의 개수= 1\n"
     ]
    }
   ],
   "source": [
    "statement = input(\"문자열을 입력하시오: \")\n",
    "alphas = 0\n",
    "digits = 0\n",
    "spaces = 0\n",
    "for c in statement:\n",
    "    if c.isalpha():\n",
    "        alphas = alphas + 1\n",
    "    if c.isdigit():\n",
    "        digits = digits + 1\n",
    "    if c.isspace():\n",
    "          spaces = spaces + 1\n",
    "print (\"알파벳 문자의 개수=\", alphas)\n",
    "print (\"숫자 문자의 개수=\", digits)\n",
    "print (\"스페이스  문자의 개수=\", spaces)"
   ]
  },
  {
   "cell_type": "code",
   "execution_count": 5,
   "metadata": {},
   "outputs": [
    {
     "name": "stdout",
     "output_type": "stream",
     "text": [
      "문자열을 입력하시오: 123\n",
      "알파벳 문자의 개수= 0\n",
      "숫자 문자의 개수= 3\n",
      "스페이스  문자의 개수= 0\n"
     ]
    }
   ],
   "source": [
    "# 다중 조건식으로 성능 향상을 위해 개선한 코드\n",
    "\n",
    "\n",
    "statement = input(\"문자열을 입력하시오: \")\n",
    "alphas = 0\n",
    "digits = 0           #초기 데이터값 설정, 0으로 초기화\n",
    "spaces = 0   \n",
    "for c in statement:       # statement에 입력한 문자열\n",
    "    if c.isalpha():       # c.isalpha() : 알파벳검증\n",
    "        alphas = alphas + 1\n",
    "    \n",
    "    elif c.isdigit():     # 숫자 여부 검증 함수\n",
    "        digits = digits + 1\n",
    "    \n",
    "    elif c.isspace():     # space 여부 검증 함수\n",
    "          spaces = spaces + 1\n",
    "    else :\n",
    "        print('특수기호입니다.')\n",
    "            \n",
    "print (\"알파벳 문자의 개수=\", alphas)\n",
    "print (\"숫자 문자의 개수=\", digits)\n",
    "print (\"스페이스  문자의 개수=\", spaces)"
   ]
  },
  {
   "cell_type": "code",
   "execution_count": null,
   "metadata": {},
   "outputs": [],
   "source": []
  },
  {
   "cell_type": "markdown",
   "metadata": {
    "id": "Qzgg-UUGR06a"
   },
   "source": [
    "**실행 결과와 비교해 보면서 분석해 보기**"
   ]
  },
  {
   "cell_type": "code",
   "execution_count": null,
   "metadata": {
    "id": "-4-exbJSR06b",
    "outputId": "36315d99-c99a-4eff-91ea-13482533e3f6"
   },
   "outputs": [
    {
     "name": "stdout",
     "output_type": "stream",
     "text": [
      "3 4 5\n",
      "4 3 5\n",
      "5 12 13\n",
      "6 8 10\n",
      "7 24 25\n",
      "8 6 10\n",
      "8 15 17\n",
      "9 12 15\n",
      "9 40 41\n",
      "10 24 26\n",
      "11 60 61\n",
      "12 5 13\n",
      "12 9 15\n",
      "12 16 20\n",
      "12 35 37\n",
      "13 84 85\n",
      "14 48 50\n",
      "15 8 17\n",
      "15 20 25\n",
      "15 36 39\n",
      "16 12 20\n",
      "16 30 34\n",
      "16 63 65\n",
      "18 24 30\n",
      "18 80 82\n",
      "20 15 25\n",
      "20 21 29\n",
      "20 48 52\n",
      "21 20 29\n",
      "21 28 35\n",
      "21 72 75\n",
      "24 7 25\n",
      "24 10 26\n",
      "24 18 30\n",
      "24 32 40\n",
      "24 45 51\n",
      "24 70 74\n",
      "25 60 65\n",
      "27 36 45\n",
      "28 21 35\n",
      "28 45 53\n",
      "28 96 100\n",
      "30 16 34\n",
      "30 40 50\n",
      "30 72 78\n",
      "32 24 40\n",
      "32 60 68\n",
      "33 44 55\n",
      "33 56 65\n",
      "35 12 37\n",
      "35 84 91\n",
      "36 15 39\n",
      "36 27 45\n",
      "36 48 60\n",
      "36 77 85\n",
      "39 52 65\n",
      "39 80 89\n",
      "40 9 41\n",
      "40 30 50\n",
      "40 42 58\n",
      "40 75 85\n",
      "42 40 58\n",
      "42 56 70\n",
      "44 33 55\n",
      "45 24 51\n",
      "45 28 53\n",
      "45 60 75\n",
      "48 14 50\n",
      "48 20 52\n",
      "48 36 60\n",
      "48 55 73\n",
      "48 64 80\n",
      "51 68 85\n",
      "52 39 65\n",
      "54 72 90\n",
      "55 48 73\n",
      "56 33 65\n",
      "56 42 70\n",
      "57 76 95\n",
      "60 11 61\n",
      "60 25 65\n",
      "60 32 68\n",
      "60 45 75\n",
      "60 63 87\n",
      "60 80 100\n",
      "63 16 65\n",
      "63 60 87\n",
      "64 48 80\n",
      "65 72 97\n",
      "68 51 85\n",
      "70 24 74\n",
      "72 21 75\n",
      "72 30 78\n",
      "72 54 90\n",
      "72 65 97\n",
      "75 40 85\n",
      "76 57 95\n",
      "77 36 85\n",
      "80 18 82\n",
      "80 39 89\n",
      "80 60 100\n",
      "84 13 85\n",
      "84 35 91\n",
      "96 28 100\n"
     ]
    }
   ],
   "source": [
    "for a in range(1, 101, 1):\n",
    "    for b in range(1, 101, 1):\n",
    "        for c in range(1, 101, 1):\n",
    "            if( (a*a+b*b)==c*c ):\n",
    "                print(a, b, c)"
   ]
  },
  {
   "cell_type": "code",
   "execution_count": null,
   "metadata": {
    "id": "GN9-i5-vR06d"
   },
   "outputs": [],
   "source": []
  }
 ],
 "metadata": {
  "colab": {
   "collapsed_sections": [],
   "name": "step02ConditionLoop.ipynb",
   "provenance": []
  },
  "kernelspec": {
   "display_name": "Python 3",
   "language": "python",
   "name": "python3"
  },
  "language_info": {
   "codemirror_mode": {
    "name": "ipython",
    "version": 3
   },
   "file_extension": ".py",
   "mimetype": "text/x-python",
   "name": "python",
   "nbconvert_exporter": "python",
   "pygments_lexer": "ipython3",
   "version": "3.8.5"
  }
 },
 "nbformat": 4,
 "nbformat_minor": 1
}
